{
 "cells": [
  {
   "cell_type": "code",
   "execution_count": 1,
   "metadata": {
    "collapsed": true
   },
   "outputs": [],
   "source": [
    "import pandas as pd"
   ]
  },
  {
   "cell_type": "code",
   "execution_count": 2,
   "metadata": {
    "collapsed": false
   },
   "outputs": [],
   "source": [
    "df = pd.read_parquet(\"data/output/final_sentence_pool_annotated.parquet\")"
   ]
  },
  {
   "cell_type": "markdown",
   "metadata": {
    "collapsed": false
   },
   "source": [
    "# Some Analysis"
   ]
  },
  {
   "cell_type": "code",
   "execution_count": 3,
   "metadata": {
    "collapsed": false
   },
   "outputs": [
    {
     "data": {
      "text/plain": [
       "0    39429\n",
       "1    26480\n",
       "Name: final_label, dtype: int64"
      ]
     },
     "execution_count": 3,
     "metadata": {},
     "output_type": "execute_result"
    }
   ],
   "source": [
    "df[\"final_label\"].value_counts()"
   ]
  },
  {
   "cell_type": "code",
   "execution_count": 4,
   "metadata": {
    "collapsed": false
   },
   "outputs": [
    {
     "data": {
      "text/plain": [
       "label_zephyr  label_openchat  label_llama  final_label\n",
       "0             0               0            0              0.440547\n",
       "1             1               1            1              0.269341\n",
       "0             1               0            0              0.103840\n",
       "1             1               0            1              0.065424\n",
       "0             1               1            1              0.058019\n",
       "              0               1            0              0.036717\n",
       "1             0               0            0              0.017130\n",
       "                              1            1              0.008982\n",
       "dtype: float64"
      ]
     },
     "execution_count": 4,
     "metadata": {},
     "output_type": "execute_result"
    }
   ],
   "source": [
    "df[[\"label_zephyr\",\"label_openchat\",\"label_llama\",\"final_label\"]].value_counts(normalize=True)"
   ]
  },
  {
   "cell_type": "code",
   "execution_count": 5,
   "metadata": {
    "collapsed": false
   },
   "outputs": [
    {
     "data": {
      "text/plain": [
       "source_party  final_label\n",
       "Lean Left     0              0.152195\n",
       "Center        0              0.133988\n",
       "Left          0              0.131970\n",
       "Right         1              0.124080\n",
       "              0              0.096057\n",
       "Left          1              0.094297\n",
       "Lean Right    0              0.084025\n",
       "Lean Left     1              0.074406\n",
       "Lean Right    1              0.068883\n",
       "Center        1              0.040101\n",
       "dtype: float64"
      ]
     },
     "execution_count": 5,
     "metadata": {},
     "output_type": "execute_result"
    }
   ],
   "source": [
    "df[[\"source_party\",\"final_label\"]].value_counts(normalize=True)"
   ]
  },
  {
   "cell_type": "markdown",
   "metadata": {
    "collapsed": false
   },
   "source": [
    "# Remove sentence (conservative)"
   ]
  },
  {
   "cell_type": "code",
   "execution_count": 6,
   "metadata": {
    "collapsed": false
   },
   "outputs": [
    {
     "data": {
      "text/html": [
       "<div>\n",
       "<style scoped>\n",
       "    .dataframe tbody tr th:only-of-type {\n",
       "        vertical-align: middle;\n",
       "    }\n",
       "\n",
       "    .dataframe tbody tr th {\n",
       "        vertical-align: top;\n",
       "    }\n",
       "\n",
       "    .dataframe thead th {\n",
       "        text-align: right;\n",
       "    }\n",
       "</style>\n",
       "<table border=\"1\" class=\"dataframe\">\n",
       "  <thead>\n",
       "    <tr style=\"text-align: right;\">\n",
       "      <th></th>\n",
       "      <th>text</th>\n",
       "      <th>source_party</th>\n",
       "      <th>source_name</th>\n",
       "      <th>bias_estimate</th>\n",
       "      <th>model_uncertainity</th>\n",
       "      <th>sentence_id</th>\n",
       "      <th>article_id</th>\n",
       "      <th>label_zephyr</th>\n",
       "      <th>response_zephyr</th>\n",
       "      <th>label_openchat</th>\n",
       "      <th>response_openchat</th>\n",
       "      <th>label_llama</th>\n",
       "      <th>response_llama</th>\n",
       "      <th>final_label</th>\n",
       "    </tr>\n",
       "  </thead>\n",
       "  <tbody>\n",
       "    <tr>\n",
       "      <th>0</th>\n",
       "      <td>Advertisement Initially, the conference attrac...</td>\n",
       "      <td>Right</td>\n",
       "      <td>townhall</td>\n",
       "      <td>0</td>\n",
       "      <td>0</td>\n",
       "      <td>bd51e6ee-8e88-4901-875d-8c5151b42692</td>\n",
       "      <td>f87a85cb-a8d7-4a63-b71d-50342f2022c3</td>\n",
       "      <td>0</td>\n",
       "      <td>The sentence is not biased because it presents...</td>\n",
       "      <td>0</td>\n",
       "      <td>The sentence is not biased because it presents...</td>\n",
       "      <td>0</td>\n",
       "      <td>The sentence is not biased because it presents...</td>\n",
       "      <td>0</td>\n",
       "    </tr>\n",
       "    <tr>\n",
       "      <th>1</th>\n",
       "      <td>The number of workers maintaining wind turbine...</td>\n",
       "      <td>Left</td>\n",
       "      <td>alternet</td>\n",
       "      <td>0</td>\n",
       "      <td>0</td>\n",
       "      <td>681738a3-6f56-4124-aae4-52bf803c4d22</td>\n",
       "      <td>62e545ca-11ee-44be-9422-54eff5b1680e</td>\n",
       "      <td>0</td>\n",
       "      <td>The sentence presents a factual statement abou...</td>\n",
       "      <td>0</td>\n",
       "      <td>The sentence provides factual information from...</td>\n",
       "      <td>0</td>\n",
       "      <td>The sentence presents a factual statement abou...</td>\n",
       "      <td>0</td>\n",
       "    </tr>\n",
       "    <tr>\n",
       "      <th>2</th>\n",
       "      <td>How did a virus like this get from a bat to a ...</td>\n",
       "      <td>Left</td>\n",
       "      <td>alternet</td>\n",
       "      <td>1</td>\n",
       "      <td>0</td>\n",
       "      <td>1050d536-e626-4647-9cc5-12b731d99077</td>\n",
       "      <td>f54d2a6e-a1dd-42a5-af86-866e5fe8680e</td>\n",
       "      <td>0</td>\n",
       "      <td>The sentence is classified as not biased becau...</td>\n",
       "      <td>0</td>\n",
       "      <td>The sentence is classified as not biased becau...</td>\n",
       "      <td>0</td>\n",
       "      <td>The sentence is not biased because it is a fac...</td>\n",
       "      <td>0</td>\n",
       "    </tr>\n",
       "    <tr>\n",
       "      <th>3</th>\n",
       "      <td>Sin was conceived in a garden, takes root in e...</td>\n",
       "      <td>Lean Right</td>\n",
       "      <td>the-christian-post</td>\n",
       "      <td>1</td>\n",
       "      <td>0</td>\n",
       "      <td>d3910f76-fca5-44cf-98ff-c89b744743e2</td>\n",
       "      <td>12f3585f-d850-4d33-8b1c-d4e25cc4896b</td>\n",
       "      <td>1</td>\n",
       "      <td>The sentence is biased because it presents a r...</td>\n",
       "      <td>1</td>\n",
       "      <td>The sentence is biased because it presents a r...</td>\n",
       "      <td>1</td>\n",
       "      <td>The sentence is biased because it presents a r...</td>\n",
       "      <td>1</td>\n",
       "    </tr>\n",
       "    <tr>\n",
       "      <th>4</th>\n",
       "      <td>The two countries have warred over this territ...</td>\n",
       "      <td>Lean Right</td>\n",
       "      <td>the-christian-post</td>\n",
       "      <td>0</td>\n",
       "      <td>0</td>\n",
       "      <td>c9c2c432-d67c-450b-b6d3-1fbd3e4951df</td>\n",
       "      <td>715e6c9e-1b12-4341-9f26-3c00c246ee1b</td>\n",
       "      <td>0</td>\n",
       "      <td>The sentence is not biased because it presents...</td>\n",
       "      <td>0</td>\n",
       "      <td>The sentence is not biased because it presents...</td>\n",
       "      <td>0</td>\n",
       "      <td>The sentence is not biased because it presents...</td>\n",
       "      <td>0</td>\n",
       "    </tr>\n",
       "    <tr>\n",
       "      <th>...</th>\n",
       "      <td>...</td>\n",
       "      <td>...</td>\n",
       "      <td>...</td>\n",
       "      <td>...</td>\n",
       "      <td>...</td>\n",
       "      <td>...</td>\n",
       "      <td>...</td>\n",
       "      <td>...</td>\n",
       "      <td>...</td>\n",
       "      <td>...</td>\n",
       "      <td>...</td>\n",
       "      <td>...</td>\n",
       "      <td>...</td>\n",
       "      <td>...</td>\n",
       "    </tr>\n",
       "    <tr>\n",
       "      <th>65904</th>\n",
       "      <td>The Gig Economy is Coming. What Will It Mean F...</td>\n",
       "      <td>Left</td>\n",
       "      <td>alternet</td>\n",
       "      <td>0</td>\n",
       "      <td>0</td>\n",
       "      <td>57e37079-3ab5-4a80-95a7-867256f089e7</td>\n",
       "      <td>8c907329-affd-4446-9ea4-0bdae1ed04cd</td>\n",
       "      <td>0</td>\n",
       "      <td>The sentence is neutral because it presents a ...</td>\n",
       "      <td>0</td>\n",
       "      <td>The sentence is a neutral statement that intro...</td>\n",
       "      <td>0</td>\n",
       "      <td>The sentence presents a question that invites ...</td>\n",
       "      <td>0</td>\n",
       "    </tr>\n",
       "    <tr>\n",
       "      <th>65905</th>\n",
       "      <td>He arrived, freshly graduated, and told me he ...</td>\n",
       "      <td>Center</td>\n",
       "      <td>christian-science-monitor</td>\n",
       "      <td>0</td>\n",
       "      <td>0</td>\n",
       "      <td>4593350c-36d1-44ed-b6b0-4fb8655b55b7</td>\n",
       "      <td>fb4c99c1-488b-4337-be4d-c2208a249602</td>\n",
       "      <td>0</td>\n",
       "      <td>The sentence is not biased because it presents...</td>\n",
       "      <td>0</td>\n",
       "      <td>The sentence is not biased because it presents...</td>\n",
       "      <td>0</td>\n",
       "      <td>The sentence is neutral and not biased because...</td>\n",
       "      <td>0</td>\n",
       "    </tr>\n",
       "    <tr>\n",
       "      <th>65906</th>\n",
       "      <td>This is not a good time for American higher ed...</td>\n",
       "      <td>Right</td>\n",
       "      <td>american-thinker</td>\n",
       "      <td>1</td>\n",
       "      <td>0</td>\n",
       "      <td>92adcba8-bd22-4c3e-8bd5-af58c45ce9fa</td>\n",
       "      <td>e517de10-85b8-4273-b392-3495a70f4af5</td>\n",
       "      <td>0</td>\n",
       "      <td>The sentence is classified as not biased becau...</td>\n",
       "      <td>1</td>\n",
       "      <td>The sentence is biased because it uses loaded ...</td>\n",
       "      <td>1</td>\n",
       "      <td>The sentence is biased because it uses negativ...</td>\n",
       "      <td>1</td>\n",
       "    </tr>\n",
       "    <tr>\n",
       "      <th>65907</th>\n",
       "      <td>Halls pleaded no contest in March to a misdeme...</td>\n",
       "      <td>Center</td>\n",
       "      <td>cnbc</td>\n",
       "      <td>0</td>\n",
       "      <td>0</td>\n",
       "      <td>81f1f6cf-b8e6-436d-ad2b-3d56c4e9c110</td>\n",
       "      <td>8e89132c-acc2-4b5e-a6e4-b51a9f2d4d2e</td>\n",
       "      <td>0</td>\n",
       "      <td>The sentence presents a factual account of an ...</td>\n",
       "      <td>0</td>\n",
       "      <td>The sentence is factual and neutral, providing...</td>\n",
       "      <td>0</td>\n",
       "      <td>The sentence reports on a legal matter without...</td>\n",
       "      <td>0</td>\n",
       "    </tr>\n",
       "    <tr>\n",
       "      <th>65908</th>\n",
       "      <td>Orcutt also took his electric guitar quartet o...</td>\n",
       "      <td>Lean Left</td>\n",
       "      <td>npr</td>\n",
       "      <td>1</td>\n",
       "      <td>0</td>\n",
       "      <td>cae57a11-b669-40d0-8305-f6ad7d23cb41</td>\n",
       "      <td>c5ba0671-15db-4cff-94e0-d5df7619ccba</td>\n",
       "      <td>0</td>\n",
       "      <td>The sentence is not biased because it presents...</td>\n",
       "      <td>1</td>\n",
       "      <td>The sentence is biased because it uses subject...</td>\n",
       "      <td>0</td>\n",
       "      <td>The sentence is neutral because it uses object...</td>\n",
       "      <td>0</td>\n",
       "    </tr>\n",
       "  </tbody>\n",
       "</table>\n",
       "<p>64712 rows × 14 columns</p>\n",
       "</div>"
      ],
      "text/plain": [
       "                                                    text source_party  \\\n",
       "0      Advertisement Initially, the conference attrac...        Right   \n",
       "1      The number of workers maintaining wind turbine...         Left   \n",
       "2      How did a virus like this get from a bat to a ...         Left   \n",
       "3      Sin was conceived in a garden, takes root in e...   Lean Right   \n",
       "4      The two countries have warred over this territ...   Lean Right   \n",
       "...                                                  ...          ...   \n",
       "65904  The Gig Economy is Coming. What Will It Mean F...         Left   \n",
       "65905  He arrived, freshly graduated, and told me he ...       Center   \n",
       "65906  This is not a good time for American higher ed...        Right   \n",
       "65907  Halls pleaded no contest in March to a misdeme...       Center   \n",
       "65908  Orcutt also took his electric guitar quartet o...    Lean Left   \n",
       "\n",
       "                     source_name  bias_estimate  model_uncertainity  \\\n",
       "0                       townhall              0                   0   \n",
       "1                       alternet              0                   0   \n",
       "2                       alternet              1                   0   \n",
       "3             the-christian-post              1                   0   \n",
       "4             the-christian-post              0                   0   \n",
       "...                          ...            ...                 ...   \n",
       "65904                   alternet              0                   0   \n",
       "65905  christian-science-monitor              0                   0   \n",
       "65906           american-thinker              1                   0   \n",
       "65907                       cnbc              0                   0   \n",
       "65908                        npr              1                   0   \n",
       "\n",
       "                                sentence_id  \\\n",
       "0      bd51e6ee-8e88-4901-875d-8c5151b42692   \n",
       "1      681738a3-6f56-4124-aae4-52bf803c4d22   \n",
       "2      1050d536-e626-4647-9cc5-12b731d99077   \n",
       "3      d3910f76-fca5-44cf-98ff-c89b744743e2   \n",
       "4      c9c2c432-d67c-450b-b6d3-1fbd3e4951df   \n",
       "...                                     ...   \n",
       "65904  57e37079-3ab5-4a80-95a7-867256f089e7   \n",
       "65905  4593350c-36d1-44ed-b6b0-4fb8655b55b7   \n",
       "65906  92adcba8-bd22-4c3e-8bd5-af58c45ce9fa   \n",
       "65907  81f1f6cf-b8e6-436d-ad2b-3d56c4e9c110   \n",
       "65908  cae57a11-b669-40d0-8305-f6ad7d23cb41   \n",
       "\n",
       "                                 article_id  label_zephyr  \\\n",
       "0      f87a85cb-a8d7-4a63-b71d-50342f2022c3             0   \n",
       "1      62e545ca-11ee-44be-9422-54eff5b1680e             0   \n",
       "2      f54d2a6e-a1dd-42a5-af86-866e5fe8680e             0   \n",
       "3      12f3585f-d850-4d33-8b1c-d4e25cc4896b             1   \n",
       "4      715e6c9e-1b12-4341-9f26-3c00c246ee1b             0   \n",
       "...                                     ...           ...   \n",
       "65904  8c907329-affd-4446-9ea4-0bdae1ed04cd             0   \n",
       "65905  fb4c99c1-488b-4337-be4d-c2208a249602             0   \n",
       "65906  e517de10-85b8-4273-b392-3495a70f4af5             0   \n",
       "65907  8e89132c-acc2-4b5e-a6e4-b51a9f2d4d2e             0   \n",
       "65908  c5ba0671-15db-4cff-94e0-d5df7619ccba             0   \n",
       "\n",
       "                                         response_zephyr  label_openchat  \\\n",
       "0      The sentence is not biased because it presents...               0   \n",
       "1      The sentence presents a factual statement abou...               0   \n",
       "2      The sentence is classified as not biased becau...               0   \n",
       "3      The sentence is biased because it presents a r...               1   \n",
       "4      The sentence is not biased because it presents...               0   \n",
       "...                                                  ...             ...   \n",
       "65904  The sentence is neutral because it presents a ...               0   \n",
       "65905  The sentence is not biased because it presents...               0   \n",
       "65906  The sentence is classified as not biased becau...               1   \n",
       "65907  The sentence presents a factual account of an ...               0   \n",
       "65908  The sentence is not biased because it presents...               1   \n",
       "\n",
       "                                       response_openchat  label_llama  \\\n",
       "0      The sentence is not biased because it presents...            0   \n",
       "1      The sentence provides factual information from...            0   \n",
       "2      The sentence is classified as not biased becau...            0   \n",
       "3      The sentence is biased because it presents a r...            1   \n",
       "4      The sentence is not biased because it presents...            0   \n",
       "...                                                  ...          ...   \n",
       "65904  The sentence is a neutral statement that intro...            0   \n",
       "65905  The sentence is not biased because it presents...            0   \n",
       "65906  The sentence is biased because it uses loaded ...            1   \n",
       "65907  The sentence is factual and neutral, providing...            0   \n",
       "65908  The sentence is biased because it uses subject...            0   \n",
       "\n",
       "                                          response_llama  final_label  \n",
       "0      The sentence is not biased because it presents...            0  \n",
       "1      The sentence presents a factual statement abou...            0  \n",
       "2      The sentence is not biased because it is a fac...            0  \n",
       "3      The sentence is biased because it presents a r...            1  \n",
       "4      The sentence is not biased because it presents...            0  \n",
       "...                                                  ...          ...  \n",
       "65904  The sentence presents a question that invites ...            0  \n",
       "65905  The sentence is neutral and not biased because...            0  \n",
       "65906  The sentence is biased because it uses negativ...            1  \n",
       "65907  The sentence reports on a legal matter without...            0  \n",
       "65908  The sentence is neutral because it uses object...            0  \n",
       "\n",
       "[64712 rows x 14 columns]"
      ]
     },
     "execution_count": 6,
     "metadata": {},
     "output_type": "execute_result"
    }
   ],
   "source": [
    "import re\n",
    "\n",
    "# strange starts\n",
    "df = df[~df['text'].str.islower()]\n",
    "df = df[~df['text'].str.startswith(\"(\")]\n",
    "df = df[~df['text'].str.startswith(\"*\")]\n",
    "df = df[~df['text'].str.startswith(\"-\")]\n",
    "df = df[~df['text'].str.startswith(\"🔥\")]\n",
    "df = df[~df['text'].str.startswith(\"$\")]\n",
    "df = df[~df['text'].str.startswith(\"➼\")]\n",
    "df = df[~df['text'].str.startswith(\"📹\")]\n",
    "df = df[~df['text'].str.startswith(\"♪\")]\n",
    "df = df[~df['text'].str.startswith(\"♪\")]\n",
    "df = df[~df['text'].str.startswith(\"†\")]\n",
    "df = df[~df['text'].str.startswith(\"♬\")]\n",
    "df = df[~df['text'].str.startswith(\">\")]\n",
    "df = df[~df['text'].str.startswith(\":\")]\n",
    "pattern = re.compile(r\"\\d+% \\(\\d+ Votes\\) \\d+% \\(\\d+ Votes\\)\")\n",
    "# Use str.contains with the regex pattern to filter rows\n",
    "df = df[~df['text'].str.contains(pattern)]\n",
    "df = df[~df['text'].str.startswith(\".\")]\n",
    "df = df[~df['text'].str.startswith(\"!\")]\n",
    "df = df[~df['text'].str.startswith('\"')]\n",
    "\n",
    "# TODO exclude stuff starting with 'YOU' variations <- opinionated\n",
    "df = df[~df['text'].str.startswith(\"You \")]\n",
    "df = df[~df['text'].str.startswith(\"You’ve \")]\n",
    "df = df[~df['text'].str.startswith(\"You’ll \")]\n",
    "df = df[~df['text'].str.startswith(\"You’re \")]\n",
    "df = df[~df['text'].str.startswith(\"You’d \")]\n",
    "\n",
    "# TODO exclude stuff starting with 'I' variations <- opinionated\n",
    "df = df[~df['text'].str.startswith(\"I've \")]\n",
    "df = df[~df['text'].str.startswith(\"I’ve \")]\n",
    "df = df[~df['text'].str.startswith(\"I’m \")]\n",
    "df = df[~df['text'].str.startswith(\"I'm \")]\n",
    "df = df[~df['text'].str.startswith(\"I'd \")]\n",
    "df = df[~df['text'].str.startswith(\"I'll \")]\n",
    "df = df[~df['text'].str.startswith(\"I,\")]\n",
    "\n",
    "indices_to_check = [6557, 58590, 17440, 43192, 10127, 27994, 35381]\n",
    "rows_to_drop = df[df.index.isin(indices_to_check)]\n",
    "df.drop(rows_to_drop.index, inplace=True)\n",
    "\n",
    "df.to_parquet(\"data/output/final_sentence_pool_annotated_conservative.parquet\", index=False)\n",
    "df"
   ]
  },
  {
   "cell_type": "code",
   "execution_count": 7,
   "metadata": {
    "collapsed": false
   },
   "outputs": [
    {
     "data": {
      "text/plain": [
       "0    38704\n",
       "1    26008\n",
       "Name: final_label, dtype: int64"
      ]
     },
     "execution_count": 7,
     "metadata": {},
     "output_type": "execute_result"
    }
   ],
   "source": [
    "df.final_label.value_counts()"
   ]
  },
  {
   "cell_type": "code",
   "execution_count": 8,
   "metadata": {
    "collapsed": false
   },
   "outputs": [
    {
     "data": {
      "text/plain": [
       "label_zephyr  label_openchat  label_llama  final_label\n",
       "0             0               0            0              0.440537\n",
       "1             1               1            1              0.269795\n",
       "0             1               0            0              0.103659\n",
       "1             1               0            1              0.065645\n",
       "0             1               1            1              0.057439\n",
       "              0               1            0              0.036577\n",
       "1             0               0            0              0.017323\n",
       "                              1            1              0.009025\n",
       "dtype: float64"
      ]
     },
     "execution_count": 8,
     "metadata": {},
     "output_type": "execute_result"
    }
   ],
   "source": [
    "df[[\"label_zephyr\",\"label_openchat\",\"label_llama\",\"final_label\"]].value_counts(normalize=True)"
   ]
  },
  {
   "cell_type": "code",
   "execution_count": 9,
   "metadata": {
    "collapsed": false
   },
   "outputs": [
    {
     "data": {
      "text/plain": [
       "source_party\n",
       "Lean Left       14680\n",
       "Left            14657\n",
       "Right           14263\n",
       "Center          11207\n",
       "Lean Right       9905\n",
       "dtype: int64"
      ]
     },
     "execution_count": 9,
     "metadata": {},
     "output_type": "execute_result"
    }
   ],
   "source": [
    "df[[\"source_party\"]].value_counts()"
   ]
  },
  {
   "cell_type": "markdown",
   "metadata": {
    "collapsed": false
   },
   "source": [
    "# Create final sample out of this\n",
    "\n",
    "- we want ~ equal labels\n",
    "- we want ~ equal parties"
   ]
  },
  {
   "cell_type": "code",
   "execution_count": 10,
   "metadata": {},
   "outputs": [],
   "source": [
    "def _balanced_sampling(group):\n",
    "    min_count = group.groupby([\"final_label\"]).size().min()\n",
    "    def sample_subgroup(subgroup):\n",
    "        return subgroup.sample(n=min_count,random_state=42)\n",
    "    return (\n",
    "        group.groupby([\"final_label\"])\n",
    "        .apply(sample_subgroup)\n",
    "        .reset_index(drop=True)\n",
    "    )"
   ]
  },
  {
   "cell_type": "code",
   "execution_count": 11,
   "metadata": {},
   "outputs": [
    {
     "name": "stdout",
     "output_type": "stream",
     "text": [
      "Right         12420\n",
      "Left          12202\n",
      "Lean Left      9634\n",
      "Lean Right     8902\n",
      "Center         5172\n",
      "Name: source_party, dtype: int64\n",
      "0    24165\n",
      "1    24165\n",
      "Name: final_label, dtype: int64\n",
      "0    2586\n",
      "1    2586\n",
      "Name: final_label, dtype: int64\n",
      "0    297\n",
      "1    148\n",
      "Name: final_label, dtype: int64\n"
     ]
    }
   ],
   "source": [
    "final_sample_balanced = df.groupby([\"source_party\"]).apply(_balanced_sampling).reset_index(drop=True)\n",
    "print(final_sample_balanced.source_party.value_counts())\n",
    "print(final_sample_balanced.final_label.value_counts())\n",
    "print(final_sample_balanced[final_sample_balanced.source_party=='Center'].final_label.value_counts())\n",
    "print(final_sample_balanced[final_sample_balanced.source_name=='abc-news'].final_label.value_counts())\n",
    "\n",
    "\n"
   ]
  },
  {
   "cell_type": "code",
   "execution_count": 12,
   "metadata": {},
   "outputs": [
    {
     "name": "stdout",
     "output_type": "stream",
     "text": [
      "Stats per outlet\n",
      "mean: 0.4905878239535543\n",
      "std: 0.16492191066623096\n"
     ]
    }
   ],
   "source": [
    "import numpy as np\n",
    "print(\"Stats per outlet\")\n",
    "print(\"mean:\",np.mean(final_sample_balanced.groupby('source_name')['final_label'].mean().tolist()))\n",
    "print(\"std:\",np.std(final_sample_balanced.groupby('source_name')['final_label'].mean().tolist()))\n"
   ]
  },
  {
   "cell_type": "code",
   "execution_count": 13,
   "metadata": {},
   "outputs": [],
   "source": [
    "final_sample_balanced.to_parquet(\"data/output/anno-lexical.parquet\", index=False)"
   ]
  },
  {
   "cell_type": "code",
   "execution_count": null,
   "metadata": {},
   "outputs": [],
   "source": []
  }
 ],
 "metadata": {
  "kernelspec": {
   "display_name": "Python 3",
   "language": "python",
   "name": "python3"
  },
  "language_info": {
   "codemirror_mode": {
    "name": "ipython",
    "version": 3
   },
   "file_extension": ".py",
   "mimetype": "text/x-python",
   "name": "python",
   "nbconvert_exporter": "python",
   "pygments_lexer": "ipython3",
   "version": "3.10.12"
  }
 },
 "nbformat": 4,
 "nbformat_minor": 0
}
