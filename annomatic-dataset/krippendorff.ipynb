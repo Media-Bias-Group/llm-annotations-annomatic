{
 "cells": [
  {
   "cell_type": "code",
   "execution_count": 4,
   "metadata": {
    "collapsed": true
   },
   "outputs": [],
   "source": [
    "import pandas as pd\n",
    "from datasets import load_dataset\n",
    "from krippendorff import alpha\n",
    "import numpy as np\n",
    "import itertools"
   ]
  },
  {
   "cell_type": "markdown",
   "source": [
    "# Methods"
   ],
   "metadata": {
    "collapsed": false
   }
  },
  {
   "cell_type": "code",
   "execution_count": 5,
   "outputs": [],
   "source": [
    "def compute_krippendorff_alpha(dataframe, columns, missing_data='?',\n",
    "                               verbose=False\n",
    "                               ):\n",
    "    \"\"\"\n",
    "    Compute Krippendorff's alpha for inter-rater reliability.\n",
    "\n",
    "    Parameters:\n",
    "    - dataframe: pd.DataFrame, the DataFrame containing the data.\n",
    "    - columns: list, the list of column names to calculate alpha for.\n",
    "\n",
    "    Returns:\n",
    "    - alpha_value: float, Krippendorff's alpha value.\n",
    "    \"\"\"\n",
    "\n",
    "    # Exclude columns that are not in the dataframe and print a warning\n",
    "    columns = [col for col in columns if col in dataframe.columns]\n",
    "    if len(columns) < len(dataframe) and verbose:\n",
    "        print(\n",
    "            f\"Warning: {len(dataframe) - len(columns)} runs are not in the dataframe\")\n",
    "\n",
    "    # Extract the relevant columns from the DataFrame\n",
    "    data_subset = dataframe[columns]\n",
    "    data_subset = data_subset.replace(missing_data, np.nan)\n",
    "\n",
    "    # cast all columns to int except np.nan\n",
    "    for col in columns:\n",
    "        data_subset[col] = pd.to_numeric(data_subset[col])\n",
    "\n",
    "    # Ensure that the data is in a format suitable for krippendorff\n",
    "    data_list = np.array([data_subset[col].tolist() for col in columns])\n",
    "\n",
    "    if verbose:\n",
    "        print(data_list.shape)\n",
    "\n",
    "    # Calculate Krippendorff's alpha\n",
    "    alpha_value = alpha(reliability_data=data_list)\n",
    "\n",
    "    return alpha_value\n",
    "\n",
    "\n",
    "def compute_krippendorff_alpha_for_k_runs(df, runs, k=None, verbose=False):\n",
    "    # Initialize variables to store the best combination and alpha\n",
    "\n",
    "    # exclude runs that are not in the dataframe\n",
    "    runs = [run for run in runs if run in df.columns]\n",
    "\n",
    "    if k is None:\n",
    "        k = len(runs)\n",
    "\n",
    "    best_combination = None\n",
    "    best_alpha = 0  # Assuming alpha ranges from 0 to 1\n",
    "\n",
    "    # Iterate through all possible combinations\n",
    "    for combination in itertools.combinations(runs, k):\n",
    "\n",
    "        alpha_value = compute_krippendorff_alpha(df, list(combination))\n",
    "\n",
    "        if verbose:\n",
    "            # Print alpha for the current combination\n",
    "            print(f\"Combination: {combination}, Alpha: {alpha_value}\")\n",
    "\n",
    "        # Update best combination and alpha if a higher alpha is found\n",
    "        if alpha_value > best_alpha:\n",
    "            best_alpha = alpha_value\n",
    "            best_combination = combination\n",
    "\n",
    "    # Print the best combination and alpha\n",
    "    print(\n",
    "        f\"Best Alpha: {best_alpha}, Best Combination: {best_combination}\")\n",
    "\n",
    "    return best_alpha, best_combination\n"
   ],
   "metadata": {
    "collapsed": false
   }
  },
  {
   "cell_type": "code",
   "execution_count": 6,
   "outputs": [
    {
     "name": "stdout",
     "output_type": "stream",
     "text": [
      "True\n",
      "(train, dev, test)= 33831 7249 7250\n",
      "full= 48330\n",
      "True\n",
      "True\n",
      "True\n"
     ]
    }
   ],
   "source": [
    "# Load the dataset\n",
    "merge_column = 'text'\n",
    "keep_columns = ['text', 'final_label', 'label_zephyr', \"label_openchat\", \"label_llama\"]\n",
    "\n",
    "df_anno_lex = pd.read_parquet('./data/output/anno-lexical.parquet')\n",
    "df_anno_lex_train = pd.read_parquet('./data/training/anno-lexical-train.parquet')\n",
    "df_anno_lex_train = df_anno_lex_train.merge(df_anno_lex[keep_columns], on=merge_column)\n",
    "\n",
    "df_anno_lex_dev = pd.read_parquet('./data/training/anno-lexical-dev.parquet')\n",
    "df_anno_lex_dev = df_anno_lex_dev.merge(df_anno_lex[keep_columns], on=merge_column)\n",
    "\n",
    "df_anno_lex_test = pd.read_parquet('./data/training/anno-lexical-test.parquet')\n",
    "df_anno_lex_test = df_anno_lex_test.merge(df_anno_lex[keep_columns], on=merge_column)\n",
    "\n",
    "# sanity checks\n",
    "print(df_anno_lex.shape[0] == df_anno_lex_train.shape[0] + df_anno_lex_dev.shape[0] + df_anno_lex_test.shape[0])\n",
    "print(\"(train, dev, test)=\", df_anno_lex_train.shape[0], df_anno_lex_dev.shape[0], df_anno_lex_test.shape[0])\n",
    "print(\"full=\",df_anno_lex.shape[0])\n",
    "print((df_anno_lex_train[\"final_label\"] == df_anno_lex_train[\"label\"]).all())\n",
    "print((df_anno_lex_dev[\"final_label\"] == df_anno_lex_dev[\"label\"]).all())\n",
    "print((df_anno_lex_test[\"final_label\"] == df_anno_lex_test[\"label\"]).all())\n"
   ],
   "metadata": {
    "collapsed": false
   }
  },
  {
   "cell_type": "code",
   "execution_count": 7,
   "outputs": [],
   "source": [
    "# Compute Krippendorff's alpha for the whole dataset, and the splits\n",
    "krippendorff_complete = compute_krippendorff_alpha(df_anno_lex, columns=[ \"label_zephyr\", \"label_openchat\", \"label_llama\"])\n",
    "krippendorff_train = compute_krippendorff_alpha(df_anno_lex_train, columns=[ \"label_zephyr\", \"label_openchat\", \"label_llama\"])\n",
    "krippendorff_test = compute_krippendorff_alpha(df_anno_lex_test, columns=[ \"label_zephyr\", \"label_openchat\", \"label_llama\"])\n",
    "krippendorff_dev = compute_krippendorff_alpha(df_anno_lex_dev, columns=[ \"label_zephyr\", \"label_openchat\", \"label_llama\"])\n"
   ],
   "metadata": {
    "collapsed": false
   }
  },
  {
   "cell_type": "code",
   "execution_count": 8,
   "outputs": [
    {
     "name": "stdout",
     "output_type": "stream",
     "text": [
      "Krippendorff's alpha for the whole dataset: 0.593383092752203\n",
      "Krippendorff's alpha for the training set: 0.5924767632306003\n",
      "Krippendorff's alpha for the test set: 0.595402670055891\n",
      "Krippendorff's alpha for the dev set: 0.5954683991396965\n"
     ]
    }
   ],
   "source": [
    "print(\"Krippendorff's alpha for the whole dataset:\", krippendorff_complete)\n",
    "print(\"Krippendorff's alpha for the training set:\", krippendorff_train)\n",
    "print(\"Krippendorff's alpha for the test set:\", krippendorff_test)\n",
    "print(\"Krippendorff's alpha for the dev set:\", krippendorff_dev)"
   ],
   "metadata": {
    "collapsed": false
   }
  },
  {
   "cell_type": "markdown",
   "source": [
    "# Compute Krippendorff's alpha for all annotated samples"
   ],
   "metadata": {
    "collapsed": false
   }
  },
  {
   "cell_type": "code",
   "execution_count": 9,
   "outputs": [
    {
     "name": "stdout",
     "output_type": "stream",
     "text": [
      "All annotated data:  65909\n",
      "Convervative Filtering annotated data:  64712\n",
      "Krippendorff's alpha for all annotated data: 0.6002888450840125\n",
      "Krippendorff's alpha for filtered annotated data: 0.6009601175087209\n"
     ]
    }
   ],
   "source": [
    "df_all = pd.read_parquet('./data/output/final_sentence_pool_annotated.parquet')\n",
    "df_filtered = pd.read_parquet('./data/output/final_sentence_pool_annotated_conservative.parquet')\n",
    "print(\"All annotated data: \", df_all.shape[0])\n",
    "print(\"Convervative Filtering annotated data: \", df_filtered.shape[0])\n",
    "\n",
    "krippendorff_all_data = compute_krippendorff_alpha(df_all, columns=[ \"label_zephyr\", \"label_openchat\", \"label_llama\"])\n",
    "krippendorff_filtered_data = compute_krippendorff_alpha(df_filtered, columns=[ \"label_zephyr\", \"label_openchat\", \"label_llama\"])\n",
    "\n",
    "print(\"Krippendorff's alpha for all annotated data:\", krippendorff_all_data)\n",
    "print(\"Krippendorff's alpha for filtered annotated data:\", krippendorff_filtered_data)"
   ],
   "metadata": {
    "collapsed": false
   }
  }
 ],
 "metadata": {
  "kernelspec": {
   "display_name": "Python 3",
   "language": "python",
   "name": "python3"
  },
  "language_info": {
   "codemirror_mode": {
    "name": "ipython",
    "version": 2
   },
   "file_extension": ".py",
   "mimetype": "text/x-python",
   "name": "python",
   "nbconvert_exporter": "python",
   "pygments_lexer": "ipython2",
   "version": "2.7.6"
  }
 },
 "nbformat": 4,
 "nbformat_minor": 0
}
