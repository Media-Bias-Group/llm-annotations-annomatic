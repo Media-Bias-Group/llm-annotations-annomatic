{
 "cells": [
  {
   "cell_type": "code",
   "execution_count": 7,
   "metadata": {
    "ExecuteTime": {
     "end_time": "2024-02-03T17:00:00.188220Z",
     "start_time": "2024-02-03T17:00:00.175417Z"
    },
    "collapsed": true
   },
   "outputs": [],
   "source": [
    "import pandas as pd\n",
    "from datasets import load_dataset\n",
    "from krippendorff import alpha\n",
    "import numpy as np\n",
    "import itertools\n",
    "from tqdm import tqdm"
   ]
  },
  {
   "cell_type": "code",
   "execution_count": 2,
   "metadata": {
    "ExecuteTime": {
     "end_time": "2024-02-03T17:00:00.500317Z",
     "start_time": "2024-02-03T17:00:00.196107Z"
    },
    "collapsed": false
   },
   "outputs": [],
   "source": [
    "df_0_shot = pd.read_csv('./zero-shot/all_runs_with_errors.csv')\n",
    "df_0_shot_sys = pd.read_csv(\n",
    "    './zero-shot-system_prompt/all_runs_with_errors.csv')\n",
    "df_0_shot_cot = pd.read_csv('./zero-shot-cot/all_runs_with_errors.csv')\n",
    "df_2_shot = pd.read_csv('./2-shot/all_runs_with_errors.csv')\n",
    "df_4_shot = pd.read_csv('./4-shot/all_runs_with_errors.csv')\n",
    "df_8_shot = pd.read_csv('./8-shot/all_runs_with_errors.csv')\n",
    "df_2_shot_cot = pd.read_csv('./2-shot-CoT/all_runs_with_errors.csv')\n",
    "df_4_shot_cot = pd.read_csv('./4-shot-CoT/all_runs_with_errors.csv')\n",
    "df_8_shot_cot = pd.read_csv('./8-shot-CoT/all_runs_with_errors.csv')"
   ]
  },
  {
   "cell_type": "code",
   "execution_count": 3,
   "metadata": {
    "ExecuteTime": {
     "end_time": "2024-02-03T17:00:03.452836Z",
     "start_time": "2024-02-03T17:00:00.504973Z"
    },
    "collapsed": false
   },
   "outputs": [
    {
     "name": "stdout",
     "output_type": "stream",
     "text": [
      "(4121, 8)\n",
      "(4021, 21)\n",
      "(4021, 21)\n",
      "(50, 21)\n",
      "(4021, 21)\n",
      "(4021, 21)\n",
      "(4021, 18)\n",
      "(4021, 18)\n",
      "(4021, 18)\n",
      "(4021, 18)\n"
     ]
    }
   ],
   "source": [
    "# Sanity Check\n",
    "dataset = load_dataset('mediabiasgroup/BABE-v4')\n",
    "df_babe = pd.DataFrame(dataset['train'])\n",
    "print(df_babe.shape)  # 100 samples bigger than other dfs\n",
    "print(df_0_shot.shape)\n",
    "print(df_0_shot_sys.shape)\n",
    "print(df_0_shot_cot.shape)\n",
    "print(df_2_shot.shape)\n",
    "print(df_4_shot.shape)\n",
    "print(df_8_shot.shape)\n",
    "print(df_2_shot_cot.shape)\n",
    "print(df_4_shot_cot.shape)\n",
    "print(df_8_shot_cot.shape)\n",
    "\n",
    "dfs = [(df_0_shot, \"0 Shot\"),\n",
    "       (df_0_shot_sys, \"0 Shot + System Prompt\"),\n",
    "       (df_0_shot_cot, \"0 Shot CoT\"),\n",
    "       (df_2_shot, \"2 Shot\"),\n",
    "       (df_4_shot, \"4 Shot\"),\n",
    "       (df_8_shot, \"8 Shot\"),\n",
    "       (df_2_shot_cot, \"2 Shot CoT\"),\n",
    "       (df_4_shot_cot, \"4 Shot CoT\"),\n",
    "       (df_8_shot_cot, \"8 Shot CoT\")]"
   ]
  },
  {
   "cell_type": "code",
   "execution_count": 4,
   "metadata": {
    "ExecuteTime": {
     "end_time": "2024-02-03T17:00:03.465330Z",
     "start_time": "2024-02-03T17:00:03.459963Z"
    },
    "collapsed": false
   },
   "outputs": [],
   "source": [
    "\n",
    "# split the following list into 2\n",
    "name_by_label = dict([\n",
    "    ('falcon_7b_label', 'Falcon-7B-Instruct '),\n",
    "    ('flan_t5_base_label', 'FLAN-T5-Base'),\n",
    "    ('flan_t5_large_label', 'FLAN-T5-Large '),\n",
    "    ('flan_t5_xl_label', 'FLAN-T5-XL '),\n",
    "    ('flan_ul2_label', 'Flan-UL2'),\n",
    "    ('gpt_3_5_label', 'GPT-3.5 Turbo'),\n",
    "    ('gpt_4_label', 'GPT-4 Turbo'),\n",
    "    ('llama_7b_label', 'LLama 2 7B Chat'),\n",
    "    ('llama_13b_label', 'LLama 2 13B Chat'),\n",
    "    ('mistral_7b_label', 'Mistral-7B-v0.1 Instruct'),\n",
    "    ('mixtral_8x7b_label', 'Mixtral-8x7B Instruct'),\n",
    "    ('openchat_label', 'OpenChat 3.5'),\n",
    "    ('zephyr_label', 'Zephyr 7B β')\n",
    "])\n",
    "\n",
    "runs = list(name_by_label.keys())\n",
    "\n",
    "\n",
    "def compute_krippendorff_alpha(dataframe, columns, missing_data='?',\n",
    "                               verbose=False, runs=runs\n",
    "                               ):\n",
    "    \"\"\"\n",
    "    Compute Krippendorff's alpha for inter-rater reliability.\n",
    "\n",
    "    Parameters:\n",
    "    - dataframe: pd.DataFrame, the DataFrame containing the data.\n",
    "    - columns: list, the list of column names to calculate alpha for.\n",
    "\n",
    "    Returns:\n",
    "    - alpha_value: float, Krippendorff's alpha value.\n",
    "    \"\"\"\n",
    "\n",
    "    # Exclude columns that are not in the dataframe and print a warning\n",
    "    columns = [col for col in columns if col in dataframe.columns]\n",
    "    if len(columns) < len(runs) and verbose:\n",
    "        print(\n",
    "            f\"Warning: {len(runs) - len(columns)} runs are not in the dataframe\")\n",
    "\n",
    "    # Extract the relevant columns from the DataFrame\n",
    "    data_subset = dataframe[columns]\n",
    "    data_subset = data_subset.replace(missing_data, np.nan)\n",
    "\n",
    "    # cast all columns to int except np.nan\n",
    "    for col in columns:\n",
    "        data_subset[col] = pd.to_numeric(data_subset[col])\n",
    "\n",
    "    # Ensure that the data is in a format suitable for krippendorff\n",
    "    data_list = np.array([data_subset[col].tolist() for col in columns])\n",
    "\n",
    "    if verbose:\n",
    "        print(data_list.shape)\n",
    "\n",
    "    # Calculate Krippendorff's alpha\n",
    "    alpha_value = alpha(reliability_data=data_list)\n",
    "\n",
    "    return alpha_value\n",
    "\n",
    "\n",
    "def compute_krippendorff_alpha_for_k_runs(df, runs, k=None, verbose=False, columns=runs):\n",
    "    # Initialize variables to store the best combination and alpha\n",
    "\n",
    "    # exclude runs that are not in the dataframe\n",
    "    runs = [run for run in tqdm(runs) if run in df.columns]\n",
    "\n",
    "    if k is None:\n",
    "        k = len(runs)\n",
    "\n",
    "    best_combination = None\n",
    "    best_alpha = 0  # Assuming alpha ranges from 0 to 1\n",
    "\n",
    "    # Iterate through all possible combinations\n",
    "    for combination in itertools.combinations(runs, k):\n",
    "\n",
    "        alpha_value = compute_krippendorff_alpha(df, list(combination), verbose=verbose, runs=columns)\n",
    "\n",
    "        if verbose:\n",
    "            # Print alpha for the current combination\n",
    "            print(f\"Combination: {combination}, Alpha: {alpha_value}\")\n",
    "\n",
    "        # Update best combination and alpha if a higher alpha is found\n",
    "        if alpha_value > best_alpha:\n",
    "            best_alpha = alpha_value\n",
    "            best_combination = combination\n",
    "\n",
    "    # Print the best combination and alpha\n",
    "    print(\n",
    "        f\"Best Alpha: {best_alpha}, Best Combination: {best_combination}\")\n",
    "\n",
    "    return best_alpha, best_combination\n"
   ]
  },
  {
   "cell_type": "code",
   "execution_count": 5,
   "metadata": {
    "ExecuteTime": {
     "end_time": "2024-02-03T17:00:03.697729Z",
     "start_time": "2024-02-03T17:00:03.469599Z"
    },
    "collapsed": false
   },
   "outputs": [
    {
     "name": "stdout",
     "output_type": "stream",
     "text": [
      "0 Shot\n",
      "0 Shot + System Prompt\n",
      "0 Shot CoT\n",
      "2 Shot\n",
      "4 Shot\n",
      "8 Shot\n",
      "2 Shot CoT\n",
      "4 Shot CoT\n",
      "8 Shot CoT\n"
     ]
    }
   ],
   "source": [
    "# Compute Krippendorff's alpha for all runs per dataframe and store it to csv\n",
    "result_data = []\n",
    "for df, name in dfs:\n",
    "    print(name)\n",
    "    score = compute_krippendorff_alpha(df, runs, verbose=False)\n",
    "    result_data.append({'run_type': name, 'Alpha': score, \"Alpha (rounded)\": round(score, 2)})\n",
    "\n",
    "result_df = pd.DataFrame(result_data)\n",
    "result_df.to_csv('krippendorff_alpha_per_type.csv', index=False)"
   ]
  },
  {
   "cell_type": "code",
   "execution_count": 8,
   "metadata": {
    "ExecuteTime": {
     "end_time": "2024-02-03T17:00:06.440357Z",
     "start_time": "2024-02-03T17:00:03.688904Z"
    },
    "collapsed": false
   },
   "outputs": [
    {
     "name": "stdout",
     "output_type": "stream",
     "text": [
      "0 Shot\n"
     ]
    },
    {
     "name": "stderr",
     "output_type": "stream",
     "text": [
      "100%|██████████| 13/13 [00:00<00:00, 148978.01it/s]\n"
     ]
    },
    {
     "name": "stdout",
     "output_type": "stream",
     "text": [
      "Best Alpha: 0.603429667337622, Best Combination: ('gpt_3_5_label', 'zephyr_label')\n",
      "0 Shot + System Prompt\n"
     ]
    },
    {
     "name": "stderr",
     "output_type": "stream",
     "text": [
      "100%|██████████| 13/13 [00:00<00:00, 258416.83it/s]\n"
     ]
    },
    {
     "name": "stdout",
     "output_type": "stream",
     "text": [
      "Best Alpha: 0.701053892374637, Best Combination: ('gpt_3_5_label', 'gpt_4_label')\n",
      "0 Shot CoT\n"
     ]
    },
    {
     "name": "stderr",
     "output_type": "stream",
     "text": [
      "100%|██████████| 13/13 [00:00<00:00, 225313.85it/s]\n"
     ]
    },
    {
     "name": "stdout",
     "output_type": "stream",
     "text": [
      "Best Alpha: 0.7261663286004056, Best Combination: ('gpt_4_label', 'llama_13b_label')\n",
      "2 Shot\n"
     ]
    },
    {
     "name": "stderr",
     "output_type": "stream",
     "text": [
      "100%|██████████| 13/13 [00:00<00:00, 276781.48it/s]\n"
     ]
    },
    {
     "name": "stdout",
     "output_type": "stream",
     "text": [
      "Best Alpha: 0.6449231092223087, Best Combination: ('mixtral_8x7b_label', 'zephyr_label')\n",
      "4 Shot\n"
     ]
    },
    {
     "name": "stderr",
     "output_type": "stream",
     "text": [
      "100%|██████████| 13/13 [00:00<00:00, 114310.17it/s]\n"
     ]
    },
    {
     "name": "stdout",
     "output_type": "stream",
     "text": [
      "Best Alpha: 0.7118286104946041, Best Combination: ('openchat_label', 'zephyr_label')\n",
      "8 Shot\n"
     ]
    },
    {
     "name": "stderr",
     "output_type": "stream",
     "text": [
      "100%|██████████| 13/13 [00:00<00:00, 165230.16it/s]\n"
     ]
    },
    {
     "name": "stdout",
     "output_type": "stream",
     "text": [
      "Best Alpha: 0.7661947884539435, Best Combination: ('openchat_label', 'zephyr_label')\n",
      "2 Shot CoT\n"
     ]
    },
    {
     "name": "stderr",
     "output_type": "stream",
     "text": [
      "100%|██████████| 13/13 [00:00<00:00, 186095.40it/s]\n"
     ]
    },
    {
     "name": "stdout",
     "output_type": "stream",
     "text": [
      "Best Alpha: 0.719000423123165, Best Combination: ('gpt_4_label', 'mixtral_8x7b_label')\n",
      "4 Shot CoT\n"
     ]
    },
    {
     "name": "stderr",
     "output_type": "stream",
     "text": [
      "100%|██████████| 13/13 [00:00<00:00, 101161.32it/s]\n"
     ]
    },
    {
     "name": "stdout",
     "output_type": "stream",
     "text": [
      "Best Alpha: 0.7546042687825425, Best Combination: ('gpt_4_label', 'mixtral_8x7b_label')\n",
      "8 Shot CoT\n"
     ]
    },
    {
     "name": "stderr",
     "output_type": "stream",
     "text": [
      "100%|██████████| 13/13 [00:00<00:00, 206537.70it/s]\n"
     ]
    },
    {
     "name": "stdout",
     "output_type": "stream",
     "text": [
      "Best Alpha: 0.753608415965835, Best Combination: ('gpt_4_label', 'mixtral_8x7b_label')\n"
     ]
    },
    {
     "data": {
      "text/html": [
       "<div>\n",
       "<style scoped>\n",
       "    .dataframe tbody tr th:only-of-type {\n",
       "        vertical-align: middle;\n",
       "    }\n",
       "\n",
       "    .dataframe tbody tr th {\n",
       "        vertical-align: top;\n",
       "    }\n",
       "\n",
       "    .dataframe thead th {\n",
       "        text-align: right;\n",
       "    }\n",
       "</style>\n",
       "<table border=\"1\" class=\"dataframe\">\n",
       "  <thead>\n",
       "    <tr style=\"text-align: right;\">\n",
       "      <th></th>\n",
       "      <th>run_type</th>\n",
       "      <th>Alpha</th>\n",
       "      <th>Alpha (rounded)</th>\n",
       "      <th>model_1</th>\n",
       "      <th>model_2</th>\n",
       "    </tr>\n",
       "  </thead>\n",
       "  <tbody>\n",
       "    <tr>\n",
       "      <th>0</th>\n",
       "      <td>0 Shot</td>\n",
       "      <td>0.603430</td>\n",
       "      <td>0.60</td>\n",
       "      <td>GPT-3.5 Turbo</td>\n",
       "      <td>Zephyr 7B β</td>\n",
       "    </tr>\n",
       "    <tr>\n",
       "      <th>1</th>\n",
       "      <td>0 Shot + System Prompt</td>\n",
       "      <td>0.701054</td>\n",
       "      <td>0.70</td>\n",
       "      <td>GPT-3.5 Turbo</td>\n",
       "      <td>GPT-4 Turbo</td>\n",
       "    </tr>\n",
       "    <tr>\n",
       "      <th>2</th>\n",
       "      <td>0 Shot CoT</td>\n",
       "      <td>0.726166</td>\n",
       "      <td>0.73</td>\n",
       "      <td>GPT-4 Turbo</td>\n",
       "      <td>LLama 2 13B Chat</td>\n",
       "    </tr>\n",
       "    <tr>\n",
       "      <th>3</th>\n",
       "      <td>2 Shot</td>\n",
       "      <td>0.644923</td>\n",
       "      <td>0.64</td>\n",
       "      <td>Mixtral-8x7B Instruct</td>\n",
       "      <td>Zephyr 7B β</td>\n",
       "    </tr>\n",
       "    <tr>\n",
       "      <th>4</th>\n",
       "      <td>4 Shot</td>\n",
       "      <td>0.711829</td>\n",
       "      <td>0.71</td>\n",
       "      <td>OpenChat 3.5</td>\n",
       "      <td>Zephyr 7B β</td>\n",
       "    </tr>\n",
       "    <tr>\n",
       "      <th>5</th>\n",
       "      <td>8 Shot</td>\n",
       "      <td>0.766195</td>\n",
       "      <td>0.77</td>\n",
       "      <td>OpenChat 3.5</td>\n",
       "      <td>Zephyr 7B β</td>\n",
       "    </tr>\n",
       "    <tr>\n",
       "      <th>6</th>\n",
       "      <td>2 Shot CoT</td>\n",
       "      <td>0.719000</td>\n",
       "      <td>0.72</td>\n",
       "      <td>GPT-4 Turbo</td>\n",
       "      <td>Mixtral-8x7B Instruct</td>\n",
       "    </tr>\n",
       "    <tr>\n",
       "      <th>7</th>\n",
       "      <td>4 Shot CoT</td>\n",
       "      <td>0.754604</td>\n",
       "      <td>0.75</td>\n",
       "      <td>GPT-4 Turbo</td>\n",
       "      <td>Mixtral-8x7B Instruct</td>\n",
       "    </tr>\n",
       "    <tr>\n",
       "      <th>8</th>\n",
       "      <td>8 Shot CoT</td>\n",
       "      <td>0.753608</td>\n",
       "      <td>0.75</td>\n",
       "      <td>GPT-4 Turbo</td>\n",
       "      <td>Mixtral-8x7B Instruct</td>\n",
       "    </tr>\n",
       "  </tbody>\n",
       "</table>\n",
       "</div>"
      ],
      "text/plain": [
       "                 run_type     Alpha  Alpha (rounded)                model_1  \\\n",
       "0                  0 Shot  0.603430             0.60          GPT-3.5 Turbo   \n",
       "1  0 Shot + System Prompt  0.701054             0.70          GPT-3.5 Turbo   \n",
       "2              0 Shot CoT  0.726166             0.73            GPT-4 Turbo   \n",
       "3                  2 Shot  0.644923             0.64  Mixtral-8x7B Instruct   \n",
       "4                  4 Shot  0.711829             0.71           OpenChat 3.5   \n",
       "5                  8 Shot  0.766195             0.77           OpenChat 3.5   \n",
       "6              2 Shot CoT  0.719000             0.72            GPT-4 Turbo   \n",
       "7              4 Shot CoT  0.754604             0.75            GPT-4 Turbo   \n",
       "8              8 Shot CoT  0.753608             0.75            GPT-4 Turbo   \n",
       "\n",
       "                 model_2  \n",
       "0            Zephyr 7B β  \n",
       "1            GPT-4 Turbo  \n",
       "2       LLama 2 13B Chat  \n",
       "3            Zephyr 7B β  \n",
       "4            Zephyr 7B β  \n",
       "5            Zephyr 7B β  \n",
       "6  Mixtral-8x7B Instruct  \n",
       "7  Mixtral-8x7B Instruct  \n",
       "8  Mixtral-8x7B Instruct  "
      ]
     },
     "execution_count": 8,
     "metadata": {},
     "output_type": "execute_result"
    }
   ],
   "source": [
    "# Compute best Krippendorff's alpha for all combinations of 2 per dataframe and store it to csv\n",
    "result_data = []\n",
    "\n",
    "for df, name in dfs:\n",
    "    print(name)\n",
    "    score, combination = compute_krippendorff_alpha_for_k_runs(df, runs, k=2,\n",
    "                                                               verbose=False)\n",
    "\n",
    "    names = [name_by_label[run] for run in combination]\n",
    "    result_data.append(\n",
    "        {'run_type': name, 'Alpha': score, \"Alpha (rounded)\": round(score, 2), 'model_1': names[0],\n",
    "         'model_2': names[1]})\n",
    "\n",
    "result_df = pd.DataFrame(result_data)\n",
    "result_df.to_csv('krippendorff_alpha_per_type_2.csv', index=False)\n",
    "result_df"
   ]
  },
  {
   "cell_type": "code",
   "execution_count": 9,
   "metadata": {
    "ExecuteTime": {
     "end_time": "2024-02-03T17:00:19.636107Z",
     "start_time": "2024-02-03T17:00:06.443186Z"
    },
    "collapsed": false
   },
   "outputs": [
    {
     "name": "stdout",
     "output_type": "stream",
     "text": [
      "0 Shot\n"
     ]
    },
    {
     "name": "stderr",
     "output_type": "stream",
     "text": [
      "100%|██████████| 13/13 [00:00<00:00, 100973.99it/s]\n"
     ]
    },
    {
     "name": "stdout",
     "output_type": "stream",
     "text": [
      "Best Alpha: 0.5692184310334636, Best Combination: ('flan_ul2_label', 'gpt_4_label', 'zephyr_label')\n",
      "0 Shot + System Prompt\n"
     ]
    },
    {
     "name": "stderr",
     "output_type": "stream",
     "text": [
      "100%|██████████| 13/13 [00:00<00:00, 212163.24it/s]\n"
     ]
    },
    {
     "name": "stdout",
     "output_type": "stream",
     "text": [
      "Best Alpha: 0.6269059614723216, Best Combination: ('flan_ul2_label', 'gpt_3_5_label', 'gpt_4_label')\n",
      "0 Shot CoT\n"
     ]
    },
    {
     "name": "stderr",
     "output_type": "stream",
     "text": [
      "100%|██████████| 13/13 [00:00<00:00, 188020.52it/s]\n"
     ]
    },
    {
     "name": "stdout",
     "output_type": "stream",
     "text": [
      "Best Alpha: 0.4929070929070929, Best Combination: ('gpt_3_5_label', 'openchat_label', 'zephyr_label')\n",
      "2 Shot\n"
     ]
    },
    {
     "name": "stderr",
     "output_type": "stream",
     "text": [
      "100%|██████████| 13/13 [00:00<00:00, 185462.42it/s]\n"
     ]
    },
    {
     "name": "stdout",
     "output_type": "stream",
     "text": [
      "Best Alpha: 0.6265886133378524, Best Combination: ('gpt_3_5_label', 'openchat_label', 'zephyr_label')\n",
      "4 Shot\n"
     ]
    },
    {
     "name": "stderr",
     "output_type": "stream",
     "text": [
      "100%|██████████| 13/13 [00:00<00:00, 232025.33it/s]\n"
     ]
    },
    {
     "name": "stdout",
     "output_type": "stream",
     "text": [
      "Best Alpha: 0.67621374672692, Best Combination: ('gpt_3_5_label', 'openchat_label', 'zephyr_label')\n",
      "8 Shot\n"
     ]
    },
    {
     "name": "stderr",
     "output_type": "stream",
     "text": [
      "100%|██████████| 13/13 [00:00<00:00, 212163.24it/s]\n"
     ]
    },
    {
     "name": "stdout",
     "output_type": "stream",
     "text": [
      "Best Alpha: 0.6978531172885809, Best Combination: ('gpt_3_5_label', 'openchat_label', 'zephyr_label')\n",
      "2 Shot CoT\n"
     ]
    },
    {
     "name": "stderr",
     "output_type": "stream",
     "text": [
      "100%|██████████| 13/13 [00:00<00:00, 135974.94it/s]\n"
     ]
    },
    {
     "name": "stdout",
     "output_type": "stream",
     "text": [
      "Best Alpha: 0.6473883973435703, Best Combination: ('gpt_4_label', 'llama_13b_label', 'mixtral_8x7b_label')\n",
      "4 Shot CoT\n"
     ]
    },
    {
     "name": "stderr",
     "output_type": "stream",
     "text": [
      "100%|██████████| 13/13 [00:00<00:00, 138390.74it/s]\n"
     ]
    },
    {
     "name": "stdout",
     "output_type": "stream",
     "text": [
      "Best Alpha: 0.681981283778573, Best Combination: ('gpt_4_label', 'llama_13b_label', 'mixtral_8x7b_label')\n",
      "8 Shot CoT\n"
     ]
    },
    {
     "name": "stderr",
     "output_type": "stream",
     "text": [
      "100%|██████████| 13/13 [00:00<00:00, 184209.30it/s]\n"
     ]
    },
    {
     "name": "stdout",
     "output_type": "stream",
     "text": [
      "Best Alpha: 0.686709095619648, Best Combination: ('llama_13b_label', 'openchat_label', 'zephyr_label')\n"
     ]
    },
    {
     "data": {
      "text/html": [
       "<div>\n",
       "<style scoped>\n",
       "    .dataframe tbody tr th:only-of-type {\n",
       "        vertical-align: middle;\n",
       "    }\n",
       "\n",
       "    .dataframe tbody tr th {\n",
       "        vertical-align: top;\n",
       "    }\n",
       "\n",
       "    .dataframe thead th {\n",
       "        text-align: right;\n",
       "    }\n",
       "</style>\n",
       "<table border=\"1\" class=\"dataframe\">\n",
       "  <thead>\n",
       "    <tr style=\"text-align: right;\">\n",
       "      <th></th>\n",
       "      <th>run_type</th>\n",
       "      <th>Alpha</th>\n",
       "      <th>Alpha (rounded)</th>\n",
       "      <th>model_1</th>\n",
       "      <th>model_2</th>\n",
       "      <th>model_3</th>\n",
       "    </tr>\n",
       "  </thead>\n",
       "  <tbody>\n",
       "    <tr>\n",
       "      <th>0</th>\n",
       "      <td>0 Shot</td>\n",
       "      <td>0.569218</td>\n",
       "      <td>0.57</td>\n",
       "      <td>Flan-UL2</td>\n",
       "      <td>GPT-4 Turbo</td>\n",
       "      <td>Zephyr 7B β</td>\n",
       "    </tr>\n",
       "    <tr>\n",
       "      <th>1</th>\n",
       "      <td>0 Shot + System Prompt</td>\n",
       "      <td>0.626906</td>\n",
       "      <td>0.63</td>\n",
       "      <td>Flan-UL2</td>\n",
       "      <td>GPT-3.5 Turbo</td>\n",
       "      <td>GPT-4 Turbo</td>\n",
       "    </tr>\n",
       "    <tr>\n",
       "      <th>2</th>\n",
       "      <td>0 Shot CoT</td>\n",
       "      <td>0.492907</td>\n",
       "      <td>0.49</td>\n",
       "      <td>GPT-3.5 Turbo</td>\n",
       "      <td>OpenChat 3.5</td>\n",
       "      <td>Zephyr 7B β</td>\n",
       "    </tr>\n",
       "    <tr>\n",
       "      <th>3</th>\n",
       "      <td>2 Shot</td>\n",
       "      <td>0.626589</td>\n",
       "      <td>0.63</td>\n",
       "      <td>GPT-3.5 Turbo</td>\n",
       "      <td>OpenChat 3.5</td>\n",
       "      <td>Zephyr 7B β</td>\n",
       "    </tr>\n",
       "    <tr>\n",
       "      <th>4</th>\n",
       "      <td>4 Shot</td>\n",
       "      <td>0.676214</td>\n",
       "      <td>0.68</td>\n",
       "      <td>GPT-3.5 Turbo</td>\n",
       "      <td>OpenChat 3.5</td>\n",
       "      <td>Zephyr 7B β</td>\n",
       "    </tr>\n",
       "    <tr>\n",
       "      <th>5</th>\n",
       "      <td>8 Shot</td>\n",
       "      <td>0.697853</td>\n",
       "      <td>0.70</td>\n",
       "      <td>GPT-3.5 Turbo</td>\n",
       "      <td>OpenChat 3.5</td>\n",
       "      <td>Zephyr 7B β</td>\n",
       "    </tr>\n",
       "    <tr>\n",
       "      <th>6</th>\n",
       "      <td>2 Shot CoT</td>\n",
       "      <td>0.647388</td>\n",
       "      <td>0.65</td>\n",
       "      <td>GPT-4 Turbo</td>\n",
       "      <td>LLama 2 13B Chat</td>\n",
       "      <td>Mixtral-8x7B Instruct</td>\n",
       "    </tr>\n",
       "    <tr>\n",
       "      <th>7</th>\n",
       "      <td>4 Shot CoT</td>\n",
       "      <td>0.681981</td>\n",
       "      <td>0.68</td>\n",
       "      <td>GPT-4 Turbo</td>\n",
       "      <td>LLama 2 13B Chat</td>\n",
       "      <td>Mixtral-8x7B Instruct</td>\n",
       "    </tr>\n",
       "    <tr>\n",
       "      <th>8</th>\n",
       "      <td>8 Shot CoT</td>\n",
       "      <td>0.686709</td>\n",
       "      <td>0.69</td>\n",
       "      <td>LLama 2 13B Chat</td>\n",
       "      <td>OpenChat 3.5</td>\n",
       "      <td>Zephyr 7B β</td>\n",
       "    </tr>\n",
       "  </tbody>\n",
       "</table>\n",
       "</div>"
      ],
      "text/plain": [
       "                 run_type     Alpha  Alpha (rounded)           model_1  \\\n",
       "0                  0 Shot  0.569218             0.57          Flan-UL2   \n",
       "1  0 Shot + System Prompt  0.626906             0.63          Flan-UL2   \n",
       "2              0 Shot CoT  0.492907             0.49     GPT-3.5 Turbo   \n",
       "3                  2 Shot  0.626589             0.63     GPT-3.5 Turbo   \n",
       "4                  4 Shot  0.676214             0.68     GPT-3.5 Turbo   \n",
       "5                  8 Shot  0.697853             0.70     GPT-3.5 Turbo   \n",
       "6              2 Shot CoT  0.647388             0.65       GPT-4 Turbo   \n",
       "7              4 Shot CoT  0.681981             0.68       GPT-4 Turbo   \n",
       "8              8 Shot CoT  0.686709             0.69  LLama 2 13B Chat   \n",
       "\n",
       "            model_2                model_3  \n",
       "0       GPT-4 Turbo            Zephyr 7B β  \n",
       "1     GPT-3.5 Turbo            GPT-4 Turbo  \n",
       "2      OpenChat 3.5            Zephyr 7B β  \n",
       "3      OpenChat 3.5            Zephyr 7B β  \n",
       "4      OpenChat 3.5            Zephyr 7B β  \n",
       "5      OpenChat 3.5            Zephyr 7B β  \n",
       "6  LLama 2 13B Chat  Mixtral-8x7B Instruct  \n",
       "7  LLama 2 13B Chat  Mixtral-8x7B Instruct  \n",
       "8      OpenChat 3.5            Zephyr 7B β  "
      ]
     },
     "execution_count": 9,
     "metadata": {},
     "output_type": "execute_result"
    }
   ],
   "source": [
    "# Compute best Krippendorff's alpha for all combinations of 3 per dataframe and store it to csv\n",
    "result_data = []\n",
    "for df, name in dfs:\n",
    "    print(name)\n",
    "    score, combination = compute_krippendorff_alpha_for_k_runs(df, runs, k=3,\n",
    "                                                               verbose=False)\n",
    "\n",
    "    names = [name_by_label[run] for run in combination]\n",
    "    result_data.append(\n",
    "        {'run_type': name, 'Alpha': score, \"Alpha (rounded)\": round(score, 2), 'model_1': names[0], 'model_2': names[1],\n",
    "         'model_3': names[2]})\n",
    "\n",
    "result_df = pd.DataFrame(result_data)\n",
    "result_df.to_csv('krippendorff_alpha_per_type_3.csv', index=False)\n",
    "result_df"
   ]
  },
  {
   "cell_type": "code",
   "execution_count": 10,
   "metadata": {
    "ExecuteTime": {
     "end_time": "2024-02-03T17:00:53.894622Z",
     "start_time": "2024-02-03T17:00:19.641027Z"
    },
    "collapsed": false
   },
   "outputs": [
    {
     "name": "stdout",
     "output_type": "stream",
     "text": [
      "0 Shot\n"
     ]
    },
    {
     "name": "stderr",
     "output_type": "stream",
     "text": [
      "100%|██████████| 13/13 [00:00<00:00, 148168.35it/s]\n"
     ]
    },
    {
     "name": "stdout",
     "output_type": "stream",
     "text": [
      "Best Alpha: 0.5396141441157991, Best Combination: ('flan_ul2_label', 'gpt_3_5_label', 'gpt_4_label', 'zephyr_label')\n",
      "0 Shot + System Prompt\n"
     ]
    },
    {
     "name": "stderr",
     "output_type": "stream",
     "text": [
      "100%|██████████| 13/13 [00:00<00:00, 192671.21it/s]\n"
     ]
    },
    {
     "name": "stdout",
     "output_type": "stream",
     "text": [
      "Best Alpha: 0.5896219023590168, Best Combination: ('flan_ul2_label', 'gpt_3_5_label', 'gpt_4_label', 'openchat_label')\n",
      "0 Shot CoT\n"
     ]
    },
    {
     "name": "stderr",
     "output_type": "stream",
     "text": [
      "100%|██████████| 13/13 [00:00<00:00, 260889.72it/s]\n"
     ]
    },
    {
     "name": "stdout",
     "output_type": "stream",
     "text": [
      "Best Alpha: 0.45735626194198364, Best Combination: ('gpt_3_5_label', 'gpt_4_label', 'openchat_label', 'zephyr_label')\n",
      "2 Shot\n"
     ]
    },
    {
     "name": "stderr",
     "output_type": "stream",
     "text": [
      "100%|██████████| 13/13 [00:00<00:00, 101727.52it/s]\n"
     ]
    },
    {
     "name": "stdout",
     "output_type": "stream",
     "text": [
      "Best Alpha: 0.6163975276546141, Best Combination: ('gpt_3_5_label', 'gpt_4_label', 'openchat_label', 'zephyr_label')\n",
      "4 Shot\n"
     ]
    },
    {
     "name": "stderr",
     "output_type": "stream",
     "text": [
      "100%|██████████| 13/13 [00:00<00:00, 218103.81it/s]\n"
     ]
    },
    {
     "name": "stdout",
     "output_type": "stream",
     "text": [
      "Best Alpha: 0.6648947092005815, Best Combination: ('gpt_3_5_label', 'gpt_4_label', 'openchat_label', 'zephyr_label')\n",
      "8 Shot\n"
     ]
    },
    {
     "name": "stderr",
     "output_type": "stream",
     "text": [
      "100%|██████████| 13/13 [00:00<00:00, 132666.55it/s]\n"
     ]
    },
    {
     "name": "stdout",
     "output_type": "stream",
     "text": [
      "Best Alpha: 0.6898387886144812, Best Combination: ('gpt_3_5_label', 'gpt_4_label', 'openchat_label', 'zephyr_label')\n",
      "2 Shot CoT\n"
     ]
    },
    {
     "name": "stderr",
     "output_type": "stream",
     "text": [
      "100%|██████████| 13/13 [00:00<00:00, 156234.82it/s]\n"
     ]
    },
    {
     "name": "stdout",
     "output_type": "stream",
     "text": [
      "Best Alpha: 0.6126426441299856, Best Combination: ('gpt_3_5_label', 'gpt_4_label', 'llama_13b_label', 'mixtral_8x7b_label')\n",
      "4 Shot CoT\n"
     ]
    },
    {
     "name": "stderr",
     "output_type": "stream",
     "text": [
      "100%|██████████| 13/13 [00:00<00:00, 188020.52it/s]\n"
     ]
    },
    {
     "name": "stdout",
     "output_type": "stream",
     "text": [
      "Best Alpha: 0.6571949340426286, Best Combination: ('gpt_4_label', 'llama_7b_label', 'llama_13b_label', 'zephyr_label')\n",
      "8 Shot CoT\n"
     ]
    },
    {
     "name": "stderr",
     "output_type": "stream",
     "text": [
      "100%|██████████| 13/13 [00:00<00:00, 147766.81it/s]\n"
     ]
    },
    {
     "name": "stdout",
     "output_type": "stream",
     "text": [
      "Best Alpha: 0.6756858837566528, Best Combination: ('gpt_3_5_label', 'llama_13b_label', 'openchat_label', 'zephyr_label')\n"
     ]
    },
    {
     "data": {
      "text/html": [
       "<div>\n",
       "<style scoped>\n",
       "    .dataframe tbody tr th:only-of-type {\n",
       "        vertical-align: middle;\n",
       "    }\n",
       "\n",
       "    .dataframe tbody tr th {\n",
       "        vertical-align: top;\n",
       "    }\n",
       "\n",
       "    .dataframe thead th {\n",
       "        text-align: right;\n",
       "    }\n",
       "</style>\n",
       "<table border=\"1\" class=\"dataframe\">\n",
       "  <thead>\n",
       "    <tr style=\"text-align: right;\">\n",
       "      <th></th>\n",
       "      <th>run_type</th>\n",
       "      <th>Alpha</th>\n",
       "      <th>Alpha (rounded)</th>\n",
       "      <th>model_1</th>\n",
       "      <th>model_2</th>\n",
       "      <th>model_3</th>\n",
       "      <th>model_4</th>\n",
       "    </tr>\n",
       "  </thead>\n",
       "  <tbody>\n",
       "    <tr>\n",
       "      <th>0</th>\n",
       "      <td>0 Shot</td>\n",
       "      <td>0.539614</td>\n",
       "      <td>0.54</td>\n",
       "      <td>Flan-UL2</td>\n",
       "      <td>GPT-3.5 Turbo</td>\n",
       "      <td>GPT-4 Turbo</td>\n",
       "      <td>Zephyr 7B β</td>\n",
       "    </tr>\n",
       "    <tr>\n",
       "      <th>1</th>\n",
       "      <td>0 Shot + System Prompt</td>\n",
       "      <td>0.589622</td>\n",
       "      <td>0.59</td>\n",
       "      <td>Flan-UL2</td>\n",
       "      <td>GPT-3.5 Turbo</td>\n",
       "      <td>GPT-4 Turbo</td>\n",
       "      <td>OpenChat 3.5</td>\n",
       "    </tr>\n",
       "    <tr>\n",
       "      <th>2</th>\n",
       "      <td>0 Shot CoT</td>\n",
       "      <td>0.457356</td>\n",
       "      <td>0.46</td>\n",
       "      <td>GPT-3.5 Turbo</td>\n",
       "      <td>GPT-4 Turbo</td>\n",
       "      <td>OpenChat 3.5</td>\n",
       "      <td>Zephyr 7B β</td>\n",
       "    </tr>\n",
       "    <tr>\n",
       "      <th>3</th>\n",
       "      <td>2 Shot</td>\n",
       "      <td>0.616398</td>\n",
       "      <td>0.62</td>\n",
       "      <td>GPT-3.5 Turbo</td>\n",
       "      <td>GPT-4 Turbo</td>\n",
       "      <td>OpenChat 3.5</td>\n",
       "      <td>Zephyr 7B β</td>\n",
       "    </tr>\n",
       "    <tr>\n",
       "      <th>4</th>\n",
       "      <td>4 Shot</td>\n",
       "      <td>0.664895</td>\n",
       "      <td>0.66</td>\n",
       "      <td>GPT-3.5 Turbo</td>\n",
       "      <td>GPT-4 Turbo</td>\n",
       "      <td>OpenChat 3.5</td>\n",
       "      <td>Zephyr 7B β</td>\n",
       "    </tr>\n",
       "    <tr>\n",
       "      <th>5</th>\n",
       "      <td>8 Shot</td>\n",
       "      <td>0.689839</td>\n",
       "      <td>0.69</td>\n",
       "      <td>GPT-3.5 Turbo</td>\n",
       "      <td>GPT-4 Turbo</td>\n",
       "      <td>OpenChat 3.5</td>\n",
       "      <td>Zephyr 7B β</td>\n",
       "    </tr>\n",
       "    <tr>\n",
       "      <th>6</th>\n",
       "      <td>2 Shot CoT</td>\n",
       "      <td>0.612643</td>\n",
       "      <td>0.61</td>\n",
       "      <td>GPT-3.5 Turbo</td>\n",
       "      <td>GPT-4 Turbo</td>\n",
       "      <td>LLama 2 13B Chat</td>\n",
       "      <td>Mixtral-8x7B Instruct</td>\n",
       "    </tr>\n",
       "    <tr>\n",
       "      <th>7</th>\n",
       "      <td>4 Shot CoT</td>\n",
       "      <td>0.657195</td>\n",
       "      <td>0.66</td>\n",
       "      <td>GPT-4 Turbo</td>\n",
       "      <td>LLama 2 7B Chat</td>\n",
       "      <td>LLama 2 13B Chat</td>\n",
       "      <td>Zephyr 7B β</td>\n",
       "    </tr>\n",
       "    <tr>\n",
       "      <th>8</th>\n",
       "      <td>8 Shot CoT</td>\n",
       "      <td>0.675686</td>\n",
       "      <td>0.68</td>\n",
       "      <td>GPT-3.5 Turbo</td>\n",
       "      <td>LLama 2 13B Chat</td>\n",
       "      <td>OpenChat 3.5</td>\n",
       "      <td>Zephyr 7B β</td>\n",
       "    </tr>\n",
       "  </tbody>\n",
       "</table>\n",
       "</div>"
      ],
      "text/plain": [
       "                 run_type     Alpha  Alpha (rounded)        model_1  \\\n",
       "0                  0 Shot  0.539614             0.54       Flan-UL2   \n",
       "1  0 Shot + System Prompt  0.589622             0.59       Flan-UL2   \n",
       "2              0 Shot CoT  0.457356             0.46  GPT-3.5 Turbo   \n",
       "3                  2 Shot  0.616398             0.62  GPT-3.5 Turbo   \n",
       "4                  4 Shot  0.664895             0.66  GPT-3.5 Turbo   \n",
       "5                  8 Shot  0.689839             0.69  GPT-3.5 Turbo   \n",
       "6              2 Shot CoT  0.612643             0.61  GPT-3.5 Turbo   \n",
       "7              4 Shot CoT  0.657195             0.66    GPT-4 Turbo   \n",
       "8              8 Shot CoT  0.675686             0.68  GPT-3.5 Turbo   \n",
       "\n",
       "            model_2           model_3                model_4  \n",
       "0     GPT-3.5 Turbo       GPT-4 Turbo            Zephyr 7B β  \n",
       "1     GPT-3.5 Turbo       GPT-4 Turbo           OpenChat 3.5  \n",
       "2       GPT-4 Turbo      OpenChat 3.5            Zephyr 7B β  \n",
       "3       GPT-4 Turbo      OpenChat 3.5            Zephyr 7B β  \n",
       "4       GPT-4 Turbo      OpenChat 3.5            Zephyr 7B β  \n",
       "5       GPT-4 Turbo      OpenChat 3.5            Zephyr 7B β  \n",
       "6       GPT-4 Turbo  LLama 2 13B Chat  Mixtral-8x7B Instruct  \n",
       "7   LLama 2 7B Chat  LLama 2 13B Chat            Zephyr 7B β  \n",
       "8  LLama 2 13B Chat      OpenChat 3.5            Zephyr 7B β  "
      ]
     },
     "execution_count": 10,
     "metadata": {},
     "output_type": "execute_result"
    }
   ],
   "source": [
    "# Compute best Krippendorff's alpha for all combinations of 4 per dataframe and store it to csv\n",
    "result_data = []\n",
    "for df, name in dfs:\n",
    "    print(name)\n",
    "    score, combination = compute_krippendorff_alpha_for_k_runs(df, runs, k=4,\n",
    "                                                               verbose=False)\n",
    "\n",
    "    names = [name_by_label[run] for run in combination]\n",
    "\n",
    "    result_data.append(\n",
    "        {'run_type': name, 'Alpha': score, \"Alpha (rounded)\": round(score, 2), 'model_1': names[0], 'model_2': names[1],\n",
    "         'model_3': names[2], 'model_4': names[3]})\n",
    "\n",
    "result_df = pd.DataFrame(result_data)\n",
    "result_df.to_csv('krippendorff_alpha_per_type_4.csv', index=False)\n",
    "result_df"
   ]
  },
  {
   "cell_type": "markdown",
   "metadata": {
    "collapsed": false
   },
   "source": [
    "# Compute Krippendorff's alpha per model"
   ]
  },
  {
   "cell_type": "code",
   "execution_count": 11,
   "metadata": {
    "ExecuteTime": {
     "end_time": "2024-02-03T17:00:53.900717Z",
     "start_time": "2024-02-03T17:00:53.895634Z"
    },
    "collapsed": false
   },
   "outputs": [],
   "source": [
    "def create_df(model_name, dfs):\n",
    "    res = pd.DataFrame()\n",
    "\n",
    "    # add the 'text' colum from first df as row\n",
    "    res['text'] = dfs[0][0]['text']\n",
    "\n",
    "    for df, name in dfs:\n",
    "\n",
    "        if model_name in df.columns:\n",
    "            #merge on 'text' and rename to 'name' not only suffix\n",
    "            res = res.merge(df[['text', model_name]], on='text', how='left')\n",
    "            res = res.rename(columns={model_name: name})\n",
    "\n",
    "    return res"
   ]
  },
  {
   "cell_type": "code",
   "execution_count": 12,
   "metadata": {
    "ExecuteTime": {
     "end_time": "2024-02-03T17:00:54.653705Z",
     "start_time": "2024-02-03T17:00:53.900137Z"
    },
    "collapsed": false
   },
   "outputs": [
    {
     "name": "stdout",
     "output_type": "stream",
     "text": [
      "falcon_7b_label\n",
      "(9, 4021)\n",
      "flan_t5_base_label\n",
      "Warning: 4 runs are not in the dataframe\n",
      "(5, 4021)\n",
      "flan_t5_large_label\n",
      "Warning: 4 runs are not in the dataframe\n",
      "(5, 4021)\n",
      "flan_t5_xl_label\n",
      "Warning: 4 runs are not in the dataframe\n",
      "(5, 4021)\n",
      "flan_ul2_label\n",
      "(9, 4021)\n",
      "gpt_3_5_label\n",
      "(9, 4021)\n",
      "gpt_4_label\n",
      "(9, 4021)\n",
      "llama_7b_label\n",
      "(9, 4021)\n",
      "llama_13b_label\n",
      "(9, 4021)\n",
      "mistral_7b_label\n",
      "(9, 4021)\n",
      "mixtral_8x7b_label\n",
      "(9, 4021)\n",
      "openchat_label\n",
      "(9, 4021)\n",
      "zephyr_label\n",
      "(9, 4021)\n"
     ]
    },
    {
     "data": {
      "text/html": [
       "<div>\n",
       "<style scoped>\n",
       "    .dataframe tbody tr th:only-of-type {\n",
       "        vertical-align: middle;\n",
       "    }\n",
       "\n",
       "    .dataframe tbody tr th {\n",
       "        vertical-align: top;\n",
       "    }\n",
       "\n",
       "    .dataframe thead th {\n",
       "        text-align: right;\n",
       "    }\n",
       "</style>\n",
       "<table border=\"1\" class=\"dataframe\">\n",
       "  <thead>\n",
       "    <tr style=\"text-align: right;\">\n",
       "      <th></th>\n",
       "      <th>model</th>\n",
       "      <th>Alpha</th>\n",
       "      <th>Alpha (rounded)</th>\n",
       "    </tr>\n",
       "  </thead>\n",
       "  <tbody>\n",
       "    <tr>\n",
       "      <th>0</th>\n",
       "      <td>Falcon-7B-Instruct</td>\n",
       "      <td>0.126202</td>\n",
       "      <td>0.13</td>\n",
       "    </tr>\n",
       "    <tr>\n",
       "      <th>1</th>\n",
       "      <td>FLAN-T5-Base</td>\n",
       "      <td>0.093991</td>\n",
       "      <td>0.09</td>\n",
       "    </tr>\n",
       "    <tr>\n",
       "      <th>2</th>\n",
       "      <td>FLAN-T5-Large</td>\n",
       "      <td>0.194449</td>\n",
       "      <td>0.19</td>\n",
       "    </tr>\n",
       "    <tr>\n",
       "      <th>3</th>\n",
       "      <td>FLAN-T5-XL</td>\n",
       "      <td>0.469199</td>\n",
       "      <td>0.47</td>\n",
       "    </tr>\n",
       "    <tr>\n",
       "      <th>4</th>\n",
       "      <td>Flan-UL2</td>\n",
       "      <td>0.578945</td>\n",
       "      <td>0.58</td>\n",
       "    </tr>\n",
       "    <tr>\n",
       "      <th>5</th>\n",
       "      <td>GPT-3.5 Turbo</td>\n",
       "      <td>0.663122</td>\n",
       "      <td>0.66</td>\n",
       "    </tr>\n",
       "    <tr>\n",
       "      <th>6</th>\n",
       "      <td>GPT-4 Turbo</td>\n",
       "      <td>0.780733</td>\n",
       "      <td>0.78</td>\n",
       "    </tr>\n",
       "    <tr>\n",
       "      <th>7</th>\n",
       "      <td>LLama 2 7B Chat</td>\n",
       "      <td>0.338822</td>\n",
       "      <td>0.34</td>\n",
       "    </tr>\n",
       "    <tr>\n",
       "      <th>8</th>\n",
       "      <td>LLama 2 13B Chat</td>\n",
       "      <td>0.384463</td>\n",
       "      <td>0.38</td>\n",
       "    </tr>\n",
       "    <tr>\n",
       "      <th>9</th>\n",
       "      <td>Mistral-7B-v0.1 Instruct</td>\n",
       "      <td>0.346708</td>\n",
       "      <td>0.35</td>\n",
       "    </tr>\n",
       "    <tr>\n",
       "      <th>10</th>\n",
       "      <td>Mixtral-8x7B Instruct</td>\n",
       "      <td>0.424830</td>\n",
       "      <td>0.42</td>\n",
       "    </tr>\n",
       "    <tr>\n",
       "      <th>11</th>\n",
       "      <td>OpenChat 3.5</td>\n",
       "      <td>0.537094</td>\n",
       "      <td>0.54</td>\n",
       "    </tr>\n",
       "    <tr>\n",
       "      <th>12</th>\n",
       "      <td>Zephyr 7B β</td>\n",
       "      <td>0.594058</td>\n",
       "      <td>0.59</td>\n",
       "    </tr>\n",
       "  </tbody>\n",
       "</table>\n",
       "</div>"
      ],
      "text/plain": [
       "                       model     Alpha  Alpha (rounded)\n",
       "0        Falcon-7B-Instruct   0.126202             0.13\n",
       "1               FLAN-T5-Base  0.093991             0.09\n",
       "2             FLAN-T5-Large   0.194449             0.19\n",
       "3                FLAN-T5-XL   0.469199             0.47\n",
       "4                   Flan-UL2  0.578945             0.58\n",
       "5              GPT-3.5 Turbo  0.663122             0.66\n",
       "6                GPT-4 Turbo  0.780733             0.78\n",
       "7            LLama 2 7B Chat  0.338822             0.34\n",
       "8           LLama 2 13B Chat  0.384463             0.38\n",
       "9   Mistral-7B-v0.1 Instruct  0.346708             0.35\n",
       "10     Mixtral-8x7B Instruct  0.424830             0.42\n",
       "11              OpenChat 3.5  0.537094             0.54\n",
       "12               Zephyr 7B β  0.594058             0.59"
      ]
     },
     "execution_count": 12,
     "metadata": {},
     "output_type": "execute_result"
    }
   ],
   "source": [
    "# Compute Krippendorff's alpha per model\n",
    "columns = [\"0 Shot\", \"0 Shot + System Prompt\", \"0 Shot CoT\", \"2 Shot\", \"4 Shot\", \"8 Shot\", \"2 Shot CoT\", \"4 Shot CoT\",\n",
    "           \"8 Shot CoT\"]\n",
    "\n",
    "result_data = []\n",
    "for babel_label in runs:\n",
    "    print(babel_label)\n",
    "    df = create_df(babel_label, dfs)\n",
    "    score = compute_krippendorff_alpha(df, columns, verbose=True, runs=columns)\n",
    "    result_data.append({'model': name_by_label[babel_label], 'Alpha': score, \"Alpha (rounded)\": round(score, 2)})\n",
    "\n",
    "result_df = pd.DataFrame(result_data)\n",
    "result_df.to_csv('krippendorff_alpha_per_model.csv', index=False)\n",
    "result_df"
   ]
  },
  {
   "cell_type": "code",
   "execution_count": 13,
   "metadata": {
    "ExecuteTime": {
     "end_time": "2024-02-03T17:00:57.002046Z",
     "start_time": "2024-02-03T17:00:54.657007Z"
    },
    "collapsed": false
   },
   "outputs": [
    {
     "name": "stdout",
     "output_type": "stream",
     "text": [
      "falcon_7b_label\n"
     ]
    },
    {
     "name": "stderr",
     "output_type": "stream",
     "text": [
      "100%|██████████| 9/9 [00:00<00:00, 63980.91it/s]\n"
     ]
    },
    {
     "name": "stdout",
     "output_type": "stream",
     "text": [
      "Best Alpha: 0.461073456677047, Best Combination: ('4 Shot', '8 Shot')\n",
      "flan_t5_base_label\n"
     ]
    },
    {
     "name": "stderr",
     "output_type": "stream",
     "text": [
      "100%|██████████| 9/9 [00:00<00:00, 76106.32it/s]\n"
     ]
    },
    {
     "name": "stdout",
     "output_type": "stream",
     "text": [
      "Best Alpha: 0.31312594666783344, Best Combination: ('0 Shot', '0 Shot + System Prompt')\n",
      "flan_t5_large_label\n"
     ]
    },
    {
     "name": "stderr",
     "output_type": "stream",
     "text": [
      "100%|██████████| 9/9 [00:00<00:00, 104857.60it/s]\n"
     ]
    },
    {
     "name": "stdout",
     "output_type": "stream",
     "text": [
      "Best Alpha: 0.4315787985466062, Best Combination: ('2 Shot', '4 Shot')\n",
      "flan_t5_xl_label\n"
     ]
    },
    {
     "name": "stderr",
     "output_type": "stream",
     "text": [
      "100%|██████████| 9/9 [00:00<00:00, 73156.47it/s]\n"
     ]
    },
    {
     "name": "stdout",
     "output_type": "stream",
     "text": [
      "Best Alpha: 0.7828947368421053, Best Combination: ('0 Shot CoT', '4 Shot')\n",
      "flan_ul2_label\n"
     ]
    },
    {
     "name": "stderr",
     "output_type": "stream",
     "text": [
      "100%|██████████| 9/9 [00:00<00:00, 79976.14it/s]\n"
     ]
    },
    {
     "name": "stdout",
     "output_type": "stream",
     "text": [
      "Best Alpha: 0.7465937179719058, Best Combination: ('2 Shot', '4 Shot')\n",
      "gpt_3_5_label\n"
     ]
    },
    {
     "name": "stderr",
     "output_type": "stream",
     "text": [
      "100%|██████████| 9/9 [00:00<00:00, 73728.00it/s]\n"
     ]
    },
    {
     "name": "stdout",
     "output_type": "stream",
     "text": [
      "Best Alpha: 0.8128520225294419, Best Combination: ('4 Shot', '8 Shot')\n",
      "gpt_4_label\n"
     ]
    },
    {
     "name": "stderr",
     "output_type": "stream",
     "text": [
      "100%|██████████| 9/9 [00:00<00:00, 80659.69it/s]\n"
     ]
    },
    {
     "name": "stdout",
     "output_type": "stream",
     "text": [
      "Best Alpha: 0.8861392161757966, Best Combination: ('2 Shot CoT', '4 Shot CoT')\n",
      "llama_7b_label\n"
     ]
    },
    {
     "name": "stderr",
     "output_type": "stream",
     "text": [
      "100%|██████████| 9/9 [00:00<00:00, 89451.98it/s]\n"
     ]
    },
    {
     "name": "stdout",
     "output_type": "stream",
     "text": [
      "Best Alpha: 0.6463631664543787, Best Combination: ('4 Shot CoT', '8 Shot CoT')\n",
      "llama_13b_label\n"
     ]
    },
    {
     "name": "stderr",
     "output_type": "stream",
     "text": [
      "100%|██████████| 9/9 [00:00<00:00, 85211.59it/s]\n"
     ]
    },
    {
     "name": "stdout",
     "output_type": "stream",
     "text": [
      "Best Alpha: 0.738510917544824, Best Combination: ('4 Shot CoT', '8 Shot CoT')\n",
      "mistral_7b_label\n"
     ]
    },
    {
     "name": "stderr",
     "output_type": "stream",
     "text": [
      "100%|██████████| 9/9 [00:00<00:00, 90960.81it/s]\n"
     ]
    },
    {
     "name": "stdout",
     "output_type": "stream",
     "text": [
      "Best Alpha: 0.607256523139082, Best Combination: ('0 Shot', '0 Shot + System Prompt')\n",
      "mixtral_8x7b_label\n"
     ]
    },
    {
     "name": "stderr",
     "output_type": "stream",
     "text": [
      "100%|██████████| 9/9 [00:00<00:00, 62601.55it/s]\n"
     ]
    },
    {
     "name": "stdout",
     "output_type": "stream",
     "text": [
      "Best Alpha: 0.8496536361364617, Best Combination: ('4 Shot CoT', '8 Shot CoT')\n",
      "openchat_label\n"
     ]
    },
    {
     "name": "stderr",
     "output_type": "stream",
     "text": [
      "100%|██████████| 9/9 [00:00<00:00, 95808.97it/s]"
     ]
    },
    {
     "name": "stdout",
     "output_type": "stream",
     "text": [
      "Best Alpha: 0.7786367986080127, Best Combination: ('4 Shot', '8 Shot')\n",
      "zephyr_label\n"
     ]
    },
    {
     "name": "stderr",
     "output_type": "stream",
     "text": [
      "\n",
      "100%|██████████| 9/9 [00:00<00:00, 101475.10it/s]\n"
     ]
    },
    {
     "name": "stdout",
     "output_type": "stream",
     "text": [
      "Best Alpha: 0.7901164170832768, Best Combination: ('4 Shot', '8 Shot')\n"
     ]
    },
    {
     "data": {
      "text/html": [
       "<div>\n",
       "<style scoped>\n",
       "    .dataframe tbody tr th:only-of-type {\n",
       "        vertical-align: middle;\n",
       "    }\n",
       "\n",
       "    .dataframe tbody tr th {\n",
       "        vertical-align: top;\n",
       "    }\n",
       "\n",
       "    .dataframe thead th {\n",
       "        text-align: right;\n",
       "    }\n",
       "</style>\n",
       "<table border=\"1\" class=\"dataframe\">\n",
       "  <thead>\n",
       "    <tr style=\"text-align: right;\">\n",
       "      <th></th>\n",
       "      <th>model</th>\n",
       "      <th>Alpha</th>\n",
       "      <th>Alpha (rounded)</th>\n",
       "      <th>run_1</th>\n",
       "      <th>run_2</th>\n",
       "    </tr>\n",
       "  </thead>\n",
       "  <tbody>\n",
       "    <tr>\n",
       "      <th>0</th>\n",
       "      <td>Falcon-7B-Instruct</td>\n",
       "      <td>0.461073</td>\n",
       "      <td>0.46</td>\n",
       "      <td>4 Shot</td>\n",
       "      <td>8 Shot</td>\n",
       "    </tr>\n",
       "    <tr>\n",
       "      <th>1</th>\n",
       "      <td>FLAN-T5-Base</td>\n",
       "      <td>0.313126</td>\n",
       "      <td>0.31</td>\n",
       "      <td>0 Shot</td>\n",
       "      <td>0 Shot + System Prompt</td>\n",
       "    </tr>\n",
       "    <tr>\n",
       "      <th>2</th>\n",
       "      <td>FLAN-T5-Large</td>\n",
       "      <td>0.431579</td>\n",
       "      <td>0.43</td>\n",
       "      <td>2 Shot</td>\n",
       "      <td>4 Shot</td>\n",
       "    </tr>\n",
       "    <tr>\n",
       "      <th>3</th>\n",
       "      <td>FLAN-T5-XL</td>\n",
       "      <td>0.782895</td>\n",
       "      <td>0.78</td>\n",
       "      <td>0 Shot CoT</td>\n",
       "      <td>4 Shot</td>\n",
       "    </tr>\n",
       "    <tr>\n",
       "      <th>4</th>\n",
       "      <td>Flan-UL2</td>\n",
       "      <td>0.746594</td>\n",
       "      <td>0.75</td>\n",
       "      <td>2 Shot</td>\n",
       "      <td>4 Shot</td>\n",
       "    </tr>\n",
       "    <tr>\n",
       "      <th>5</th>\n",
       "      <td>GPT-3.5 Turbo</td>\n",
       "      <td>0.812852</td>\n",
       "      <td>0.81</td>\n",
       "      <td>4 Shot</td>\n",
       "      <td>8 Shot</td>\n",
       "    </tr>\n",
       "    <tr>\n",
       "      <th>6</th>\n",
       "      <td>GPT-4 Turbo</td>\n",
       "      <td>0.886139</td>\n",
       "      <td>0.89</td>\n",
       "      <td>2 Shot CoT</td>\n",
       "      <td>4 Shot CoT</td>\n",
       "    </tr>\n",
       "    <tr>\n",
       "      <th>7</th>\n",
       "      <td>LLama 2 7B Chat</td>\n",
       "      <td>0.646363</td>\n",
       "      <td>0.65</td>\n",
       "      <td>4 Shot CoT</td>\n",
       "      <td>8 Shot CoT</td>\n",
       "    </tr>\n",
       "    <tr>\n",
       "      <th>8</th>\n",
       "      <td>LLama 2 13B Chat</td>\n",
       "      <td>0.738511</td>\n",
       "      <td>0.74</td>\n",
       "      <td>4 Shot CoT</td>\n",
       "      <td>8 Shot CoT</td>\n",
       "    </tr>\n",
       "    <tr>\n",
       "      <th>9</th>\n",
       "      <td>Mistral-7B-v0.1 Instruct</td>\n",
       "      <td>0.607257</td>\n",
       "      <td>0.61</td>\n",
       "      <td>0 Shot</td>\n",
       "      <td>0 Shot + System Prompt</td>\n",
       "    </tr>\n",
       "    <tr>\n",
       "      <th>10</th>\n",
       "      <td>Mixtral-8x7B Instruct</td>\n",
       "      <td>0.849654</td>\n",
       "      <td>0.85</td>\n",
       "      <td>4 Shot CoT</td>\n",
       "      <td>8 Shot CoT</td>\n",
       "    </tr>\n",
       "    <tr>\n",
       "      <th>11</th>\n",
       "      <td>OpenChat 3.5</td>\n",
       "      <td>0.778637</td>\n",
       "      <td>0.78</td>\n",
       "      <td>4 Shot</td>\n",
       "      <td>8 Shot</td>\n",
       "    </tr>\n",
       "    <tr>\n",
       "      <th>12</th>\n",
       "      <td>Zephyr 7B β</td>\n",
       "      <td>0.790116</td>\n",
       "      <td>0.79</td>\n",
       "      <td>4 Shot</td>\n",
       "      <td>8 Shot</td>\n",
       "    </tr>\n",
       "  </tbody>\n",
       "</table>\n",
       "</div>"
      ],
      "text/plain": [
       "                       model     Alpha  Alpha (rounded)       run_1  \\\n",
       "0        Falcon-7B-Instruct   0.461073             0.46      4 Shot   \n",
       "1               FLAN-T5-Base  0.313126             0.31      0 Shot   \n",
       "2             FLAN-T5-Large   0.431579             0.43      2 Shot   \n",
       "3                FLAN-T5-XL   0.782895             0.78  0 Shot CoT   \n",
       "4                   Flan-UL2  0.746594             0.75      2 Shot   \n",
       "5              GPT-3.5 Turbo  0.812852             0.81      4 Shot   \n",
       "6                GPT-4 Turbo  0.886139             0.89  2 Shot CoT   \n",
       "7            LLama 2 7B Chat  0.646363             0.65  4 Shot CoT   \n",
       "8           LLama 2 13B Chat  0.738511             0.74  4 Shot CoT   \n",
       "9   Mistral-7B-v0.1 Instruct  0.607257             0.61      0 Shot   \n",
       "10     Mixtral-8x7B Instruct  0.849654             0.85  4 Shot CoT   \n",
       "11              OpenChat 3.5  0.778637             0.78      4 Shot   \n",
       "12               Zephyr 7B β  0.790116             0.79      4 Shot   \n",
       "\n",
       "                     run_2  \n",
       "0                   8 Shot  \n",
       "1   0 Shot + System Prompt  \n",
       "2                   4 Shot  \n",
       "3                   4 Shot  \n",
       "4                   4 Shot  \n",
       "5                   8 Shot  \n",
       "6               4 Shot CoT  \n",
       "7               8 Shot CoT  \n",
       "8               8 Shot CoT  \n",
       "9   0 Shot + System Prompt  \n",
       "10              8 Shot CoT  \n",
       "11                  8 Shot  \n",
       "12                  8 Shot  "
      ]
     },
     "execution_count": 13,
     "metadata": {},
     "output_type": "execute_result"
    }
   ],
   "source": [
    "# top 2 runs per model \n",
    "result_data = []\n",
    "for babel_label in runs:\n",
    "    print(babel_label)\n",
    "    df = create_df(babel_label, dfs)\n",
    "    score, combination = compute_krippendorff_alpha_for_k_runs(df, columns, k=2,\n",
    "                                                               verbose=False, columns=columns)\n",
    "    result_data.append(\n",
    "        {'model': name_by_label[babel_label], 'Alpha': score, \"Alpha (rounded)\": round(score, 2), 'run_1': combination[0],\n",
    "         'run_2': combination[1]})\n",
    "    \n",
    "result_df = pd.DataFrame(result_data)\n",
    "result_df.to_csv('krippendorff_alpha_per_model_2.csv', index=False)\n",
    "result_df"
   ]
  },
  {
   "cell_type": "code",
   "execution_count": 14,
   "metadata": {
    "ExecuteTime": {
     "end_time": "2024-02-03T17:01:03.019894Z",
     "start_time": "2024-02-03T17:00:57.005307Z"
    },
    "collapsed": false
   },
   "outputs": [
    {
     "name": "stdout",
     "output_type": "stream",
     "text": [
      "falcon_7b_label\n"
     ]
    },
    {
     "name": "stderr",
     "output_type": "stream",
     "text": [
      "100%|██████████| 9/9 [00:00<00:00, 68759.08it/s]\n"
     ]
    },
    {
     "name": "stdout",
     "output_type": "stream",
     "text": [
      "Best Alpha: 0.44971081957963044, Best Combination: ('0 Shot CoT', '4 Shot', '8 Shot')\n",
      "flan_t5_base_label\n"
     ]
    },
    {
     "name": "stderr",
     "output_type": "stream",
     "text": [
      "100%|██████████| 9/9 [00:00<00:00, 66342.24it/s]\n"
     ]
    },
    {
     "name": "stdout",
     "output_type": "stream",
     "text": [
      "Best Alpha: 0.3118649920351201, Best Combination: ('0 Shot', '0 Shot + System Prompt', '0 Shot CoT')\n",
      "flan_t5_large_label\n"
     ]
    },
    {
     "name": "stderr",
     "output_type": "stream",
     "text": [
      "100%|██████████| 9/9 [00:00<00:00, 107240.73it/s]\n"
     ]
    },
    {
     "name": "stdout",
     "output_type": "stream",
     "text": [
      "Best Alpha: 0.4172444274449998, Best Combination: ('0 Shot CoT', '2 Shot', '4 Shot')\n",
      "flan_t5_xl_label\n"
     ]
    },
    {
     "name": "stderr",
     "output_type": "stream",
     "text": [
      "100%|██████████| 9/9 [00:00<00:00, 91180.52it/s]\n"
     ]
    },
    {
     "name": "stdout",
     "output_type": "stream",
     "text": [
      "Best Alpha: 0.7175203707283418, Best Combination: ('0 Shot CoT', '2 Shot', '4 Shot')\n",
      "flan_ul2_label\n"
     ]
    },
    {
     "name": "stderr",
     "output_type": "stream",
     "text": [
      "100%|██████████| 9/9 [00:00<00:00, 94371.84it/s]\n"
     ]
    },
    {
     "name": "stdout",
     "output_type": "stream",
     "text": [
      "Best Alpha: 0.7427422229160174, Best Combination: ('0 Shot CoT', '4 Shot', '8 Shot')\n",
      "gpt_3_5_label\n"
     ]
    },
    {
     "name": "stderr",
     "output_type": "stream",
     "text": [
      "100%|██████████| 9/9 [00:00<00:00, 84072.91it/s]\n"
     ]
    },
    {
     "name": "stdout",
     "output_type": "stream",
     "text": [
      "Best Alpha: 0.8090386131245364, Best Combination: ('0 Shot CoT', '4 Shot', '8 Shot')\n",
      "gpt_4_label\n"
     ]
    },
    {
     "name": "stderr",
     "output_type": "stream",
     "text": [
      "100%|██████████| 9/9 [00:00<00:00, 94136.50it/s]\n"
     ]
    },
    {
     "name": "stdout",
     "output_type": "stream",
     "text": [
      "Best Alpha: 0.8841264733198549, Best Combination: ('0 Shot CoT', '2 Shot CoT', '4 Shot CoT')\n",
      "llama_7b_label\n"
     ]
    },
    {
     "name": "stderr",
     "output_type": "stream",
     "text": [
      "100%|██████████| 9/9 [00:00<00:00, 75497.47it/s]\n"
     ]
    },
    {
     "name": "stdout",
     "output_type": "stream",
     "text": [
      "Best Alpha: 0.643822991760752, Best Combination: ('0 Shot CoT', '4 Shot CoT', '8 Shot CoT')\n",
      "llama_13b_label\n"
     ]
    },
    {
     "name": "stderr",
     "output_type": "stream",
     "text": [
      "100%|██████████| 9/9 [00:00<00:00, 115793.67it/s]\n"
     ]
    },
    {
     "name": "stdout",
     "output_type": "stream",
     "text": [
      "Best Alpha: 0.7355260190773996, Best Combination: ('0 Shot CoT', '4 Shot CoT', '8 Shot CoT')\n",
      "mistral_7b_label\n"
     ]
    },
    {
     "name": "stderr",
     "output_type": "stream",
     "text": [
      "100%|██████████| 9/9 [00:00<00:00, 92295.20it/s]\n"
     ]
    },
    {
     "name": "stdout",
     "output_type": "stream",
     "text": [
      "Best Alpha: 0.6009037304452467, Best Combination: ('0 Shot', '0 Shot + System Prompt', '0 Shot CoT')\n",
      "mixtral_8x7b_label\n"
     ]
    },
    {
     "name": "stderr",
     "output_type": "stream",
     "text": [
      "100%|██████████| 9/9 [00:00<00:00, 48457.94it/s]\n"
     ]
    },
    {
     "name": "stdout",
     "output_type": "stream",
     "text": [
      "Best Alpha: 0.8454467598218173, Best Combination: ('0 Shot CoT', '4 Shot CoT', '8 Shot CoT')\n",
      "openchat_label\n"
     ]
    },
    {
     "name": "stderr",
     "output_type": "stream",
     "text": [
      "100%|██████████| 9/9 [00:00<00:00, 110376.42it/s]\n"
     ]
    },
    {
     "name": "stdout",
     "output_type": "stream",
     "text": [
      "Best Alpha: 0.7762071993362333, Best Combination: ('0 Shot CoT', '4 Shot', '8 Shot')\n",
      "zephyr_label\n"
     ]
    },
    {
     "name": "stderr",
     "output_type": "stream",
     "text": [
      "100%|██████████| 9/9 [00:00<00:00, 94846.07it/s]\n"
     ]
    },
    {
     "name": "stdout",
     "output_type": "stream",
     "text": [
      "Best Alpha: 0.7862925286331757, Best Combination: ('0 Shot CoT', '4 Shot', '8 Shot')\n"
     ]
    },
    {
     "data": {
      "text/html": [
       "<div>\n",
       "<style scoped>\n",
       "    .dataframe tbody tr th:only-of-type {\n",
       "        vertical-align: middle;\n",
       "    }\n",
       "\n",
       "    .dataframe tbody tr th {\n",
       "        vertical-align: top;\n",
       "    }\n",
       "\n",
       "    .dataframe thead th {\n",
       "        text-align: right;\n",
       "    }\n",
       "</style>\n",
       "<table border=\"1\" class=\"dataframe\">\n",
       "  <thead>\n",
       "    <tr style=\"text-align: right;\">\n",
       "      <th></th>\n",
       "      <th>model</th>\n",
       "      <th>Alpha</th>\n",
       "      <th>Alpha (rounded)</th>\n",
       "      <th>run_1</th>\n",
       "      <th>run_2</th>\n",
       "      <th>run_3</th>\n",
       "    </tr>\n",
       "  </thead>\n",
       "  <tbody>\n",
       "    <tr>\n",
       "      <th>0</th>\n",
       "      <td>Falcon-7B-Instruct</td>\n",
       "      <td>0.449711</td>\n",
       "      <td>0.45</td>\n",
       "      <td>0 Shot CoT</td>\n",
       "      <td>4 Shot</td>\n",
       "      <td>8 Shot</td>\n",
       "    </tr>\n",
       "    <tr>\n",
       "      <th>1</th>\n",
       "      <td>FLAN-T5-Base</td>\n",
       "      <td>0.311865</td>\n",
       "      <td>0.31</td>\n",
       "      <td>0 Shot</td>\n",
       "      <td>0 Shot + System Prompt</td>\n",
       "      <td>0 Shot CoT</td>\n",
       "    </tr>\n",
       "    <tr>\n",
       "      <th>2</th>\n",
       "      <td>FLAN-T5-Large</td>\n",
       "      <td>0.417244</td>\n",
       "      <td>0.42</td>\n",
       "      <td>0 Shot CoT</td>\n",
       "      <td>2 Shot</td>\n",
       "      <td>4 Shot</td>\n",
       "    </tr>\n",
       "    <tr>\n",
       "      <th>3</th>\n",
       "      <td>FLAN-T5-XL</td>\n",
       "      <td>0.717520</td>\n",
       "      <td>0.72</td>\n",
       "      <td>0 Shot CoT</td>\n",
       "      <td>2 Shot</td>\n",
       "      <td>4 Shot</td>\n",
       "    </tr>\n",
       "    <tr>\n",
       "      <th>4</th>\n",
       "      <td>Flan-UL2</td>\n",
       "      <td>0.742742</td>\n",
       "      <td>0.74</td>\n",
       "      <td>0 Shot CoT</td>\n",
       "      <td>4 Shot</td>\n",
       "      <td>8 Shot</td>\n",
       "    </tr>\n",
       "    <tr>\n",
       "      <th>5</th>\n",
       "      <td>GPT-3.5 Turbo</td>\n",
       "      <td>0.809039</td>\n",
       "      <td>0.81</td>\n",
       "      <td>0 Shot CoT</td>\n",
       "      <td>4 Shot</td>\n",
       "      <td>8 Shot</td>\n",
       "    </tr>\n",
       "    <tr>\n",
       "      <th>6</th>\n",
       "      <td>GPT-4 Turbo</td>\n",
       "      <td>0.884126</td>\n",
       "      <td>0.88</td>\n",
       "      <td>0 Shot CoT</td>\n",
       "      <td>2 Shot CoT</td>\n",
       "      <td>4 Shot CoT</td>\n",
       "    </tr>\n",
       "    <tr>\n",
       "      <th>7</th>\n",
       "      <td>LLama 2 7B Chat</td>\n",
       "      <td>0.643823</td>\n",
       "      <td>0.64</td>\n",
       "      <td>0 Shot CoT</td>\n",
       "      <td>4 Shot CoT</td>\n",
       "      <td>8 Shot CoT</td>\n",
       "    </tr>\n",
       "    <tr>\n",
       "      <th>8</th>\n",
       "      <td>LLama 2 13B Chat</td>\n",
       "      <td>0.735526</td>\n",
       "      <td>0.74</td>\n",
       "      <td>0 Shot CoT</td>\n",
       "      <td>4 Shot CoT</td>\n",
       "      <td>8 Shot CoT</td>\n",
       "    </tr>\n",
       "    <tr>\n",
       "      <th>9</th>\n",
       "      <td>Mistral-7B-v0.1 Instruct</td>\n",
       "      <td>0.600904</td>\n",
       "      <td>0.60</td>\n",
       "      <td>0 Shot</td>\n",
       "      <td>0 Shot + System Prompt</td>\n",
       "      <td>0 Shot CoT</td>\n",
       "    </tr>\n",
       "    <tr>\n",
       "      <th>10</th>\n",
       "      <td>Mixtral-8x7B Instruct</td>\n",
       "      <td>0.845447</td>\n",
       "      <td>0.85</td>\n",
       "      <td>0 Shot CoT</td>\n",
       "      <td>4 Shot CoT</td>\n",
       "      <td>8 Shot CoT</td>\n",
       "    </tr>\n",
       "    <tr>\n",
       "      <th>11</th>\n",
       "      <td>OpenChat 3.5</td>\n",
       "      <td>0.776207</td>\n",
       "      <td>0.78</td>\n",
       "      <td>0 Shot CoT</td>\n",
       "      <td>4 Shot</td>\n",
       "      <td>8 Shot</td>\n",
       "    </tr>\n",
       "    <tr>\n",
       "      <th>12</th>\n",
       "      <td>Zephyr 7B β</td>\n",
       "      <td>0.786293</td>\n",
       "      <td>0.79</td>\n",
       "      <td>0 Shot CoT</td>\n",
       "      <td>4 Shot</td>\n",
       "      <td>8 Shot</td>\n",
       "    </tr>\n",
       "  </tbody>\n",
       "</table>\n",
       "</div>"
      ],
      "text/plain": [
       "                       model     Alpha  Alpha (rounded)       run_1  \\\n",
       "0        Falcon-7B-Instruct   0.449711             0.45  0 Shot CoT   \n",
       "1               FLAN-T5-Base  0.311865             0.31      0 Shot   \n",
       "2             FLAN-T5-Large   0.417244             0.42  0 Shot CoT   \n",
       "3                FLAN-T5-XL   0.717520             0.72  0 Shot CoT   \n",
       "4                   Flan-UL2  0.742742             0.74  0 Shot CoT   \n",
       "5              GPT-3.5 Turbo  0.809039             0.81  0 Shot CoT   \n",
       "6                GPT-4 Turbo  0.884126             0.88  0 Shot CoT   \n",
       "7            LLama 2 7B Chat  0.643823             0.64  0 Shot CoT   \n",
       "8           LLama 2 13B Chat  0.735526             0.74  0 Shot CoT   \n",
       "9   Mistral-7B-v0.1 Instruct  0.600904             0.60      0 Shot   \n",
       "10     Mixtral-8x7B Instruct  0.845447             0.85  0 Shot CoT   \n",
       "11              OpenChat 3.5  0.776207             0.78  0 Shot CoT   \n",
       "12               Zephyr 7B β  0.786293             0.79  0 Shot CoT   \n",
       "\n",
       "                     run_2       run_3  \n",
       "0                   4 Shot      8 Shot  \n",
       "1   0 Shot + System Prompt  0 Shot CoT  \n",
       "2                   2 Shot      4 Shot  \n",
       "3                   2 Shot      4 Shot  \n",
       "4                   4 Shot      8 Shot  \n",
       "5                   4 Shot      8 Shot  \n",
       "6               2 Shot CoT  4 Shot CoT  \n",
       "7               4 Shot CoT  8 Shot CoT  \n",
       "8               4 Shot CoT  8 Shot CoT  \n",
       "9   0 Shot + System Prompt  0 Shot CoT  \n",
       "10              4 Shot CoT  8 Shot CoT  \n",
       "11                  4 Shot      8 Shot  \n",
       "12                  4 Shot      8 Shot  "
      ]
     },
     "execution_count": 14,
     "metadata": {},
     "output_type": "execute_result"
    }
   ],
   "source": [
    "# top 3 runs per model \n",
    "result_data = []\n",
    "for babel_label in runs:\n",
    "    print(babel_label)\n",
    "    df = create_df(babel_label, dfs)\n",
    "    score, combination = compute_krippendorff_alpha_for_k_runs(df, columns, k=3,\n",
    "                                                               verbose=False, columns=columns)\n",
    "    result_data.append(\n",
    "        {'model': name_by_label[babel_label], 'Alpha': score, \"Alpha (rounded)\": round(score, 2), 'run_1': combination[0],\n",
    "         'run_2': combination[1], 'run_3': combination[2]})\n",
    "\n",
    "result_df = pd.DataFrame(result_data)\n",
    "result_df.to_csv('krippendorff_alpha_per_model_3.csv', index=False)\n",
    "result_df"
   ]
  },
  {
   "cell_type": "code",
   "execution_count": 15,
   "metadata": {
    "ExecuteTime": {
     "end_time": "2024-02-03T17:01:13.194736Z",
     "start_time": "2024-02-03T17:01:03.021082Z"
    },
    "collapsed": false
   },
   "outputs": [
    {
     "name": "stdout",
     "output_type": "stream",
     "text": [
      "falcon_7b_label\n"
     ]
    },
    {
     "name": "stderr",
     "output_type": "stream",
     "text": [
      "100%|██████████| 9/9 [00:00<00:00, 62601.55it/s]\n"
     ]
    },
    {
     "name": "stdout",
     "output_type": "stream",
     "text": [
      "Best Alpha: 0.39076571815145245, Best Combination: ('0 Shot CoT', '2 Shot', '4 Shot', '8 Shot')\n",
      "flan_t5_base_label\n"
     ]
    },
    {
     "name": "stderr",
     "output_type": "stream",
     "text": [
      "100%|██████████| 9/9 [00:00<00:00, 70956.27it/s]\n"
     ]
    },
    {
     "name": "stdout",
     "output_type": "stream",
     "text": [
      "Best Alpha: 0.14358877887689447, Best Combination: ('0 Shot', '0 Shot + System Prompt', '0 Shot CoT', '2 Shot')\n",
      "flan_t5_large_label\n"
     ]
    },
    {
     "name": "stderr",
     "output_type": "stream",
     "text": [
      "100%|██████████| 9/9 [00:00<00:00, 16740.02it/s]\n"
     ]
    },
    {
     "name": "stdout",
     "output_type": "stream",
     "text": [
      "Best Alpha: 0.2035555541576436, Best Combination: ('0 Shot', '0 Shot + System Prompt', '0 Shot CoT', '2 Shot')\n",
      "flan_t5_xl_label\n"
     ]
    },
    {
     "name": "stderr",
     "output_type": "stream",
     "text": [
      "100%|██████████| 9/9 [00:00<00:00, 69905.07it/s]\n"
     ]
    },
    {
     "name": "stdout",
     "output_type": "stream",
     "text": [
      "Best Alpha: 0.6365377793837467, Best Combination: ('0 Shot + System Prompt', '0 Shot CoT', '2 Shot', '4 Shot')\n",
      "flan_ul2_label\n"
     ]
    },
    {
     "name": "stderr",
     "output_type": "stream",
     "text": [
      "100%|██████████| 9/9 [00:00<00:00, 59540.59it/s]\n"
     ]
    },
    {
     "name": "stdout",
     "output_type": "stream",
     "text": [
      "Best Alpha: 0.736434721396401, Best Combination: ('0 Shot CoT', '2 Shot', '4 Shot', '8 Shot')\n",
      "gpt_3_5_label\n"
     ]
    },
    {
     "name": "stderr",
     "output_type": "stream",
     "text": [
      "100%|██████████| 9/9 [00:00<00:00, 79807.05it/s]\n"
     ]
    },
    {
     "name": "stdout",
     "output_type": "stream",
     "text": [
      "Best Alpha: 0.7627887677473331, Best Combination: ('0 Shot CoT', '2 Shot', '4 Shot', '8 Shot')\n",
      "gpt_4_label\n"
     ]
    },
    {
     "name": "stderr",
     "output_type": "stream",
     "text": [
      "100%|██████████| 9/9 [00:00<00:00, 69905.07it/s]\n"
     ]
    },
    {
     "name": "stdout",
     "output_type": "stream",
     "text": [
      "Best Alpha: 0.8665777085391551, Best Combination: ('0 Shot CoT', '2 Shot CoT', '4 Shot CoT', '8 Shot CoT')\n",
      "llama_7b_label\n"
     ]
    },
    {
     "name": "stderr",
     "output_type": "stream",
     "text": [
      "100%|██████████| 9/9 [00:00<00:00, 108473.38it/s]\n"
     ]
    },
    {
     "name": "stdout",
     "output_type": "stream",
     "text": [
      "Best Alpha: 0.6294201655960702, Best Combination: ('0 Shot CoT', '2 Shot CoT', '4 Shot CoT', '8 Shot CoT')\n",
      "llama_13b_label\n"
     ]
    },
    {
     "name": "stderr",
     "output_type": "stream",
     "text": [
      "100%|██████████| 9/9 [00:00<00:00, 95325.09it/s]\n"
     ]
    },
    {
     "name": "stdout",
     "output_type": "stream",
     "text": [
      "Best Alpha: 0.7104564784845082, Best Combination: ('0 Shot CoT', '2 Shot CoT', '4 Shot CoT', '8 Shot CoT')\n",
      "mistral_7b_label\n"
     ]
    },
    {
     "name": "stderr",
     "output_type": "stream",
     "text": [
      "100%|██████████| 9/9 [00:00<00:00, 105443.40it/s]\n"
     ]
    },
    {
     "name": "stdout",
     "output_type": "stream",
     "text": [
      "Best Alpha: 0.5314739338983899, Best Combination: ('0 Shot CoT', '2 Shot CoT', '4 Shot CoT', '8 Shot CoT')\n",
      "mixtral_8x7b_label\n"
     ]
    },
    {
     "name": "stderr",
     "output_type": "stream",
     "text": [
      "100%|██████████| 9/9 [00:00<00:00, 100663.30it/s]\n"
     ]
    },
    {
     "name": "stdout",
     "output_type": "stream",
     "text": [
      "Best Alpha: 0.8154698954253053, Best Combination: ('0 Shot CoT', '2 Shot CoT', '4 Shot CoT', '8 Shot CoT')\n",
      "openchat_label\n"
     ]
    },
    {
     "name": "stderr",
     "output_type": "stream",
     "text": [
      "100%|██████████| 9/9 [00:00<00:00, 112347.43it/s]\n"
     ]
    },
    {
     "name": "stdout",
     "output_type": "stream",
     "text": [
      "Best Alpha: 0.7385638119107168, Best Combination: ('0 Shot CoT', '2 Shot', '4 Shot', '8 Shot')\n",
      "zephyr_label\n"
     ]
    },
    {
     "name": "stderr",
     "output_type": "stream",
     "text": [
      "100%|██████████| 9/9 [00:00<00:00, 92295.20it/s]\n"
     ]
    },
    {
     "name": "stdout",
     "output_type": "stream",
     "text": [
      "Best Alpha: 0.7566765821902389, Best Combination: ('0 Shot CoT', '2 Shot', '4 Shot', '8 Shot')\n"
     ]
    },
    {
     "data": {
      "text/html": [
       "<div>\n",
       "<style scoped>\n",
       "    .dataframe tbody tr th:only-of-type {\n",
       "        vertical-align: middle;\n",
       "    }\n",
       "\n",
       "    .dataframe tbody tr th {\n",
       "        vertical-align: top;\n",
       "    }\n",
       "\n",
       "    .dataframe thead th {\n",
       "        text-align: right;\n",
       "    }\n",
       "</style>\n",
       "<table border=\"1\" class=\"dataframe\">\n",
       "  <thead>\n",
       "    <tr style=\"text-align: right;\">\n",
       "      <th></th>\n",
       "      <th>model</th>\n",
       "      <th>Alpha</th>\n",
       "      <th>Alpha (rounded)</th>\n",
       "      <th>run_1</th>\n",
       "      <th>run_2</th>\n",
       "      <th>run_3</th>\n",
       "      <th>run_4</th>\n",
       "    </tr>\n",
       "  </thead>\n",
       "  <tbody>\n",
       "    <tr>\n",
       "      <th>0</th>\n",
       "      <td>Falcon-7B-Instruct</td>\n",
       "      <td>0.390766</td>\n",
       "      <td>0.39</td>\n",
       "      <td>0 Shot CoT</td>\n",
       "      <td>2 Shot</td>\n",
       "      <td>4 Shot</td>\n",
       "      <td>8 Shot</td>\n",
       "    </tr>\n",
       "    <tr>\n",
       "      <th>1</th>\n",
       "      <td>FLAN-T5-Base</td>\n",
       "      <td>0.143589</td>\n",
       "      <td>0.14</td>\n",
       "      <td>0 Shot</td>\n",
       "      <td>0 Shot + System Prompt</td>\n",
       "      <td>0 Shot CoT</td>\n",
       "      <td>2 Shot</td>\n",
       "    </tr>\n",
       "    <tr>\n",
       "      <th>2</th>\n",
       "      <td>FLAN-T5-Large</td>\n",
       "      <td>0.203556</td>\n",
       "      <td>0.20</td>\n",
       "      <td>0 Shot</td>\n",
       "      <td>0 Shot + System Prompt</td>\n",
       "      <td>0 Shot CoT</td>\n",
       "      <td>2 Shot</td>\n",
       "    </tr>\n",
       "    <tr>\n",
       "      <th>3</th>\n",
       "      <td>FLAN-T5-XL</td>\n",
       "      <td>0.636538</td>\n",
       "      <td>0.64</td>\n",
       "      <td>0 Shot + System Prompt</td>\n",
       "      <td>0 Shot CoT</td>\n",
       "      <td>2 Shot</td>\n",
       "      <td>4 Shot</td>\n",
       "    </tr>\n",
       "    <tr>\n",
       "      <th>4</th>\n",
       "      <td>Flan-UL2</td>\n",
       "      <td>0.736435</td>\n",
       "      <td>0.74</td>\n",
       "      <td>0 Shot CoT</td>\n",
       "      <td>2 Shot</td>\n",
       "      <td>4 Shot</td>\n",
       "      <td>8 Shot</td>\n",
       "    </tr>\n",
       "    <tr>\n",
       "      <th>5</th>\n",
       "      <td>GPT-3.5 Turbo</td>\n",
       "      <td>0.762789</td>\n",
       "      <td>0.76</td>\n",
       "      <td>0 Shot CoT</td>\n",
       "      <td>2 Shot</td>\n",
       "      <td>4 Shot</td>\n",
       "      <td>8 Shot</td>\n",
       "    </tr>\n",
       "    <tr>\n",
       "      <th>6</th>\n",
       "      <td>GPT-4 Turbo</td>\n",
       "      <td>0.866578</td>\n",
       "      <td>0.87</td>\n",
       "      <td>0 Shot CoT</td>\n",
       "      <td>2 Shot CoT</td>\n",
       "      <td>4 Shot CoT</td>\n",
       "      <td>8 Shot CoT</td>\n",
       "    </tr>\n",
       "    <tr>\n",
       "      <th>7</th>\n",
       "      <td>LLama 2 7B Chat</td>\n",
       "      <td>0.629420</td>\n",
       "      <td>0.63</td>\n",
       "      <td>0 Shot CoT</td>\n",
       "      <td>2 Shot CoT</td>\n",
       "      <td>4 Shot CoT</td>\n",
       "      <td>8 Shot CoT</td>\n",
       "    </tr>\n",
       "    <tr>\n",
       "      <th>8</th>\n",
       "      <td>LLama 2 13B Chat</td>\n",
       "      <td>0.710456</td>\n",
       "      <td>0.71</td>\n",
       "      <td>0 Shot CoT</td>\n",
       "      <td>2 Shot CoT</td>\n",
       "      <td>4 Shot CoT</td>\n",
       "      <td>8 Shot CoT</td>\n",
       "    </tr>\n",
       "    <tr>\n",
       "      <th>9</th>\n",
       "      <td>Mistral-7B-v0.1 Instruct</td>\n",
       "      <td>0.531474</td>\n",
       "      <td>0.53</td>\n",
       "      <td>0 Shot CoT</td>\n",
       "      <td>2 Shot CoT</td>\n",
       "      <td>4 Shot CoT</td>\n",
       "      <td>8 Shot CoT</td>\n",
       "    </tr>\n",
       "    <tr>\n",
       "      <th>10</th>\n",
       "      <td>Mixtral-8x7B Instruct</td>\n",
       "      <td>0.815470</td>\n",
       "      <td>0.82</td>\n",
       "      <td>0 Shot CoT</td>\n",
       "      <td>2 Shot CoT</td>\n",
       "      <td>4 Shot CoT</td>\n",
       "      <td>8 Shot CoT</td>\n",
       "    </tr>\n",
       "    <tr>\n",
       "      <th>11</th>\n",
       "      <td>OpenChat 3.5</td>\n",
       "      <td>0.738564</td>\n",
       "      <td>0.74</td>\n",
       "      <td>0 Shot CoT</td>\n",
       "      <td>2 Shot</td>\n",
       "      <td>4 Shot</td>\n",
       "      <td>8 Shot</td>\n",
       "    </tr>\n",
       "    <tr>\n",
       "      <th>12</th>\n",
       "      <td>Zephyr 7B β</td>\n",
       "      <td>0.756677</td>\n",
       "      <td>0.76</td>\n",
       "      <td>0 Shot CoT</td>\n",
       "      <td>2 Shot</td>\n",
       "      <td>4 Shot</td>\n",
       "      <td>8 Shot</td>\n",
       "    </tr>\n",
       "  </tbody>\n",
       "</table>\n",
       "</div>"
      ],
      "text/plain": [
       "                       model     Alpha  Alpha (rounded)  \\\n",
       "0        Falcon-7B-Instruct   0.390766             0.39   \n",
       "1               FLAN-T5-Base  0.143589             0.14   \n",
       "2             FLAN-T5-Large   0.203556             0.20   \n",
       "3                FLAN-T5-XL   0.636538             0.64   \n",
       "4                   Flan-UL2  0.736435             0.74   \n",
       "5              GPT-3.5 Turbo  0.762789             0.76   \n",
       "6                GPT-4 Turbo  0.866578             0.87   \n",
       "7            LLama 2 7B Chat  0.629420             0.63   \n",
       "8           LLama 2 13B Chat  0.710456             0.71   \n",
       "9   Mistral-7B-v0.1 Instruct  0.531474             0.53   \n",
       "10     Mixtral-8x7B Instruct  0.815470             0.82   \n",
       "11              OpenChat 3.5  0.738564             0.74   \n",
       "12               Zephyr 7B β  0.756677             0.76   \n",
       "\n",
       "                     run_1                   run_2       run_3       run_4  \n",
       "0               0 Shot CoT                  2 Shot      4 Shot      8 Shot  \n",
       "1                   0 Shot  0 Shot + System Prompt  0 Shot CoT      2 Shot  \n",
       "2                   0 Shot  0 Shot + System Prompt  0 Shot CoT      2 Shot  \n",
       "3   0 Shot + System Prompt              0 Shot CoT      2 Shot      4 Shot  \n",
       "4               0 Shot CoT                  2 Shot      4 Shot      8 Shot  \n",
       "5               0 Shot CoT                  2 Shot      4 Shot      8 Shot  \n",
       "6               0 Shot CoT              2 Shot CoT  4 Shot CoT  8 Shot CoT  \n",
       "7               0 Shot CoT              2 Shot CoT  4 Shot CoT  8 Shot CoT  \n",
       "8               0 Shot CoT              2 Shot CoT  4 Shot CoT  8 Shot CoT  \n",
       "9               0 Shot CoT              2 Shot CoT  4 Shot CoT  8 Shot CoT  \n",
       "10              0 Shot CoT              2 Shot CoT  4 Shot CoT  8 Shot CoT  \n",
       "11              0 Shot CoT                  2 Shot      4 Shot      8 Shot  \n",
       "12              0 Shot CoT                  2 Shot      4 Shot      8 Shot  "
      ]
     },
     "execution_count": 15,
     "metadata": {},
     "output_type": "execute_result"
    }
   ],
   "source": [
    "# top 4 runs per model\n",
    "result_data = []\n",
    "for babel_label in runs:\n",
    "    print(babel_label)\n",
    "    df = create_df(babel_label, dfs)\n",
    "    score, combination = compute_krippendorff_alpha_for_k_runs(df, columns, k=4,\n",
    "                                                               verbose=False, columns=columns)\n",
    "    result_data.append(\n",
    "        {'model': name_by_label[babel_label], 'Alpha': score, \"Alpha (rounded)\": round(score, 2), 'run_1': combination[0],\n",
    "         'run_2': combination[1], 'run_3': combination[2], 'run_4': combination[3]})\n",
    "    \n",
    "result_df = pd.DataFrame(result_data)\n",
    "result_df.to_csv('krippendorff_alpha_per_model_4.csv', index=False)\n",
    "result_df"
   ]
  },
  {
   "cell_type": "code",
   "execution_count": null,
   "metadata": {},
   "outputs": [],
   "source": []
  },
  {
   "cell_type": "code",
   "execution_count": null,
   "metadata": {},
   "outputs": [],
   "source": []
  }
 ],
 "metadata": {
  "kernelspec": {
   "display_name": "Python 3",
   "language": "python",
   "name": "python3"
  },
  "language_info": {
   "codemirror_mode": {
    "name": "ipython",
    "version": 3
   },
   "file_extension": ".py",
   "mimetype": "text/x-python",
   "name": "python",
   "nbconvert_exporter": "python",
   "pygments_lexer": "ipython3",
   "version": "3.10.12"
  }
 },
 "nbformat": 4,
 "nbformat_minor": 0
}
