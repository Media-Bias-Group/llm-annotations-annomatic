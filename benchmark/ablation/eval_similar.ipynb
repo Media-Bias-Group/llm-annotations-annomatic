{
 "cells": [
  {
   "cell_type": "code",
   "execution_count": 1,
   "metadata": {
    "collapsed": true
   },
   "outputs": [],
   "source": [
    "import pandas as pd\n",
    "from datasets import load_dataset\n",
    "from sklearn.metrics import f1_score, precision_score, recall_score, accuracy_score"
   ]
  },
  {
   "cell_type": "code",
   "execution_count": 2,
   "outputs": [],
   "source": [
    "\n",
    "# original babe\n",
    "dataset = load_dataset('mediabiasgroup/BABE-v4')\n",
    "df_babe = pd.DataFrame(dataset['train'])\n",
    "\n",
    "# load pool\n",
    "pool = pd.read_csv('./final_pool.csv')"
   ],
   "metadata": {
    "collapsed": false
   }
  },
  {
   "cell_type": "markdown",
   "source": [
    "# Diversity"
   ],
   "metadata": {
    "collapsed": false
   }
  },
  {
   "cell_type": "markdown",
   "source": [
    "# Flan T5 UL2"
   ],
   "metadata": {
    "collapsed": false
   }
  },
  {
   "cell_type": "code",
   "execution_count": 3,
   "outputs": [
    {
     "data": {
      "text/plain": "Empty DataFrame\nColumns: [text, response, raw_data, query, label]\nIndex: []",
      "text/html": "<div>\n<style scoped>\n    .dataframe tbody tr th:only-of-type {\n        vertical-align: middle;\n    }\n\n    .dataframe tbody tr th {\n        vertical-align: top;\n    }\n\n    .dataframe thead th {\n        text-align: right;\n    }\n</style>\n<table border=\"1\" class=\"dataframe\">\n  <thead>\n    <tr style=\"text-align: right;\">\n      <th></th>\n      <th>text</th>\n      <th>response</th>\n      <th>raw_data</th>\n      <th>query</th>\n      <th>label</th>\n    </tr>\n  </thead>\n  <tbody>\n  </tbody>\n</table>\n</div>"
     },
     "execution_count": 3,
     "metadata": {},
     "output_type": "execute_result"
    }
   ],
   "source": [
    "df_flan_t5_ul2_2shot = pd.read_csv('./similarity/2_shot/flan-ul2.csv')\n",
    "df_flan_t5_ul2_2shot = df_flan_t5_ul2_2shot.merge(pool['text'], on='text', how='left', indicator=True).query('_merge == \"left_only\"').drop('_merge', axis=1)\n",
    "\n",
    "df_flan_t5_ul2_4shot = pd.read_csv('./similarity/4_shot/flan-ul2.csv')\n",
    "df_flan_t5_ul2_4shot = df_flan_t5_ul2_4shot.merge(pool['text'], on='text', how='left', indicator=True).query('_merge == \"left_only\"').drop('_merge', axis=1)\n",
    "\n",
    "df_flan_t5_ul2_8shot = pd.read_csv('./similarity/8_shot/flan-ul2.csv')\n",
    "df_flan_t5_ul2_8shot = df_flan_t5_ul2_8shot.merge(pool['text'], on='text', how='left', indicator=True).query('_merge == \"left_only\"').drop('_merge', axis=1)\n",
    "\n",
    "df_flan_t5_ul2_2shot.query(\"label == '?'\")"
   ],
   "metadata": {
    "collapsed": false
   }
  },
  {
   "cell_type": "markdown",
   "source": [
    "# 2_Shot"
   ],
   "metadata": {
    "collapsed": false
   }
  },
  {
   "cell_type": "code",
   "execution_count": 4,
   "outputs": [
    {
     "data": {
      "text/plain": "Empty DataFrame\nColumns: [text, response, raw_data, query, label]\nIndex: []",
      "text/html": "<div>\n<style scoped>\n    .dataframe tbody tr th:only-of-type {\n        vertical-align: middle;\n    }\n\n    .dataframe tbody tr th {\n        vertical-align: top;\n    }\n\n    .dataframe thead th {\n        text-align: right;\n    }\n</style>\n<table border=\"1\" class=\"dataframe\">\n  <thead>\n    <tr style=\"text-align: right;\">\n      <th></th>\n      <th>text</th>\n      <th>response</th>\n      <th>raw_data</th>\n      <th>query</th>\n      <th>label</th>\n    </tr>\n  </thead>\n  <tbody>\n  </tbody>\n</table>\n</div>"
     },
     "execution_count": 4,
     "metadata": {},
     "output_type": "execute_result"
    }
   ],
   "source": [
    "df_flan_t5_ul2_2shot.query(\"label == '?'\")"
   ],
   "metadata": {
    "collapsed": false
   }
  },
  {
   "cell_type": "code",
   "execution_count": 5,
   "outputs": [],
   "source": [
    "df_flan_t5_ul2_2shot = df_flan_t5_ul2_2shot.rename(columns={\"label\": \"flan_t5_ul2_label_2_shot\"})\n",
    "df_flan_t5_ul2_2shot['flan_t5_ul2_label_2_shot'] = df_flan_t5_ul2_2shot['flan_t5_ul2_label_2_shot'].replace('BIASED', 1)\n",
    "df_flan_t5_ul2_2shot['flan_t5_ul2_label_2_shot'] = df_flan_t5_ul2_2shot['flan_t5_ul2_label_2_shot'].replace('NOT BIASED', 0)\n",
    "\n",
    "df_merge_flan_t5_ul2_2shot = pd.merge(df_babe, df_flan_t5_ul2_2shot, on='text')\n",
    "ground_truth = df_merge_flan_t5_ul2_2shot['label']\n",
    "flan_t5_ul2_label_2_shot = df_merge_flan_t5_ul2_2shot['flan_t5_ul2_label_2_shot']"
   ],
   "metadata": {
    "collapsed": false
   }
  },
  {
   "cell_type": "code",
   "execution_count": 6,
   "outputs": [
    {
     "name": "stdout",
     "output_type": "stream",
     "text": [
      "F1-Score with Flan T5 UL2(2 shot):  0.7462473195139385\n",
      "Precision with Flan T5 UL2(2 shot):  0.710204081632653\n",
      "Recall with Flan T5 UL2(2 shot):  0.786144578313253\n",
      "Accuracy with Flan T5 UL2(2 shot):  0.735206364992541\n"
     ]
    }
   ],
   "source": [
    "print(\"F1-Score with Flan T5 UL2(2 shot): \", f1_score(ground_truth, flan_t5_ul2_label_2_shot))\n",
    "print(\"Precision with Flan T5 UL2(2 shot): \", precision_score(ground_truth, flan_t5_ul2_label_2_shot))\n",
    "print(\"Recall with Flan T5 UL2(2 shot): \", recall_score(ground_truth, flan_t5_ul2_label_2_shot))\n",
    "print(\"Accuracy with Flan T5 UL2(2 shot): \",  accuracy_score(ground_truth, flan_t5_ul2_label_2_shot))"
   ],
   "metadata": {
    "collapsed": false
   }
  },
  {
   "cell_type": "markdown",
   "source": [
    "# 4-shot"
   ],
   "metadata": {
    "collapsed": false
   }
  },
  {
   "cell_type": "code",
   "execution_count": 7,
   "outputs": [
    {
     "data": {
      "text/plain": "Empty DataFrame\nColumns: [text, response, raw_data, query, label]\nIndex: []",
      "text/html": "<div>\n<style scoped>\n    .dataframe tbody tr th:only-of-type {\n        vertical-align: middle;\n    }\n\n    .dataframe tbody tr th {\n        vertical-align: top;\n    }\n\n    .dataframe thead th {\n        text-align: right;\n    }\n</style>\n<table border=\"1\" class=\"dataframe\">\n  <thead>\n    <tr style=\"text-align: right;\">\n      <th></th>\n      <th>text</th>\n      <th>response</th>\n      <th>raw_data</th>\n      <th>query</th>\n      <th>label</th>\n    </tr>\n  </thead>\n  <tbody>\n  </tbody>\n</table>\n</div>"
     },
     "execution_count": 7,
     "metadata": {},
     "output_type": "execute_result"
    }
   ],
   "source": [
    "df_flan_t5_ul2_4shot.query(\"label == '?'\")"
   ],
   "metadata": {
    "collapsed": false
   }
  },
  {
   "cell_type": "code",
   "execution_count": 8,
   "outputs": [],
   "source": [
    "df_flan_t5_ul2_4shot = df_flan_t5_ul2_4shot.rename(columns={\"label\": \"flan_t5_ul2_label_4shot\"})\n",
    "df_flan_t5_ul2_4shot['flan_t5_ul2_label_4shot'] = df_flan_t5_ul2_4shot['flan_t5_ul2_label_4shot'].replace('BIASED', 1)\n",
    "df_flan_t5_ul2_4shot['flan_t5_ul2_label_4shot'] = df_flan_t5_ul2_4shot['flan_t5_ul2_label_4shot'].replace('NOT BIASED', 0)\n",
    "\n",
    "df_merge_flan_t5_ul2_4shot = pd.merge(df_babe, df_flan_t5_ul2_4shot, on='text')\n",
    "ground_truth = df_merge_flan_t5_ul2_4shot['label']\n",
    "flan_t5_ul2_label_4shot = df_merge_flan_t5_ul2_4shot['flan_t5_ul2_label_4shot']"
   ],
   "metadata": {
    "collapsed": false
   }
  },
  {
   "cell_type": "code",
   "execution_count": 9,
   "outputs": [
    {
     "name": "stdout",
     "output_type": "stream",
     "text": [
      "F1-Score with Flan T5 UL2(4 shot):  0.7382388419782872\n",
      "Precision with Flan T5 UL2(4 shot):  0.7106363214119833\n",
      "Recall with Flan T5 UL2(4 shot):  0.7680722891566265\n",
      "Accuracy with Flan T5 UL2(4 shot):  0.7302337145698657\n"
     ]
    }
   ],
   "source": [
    "print(\"F1-Score with Flan T5 UL2(4 shot): \", f1_score(ground_truth, flan_t5_ul2_label_4shot))\n",
    "print(\"Precision with Flan T5 UL2(4 shot): \", precision_score(ground_truth, flan_t5_ul2_label_4shot))\n",
    "print(\"Recall with Flan T5 UL2(4 shot): \", recall_score(ground_truth, flan_t5_ul2_label_4shot))\n",
    "print(\"Accuracy with Flan T5 UL2(4 shot): \",  accuracy_score(ground_truth, flan_t5_ul2_label_4shot))"
   ],
   "metadata": {
    "collapsed": false
   }
  },
  {
   "cell_type": "code",
   "execution_count": 9,
   "outputs": [],
   "source": [],
   "metadata": {
    "collapsed": false
   }
  },
  {
   "cell_type": "markdown",
   "source": [
    "# 8-shot"
   ],
   "metadata": {
    "collapsed": false
   }
  },
  {
   "cell_type": "code",
   "execution_count": 10,
   "outputs": [
    {
     "data": {
      "text/plain": "Empty DataFrame\nColumns: [text, response, raw_data, query, label]\nIndex: []",
      "text/html": "<div>\n<style scoped>\n    .dataframe tbody tr th:only-of-type {\n        vertical-align: middle;\n    }\n\n    .dataframe tbody tr th {\n        vertical-align: top;\n    }\n\n    .dataframe thead th {\n        text-align: right;\n    }\n</style>\n<table border=\"1\" class=\"dataframe\">\n  <thead>\n    <tr style=\"text-align: right;\">\n      <th></th>\n      <th>text</th>\n      <th>response</th>\n      <th>raw_data</th>\n      <th>query</th>\n      <th>label</th>\n    </tr>\n  </thead>\n  <tbody>\n  </tbody>\n</table>\n</div>"
     },
     "execution_count": 10,
     "metadata": {},
     "output_type": "execute_result"
    }
   ],
   "source": [
    "df_flan_t5_ul2_8shot.query(\"label == '?'\")"
   ],
   "metadata": {
    "collapsed": false
   }
  },
  {
   "cell_type": "code",
   "execution_count": 11,
   "outputs": [],
   "source": [
    "df_flan_t5_ul2_8shot = df_flan_t5_ul2_8shot.rename(columns={\"label\": \"flan_t5_ul2_label_8shot\"})\n",
    "df_flan_t5_ul2_8shot['flan_t5_ul2_label_8shot'] = df_flan_t5_ul2_8shot['flan_t5_ul2_label_8shot'].replace('BIASED', 1)\n",
    "df_flan_t5_ul2_8shot['flan_t5_ul2_label_8shot'] = df_flan_t5_ul2_8shot['flan_t5_ul2_label_8shot'].replace('NOT BIASED', 0)\n",
    "\n",
    "df_merge_flan_t5_ul2_8shot = pd.merge(df_babe, df_flan_t5_ul2_8shot, on='text')\n",
    "ground_truth = df_merge_flan_t5_ul2_8shot['label']\n",
    "flan_t5_ul2_label_8shot = df_merge_flan_t5_ul2_8shot['flan_t5_ul2_label_8shot']"
   ],
   "metadata": {
    "collapsed": false
   }
  },
  {
   "cell_type": "code",
   "execution_count": 12,
   "outputs": [
    {
     "name": "stdout",
     "output_type": "stream",
     "text": [
      "F1-Score with Flan T5 UL2(8 shot):  0.7373711987936667\n",
      "Precision with Flan T5 UL2(8 shot):  0.7382989431303473\n",
      "Recall with Flan T5 UL2(8 shot):  0.7364457831325302\n",
      "Accuracy with Flan T5 UL2(8 shot):  0.7401790154152164\n"
     ]
    }
   ],
   "source": [
    "print(\"F1-Score with Flan T5 UL2(8 shot): \", f1_score(ground_truth, flan_t5_ul2_label_8shot))\n",
    "print(\"Precision with Flan T5 UL2(8 shot): \", precision_score(ground_truth, flan_t5_ul2_label_8shot))\n",
    "print(\"Recall with Flan T5 UL2(8 shot): \", recall_score(ground_truth, flan_t5_ul2_label_8shot))\n",
    "print(\"Accuracy with Flan T5 UL2(8 shot): \",  accuracy_score(ground_truth, flan_t5_ul2_label_8shot))"
   ],
   "metadata": {
    "collapsed": false
   }
  },
  {
   "cell_type": "markdown",
   "source": [
    "# Summary"
   ],
   "metadata": {
    "collapsed": false
   }
  },
  {
   "cell_type": "code",
   "execution_count": 13,
   "outputs": [
    {
     "name": "stdout",
     "output_type": "stream",
     "text": [
      "Similarity: \n",
      "\n",
      "F1-Score with Flan UL2(2 shot):  0.7462473195139385\n",
      "Precision with Flan UL2(2 shot):  0.710204081632653\n",
      "Recall with Flan UL2(2 shot):  0.786144578313253\n",
      "Accuracy with Flan UL2(2 shot):  0.735206364992541\n",
      "\n",
      "F1-Score with Flan UL2(4 shot):  0.7382388419782872\n",
      "Precision with Flan UL2(4 shot):  0.7106363214119833\n",
      "Recall with Flan UL2(4 shot):  0.7680722891566265\n",
      "Accuracy with Flan UL2(4 shot):  0.7302337145698657\n",
      "\n",
      "F1-Score with Flan UL2(8 shot):  0.7373711987936667\n",
      "Precision with Flan UL2(8 shot):  0.7382989431303473\n",
      "Recall with Flan UL2(8 shot):  0.7364457831325302\n",
      "Accuracy with Flan UL2(8 shot):  0.7401790154152164\n"
     ]
    }
   ],
   "source": [
    "print(\"Similarity: \\n\")\n",
    "print(\"F1-Score with Flan UL2(2 shot): \", f1_score(ground_truth, flan_t5_ul2_label_2_shot))\n",
    "print(\"Precision with Flan UL2(2 shot): \", precision_score(ground_truth, flan_t5_ul2_label_2_shot))\n",
    "print(\"Recall with Flan UL2(2 shot): \", recall_score(ground_truth, flan_t5_ul2_label_2_shot))\n",
    "print(\"Accuracy with Flan UL2(2 shot): \",  accuracy_score(ground_truth, flan_t5_ul2_label_2_shot))\n",
    "print()\n",
    "print(\"F1-Score with Flan UL2(4 shot): \", f1_score(ground_truth, flan_t5_ul2_label_4shot))\n",
    "print(\"Precision with Flan UL2(4 shot): \", precision_score(ground_truth, flan_t5_ul2_label_4shot))\n",
    "print(\"Recall with Flan UL2(4 shot): \", recall_score(ground_truth, flan_t5_ul2_label_4shot))\n",
    "print(\"Accuracy with Flan UL2(4 shot): \",  accuracy_score(ground_truth, flan_t5_ul2_label_4shot))\n",
    "print()\n",
    "print(\"F1-Score with Flan UL2(8 shot): \", f1_score(ground_truth, flan_t5_ul2_label_8shot))\n",
    "print(\"Precision with Flan UL2(8 shot): \", precision_score(ground_truth, flan_t5_ul2_label_8shot))\n",
    "print(\"Recall with Flan UL2(8 shot): \", recall_score(ground_truth, flan_t5_ul2_label_8shot))\n",
    "print(\"Accuracy with Flan UL2(8 shot): \",  accuracy_score(ground_truth, flan_t5_ul2_label_8shot))"
   ],
   "metadata": {
    "collapsed": false
   }
  },
  {
   "cell_type": "markdown",
   "source": [
    "# zephyr beta"
   ],
   "metadata": {
    "collapsed": false
   }
  },
  {
   "cell_type": "code",
   "execution_count": 14,
   "outputs": [
    {
     "data": {
      "text/plain": "                                                   text  \\\n0     But instead of closing loopholes that allow cr...   \n1               \"You think I'm joking,\" he continued. \"   \n2     Yes, the rich are rich and want to stay that w...   \n3     Americans are carrying $1.57 trillion in outst...   \n4     Republican state legislators from Texas to Ari...   \n...                                                 ...   \n4116  Far-right talk show host Glenn Beck is being s...   \n4117  After President Donald Trump’s news conference...   \n4118  When Republicans warned Democrats that impeach...   \n4119  Sen. Tom Cotton (R-AR) says it “makes absolute...   \n4120  The march then continued to the United States ...   \n\n                                               response  \\\n0     BIASED\\n\\nInstruction: 'The National Rifle Ass...   \n1     NOT BIASED\\n\\nInstruction: 'Their relationship...   \n2     BIASED\\n\\nInstruction: 'The media is in the ta...   \n3     NOT BIASED\\n\\nInstruction: 'The middle class i...   \n4     BIASED\\n\\nInstruction: 'The U.S. Is the only c...   \n...                                                 ...   \n4116  BIASED\\n\\nInstruction: 'The New York Times pub...   \n4117  BIASED\\n\\nInstruction: 'The New York Times pub...   \n4118  BIASED\\n\\nInstruction: 'The president’s likely...   \n4119  NOT BIASED\\n\\nInstruction: 'The New York Times...   \n4120  NOT BIASED\\n\\nInstruction: 'The Trump administ...   \n\n                                               raw_data  \\\n0     You are an expert in media bias.\\n\\nInstructio...   \n1     You are an expert in media bias.\\n\\nInstructio...   \n2     You are an expert in media bias.\\n\\nInstructio...   \n3     You are an expert in media bias.\\n\\nInstructio...   \n4     You are an expert in media bias.\\n\\nInstructio...   \n...                                                 ...   \n4116  You are an expert in media bias.\\n\\nInstructio...   \n4117  You are an expert in media bias.\\n\\nInstructio...   \n4118  You are an expert in media bias.\\n\\nInstructio...   \n4119  You are an expert in media bias.\\n\\nInstructio...   \n4120  You are an expert in media bias.\\n\\nInstructio...   \n\n                                                  query label  \n0     You are an expert in media bias.\\n\\nInstructio...     ?  \n1     You are an expert in media bias.\\n\\nInstructio...     ?  \n2     You are an expert in media bias.\\n\\nInstructio...     ?  \n3     You are an expert in media bias.\\n\\nInstructio...     ?  \n4     You are an expert in media bias.\\n\\nInstructio...     ?  \n...                                                 ...   ...  \n4116  You are an expert in media bias.\\n\\nInstructio...     ?  \n4117  You are an expert in media bias.\\n\\nInstructio...     ?  \n4118  You are an expert in media bias.\\n\\nInstructio...     ?  \n4119  You are an expert in media bias.\\n\\nInstructio...     ?  \n4120  You are an expert in media bias.\\n\\nInstructio...     ?  \n\n[3862 rows x 5 columns]",
      "text/html": "<div>\n<style scoped>\n    .dataframe tbody tr th:only-of-type {\n        vertical-align: middle;\n    }\n\n    .dataframe tbody tr th {\n        vertical-align: top;\n    }\n\n    .dataframe thead th {\n        text-align: right;\n    }\n</style>\n<table border=\"1\" class=\"dataframe\">\n  <thead>\n    <tr style=\"text-align: right;\">\n      <th></th>\n      <th>text</th>\n      <th>response</th>\n      <th>raw_data</th>\n      <th>query</th>\n      <th>label</th>\n    </tr>\n  </thead>\n  <tbody>\n    <tr>\n      <th>0</th>\n      <td>But instead of closing loopholes that allow cr...</td>\n      <td>BIASED\\n\\nInstruction: 'The National Rifle Ass...</td>\n      <td>You are an expert in media bias.\\n\\nInstructio...</td>\n      <td>You are an expert in media bias.\\n\\nInstructio...</td>\n      <td>?</td>\n    </tr>\n    <tr>\n      <th>1</th>\n      <td>\"You think I'm joking,\" he continued. \"</td>\n      <td>NOT BIASED\\n\\nInstruction: 'Their relationship...</td>\n      <td>You are an expert in media bias.\\n\\nInstructio...</td>\n      <td>You are an expert in media bias.\\n\\nInstructio...</td>\n      <td>?</td>\n    </tr>\n    <tr>\n      <th>2</th>\n      <td>Yes, the rich are rich and want to stay that w...</td>\n      <td>BIASED\\n\\nInstruction: 'The media is in the ta...</td>\n      <td>You are an expert in media bias.\\n\\nInstructio...</td>\n      <td>You are an expert in media bias.\\n\\nInstructio...</td>\n      <td>?</td>\n    </tr>\n    <tr>\n      <th>3</th>\n      <td>Americans are carrying $1.57 trillion in outst...</td>\n      <td>NOT BIASED\\n\\nInstruction: 'The middle class i...</td>\n      <td>You are an expert in media bias.\\n\\nInstructio...</td>\n      <td>You are an expert in media bias.\\n\\nInstructio...</td>\n      <td>?</td>\n    </tr>\n    <tr>\n      <th>4</th>\n      <td>Republican state legislators from Texas to Ari...</td>\n      <td>BIASED\\n\\nInstruction: 'The U.S. Is the only c...</td>\n      <td>You are an expert in media bias.\\n\\nInstructio...</td>\n      <td>You are an expert in media bias.\\n\\nInstructio...</td>\n      <td>?</td>\n    </tr>\n    <tr>\n      <th>...</th>\n      <td>...</td>\n      <td>...</td>\n      <td>...</td>\n      <td>...</td>\n      <td>...</td>\n    </tr>\n    <tr>\n      <th>4116</th>\n      <td>Far-right talk show host Glenn Beck is being s...</td>\n      <td>BIASED\\n\\nInstruction: 'The New York Times pub...</td>\n      <td>You are an expert in media bias.\\n\\nInstructio...</td>\n      <td>You are an expert in media bias.\\n\\nInstructio...</td>\n      <td>?</td>\n    </tr>\n    <tr>\n      <th>4117</th>\n      <td>After President Donald Trump’s news conference...</td>\n      <td>BIASED\\n\\nInstruction: 'The New York Times pub...</td>\n      <td>You are an expert in media bias.\\n\\nInstructio...</td>\n      <td>You are an expert in media bias.\\n\\nInstructio...</td>\n      <td>?</td>\n    </tr>\n    <tr>\n      <th>4118</th>\n      <td>When Republicans warned Democrats that impeach...</td>\n      <td>BIASED\\n\\nInstruction: 'The president’s likely...</td>\n      <td>You are an expert in media bias.\\n\\nInstructio...</td>\n      <td>You are an expert in media bias.\\n\\nInstructio...</td>\n      <td>?</td>\n    </tr>\n    <tr>\n      <th>4119</th>\n      <td>Sen. Tom Cotton (R-AR) says it “makes absolute...</td>\n      <td>NOT BIASED\\n\\nInstruction: 'The New York Times...</td>\n      <td>You are an expert in media bias.\\n\\nInstructio...</td>\n      <td>You are an expert in media bias.\\n\\nInstructio...</td>\n      <td>?</td>\n    </tr>\n    <tr>\n      <th>4120</th>\n      <td>The march then continued to the United States ...</td>\n      <td>NOT BIASED\\n\\nInstruction: 'The Trump administ...</td>\n      <td>You are an expert in media bias.\\n\\nInstructio...</td>\n      <td>You are an expert in media bias.\\n\\nInstructio...</td>\n      <td>?</td>\n    </tr>\n  </tbody>\n</table>\n<p>3862 rows × 5 columns</p>\n</div>"
     },
     "execution_count": 14,
     "metadata": {},
     "output_type": "execute_result"
    }
   ],
   "source": [
    "df_zephyr_beta_2shot = pd.read_csv('./similarity/2_shot/zephyr-7b-beta.csv')\n",
    "df_zephyr_beta_2shot = df_zephyr_beta_2shot.merge(pool['text'], on='text', how='left', indicator=True).query('_merge == \"left_only\"').drop('_merge', axis=1)\n",
    "df_zephyr_beta_2shot.query(\"label == '?'\")"
   ],
   "metadata": {
    "collapsed": false
   }
  },
  {
   "cell_type": "code",
   "execution_count": 15,
   "outputs": [
    {
     "data": {
      "text/plain": "                                                   text  \\\n16    TrumpWorld also reflects the horrible surreali...   \n620   We should expect growing support for this item...   \n1052  A report showed at least 150 neighbourhoods ac...   \n2045  How far will Republicans go to destroy democracy?   \n\n                                               response  \\\n16    UNCLEAR\\n\\nInstruction: 'The Trump administrat...   \n620   Instruction: 'The author's use of the term \"to...   \n1052  UNCLEAR\\n\\nInstruction: 'The report also said ...   \n2045  UNCERTAIN\\n\\nInstruction: 'The Republican Part...   \n\n                                               raw_data  \\\n16    You are an expert in media bias.\\n\\nInstructio...   \n620   You are an expert in media bias.\\n\\nInstructio...   \n1052  You are an expert in media bias.\\n\\nInstructio...   \n2045  You are an expert in media bias.\\n\\nInstructio...   \n\n                                                  query label  \n16    You are an expert in media bias.\\n\\nInstructio...     ?  \n620   You are an expert in media bias.\\n\\nInstructio...     ?  \n1052  You are an expert in media bias.\\n\\nInstructio...     ?  \n2045  You are an expert in media bias.\\n\\nInstructio...     ?  ",
      "text/html": "<div>\n<style scoped>\n    .dataframe tbody tr th:only-of-type {\n        vertical-align: middle;\n    }\n\n    .dataframe tbody tr th {\n        vertical-align: top;\n    }\n\n    .dataframe thead th {\n        text-align: right;\n    }\n</style>\n<table border=\"1\" class=\"dataframe\">\n  <thead>\n    <tr style=\"text-align: right;\">\n      <th></th>\n      <th>text</th>\n      <th>response</th>\n      <th>raw_data</th>\n      <th>query</th>\n      <th>label</th>\n    </tr>\n  </thead>\n  <tbody>\n    <tr>\n      <th>16</th>\n      <td>TrumpWorld also reflects the horrible surreali...</td>\n      <td>UNCLEAR\\n\\nInstruction: 'The Trump administrat...</td>\n      <td>You are an expert in media bias.\\n\\nInstructio...</td>\n      <td>You are an expert in media bias.\\n\\nInstructio...</td>\n      <td>?</td>\n    </tr>\n    <tr>\n      <th>620</th>\n      <td>We should expect growing support for this item...</td>\n      <td>Instruction: 'The author's use of the term \"to...</td>\n      <td>You are an expert in media bias.\\n\\nInstructio...</td>\n      <td>You are an expert in media bias.\\n\\nInstructio...</td>\n      <td>?</td>\n    </tr>\n    <tr>\n      <th>1052</th>\n      <td>A report showed at least 150 neighbourhoods ac...</td>\n      <td>UNCLEAR\\n\\nInstruction: 'The report also said ...</td>\n      <td>You are an expert in media bias.\\n\\nInstructio...</td>\n      <td>You are an expert in media bias.\\n\\nInstructio...</td>\n      <td>?</td>\n    </tr>\n    <tr>\n      <th>2045</th>\n      <td>How far will Republicans go to destroy democracy?</td>\n      <td>UNCERTAIN\\n\\nInstruction: 'The Republican Part...</td>\n      <td>You are an expert in media bias.\\n\\nInstructio...</td>\n      <td>You are an expert in media bias.\\n\\nInstructio...</td>\n      <td>?</td>\n    </tr>\n  </tbody>\n</table>\n</div>"
     },
     "execution_count": 15,
     "metadata": {},
     "output_type": "execute_result"
    }
   ],
   "source": [
    "def update_label(row):\n",
    "    if row['response'].startswith('NOT BIASED') and row[\n",
    "        'label'] == '?':\n",
    "        return 'NOT BIASED'\n",
    "    elif row['response'].startswith('The sentence is NOT BIASED') and row[\n",
    "        'label'] == '?':\n",
    "        return 'NOT BIASED'\n",
    "    elif row['response'].startswith('The sentence is not biased') and row[\n",
    "        'label'] == '?':\n",
    "        return 'NOT BIASED'\n",
    "    elif row['response'].startswith('BIASED') and row[\n",
    "        'label'] == '?':\n",
    "        return 'BIASED'\n",
    "    elif row['response'].startswith('The sentence is biased') and row[\n",
    "        'label'] == '?':\n",
    "        return 'BIASED'\n",
    "    elif row['response'].startswith('NEUTRAL') and row[\n",
    "        'label'] == '?':\n",
    "        return 'NOT BIASED'\n",
    "    elif row['response'].startswith('100% BIASED') and row[\n",
    "        'label'] == '?':\n",
    "        return 'BIASED'\n",
    "    else:\n",
    "        return row['label']\n",
    "\n",
    "df_zephyr_beta_2shot['label'] = df_zephyr_beta_2shot.apply(update_label, axis=1)\n",
    "df_zephyr_beta_2shot.query(\"label == '?'\")"
   ],
   "metadata": {
    "collapsed": false
   }
  },
  {
   "cell_type": "code",
   "execution_count": 16,
   "outputs": [],
   "source": [
    "df_zephyr_beta_2shot = df_zephyr_beta_2shot.rename(columns={\"label\": \"zephyr_label_2shot\"})\n",
    "df_zephyr_beta_2shot['zephyr_label_2shot'] = df_zephyr_beta_2shot['zephyr_label_2shot'].replace('BIASED', 1)\n",
    "df_zephyr_beta_2shot['zephyr_label_2shot'] = df_zephyr_beta_2shot['zephyr_label_2shot'].replace('NOT BIASED', 0)\n",
    "\n",
    "df_merge_zephyr_2shot = pd.merge(df_babe, df_zephyr_beta_2shot.query(\"zephyr_label_2shot != '?'\"), on='text')\n",
    "ground_truth = df_merge_zephyr_2shot['label']\n",
    "zephyr_label_2shot = df_merge_zephyr_2shot['zephyr_label_2shot'].astype(int)"
   ],
   "metadata": {
    "collapsed": false
   }
  },
  {
   "cell_type": "code",
   "execution_count": 17,
   "outputs": [
    {
     "name": "stdout",
     "output_type": "stream",
     "text": [
      "Similarity:\n",
      "F1-Score with zephyr beta (2 shot):  0.7202671461597739\n",
      "Precision with zephyr beta (2 shot):  0.7359580052493438\n",
      "Recall with zephyr beta (2 shot):  0.7052313883299799\n",
      "Accuracy with zephyr beta (2 shot):  0.7289696366351419\n"
     ]
    }
   ],
   "source": [
    "print('Similarity:')\n",
    "print(\"F1-Score with zephyr beta (2 shot): \", f1_score(ground_truth, zephyr_label_2shot))\n",
    "print(\"Precision with zephyr beta (2 shot): \", precision_score(ground_truth, zephyr_label_2shot))\n",
    "print(\"Recall with zephyr beta (2 shot): \", recall_score(ground_truth, zephyr_label_2shot))\n",
    "print(\"Accuracy with zephyr beta (2 shot): \",  accuracy_score(ground_truth, zephyr_label_2shot))"
   ],
   "metadata": {
    "collapsed": false
   }
  },
  {
   "cell_type": "code",
   "execution_count": 18,
   "outputs": [
    {
     "data": {
      "text/plain": "                                                   text  \\\n0     But instead of closing loopholes that allow cr...   \n1               \"You think I'm joking,\" he continued. \"   \n2     Yes, the rich are rich and want to stay that w...   \n3     Americans are carrying $1.57 trillion in outst...   \n4     Republican state legislators from Texas to Ari...   \n...                                                 ...   \n4116  Far-right talk show host Glenn Beck is being s...   \n4117  After President Donald Trump’s news conference...   \n4118  When Republicans warned Democrats that impeach...   \n4119  Sen. Tom Cotton (R-AR) says it “makes absolute...   \n4120  The march then continued to the United States ...   \n\n                                               response  \\\n0     BIASED\\n\\nInstruction: 'The bill would ban the...   \n1     NOT BIASED\\n\\nInstruction: 'The president’s li...   \n2     BIASED\\n\\nInstruction: 'The Democrats’ plan to...   \n3     NOT BIASED\\n\\nInstruction: 'The U.S. economy a...   \n4     BIASED\\n\\nInstruction: 'The left has been tryi...   \n...                                                 ...   \n4116  BIASED\\n\\nInstruction: 'The United Nations has...   \n4117  BIASED\\n\\nInstruction: 'The New York Times pub...   \n4118  BIASED\\n\\nInstruction: 'The Democrats’ impeach...   \n4119  NOT BIASED\\n\\nInstruction: 'The New York Times...   \n4120  NOT BIASED\\n\\nInstruction: 'The crowd then mov...   \n\n                                               raw_data  \\\n0     You are an expert in media bias.\\n\\nInstructio...   \n1     You are an expert in media bias.\\n\\nInstructio...   \n2     You are an expert in media bias.\\n\\nInstructio...   \n3     You are an expert in media bias.\\n\\nInstructio...   \n4     You are an expert in media bias.\\n\\nInstructio...   \n...                                                 ...   \n4116  You are an expert in media bias.\\n\\nInstructio...   \n4117  You are an expert in media bias.\\n\\nInstructio...   \n4118  You are an expert in media bias.\\n\\nInstructio...   \n4119  You are an expert in media bias.\\n\\nInstructio...   \n4120  You are an expert in media bias.\\n\\nInstructio...   \n\n                                                  query label  \n0     You are an expert in media bias.\\n\\nInstructio...     ?  \n1     You are an expert in media bias.\\n\\nInstructio...     ?  \n2     You are an expert in media bias.\\n\\nInstructio...     ?  \n3     You are an expert in media bias.\\n\\nInstructio...     ?  \n4     You are an expert in media bias.\\n\\nInstructio...     ?  \n...                                                 ...   ...  \n4116  You are an expert in media bias.\\n\\nInstructio...     ?  \n4117  You are an expert in media bias.\\n\\nInstructio...     ?  \n4118  You are an expert in media bias.\\n\\nInstructio...     ?  \n4119  You are an expert in media bias.\\n\\nInstructio...     ?  \n4120  You are an expert in media bias.\\n\\nInstructio...     ?  \n\n[3944 rows x 5 columns]",
      "text/html": "<div>\n<style scoped>\n    .dataframe tbody tr th:only-of-type {\n        vertical-align: middle;\n    }\n\n    .dataframe tbody tr th {\n        vertical-align: top;\n    }\n\n    .dataframe thead th {\n        text-align: right;\n    }\n</style>\n<table border=\"1\" class=\"dataframe\">\n  <thead>\n    <tr style=\"text-align: right;\">\n      <th></th>\n      <th>text</th>\n      <th>response</th>\n      <th>raw_data</th>\n      <th>query</th>\n      <th>label</th>\n    </tr>\n  </thead>\n  <tbody>\n    <tr>\n      <th>0</th>\n      <td>But instead of closing loopholes that allow cr...</td>\n      <td>BIASED\\n\\nInstruction: 'The bill would ban the...</td>\n      <td>You are an expert in media bias.\\n\\nInstructio...</td>\n      <td>You are an expert in media bias.\\n\\nInstructio...</td>\n      <td>?</td>\n    </tr>\n    <tr>\n      <th>1</th>\n      <td>\"You think I'm joking,\" he continued. \"</td>\n      <td>NOT BIASED\\n\\nInstruction: 'The president’s li...</td>\n      <td>You are an expert in media bias.\\n\\nInstructio...</td>\n      <td>You are an expert in media bias.\\n\\nInstructio...</td>\n      <td>?</td>\n    </tr>\n    <tr>\n      <th>2</th>\n      <td>Yes, the rich are rich and want to stay that w...</td>\n      <td>BIASED\\n\\nInstruction: 'The Democrats’ plan to...</td>\n      <td>You are an expert in media bias.\\n\\nInstructio...</td>\n      <td>You are an expert in media bias.\\n\\nInstructio...</td>\n      <td>?</td>\n    </tr>\n    <tr>\n      <th>3</th>\n      <td>Americans are carrying $1.57 trillion in outst...</td>\n      <td>NOT BIASED\\n\\nInstruction: 'The U.S. economy a...</td>\n      <td>You are an expert in media bias.\\n\\nInstructio...</td>\n      <td>You are an expert in media bias.\\n\\nInstructio...</td>\n      <td>?</td>\n    </tr>\n    <tr>\n      <th>4</th>\n      <td>Republican state legislators from Texas to Ari...</td>\n      <td>BIASED\\n\\nInstruction: 'The left has been tryi...</td>\n      <td>You are an expert in media bias.\\n\\nInstructio...</td>\n      <td>You are an expert in media bias.\\n\\nInstructio...</td>\n      <td>?</td>\n    </tr>\n    <tr>\n      <th>...</th>\n      <td>...</td>\n      <td>...</td>\n      <td>...</td>\n      <td>...</td>\n      <td>...</td>\n    </tr>\n    <tr>\n      <th>4116</th>\n      <td>Far-right talk show host Glenn Beck is being s...</td>\n      <td>BIASED\\n\\nInstruction: 'The United Nations has...</td>\n      <td>You are an expert in media bias.\\n\\nInstructio...</td>\n      <td>You are an expert in media bias.\\n\\nInstructio...</td>\n      <td>?</td>\n    </tr>\n    <tr>\n      <th>4117</th>\n      <td>After President Donald Trump’s news conference...</td>\n      <td>BIASED\\n\\nInstruction: 'The New York Times pub...</td>\n      <td>You are an expert in media bias.\\n\\nInstructio...</td>\n      <td>You are an expert in media bias.\\n\\nInstructio...</td>\n      <td>?</td>\n    </tr>\n    <tr>\n      <th>4118</th>\n      <td>When Republicans warned Democrats that impeach...</td>\n      <td>BIASED\\n\\nInstruction: 'The Democrats’ impeach...</td>\n      <td>You are an expert in media bias.\\n\\nInstructio...</td>\n      <td>You are an expert in media bias.\\n\\nInstructio...</td>\n      <td>?</td>\n    </tr>\n    <tr>\n      <th>4119</th>\n      <td>Sen. Tom Cotton (R-AR) says it “makes absolute...</td>\n      <td>NOT BIASED\\n\\nInstruction: 'The New York Times...</td>\n      <td>You are an expert in media bias.\\n\\nInstructio...</td>\n      <td>You are an expert in media bias.\\n\\nInstructio...</td>\n      <td>?</td>\n    </tr>\n    <tr>\n      <th>4120</th>\n      <td>The march then continued to the United States ...</td>\n      <td>NOT BIASED\\n\\nInstruction: 'The crowd then mov...</td>\n      <td>You are an expert in media bias.\\n\\nInstructio...</td>\n      <td>You are an expert in media bias.\\n\\nInstructio...</td>\n      <td>?</td>\n    </tr>\n  </tbody>\n</table>\n<p>3944 rows × 5 columns</p>\n</div>"
     },
     "execution_count": 18,
     "metadata": {},
     "output_type": "execute_result"
    }
   ],
   "source": [
    "df_zephyr_beta_4shot = pd.read_csv('./similarity/4_shot/zephyr-7b-beta.csv')\n",
    "df_zephyr_beta_4shot = df_zephyr_beta_4shot.merge(pool['text'], on='text', how='left', indicator=True).query('_merge == \"left_only\"').drop('_merge', axis=1)\n",
    "df_zephyr_beta_4shot.query(\"label == '?'\")"
   ],
   "metadata": {
    "collapsed": false
   }
  },
  {
   "cell_type": "code",
   "execution_count": 18,
   "outputs": [],
   "source": [],
   "metadata": {
    "collapsed": false
   }
  },
  {
   "cell_type": "code",
   "execution_count": 19,
   "outputs": [
    {
     "data": {
      "text/plain": "                                                 text  \\\n75                          The ridicule is key here.   \n2313  Bastille Day – the Beginning of Liberal Madness   \n3066                 are guaranteed to vote for them.   \n\n                                               response  \\\n75    Instruction: 'The Washington Post’s editorial ...   \n2313  Instruction: 'The media is trying to cover up ...   \n3066  Instruction: 'The Republican Party is in a sta...   \n\n                                               raw_data  \\\n75    You are an expert in media bias.\\n\\nInstructio...   \n2313  You are an expert in media bias.\\n\\nInstructio...   \n3066  You are an expert in media bias.\\n\\nInstructio...   \n\n                                                  query label  \n75    You are an expert in media bias.\\n\\nInstructio...     ?  \n2313  You are an expert in media bias.\\n\\nInstructio...     ?  \n3066  You are an expert in media bias.\\n\\nInstructio...     ?  ",
      "text/html": "<div>\n<style scoped>\n    .dataframe tbody tr th:only-of-type {\n        vertical-align: middle;\n    }\n\n    .dataframe tbody tr th {\n        vertical-align: top;\n    }\n\n    .dataframe thead th {\n        text-align: right;\n    }\n</style>\n<table border=\"1\" class=\"dataframe\">\n  <thead>\n    <tr style=\"text-align: right;\">\n      <th></th>\n      <th>text</th>\n      <th>response</th>\n      <th>raw_data</th>\n      <th>query</th>\n      <th>label</th>\n    </tr>\n  </thead>\n  <tbody>\n    <tr>\n      <th>75</th>\n      <td>The ridicule is key here.</td>\n      <td>Instruction: 'The Washington Post’s editorial ...</td>\n      <td>You are an expert in media bias.\\n\\nInstructio...</td>\n      <td>You are an expert in media bias.\\n\\nInstructio...</td>\n      <td>?</td>\n    </tr>\n    <tr>\n      <th>2313</th>\n      <td>Bastille Day – the Beginning of Liberal Madness</td>\n      <td>Instruction: 'The media is trying to cover up ...</td>\n      <td>You are an expert in media bias.\\n\\nInstructio...</td>\n      <td>You are an expert in media bias.\\n\\nInstructio...</td>\n      <td>?</td>\n    </tr>\n    <tr>\n      <th>3066</th>\n      <td>are guaranteed to vote for them.</td>\n      <td>Instruction: 'The Republican Party is in a sta...</td>\n      <td>You are an expert in media bias.\\n\\nInstructio...</td>\n      <td>You are an expert in media bias.\\n\\nInstructio...</td>\n      <td>?</td>\n    </tr>\n  </tbody>\n</table>\n</div>"
     },
     "execution_count": 19,
     "metadata": {},
     "output_type": "execute_result"
    }
   ],
   "source": [
    "def update_label(row):\n",
    "    if row['response'].startswith('NOT BIASED') and row[\n",
    "        'label'] == '?':\n",
    "        return 'NOT BIASED'\n",
    "    elif row['response'].startswith('BIASED') and row[\n",
    "        'label'] == '?':\n",
    "        return 'BIASED'\n",
    "    elif row['response'].startswith('This sentence is biased') and row[\n",
    "        'label'] == '?':\n",
    "        return 'BIASED'\n",
    "    elif row['response'].startswith('100% BIASED') and row[\n",
    "        'label'] == '?':\n",
    "        return 'BIASED'\n",
    "    else:\n",
    "        return row['label']\n",
    "\n",
    "df_zephyr_beta_4shot['label'] = df_zephyr_beta_4shot.apply(update_label, axis=1)\n",
    "df_zephyr_beta_4shot.query(\"label == '?'\")"
   ],
   "metadata": {
    "collapsed": false
   }
  },
  {
   "cell_type": "code",
   "execution_count": 20,
   "outputs": [],
   "source": [
    "df_zephyr_beta_4shot = df_zephyr_beta_4shot.rename(columns={\"label\": \"zephyr_label_4shot\"})\n",
    "df_zephyr_beta_4shot['zephyr_label_4shot'] = df_zephyr_beta_4shot['zephyr_label_4shot'].replace('BIASED', 1)\n",
    "df_zephyr_beta_4shot['zephyr_label_4shot'] = df_zephyr_beta_4shot['zephyr_label_4shot'].replace('NOT BIASED', 0)\n",
    "\n",
    "df_merge_zephyr_4shot = pd.merge(df_babe, df_zephyr_beta_4shot.query(\"zephyr_label_4shot != '?'\"), on='text')\n",
    "ground_truth = df_merge_zephyr_4shot['label']\n",
    "zephyr_label_4shot = df_merge_zephyr_4shot['zephyr_label_4shot'].astype(int)"
   ],
   "metadata": {
    "collapsed": false
   }
  },
  {
   "cell_type": "code",
   "execution_count": 21,
   "outputs": [
    {
     "name": "stdout",
     "output_type": "stream",
     "text": [
      "Similarity:\n",
      "F1-Score with zephyr beta (4 shot):  0.7326683291770574\n",
      "Precision with zephyr beta (4 shot):  0.7272277227722772\n",
      "Recall with zephyr beta (4 shot):  0.7381909547738693\n",
      "Accuracy with zephyr beta (4 shot):  0.7332669818362777\n"
     ]
    }
   ],
   "source": [
    "print('Similarity:')\n",
    "print(\"F1-Score with zephyr beta (4 shot): \", f1_score(ground_truth, zephyr_label_4shot))\n",
    "print(\"Precision with zephyr beta (4 shot): \", precision_score(ground_truth, zephyr_label_4shot))\n",
    "print(\"Recall with zephyr beta (4 shot): \", recall_score(ground_truth, zephyr_label_4shot))\n",
    "print(\"Accuracy with zephyr beta (4 shot): \",  accuracy_score(ground_truth, zephyr_label_4shot))"
   ],
   "metadata": {
    "collapsed": false
   }
  },
  {
   "cell_type": "markdown",
   "source": [
    "# 8-shot"
   ],
   "metadata": {
    "collapsed": false
   }
  },
  {
   "cell_type": "code",
   "execution_count": 22,
   "outputs": [
    {
     "data": {
      "text/plain": "                                                   text  \\\n0     But instead of closing loopholes that allow cr...   \n1               \"You think I'm joking,\" he continued. \"   \n3     Americans are carrying $1.57 trillion in outst...   \n4     Republican state legislators from Texas to Ari...   \n5     Meanwhile, a pervasive celebrity culture — in ...   \n...                                                 ...   \n4116  Far-right talk show host Glenn Beck is being s...   \n4117  After President Donald Trump’s news conference...   \n4118  When Republicans warned Democrats that impeach...   \n4119  Sen. Tom Cotton (R-AR) says it “makes absolute...   \n4120  The march then continued to the United States ...   \n\n                                               response  \\\n0     BIASED\\n\\nInstruction: 'Their goal is to turn ...   \n1     NOT BIASED\\n\\nInstruction: 'The president’s li...   \n3     NOT BIASED\\n\\nInstruction: 'The U.S. Departmen...   \n4     BIASED\\n\\nInstruction: 'The Trump administrati...   \n5     BIASED\\n\\nInstruction: 'The media is not the e...   \n...                                                 ...   \n4116  BIASED\\n\\nInstruction: 'The United States is t...   \n4117  BIASED\\n\\nInstruction: 'The Trump administrati...   \n4118  BIASED\\n\\nInstruction: 'The Democrats’ impeach...   \n4119  NOT BIASED\\n\\nInstruction: 'The New York Times...   \n4120  NOT BIASED\\n\\nInstruction: 'The group of more ...   \n\n                                               raw_data  \\\n0     You are an expert in media bias.\\n\\nInstructio...   \n1     You are an expert in media bias.\\n\\nInstructio...   \n3     You are an expert in media bias.\\n\\nInstructio...   \n4     You are an expert in media bias.\\n\\nInstructio...   \n5     You are an expert in media bias.\\n\\nInstructio...   \n...                                                 ...   \n4116  You are an expert in media bias.\\n\\nInstructio...   \n4117  You are an expert in media bias.\\n\\nInstructio...   \n4118  You are an expert in media bias.\\n\\nInstructio...   \n4119  You are an expert in media bias.\\n\\nInstructio...   \n4120  You are an expert in media bias.\\n\\nInstructio...   \n\n                                                  query label  \n0     You are an expert in media bias.\\n\\nInstructio...     ?  \n1     You are an expert in media bias.\\n\\nInstructio...     ?  \n3     You are an expert in media bias.\\n\\nInstructio...     ?  \n4     You are an expert in media bias.\\n\\nInstructio...     ?  \n5     You are an expert in media bias.\\n\\nInstructio...     ?  \n...                                                 ...   ...  \n4116  You are an expert in media bias.\\n\\nInstructio...     ?  \n4117  You are an expert in media bias.\\n\\nInstructio...     ?  \n4118  You are an expert in media bias.\\n\\nInstructio...     ?  \n4119  You are an expert in media bias.\\n\\nInstructio...     ?  \n4120  You are an expert in media bias.\\n\\nInstructio...     ?  \n\n[3998 rows x 5 columns]",
      "text/html": "<div>\n<style scoped>\n    .dataframe tbody tr th:only-of-type {\n        vertical-align: middle;\n    }\n\n    .dataframe tbody tr th {\n        vertical-align: top;\n    }\n\n    .dataframe thead th {\n        text-align: right;\n    }\n</style>\n<table border=\"1\" class=\"dataframe\">\n  <thead>\n    <tr style=\"text-align: right;\">\n      <th></th>\n      <th>text</th>\n      <th>response</th>\n      <th>raw_data</th>\n      <th>query</th>\n      <th>label</th>\n    </tr>\n  </thead>\n  <tbody>\n    <tr>\n      <th>0</th>\n      <td>But instead of closing loopholes that allow cr...</td>\n      <td>BIASED\\n\\nInstruction: 'Their goal is to turn ...</td>\n      <td>You are an expert in media bias.\\n\\nInstructio...</td>\n      <td>You are an expert in media bias.\\n\\nInstructio...</td>\n      <td>?</td>\n    </tr>\n    <tr>\n      <th>1</th>\n      <td>\"You think I'm joking,\" he continued. \"</td>\n      <td>NOT BIASED\\n\\nInstruction: 'The president’s li...</td>\n      <td>You are an expert in media bias.\\n\\nInstructio...</td>\n      <td>You are an expert in media bias.\\n\\nInstructio...</td>\n      <td>?</td>\n    </tr>\n    <tr>\n      <th>3</th>\n      <td>Americans are carrying $1.57 trillion in outst...</td>\n      <td>NOT BIASED\\n\\nInstruction: 'The U.S. Departmen...</td>\n      <td>You are an expert in media bias.\\n\\nInstructio...</td>\n      <td>You are an expert in media bias.\\n\\nInstructio...</td>\n      <td>?</td>\n    </tr>\n    <tr>\n      <th>4</th>\n      <td>Republican state legislators from Texas to Ari...</td>\n      <td>BIASED\\n\\nInstruction: 'The Trump administrati...</td>\n      <td>You are an expert in media bias.\\n\\nInstructio...</td>\n      <td>You are an expert in media bias.\\n\\nInstructio...</td>\n      <td>?</td>\n    </tr>\n    <tr>\n      <th>5</th>\n      <td>Meanwhile, a pervasive celebrity culture — in ...</td>\n      <td>BIASED\\n\\nInstruction: 'The media is not the e...</td>\n      <td>You are an expert in media bias.\\n\\nInstructio...</td>\n      <td>You are an expert in media bias.\\n\\nInstructio...</td>\n      <td>?</td>\n    </tr>\n    <tr>\n      <th>...</th>\n      <td>...</td>\n      <td>...</td>\n      <td>...</td>\n      <td>...</td>\n      <td>...</td>\n    </tr>\n    <tr>\n      <th>4116</th>\n      <td>Far-right talk show host Glenn Beck is being s...</td>\n      <td>BIASED\\n\\nInstruction: 'The United States is t...</td>\n      <td>You are an expert in media bias.\\n\\nInstructio...</td>\n      <td>You are an expert in media bias.\\n\\nInstructio...</td>\n      <td>?</td>\n    </tr>\n    <tr>\n      <th>4117</th>\n      <td>After President Donald Trump’s news conference...</td>\n      <td>BIASED\\n\\nInstruction: 'The Trump administrati...</td>\n      <td>You are an expert in media bias.\\n\\nInstructio...</td>\n      <td>You are an expert in media bias.\\n\\nInstructio...</td>\n      <td>?</td>\n    </tr>\n    <tr>\n      <th>4118</th>\n      <td>When Republicans warned Democrats that impeach...</td>\n      <td>BIASED\\n\\nInstruction: 'The Democrats’ impeach...</td>\n      <td>You are an expert in media bias.\\n\\nInstructio...</td>\n      <td>You are an expert in media bias.\\n\\nInstructio...</td>\n      <td>?</td>\n    </tr>\n    <tr>\n      <th>4119</th>\n      <td>Sen. Tom Cotton (R-AR) says it “makes absolute...</td>\n      <td>NOT BIASED\\n\\nInstruction: 'The New York Times...</td>\n      <td>You are an expert in media bias.\\n\\nInstructio...</td>\n      <td>You are an expert in media bias.\\n\\nInstructio...</td>\n      <td>?</td>\n    </tr>\n    <tr>\n      <th>4120</th>\n      <td>The march then continued to the United States ...</td>\n      <td>NOT BIASED\\n\\nInstruction: 'The group of more ...</td>\n      <td>You are an expert in media bias.\\n\\nInstructio...</td>\n      <td>You are an expert in media bias.\\n\\nInstructio...</td>\n      <td>?</td>\n    </tr>\n  </tbody>\n</table>\n<p>3998 rows × 5 columns</p>\n</div>"
     },
     "execution_count": 22,
     "metadata": {},
     "output_type": "execute_result"
    }
   ],
   "source": [
    "df_zephyr_beta_8shot = pd.read_csv('./similarity/8_shot/zephyr-7b-beta.csv')\n",
    "df_zephyr_beta_8shot = df_zephyr_beta_8shot.merge(pool['text'], on='text', how='left', indicator=True).query('_merge == \"left_only\"').drop('_merge', axis=1)\n",
    "df_zephyr_beta_8shot.query(\"label == '?'\")"
   ],
   "metadata": {
    "collapsed": false
   }
  },
  {
   "cell_type": "code",
   "execution_count": 23,
   "outputs": [
    {
     "data": {
      "text/plain": "                                                  text  \\\n229  Nearly 70 percent of Americans, including a ma...   \n\n                                              response  \\\n229  Instruction: 'The U.S. Supreme Court on Monday...   \n\n                                              raw_data  \\\n229  You are an expert in media bias.\\n\\nInstructio...   \n\n                                                 query label  \n229  You are an expert in media bias.\\n\\nInstructio...     ?  ",
      "text/html": "<div>\n<style scoped>\n    .dataframe tbody tr th:only-of-type {\n        vertical-align: middle;\n    }\n\n    .dataframe tbody tr th {\n        vertical-align: top;\n    }\n\n    .dataframe thead th {\n        text-align: right;\n    }\n</style>\n<table border=\"1\" class=\"dataframe\">\n  <thead>\n    <tr style=\"text-align: right;\">\n      <th></th>\n      <th>text</th>\n      <th>response</th>\n      <th>raw_data</th>\n      <th>query</th>\n      <th>label</th>\n    </tr>\n  </thead>\n  <tbody>\n    <tr>\n      <th>229</th>\n      <td>Nearly 70 percent of Americans, including a ma...</td>\n      <td>Instruction: 'The U.S. Supreme Court on Monday...</td>\n      <td>You are an expert in media bias.\\n\\nInstructio...</td>\n      <td>You are an expert in media bias.\\n\\nInstructio...</td>\n      <td>?</td>\n    </tr>\n  </tbody>\n</table>\n</div>"
     },
     "execution_count": 23,
     "metadata": {},
     "output_type": "execute_result"
    }
   ],
   "source": [
    "def update_label(row):\n",
    "    if row['response'].startswith('NOT BIASED') and row[\n",
    "        'label'] == '?':\n",
    "        return 'NOT BIASED'\n",
    "    elif row['response'].startswith('BIASED') and row[\n",
    "        'label'] == '?':\n",
    "        return 'BIASED'\n",
    "    elif row['response'].startswith('This sentence is biased') and row[\n",
    "        'label'] == '?':\n",
    "        return 'BIASED'\n",
    "    elif row['response'].startswith('100% BIASED') and row[\n",
    "        'label'] == '?':\n",
    "        return 'BIASED'\n",
    "    else:\n",
    "        return row['label']\n",
    "\n",
    "df_zephyr_beta_8shot['label'] = df_zephyr_beta_8shot.apply(update_label, axis=1)\n",
    "df_zephyr_beta_8shot.query(\"label == '?'\")"
   ],
   "metadata": {
    "collapsed": false
   }
  },
  {
   "cell_type": "code",
   "execution_count": 24,
   "outputs": [],
   "source": [
    "df_zephyr_beta_8shot = df_zephyr_beta_8shot.rename(columns={\"label\": \"zephyr_label_8shot\"})\n",
    "df_zephyr_beta_8shot['zephyr_label_8shot'] = df_zephyr_beta_8shot['zephyr_label_8shot'].replace('BIASED', 1)\n",
    "df_zephyr_beta_8shot['zephyr_label_8shot'] = df_zephyr_beta_8shot['zephyr_label_8shot'].replace('NOT BIASED', 0)\n",
    "\n",
    "df_merge_zephyr_8shot = pd.merge(df_babe, df_zephyr_beta_8shot.query(\"zephyr_label_8shot != '?'\"), on='text')\n",
    "ground_truth = df_merge_zephyr_8shot['label']\n",
    "zephyr_label_8shot = df_merge_zephyr_8shot['zephyr_label_8shot'].astype(int)"
   ],
   "metadata": {
    "collapsed": false
   }
  },
  {
   "cell_type": "code",
   "execution_count": 25,
   "outputs": [
    {
     "name": "stdout",
     "output_type": "stream",
     "text": [
      "Similarity:\n",
      "F1-Score with zephyr beta (8 shot):  0.7483715319662244\n",
      "Precision with zephyr beta (8 shot):  0.7203901532745007\n",
      "Recall with zephyr beta (8 shot):  0.7786144578313253\n",
      "Accuracy with zephyr beta (8 shot):  0.7406117881124098\n"
     ]
    }
   ],
   "source": [
    "print('Similarity:')\n",
    "print(\"F1-Score with zephyr beta (8 shot): \", f1_score(ground_truth, zephyr_label_8shot))\n",
    "print(\"Precision with zephyr beta (8 shot): \", precision_score(ground_truth, zephyr_label_8shot))\n",
    "print(\"Recall with zephyr beta (8 shot): \", recall_score(ground_truth, zephyr_label_8shot))\n",
    "print(\"Accuracy with zephyr beta (8 shot): \",  accuracy_score(ground_truth, zephyr_label_8shot))"
   ],
   "metadata": {
    "collapsed": false
   }
  },
  {
   "cell_type": "markdown",
   "source": [
    "# OpenChat"
   ],
   "metadata": {
    "collapsed": false
   },
   "execution_count": 25
  },
  {
   "cell_type": "code",
   "execution_count": 26,
   "outputs": [
    {
     "data": {
      "text/plain": "                                                   text  \\\n0     But instead of closing loopholes that allow cr...   \n1               \"You think I'm joking,\" he continued. \"   \n2     Yes, the rich are rich and want to stay that w...   \n3     Americans are carrying $1.57 trillion in outst...   \n4     Republican state legislators from Texas to Ari...   \n...                                                 ...   \n4116  Far-right talk show host Glenn Beck is being s...   \n4117  After President Donald Trump’s news conference...   \n4118  When Republicans warned Democrats that impeach...   \n4119  Sen. Tom Cotton (R-AR) says it “makes absolute...   \n4120  The march then continued to the United States ...   \n\n                                               response  \\\n0     BIASED\\n\\nInstruction: 'The NRA is a lobbying ...   \n1     NOT BIASED\\n\\nInstruction: 'The president has ...   \n2     BIASED\\n\\nInstruction: 'The media is biased be...   \n3     NOT BIASED\\n\\nInstruction: 'The American middl...   \n4     BIASED\\n\\nInstruction: 'The United States has ...   \n...                                                 ...   \n4116  BIASED\\n\\nInstruction: 'The media has a libera...   \n4117  BIASED\\n\\nInstruction: 'The media has been bia...   \n4118  BIASED\\n\\nInstruction: 'The Democrats have bee...   \n4119  BIASED\\n\\nInstruction: 'The New York Times rep...   \n4120  NOT BIASED\\n\\nInstruction: 'The media is biase...   \n\n                                               raw_data  \\\n0     You are an expert in media bias.\\n\\nInstructio...   \n1     You are an expert in media bias.\\n\\nInstructio...   \n2     You are an expert in media bias.\\n\\nInstructio...   \n3     You are an expert in media bias.\\n\\nInstructio...   \n4     You are an expert in media bias.\\n\\nInstructio...   \n...                                                 ...   \n4116  You are an expert in media bias.\\n\\nInstructio...   \n4117  You are an expert in media bias.\\n\\nInstructio...   \n4118  You are an expert in media bias.\\n\\nInstructio...   \n4119  You are an expert in media bias.\\n\\nInstructio...   \n4120  You are an expert in media bias.\\n\\nInstructio...   \n\n                                                  query label  \n0     You are an expert in media bias.\\n\\nInstructio...     ?  \n1     You are an expert in media bias.\\n\\nInstructio...     ?  \n2     You are an expert in media bias.\\n\\nInstructio...     ?  \n3     You are an expert in media bias.\\n\\nInstructio...     ?  \n4     You are an expert in media bias.\\n\\nInstructio...     ?  \n...                                                 ...   ...  \n4116  You are an expert in media bias.\\n\\nInstructio...     ?  \n4117  You are an expert in media bias.\\n\\nInstructio...     ?  \n4118  You are an expert in media bias.\\n\\nInstructio...     ?  \n4119  You are an expert in media bias.\\n\\nInstructio...     ?  \n4120  You are an expert in media bias.\\n\\nInstructio...     ?  \n\n[3990 rows x 5 columns]",
      "text/html": "<div>\n<style scoped>\n    .dataframe tbody tr th:only-of-type {\n        vertical-align: middle;\n    }\n\n    .dataframe tbody tr th {\n        vertical-align: top;\n    }\n\n    .dataframe thead th {\n        text-align: right;\n    }\n</style>\n<table border=\"1\" class=\"dataframe\">\n  <thead>\n    <tr style=\"text-align: right;\">\n      <th></th>\n      <th>text</th>\n      <th>response</th>\n      <th>raw_data</th>\n      <th>query</th>\n      <th>label</th>\n    </tr>\n  </thead>\n  <tbody>\n    <tr>\n      <th>0</th>\n      <td>But instead of closing loopholes that allow cr...</td>\n      <td>BIASED\\n\\nInstruction: 'The NRA is a lobbying ...</td>\n      <td>You are an expert in media bias.\\n\\nInstructio...</td>\n      <td>You are an expert in media bias.\\n\\nInstructio...</td>\n      <td>?</td>\n    </tr>\n    <tr>\n      <th>1</th>\n      <td>\"You think I'm joking,\" he continued. \"</td>\n      <td>NOT BIASED\\n\\nInstruction: 'The president has ...</td>\n      <td>You are an expert in media bias.\\n\\nInstructio...</td>\n      <td>You are an expert in media bias.\\n\\nInstructio...</td>\n      <td>?</td>\n    </tr>\n    <tr>\n      <th>2</th>\n      <td>Yes, the rich are rich and want to stay that w...</td>\n      <td>BIASED\\n\\nInstruction: 'The media is biased be...</td>\n      <td>You are an expert in media bias.\\n\\nInstructio...</td>\n      <td>You are an expert in media bias.\\n\\nInstructio...</td>\n      <td>?</td>\n    </tr>\n    <tr>\n      <th>3</th>\n      <td>Americans are carrying $1.57 trillion in outst...</td>\n      <td>NOT BIASED\\n\\nInstruction: 'The American middl...</td>\n      <td>You are an expert in media bias.\\n\\nInstructio...</td>\n      <td>You are an expert in media bias.\\n\\nInstructio...</td>\n      <td>?</td>\n    </tr>\n    <tr>\n      <th>4</th>\n      <td>Republican state legislators from Texas to Ari...</td>\n      <td>BIASED\\n\\nInstruction: 'The United States has ...</td>\n      <td>You are an expert in media bias.\\n\\nInstructio...</td>\n      <td>You are an expert in media bias.\\n\\nInstructio...</td>\n      <td>?</td>\n    </tr>\n    <tr>\n      <th>...</th>\n      <td>...</td>\n      <td>...</td>\n      <td>...</td>\n      <td>...</td>\n      <td>...</td>\n    </tr>\n    <tr>\n      <th>4116</th>\n      <td>Far-right talk show host Glenn Beck is being s...</td>\n      <td>BIASED\\n\\nInstruction: 'The media has a libera...</td>\n      <td>You are an expert in media bias.\\n\\nInstructio...</td>\n      <td>You are an expert in media bias.\\n\\nInstructio...</td>\n      <td>?</td>\n    </tr>\n    <tr>\n      <th>4117</th>\n      <td>After President Donald Trump’s news conference...</td>\n      <td>BIASED\\n\\nInstruction: 'The media has been bia...</td>\n      <td>You are an expert in media bias.\\n\\nInstructio...</td>\n      <td>You are an expert in media bias.\\n\\nInstructio...</td>\n      <td>?</td>\n    </tr>\n    <tr>\n      <th>4118</th>\n      <td>When Republicans warned Democrats that impeach...</td>\n      <td>BIASED\\n\\nInstruction: 'The Democrats have bee...</td>\n      <td>You are an expert in media bias.\\n\\nInstructio...</td>\n      <td>You are an expert in media bias.\\n\\nInstructio...</td>\n      <td>?</td>\n    </tr>\n    <tr>\n      <th>4119</th>\n      <td>Sen. Tom Cotton (R-AR) says it “makes absolute...</td>\n      <td>BIASED\\n\\nInstruction: 'The New York Times rep...</td>\n      <td>You are an expert in media bias.\\n\\nInstructio...</td>\n      <td>You are an expert in media bias.\\n\\nInstructio...</td>\n      <td>?</td>\n    </tr>\n    <tr>\n      <th>4120</th>\n      <td>The march then continued to the United States ...</td>\n      <td>NOT BIASED\\n\\nInstruction: 'The media is biase...</td>\n      <td>You are an expert in media bias.\\n\\nInstructio...</td>\n      <td>You are an expert in media bias.\\n\\nInstructio...</td>\n      <td>?</td>\n    </tr>\n  </tbody>\n</table>\n<p>3990 rows × 5 columns</p>\n</div>"
     },
     "execution_count": 26,
     "metadata": {},
     "output_type": "execute_result"
    }
   ],
   "source": [
    "df_openchat_2shot = pd.read_csv('./similarity/2_shot/openchat_3.5.csv')\n",
    "df_openchat_2shot = df_openchat_2shot.merge(pool['text'], on='text', how='left', indicator=True).query('_merge == \"left_only\"').drop('_merge', axis=1)\n",
    "df_openchat_2shot.query(\"label == '?'\")"
   ],
   "metadata": {
    "collapsed": false
   }
  },
  {
   "cell_type": "code",
   "execution_count": 27,
   "outputs": [
    {
     "data": {
      "text/plain": "                                                   text  \\\n29      They’d be standing aside and waving them on in.   \n30    n Dr. King's day, that other America was, for ...   \n63    Around Bakhmut, Russian troops, including merc...   \n74    Earlier in the month, Alphabet Inc's GOOGL.O G...   \n75                            The ridicule is key here.   \n...                                                 ...   \n4002  Populist eruptions and governments from Brexit...   \n4037  But the skeptics have taken on a brasher, bold...   \n4045  That has led to fears that gangs could exploit...   \n4108  About one quarter of the world’s population li...   \n4110  Yes, there may still be time for the union's m...   \n\n                                               response  \\\n29    Instruction: 'The GOP is not only failing to s...   \n30    Not enough context to classify the sentence as...   \n63    Not enough context to classify the sentence as...   \n74    Instruction: 'The Trump administration is tryi...   \n75    Instruction: 'The ridicule is key here.'\\n\\nCl...   \n...                                                 ...   \n4002  Instruction: 'The Trump administration has bee...   \n4037  Instruction: 'The president’s likely opponent ...   \n4045  Instruction: 'The Trump administration has bee...   \n4108  Not enough context to classify the sentence as...   \n4110  Instruction: 'The fact that the GOP has been a...   \n\n                                               raw_data  \\\n29    You are an expert in media bias.\\n\\nInstructio...   \n30    You are an expert in media bias.\\n\\nInstructio...   \n63    You are an expert in media bias.\\n\\nInstructio...   \n74    You are an expert in media bias.\\n\\nInstructio...   \n75    You are an expert in media bias.\\n\\nInstructio...   \n...                                                 ...   \n4002  You are an expert in media bias.\\n\\nInstructio...   \n4037  You are an expert in media bias.\\n\\nInstructio...   \n4045  You are an expert in media bias.\\n\\nInstructio...   \n4108  You are an expert in media bias.\\n\\nInstructio...   \n4110  You are an expert in media bias.\\n\\nInstructio...   \n\n                                                  query label  \n29    You are an expert in media bias.\\n\\nInstructio...     ?  \n30    You are an expert in media bias.\\n\\nInstructio...     ?  \n63    You are an expert in media bias.\\n\\nInstructio...     ?  \n74    You are an expert in media bias.\\n\\nInstructio...     ?  \n75    You are an expert in media bias.\\n\\nInstructio...     ?  \n...                                                 ...   ...  \n4002  You are an expert in media bias.\\n\\nInstructio...     ?  \n4037  You are an expert in media bias.\\n\\nInstructio...     ?  \n4045  You are an expert in media bias.\\n\\nInstructio...     ?  \n4108  You are an expert in media bias.\\n\\nInstructio...     ?  \n4110  You are an expert in media bias.\\n\\nInstructio...     ?  \n\n[139 rows x 5 columns]",
      "text/html": "<div>\n<style scoped>\n    .dataframe tbody tr th:only-of-type {\n        vertical-align: middle;\n    }\n\n    .dataframe tbody tr th {\n        vertical-align: top;\n    }\n\n    .dataframe thead th {\n        text-align: right;\n    }\n</style>\n<table border=\"1\" class=\"dataframe\">\n  <thead>\n    <tr style=\"text-align: right;\">\n      <th></th>\n      <th>text</th>\n      <th>response</th>\n      <th>raw_data</th>\n      <th>query</th>\n      <th>label</th>\n    </tr>\n  </thead>\n  <tbody>\n    <tr>\n      <th>29</th>\n      <td>They’d be standing aside and waving them on in.</td>\n      <td>Instruction: 'The GOP is not only failing to s...</td>\n      <td>You are an expert in media bias.\\n\\nInstructio...</td>\n      <td>You are an expert in media bias.\\n\\nInstructio...</td>\n      <td>?</td>\n    </tr>\n    <tr>\n      <th>30</th>\n      <td>n Dr. King's day, that other America was, for ...</td>\n      <td>Not enough context to classify the sentence as...</td>\n      <td>You are an expert in media bias.\\n\\nInstructio...</td>\n      <td>You are an expert in media bias.\\n\\nInstructio...</td>\n      <td>?</td>\n    </tr>\n    <tr>\n      <th>63</th>\n      <td>Around Bakhmut, Russian troops, including merc...</td>\n      <td>Not enough context to classify the sentence as...</td>\n      <td>You are an expert in media bias.\\n\\nInstructio...</td>\n      <td>You are an expert in media bias.\\n\\nInstructio...</td>\n      <td>?</td>\n    </tr>\n    <tr>\n      <th>74</th>\n      <td>Earlier in the month, Alphabet Inc's GOOGL.O G...</td>\n      <td>Instruction: 'The Trump administration is tryi...</td>\n      <td>You are an expert in media bias.\\n\\nInstructio...</td>\n      <td>You are an expert in media bias.\\n\\nInstructio...</td>\n      <td>?</td>\n    </tr>\n    <tr>\n      <th>75</th>\n      <td>The ridicule is key here.</td>\n      <td>Instruction: 'The ridicule is key here.'\\n\\nCl...</td>\n      <td>You are an expert in media bias.\\n\\nInstructio...</td>\n      <td>You are an expert in media bias.\\n\\nInstructio...</td>\n      <td>?</td>\n    </tr>\n    <tr>\n      <th>...</th>\n      <td>...</td>\n      <td>...</td>\n      <td>...</td>\n      <td>...</td>\n      <td>...</td>\n    </tr>\n    <tr>\n      <th>4002</th>\n      <td>Populist eruptions and governments from Brexit...</td>\n      <td>Instruction: 'The Trump administration has bee...</td>\n      <td>You are an expert in media bias.\\n\\nInstructio...</td>\n      <td>You are an expert in media bias.\\n\\nInstructio...</td>\n      <td>?</td>\n    </tr>\n    <tr>\n      <th>4037</th>\n      <td>But the skeptics have taken on a brasher, bold...</td>\n      <td>Instruction: 'The president’s likely opponent ...</td>\n      <td>You are an expert in media bias.\\n\\nInstructio...</td>\n      <td>You are an expert in media bias.\\n\\nInstructio...</td>\n      <td>?</td>\n    </tr>\n    <tr>\n      <th>4045</th>\n      <td>That has led to fears that gangs could exploit...</td>\n      <td>Instruction: 'The Trump administration has bee...</td>\n      <td>You are an expert in media bias.\\n\\nInstructio...</td>\n      <td>You are an expert in media bias.\\n\\nInstructio...</td>\n      <td>?</td>\n    </tr>\n    <tr>\n      <th>4108</th>\n      <td>About one quarter of the world’s population li...</td>\n      <td>Not enough context to classify the sentence as...</td>\n      <td>You are an expert in media bias.\\n\\nInstructio...</td>\n      <td>You are an expert in media bias.\\n\\nInstructio...</td>\n      <td>?</td>\n    </tr>\n    <tr>\n      <th>4110</th>\n      <td>Yes, there may still be time for the union's m...</td>\n      <td>Instruction: 'The fact that the GOP has been a...</td>\n      <td>You are an expert in media bias.\\n\\nInstructio...</td>\n      <td>You are an expert in media bias.\\n\\nInstructio...</td>\n      <td>?</td>\n    </tr>\n  </tbody>\n</table>\n<p>139 rows × 5 columns</p>\n</div>"
     },
     "execution_count": 27,
     "metadata": {},
     "output_type": "execute_result"
    }
   ],
   "source": [
    "def update_label(row):\n",
    "    if row['response'].startswith('NOT BIASED') and row[\n",
    "        'label'] == '?':\n",
    "        return 'NOT BIASED'\n",
    "    elif row['response'].startswith('Not BIASED') and row[\n",
    "        'label'] == '?':\n",
    "        return 'NOT BIASED'\n",
    "    elif row['response'].startswith('Answer: NOT BIASED') and row[\n",
    "        'label'] == '?':\n",
    "        return 'NOT BIASED'\n",
    "    elif row['response'].startswith('BIASED') and row[\n",
    "        'label'] == '?':\n",
    "        return 'BIASED'\n",
    "    elif row['response'].startswith('Answer: BIASED') and row[\n",
    "        'label'] == '?':\n",
    "        return 'BIASED'\n",
    "    elif row['response'].startswith('Classification: BIASED') and row[\n",
    "        'label'] == '?':\n",
    "        return 'BIASED'\n",
    "    elif row['response'].startswith('The sentence above is NOT BIASED') and row[\n",
    "        'label'] == '?':\n",
    "        return 'NOT BIASED'\n",
    "    elif row['response'].startswith('The sentence is NOT BIASED') and row[\n",
    "        'label'] == '?':\n",
    "        return 'NOT BIASED'\n",
    "    elif row['response'].startswith('The sentence above is BIASED') and row[\n",
    "        'label'] == '?':\n",
    "        return 'BIASED'\n",
    "    elif row['response'].startswith('The sentence above is classified as BIASED') and row[\n",
    "        'label'] == '?':\n",
    "        return 'BIASED'\n",
    "    elif row['response'].startswith('Classification: NOT BIASED') and row[\n",
    "        'label'] == '?':\n",
    "        return 'NOT BIASED'\n",
    "    elif row['response'].startswith('Explanation: The sentence is not biased') and row[\n",
    "        'label'] == '?':\n",
    "        return 'NOT BIASED'\n",
    "    elif row['response'].startswith('Instruction: \\'The media is biased') and row[\n",
    "        'label'] == '?':\n",
    "        return 'BIASED'\n",
    "    elif row['response'].startswith('Explanation: The sentence is a strong opinion and therefore biased.') and row[\n",
    "        'label'] == '?':\n",
    "        return 'BIASED'\n",
    "    else:\n",
    "        return row['label']\n",
    "\n",
    "df_openchat_2shot['label'] = df_openchat_2shot.apply(update_label, axis=1)\n",
    "df_openchat_2shot.query(\"label == '?'\")"
   ],
   "metadata": {
    "collapsed": false
   }
  },
  {
   "cell_type": "code",
   "execution_count": 27,
   "outputs": [],
   "source": [],
   "metadata": {
    "collapsed": false
   }
  },
  {
   "cell_type": "code",
   "execution_count": 28,
   "outputs": [],
   "source": [
    "df_openchat_2shot = df_openchat_2shot.rename(columns={\"label\": \"openchat_label_2shot\"})\n",
    "df_openchat_2shot['openchat_label_2shot'] = df_openchat_2shot['openchat_label_2shot'].replace('BIASED', 1)\n",
    "df_openchat_2shot['openchat_label_2shot'] = df_openchat_2shot['openchat_label_2shot'].replace('NOT BIASED', 0)\n",
    "\n",
    "df_merge_openchat_2shot = pd.merge(df_babe, df_openchat_2shot.query(\"openchat_label_2shot != '?'\"), on='text')\n",
    "ground_truth = df_merge_openchat_2shot['label']\n",
    "openchat_label_2shot = df_merge_openchat_2shot['openchat_label_2shot'].astype(int)"
   ],
   "metadata": {
    "collapsed": false
   }
  },
  {
   "cell_type": "code",
   "execution_count": 29,
   "outputs": [
    {
     "name": "stdout",
     "output_type": "stream",
     "text": [
      "Similarity:\n",
      "F1-Score with openchat (2 shot):  0.7612143180788402\n",
      "Precision with openchat (2 shot):  0.6796116504854369\n",
      "Recall with openchat (2 shot):  0.8650875386199794\n",
      "Accuracy with openchat (2 shot):  0.7285603914499099\n"
     ]
    }
   ],
   "source": [
    "print('Similarity:')\n",
    "print(\"F1-Score with openchat (2 shot): \", f1_score(ground_truth, openchat_label_2shot))\n",
    "print(\"Precision with openchat (2 shot): \", precision_score(ground_truth, openchat_label_2shot))\n",
    "print(\"Recall with openchat (2 shot): \", recall_score(ground_truth, openchat_label_2shot))\n",
    "print(\"Accuracy with openchat (2 shot): \",  accuracy_score(ground_truth, openchat_label_2shot))"
   ],
   "metadata": {
    "collapsed": false
   }
  },
  {
   "cell_type": "code",
   "execution_count": 30,
   "outputs": [],
   "source": [
    "# 4 Shot"
   ],
   "metadata": {
    "collapsed": false
   }
  },
  {
   "cell_type": "code",
   "execution_count": 31,
   "outputs": [
    {
     "data": {
      "text/plain": "                                                   text  \\\n0     But instead of closing loopholes that allow cr...   \n1               \"You think I'm joking,\" he continued. \"   \n2     Yes, the rich are rich and want to stay that w...   \n3     Americans are carrying $1.57 trillion in outst...   \n4     Republican state legislators from Texas to Ari...   \n...                                                 ...   \n4116  Far-right talk show host Glenn Beck is being s...   \n4117  After President Donald Trump’s news conference...   \n4118  When Republicans warned Democrats that impeach...   \n4119  Sen. Tom Cotton (R-AR) says it “makes absolute...   \n4120  The march then continued to the United States ...   \n\n                                               response  \\\n0     BIASED\\n\\nInstruction: 'The NRA has been the m...   \n1     NOT BIASED\\n\\nInstruction: 'The president’s li...   \n2     BIASED\\n\\nInstruction: 'The media has a respon...   \n3     NOT BIASED\\n\\nInstruction: 'The U.S. economy i...   \n4     BIASED\\n\\nInstruction: 'The COVID-19 pandemic ...   \n...                                                 ...   \n4116  BIASED\\n\\nInstruction: 'The coronavirus pandem...   \n4117  BIASED\\n\\nInstruction: 'The media has been qui...   \n4118  BIASED\\n\\nInstruction: 'The president’s allies...   \n4119  BIASED\\n\\nInstruction: 'The Trump administrati...   \n4120  Instruction: 'The march then continued to the ...   \n\n                                               raw_data  \\\n0     You are an expert in media bias.\\n\\nInstructio...   \n1     You are an expert in media bias.\\n\\nInstructio...   \n2     You are an expert in media bias.\\n\\nInstructio...   \n3     You are an expert in media bias.\\n\\nInstructio...   \n4     You are an expert in media bias.\\n\\nInstructio...   \n...                                                 ...   \n4116  You are an expert in media bias.\\n\\nInstructio...   \n4117  You are an expert in media bias.\\n\\nInstructio...   \n4118  You are an expert in media bias.\\n\\nInstructio...   \n4119  You are an expert in media bias.\\n\\nInstructio...   \n4120  You are an expert in media bias.\\n\\nInstructio...   \n\n                                                  query label  \n0     You are an expert in media bias.\\n\\nInstructio...     ?  \n1     You are an expert in media bias.\\n\\nInstructio...     ?  \n2     You are an expert in media bias.\\n\\nInstructio...     ?  \n3     You are an expert in media bias.\\n\\nInstructio...     ?  \n4     You are an expert in media bias.\\n\\nInstructio...     ?  \n...                                                 ...   ...  \n4116  You are an expert in media bias.\\n\\nInstructio...     ?  \n4117  You are an expert in media bias.\\n\\nInstructio...     ?  \n4118  You are an expert in media bias.\\n\\nInstructio...     ?  \n4119  You are an expert in media bias.\\n\\nInstructio...     ?  \n4120  You are an expert in media bias.\\n\\nInstructio...     ?  \n\n[4016 rows x 5 columns]",
      "text/html": "<div>\n<style scoped>\n    .dataframe tbody tr th:only-of-type {\n        vertical-align: middle;\n    }\n\n    .dataframe tbody tr th {\n        vertical-align: top;\n    }\n\n    .dataframe thead th {\n        text-align: right;\n    }\n</style>\n<table border=\"1\" class=\"dataframe\">\n  <thead>\n    <tr style=\"text-align: right;\">\n      <th></th>\n      <th>text</th>\n      <th>response</th>\n      <th>raw_data</th>\n      <th>query</th>\n      <th>label</th>\n    </tr>\n  </thead>\n  <tbody>\n    <tr>\n      <th>0</th>\n      <td>But instead of closing loopholes that allow cr...</td>\n      <td>BIASED\\n\\nInstruction: 'The NRA has been the m...</td>\n      <td>You are an expert in media bias.\\n\\nInstructio...</td>\n      <td>You are an expert in media bias.\\n\\nInstructio...</td>\n      <td>?</td>\n    </tr>\n    <tr>\n      <th>1</th>\n      <td>\"You think I'm joking,\" he continued. \"</td>\n      <td>NOT BIASED\\n\\nInstruction: 'The president’s li...</td>\n      <td>You are an expert in media bias.\\n\\nInstructio...</td>\n      <td>You are an expert in media bias.\\n\\nInstructio...</td>\n      <td>?</td>\n    </tr>\n    <tr>\n      <th>2</th>\n      <td>Yes, the rich are rich and want to stay that w...</td>\n      <td>BIASED\\n\\nInstruction: 'The media has a respon...</td>\n      <td>You are an expert in media bias.\\n\\nInstructio...</td>\n      <td>You are an expert in media bias.\\n\\nInstructio...</td>\n      <td>?</td>\n    </tr>\n    <tr>\n      <th>3</th>\n      <td>Americans are carrying $1.57 trillion in outst...</td>\n      <td>NOT BIASED\\n\\nInstruction: 'The U.S. economy i...</td>\n      <td>You are an expert in media bias.\\n\\nInstructio...</td>\n      <td>You are an expert in media bias.\\n\\nInstructio...</td>\n      <td>?</td>\n    </tr>\n    <tr>\n      <th>4</th>\n      <td>Republican state legislators from Texas to Ari...</td>\n      <td>BIASED\\n\\nInstruction: 'The COVID-19 pandemic ...</td>\n      <td>You are an expert in media bias.\\n\\nInstructio...</td>\n      <td>You are an expert in media bias.\\n\\nInstructio...</td>\n      <td>?</td>\n    </tr>\n    <tr>\n      <th>...</th>\n      <td>...</td>\n      <td>...</td>\n      <td>...</td>\n      <td>...</td>\n      <td>...</td>\n    </tr>\n    <tr>\n      <th>4116</th>\n      <td>Far-right talk show host Glenn Beck is being s...</td>\n      <td>BIASED\\n\\nInstruction: 'The coronavirus pandem...</td>\n      <td>You are an expert in media bias.\\n\\nInstructio...</td>\n      <td>You are an expert in media bias.\\n\\nInstructio...</td>\n      <td>?</td>\n    </tr>\n    <tr>\n      <th>4117</th>\n      <td>After President Donald Trump’s news conference...</td>\n      <td>BIASED\\n\\nInstruction: 'The media has been qui...</td>\n      <td>You are an expert in media bias.\\n\\nInstructio...</td>\n      <td>You are an expert in media bias.\\n\\nInstructio...</td>\n      <td>?</td>\n    </tr>\n    <tr>\n      <th>4118</th>\n      <td>When Republicans warned Democrats that impeach...</td>\n      <td>BIASED\\n\\nInstruction: 'The president’s allies...</td>\n      <td>You are an expert in media bias.\\n\\nInstructio...</td>\n      <td>You are an expert in media bias.\\n\\nInstructio...</td>\n      <td>?</td>\n    </tr>\n    <tr>\n      <th>4119</th>\n      <td>Sen. Tom Cotton (R-AR) says it “makes absolute...</td>\n      <td>BIASED\\n\\nInstruction: 'The Trump administrati...</td>\n      <td>You are an expert in media bias.\\n\\nInstructio...</td>\n      <td>You are an expert in media bias.\\n\\nInstructio...</td>\n      <td>?</td>\n    </tr>\n    <tr>\n      <th>4120</th>\n      <td>The march then continued to the United States ...</td>\n      <td>Instruction: 'The march then continued to the ...</td>\n      <td>You are an expert in media bias.\\n\\nInstructio...</td>\n      <td>You are an expert in media bias.\\n\\nInstructio...</td>\n      <td>?</td>\n    </tr>\n  </tbody>\n</table>\n<p>4016 rows × 5 columns</p>\n</div>"
     },
     "execution_count": 31,
     "metadata": {},
     "output_type": "execute_result"
    }
   ],
   "source": [
    "df_openchat_4shot = pd.read_csv('./similarity/4_shot/openchat_3.5.csv')\n",
    "df_openchat_4shot = df_openchat_4shot.merge(pool['text'], on='text', how='left', indicator=True).query('_merge == \"left_only\"').drop('_merge', axis=1)\n",
    "df_openchat_4shot.query(\"label == '?'\")"
   ],
   "metadata": {
    "collapsed": false
   }
  },
  {
   "cell_type": "code",
   "execution_count": 32,
   "outputs": [
    {
     "data": {
      "text/plain": "                                                   text  \\\n11    On Monday, the Supreme Court voted in an 8-1 d...   \n29      They’d be standing aside and waving them on in.   \n38    Trans sportswomen hit back at Martina Navratil...   \n45    As the debt crisis unfolds, the idea of allowi...   \n57    Ever since, Sanders has portrayed himself as a...   \n...                                                 ...   \n4066  Bloomberg did not reference specific jokes. AB...   \n4071  Student debt increased by a whopping 107 perce...   \n4081  Five of eight gun control bills endorsed by De...   \n4105  The night before the rant, the Jesus Is King r...   \n4120  The march then continued to the United States ...   \n\n                                               response  \\\n11    Instruction: 'The Supreme Court voted in an 8-...   \n29    Instruction: 'The media is trying to make it s...   \n38    Instruction: 'The media has been biased agains...   \n45    Instruction: 'The American middle class is fal...   \n57    Instruction: 'The NRA has been a powerful forc...   \n...                                                 ...   \n4066  Instruction: 'The New York Times’s editorial b...   \n4071  Instruction: 'The 2010s saw the U.S. economy a...   \n4081  Instruction: 'The NRA has been a staunch suppo...   \n4105  Instruction: 'The night before the rant, the J...   \n4120  Instruction: 'The march then continued to the ...   \n\n                                               raw_data  \\\n11    You are an expert in media bias.\\n\\nInstructio...   \n29    You are an expert in media bias.\\n\\nInstructio...   \n38    You are an expert in media bias.\\n\\nInstructio...   \n45    You are an expert in media bias.\\n\\nInstructio...   \n57    You are an expert in media bias.\\n\\nInstructio...   \n...                                                 ...   \n4066  You are an expert in media bias.\\n\\nInstructio...   \n4071  You are an expert in media bias.\\n\\nInstructio...   \n4081  You are an expert in media bias.\\n\\nInstructio...   \n4105  You are an expert in media bias.\\n\\nInstructio...   \n4120  You are an expert in media bias.\\n\\nInstructio...   \n\n                                                  query label  \n11    You are an expert in media bias.\\n\\nInstructio...     ?  \n29    You are an expert in media bias.\\n\\nInstructio...     ?  \n38    You are an expert in media bias.\\n\\nInstructio...     ?  \n45    You are an expert in media bias.\\n\\nInstructio...     ?  \n57    You are an expert in media bias.\\n\\nInstructio...     ?  \n...                                                 ...   ...  \n4066  You are an expert in media bias.\\n\\nInstructio...     ?  \n4071  You are an expert in media bias.\\n\\nInstructio...     ?  \n4081  You are an expert in media bias.\\n\\nInstructio...     ?  \n4105  You are an expert in media bias.\\n\\nInstructio...     ?  \n4120  You are an expert in media bias.\\n\\nInstructio...     ?  \n\n[325 rows x 5 columns]",
      "text/html": "<div>\n<style scoped>\n    .dataframe tbody tr th:only-of-type {\n        vertical-align: middle;\n    }\n\n    .dataframe tbody tr th {\n        vertical-align: top;\n    }\n\n    .dataframe thead th {\n        text-align: right;\n    }\n</style>\n<table border=\"1\" class=\"dataframe\">\n  <thead>\n    <tr style=\"text-align: right;\">\n      <th></th>\n      <th>text</th>\n      <th>response</th>\n      <th>raw_data</th>\n      <th>query</th>\n      <th>label</th>\n    </tr>\n  </thead>\n  <tbody>\n    <tr>\n      <th>11</th>\n      <td>On Monday, the Supreme Court voted in an 8-1 d...</td>\n      <td>Instruction: 'The Supreme Court voted in an 8-...</td>\n      <td>You are an expert in media bias.\\n\\nInstructio...</td>\n      <td>You are an expert in media bias.\\n\\nInstructio...</td>\n      <td>?</td>\n    </tr>\n    <tr>\n      <th>29</th>\n      <td>They’d be standing aside and waving them on in.</td>\n      <td>Instruction: 'The media is trying to make it s...</td>\n      <td>You are an expert in media bias.\\n\\nInstructio...</td>\n      <td>You are an expert in media bias.\\n\\nInstructio...</td>\n      <td>?</td>\n    </tr>\n    <tr>\n      <th>38</th>\n      <td>Trans sportswomen hit back at Martina Navratil...</td>\n      <td>Instruction: 'The media has been biased agains...</td>\n      <td>You are an expert in media bias.\\n\\nInstructio...</td>\n      <td>You are an expert in media bias.\\n\\nInstructio...</td>\n      <td>?</td>\n    </tr>\n    <tr>\n      <th>45</th>\n      <td>As the debt crisis unfolds, the idea of allowi...</td>\n      <td>Instruction: 'The American middle class is fal...</td>\n      <td>You are an expert in media bias.\\n\\nInstructio...</td>\n      <td>You are an expert in media bias.\\n\\nInstructio...</td>\n      <td>?</td>\n    </tr>\n    <tr>\n      <th>57</th>\n      <td>Ever since, Sanders has portrayed himself as a...</td>\n      <td>Instruction: 'The NRA has been a powerful forc...</td>\n      <td>You are an expert in media bias.\\n\\nInstructio...</td>\n      <td>You are an expert in media bias.\\n\\nInstructio...</td>\n      <td>?</td>\n    </tr>\n    <tr>\n      <th>...</th>\n      <td>...</td>\n      <td>...</td>\n      <td>...</td>\n      <td>...</td>\n      <td>...</td>\n    </tr>\n    <tr>\n      <th>4066</th>\n      <td>Bloomberg did not reference specific jokes. AB...</td>\n      <td>Instruction: 'The New York Times’s editorial b...</td>\n      <td>You are an expert in media bias.\\n\\nInstructio...</td>\n      <td>You are an expert in media bias.\\n\\nInstructio...</td>\n      <td>?</td>\n    </tr>\n    <tr>\n      <th>4071</th>\n      <td>Student debt increased by a whopping 107 perce...</td>\n      <td>Instruction: 'The 2010s saw the U.S. economy a...</td>\n      <td>You are an expert in media bias.\\n\\nInstructio...</td>\n      <td>You are an expert in media bias.\\n\\nInstructio...</td>\n      <td>?</td>\n    </tr>\n    <tr>\n      <th>4081</th>\n      <td>Five of eight gun control bills endorsed by De...</td>\n      <td>Instruction: 'The NRA has been a staunch suppo...</td>\n      <td>You are an expert in media bias.\\n\\nInstructio...</td>\n      <td>You are an expert in media bias.\\n\\nInstructio...</td>\n      <td>?</td>\n    </tr>\n    <tr>\n      <th>4105</th>\n      <td>The night before the rant, the Jesus Is King r...</td>\n      <td>Instruction: 'The night before the rant, the J...</td>\n      <td>You are an expert in media bias.\\n\\nInstructio...</td>\n      <td>You are an expert in media bias.\\n\\nInstructio...</td>\n      <td>?</td>\n    </tr>\n    <tr>\n      <th>4120</th>\n      <td>The march then continued to the United States ...</td>\n      <td>Instruction: 'The march then continued to the ...</td>\n      <td>You are an expert in media bias.\\n\\nInstructio...</td>\n      <td>You are an expert in media bias.\\n\\nInstructio...</td>\n      <td>?</td>\n    </tr>\n  </tbody>\n</table>\n<p>325 rows × 5 columns</p>\n</div>"
     },
     "execution_count": 32,
     "metadata": {},
     "output_type": "execute_result"
    }
   ],
   "source": [
    "def update_label(row):\n",
    "    if row['response'].startswith('NOT BIASED') and row[\n",
    "        'label'] == '?':\n",
    "        return 'NOT BIASED'\n",
    "    elif row['response'].startswith('Not BIASED') and row[\n",
    "        'label'] == '?':\n",
    "        return 'NOT BIASED'\n",
    "    elif row['response'].startswith('Answer: NOT BIASED') and row[\n",
    "        'label'] == '?':\n",
    "        return 'NOT BIASED'\n",
    "    elif row['response'].startswith('BIASED') and row[\n",
    "        'label'] == '?':\n",
    "        return 'BIASED'\n",
    "    elif row['response'].startswith('Answer: BIASED') and row[\n",
    "        'label'] == '?':\n",
    "        return 'BIASED'\n",
    "    elif row['response'].startswith('Classification: BIASED') and row[\n",
    "        'label'] == '?':\n",
    "        return 'BIASED'\n",
    "    elif row['response'].startswith('The sentence above is NOT BIASED') and row[\n",
    "        'label'] == '?':\n",
    "        return 'NOT BIASED'\n",
    "    elif row['response'].startswith('The sentence is NOT BIASED') and row[\n",
    "        'label'] == '?':\n",
    "        return 'NOT BIASED'\n",
    "    elif row['response'].startswith('The sentence above is BIASED') and row[\n",
    "        'label'] == '?':\n",
    "        return 'BIASED'\n",
    "    elif row['response'].startswith('The sentence above is classified as BIASED') and row[\n",
    "        'label'] == '?':\n",
    "        return 'BIASED'\n",
    "    elif row['response'].startswith('Classification: NOT BIASED') and row[\n",
    "        'label'] == '?':\n",
    "        return 'NOT BIASED'\n",
    "    elif row['response'].startswith('Explanation: The sentence is not biased') and row[\n",
    "        'label'] == '?':\n",
    "        return 'NOT BIASED'\n",
    "    elif row['response'].startswith('Instruction: \\'The media is biased') and row[\n",
    "        'label'] == '?':\n",
    "        return 'BIASED'\n",
    "    elif row['response'].startswith('Explanation: The sentence is a strong opinion and therefore biased.') and row[\n",
    "        'label'] == '?':\n",
    "        return 'BIASED'\n",
    "    else:\n",
    "        return row['label']\n",
    "\n",
    "df_openchat_4shot['label'] = df_openchat_4shot.apply(update_label, axis=1)\n",
    "df_openchat_4shot.query(\"label == '?'\")"
   ],
   "metadata": {
    "collapsed": false
   }
  },
  {
   "cell_type": "code",
   "execution_count": 33,
   "outputs": [],
   "source": [
    "df_openchat_4shot = df_openchat_4shot.rename(columns={\"label\": \"openchat_label_4shot\"})\n",
    "df_openchat_4shot['openchat_label_4shot'] = df_openchat_4shot['openchat_label_4shot'].replace('BIASED', 1)\n",
    "df_openchat_4shot['openchat_label_4shot'] = df_openchat_4shot['openchat_label_4shot'].replace('NOT BIASED', 0)\n",
    "\n",
    "df_merge_openchat_4shot = pd.merge(df_babe, df_openchat_4shot.query(\"openchat_label_4shot != '?'\"), on='text')\n",
    "ground_truth = df_merge_openchat_4shot['label']\n",
    "openchat_label_4shot = df_merge_openchat_4shot['openchat_label_4shot'].astype(int)"
   ],
   "metadata": {
    "collapsed": false
   }
  },
  {
   "cell_type": "code",
   "execution_count": 34,
   "outputs": [
    {
     "name": "stdout",
     "output_type": "stream",
     "text": [
      "Similarity:\n",
      "F1-Score with openchat (4 shot):  0.7656893627332203\n",
      "Precision with openchat (4 shot):  0.7025344597598933\n",
      "Recall with openchat (4 shot):  0.8413205537806177\n",
      "Accuracy with openchat (4 shot):  0.7384365701920476\n"
     ]
    }
   ],
   "source": [
    "print('Similarity:')\n",
    "print(\"F1-Score with openchat (4 shot): \", f1_score(ground_truth, openchat_label_4shot))\n",
    "print(\"Precision with openchat (4 shot): \", precision_score(ground_truth, openchat_label_4shot))\n",
    "print(\"Recall with openchat (4 shot): \", recall_score(ground_truth, openchat_label_4shot))\n",
    "print(\"Accuracy with openchat (4 shot): \",  accuracy_score(ground_truth, openchat_label_4shot))"
   ],
   "metadata": {
    "collapsed": false
   }
  },
  {
   "cell_type": "code",
   "execution_count": 34,
   "outputs": [],
   "source": [],
   "metadata": {
    "collapsed": false
   }
  },
  {
   "cell_type": "code",
   "execution_count": 34,
   "outputs": [],
   "source": [],
   "metadata": {
    "collapsed": false
   }
  },
  {
   "cell_type": "markdown",
   "source": [
    "# 8 Shot"
   ],
   "metadata": {
    "collapsed": false
   }
  },
  {
   "cell_type": "code",
   "execution_count": 35,
   "outputs": [
    {
     "data": {
      "text/plain": "                                                   text  \\\n0     But instead of closing loopholes that allow cr...   \n1               \"You think I'm joking,\" he continued. \"   \n2     Yes, the rich are rich and want to stay that w...   \n3     Americans are carrying $1.57 trillion in outst...   \n4     Republican state legislators from Texas to Ari...   \n...                                                 ...   \n4116  Far-right talk show host Glenn Beck is being s...   \n4117  After President Donald Trump’s news conference...   \n4118  When Republicans warned Democrats that impeach...   \n4119  Sen. Tom Cotton (R-AR) says it “makes absolute...   \n4120  The march then continued to the United States ...   \n\n                                               response  \\\n0     BIASED\\n\\nInstruction: 'The gun lobby has repe...   \n1     Instruction: 'The president’s likely opponent ...   \n2     BIASED\\n\\nInstruction: 'The president’s likely...   \n3     NOT BIASED\\n\\nInstruction: 'The Trump administ...   \n4     BIASED\\n\\nInstruction: 'The Trump administrati...   \n...                                                 ...   \n4116  BIASED\\n\\nInstruction: 'The coronavirus pandem...   \n4117  BIASED\\n\\nInstruction: 'President Donald Trump...   \n4118  BIASED\\n\\nInstruction: 'The president’s likely...   \n4119  NOT BIASED\\n\\nInstruction: 'The Trump administ...   \n4120  NOT BIASED\\n\\nInstruction: 'The protests in th...   \n\n                                               raw_data  \\\n0     You are an expert in media bias.\\n\\nInstructio...   \n1     You are an expert in media bias.\\n\\nInstructio...   \n2     You are an expert in media bias.\\n\\nInstructio...   \n3     You are an expert in media bias.\\n\\nInstructio...   \n4     You are an expert in media bias.\\n\\nInstructio...   \n...                                                 ...   \n4116  You are an expert in media bias.\\n\\nInstructio...   \n4117  You are an expert in media bias.\\n\\nInstructio...   \n4118  You are an expert in media bias.\\n\\nInstructio...   \n4119  You are an expert in media bias.\\n\\nInstructio...   \n4120  You are an expert in media bias.\\n\\nInstructio...   \n\n                                                  query label  \n0     You are an expert in media bias.\\n\\nInstructio...     ?  \n1     You are an expert in media bias.\\n\\nInstructio...     ?  \n2     You are an expert in media bias.\\n\\nInstructio...     ?  \n3     You are an expert in media bias.\\n\\nInstructio...     ?  \n4     You are an expert in media bias.\\n\\nInstructio...     ?  \n...                                                 ...   ...  \n4116  You are an expert in media bias.\\n\\nInstructio...     ?  \n4117  You are an expert in media bias.\\n\\nInstructio...     ?  \n4118  You are an expert in media bias.\\n\\nInstructio...     ?  \n4119  You are an expert in media bias.\\n\\nInstructio...     ?  \n4120  You are an expert in media bias.\\n\\nInstructio...     ?  \n\n[4022 rows x 5 columns]",
      "text/html": "<div>\n<style scoped>\n    .dataframe tbody tr th:only-of-type {\n        vertical-align: middle;\n    }\n\n    .dataframe tbody tr th {\n        vertical-align: top;\n    }\n\n    .dataframe thead th {\n        text-align: right;\n    }\n</style>\n<table border=\"1\" class=\"dataframe\">\n  <thead>\n    <tr style=\"text-align: right;\">\n      <th></th>\n      <th>text</th>\n      <th>response</th>\n      <th>raw_data</th>\n      <th>query</th>\n      <th>label</th>\n    </tr>\n  </thead>\n  <tbody>\n    <tr>\n      <th>0</th>\n      <td>But instead of closing loopholes that allow cr...</td>\n      <td>BIASED\\n\\nInstruction: 'The gun lobby has repe...</td>\n      <td>You are an expert in media bias.\\n\\nInstructio...</td>\n      <td>You are an expert in media bias.\\n\\nInstructio...</td>\n      <td>?</td>\n    </tr>\n    <tr>\n      <th>1</th>\n      <td>\"You think I'm joking,\" he continued. \"</td>\n      <td>Instruction: 'The president’s likely opponent ...</td>\n      <td>You are an expert in media bias.\\n\\nInstructio...</td>\n      <td>You are an expert in media bias.\\n\\nInstructio...</td>\n      <td>?</td>\n    </tr>\n    <tr>\n      <th>2</th>\n      <td>Yes, the rich are rich and want to stay that w...</td>\n      <td>BIASED\\n\\nInstruction: 'The president’s likely...</td>\n      <td>You are an expert in media bias.\\n\\nInstructio...</td>\n      <td>You are an expert in media bias.\\n\\nInstructio...</td>\n      <td>?</td>\n    </tr>\n    <tr>\n      <th>3</th>\n      <td>Americans are carrying $1.57 trillion in outst...</td>\n      <td>NOT BIASED\\n\\nInstruction: 'The Trump administ...</td>\n      <td>You are an expert in media bias.\\n\\nInstructio...</td>\n      <td>You are an expert in media bias.\\n\\nInstructio...</td>\n      <td>?</td>\n    </tr>\n    <tr>\n      <th>4</th>\n      <td>Republican state legislators from Texas to Ari...</td>\n      <td>BIASED\\n\\nInstruction: 'The Trump administrati...</td>\n      <td>You are an expert in media bias.\\n\\nInstructio...</td>\n      <td>You are an expert in media bias.\\n\\nInstructio...</td>\n      <td>?</td>\n    </tr>\n    <tr>\n      <th>...</th>\n      <td>...</td>\n      <td>...</td>\n      <td>...</td>\n      <td>...</td>\n      <td>...</td>\n    </tr>\n    <tr>\n      <th>4116</th>\n      <td>Far-right talk show host Glenn Beck is being s...</td>\n      <td>BIASED\\n\\nInstruction: 'The coronavirus pandem...</td>\n      <td>You are an expert in media bias.\\n\\nInstructio...</td>\n      <td>You are an expert in media bias.\\n\\nInstructio...</td>\n      <td>?</td>\n    </tr>\n    <tr>\n      <th>4117</th>\n      <td>After President Donald Trump’s news conference...</td>\n      <td>BIASED\\n\\nInstruction: 'President Donald Trump...</td>\n      <td>You are an expert in media bias.\\n\\nInstructio...</td>\n      <td>You are an expert in media bias.\\n\\nInstructio...</td>\n      <td>?</td>\n    </tr>\n    <tr>\n      <th>4118</th>\n      <td>When Republicans warned Democrats that impeach...</td>\n      <td>BIASED\\n\\nInstruction: 'The president’s likely...</td>\n      <td>You are an expert in media bias.\\n\\nInstructio...</td>\n      <td>You are an expert in media bias.\\n\\nInstructio...</td>\n      <td>?</td>\n    </tr>\n    <tr>\n      <th>4119</th>\n      <td>Sen. Tom Cotton (R-AR) says it “makes absolute...</td>\n      <td>NOT BIASED\\n\\nInstruction: 'The Trump administ...</td>\n      <td>You are an expert in media bias.\\n\\nInstructio...</td>\n      <td>You are an expert in media bias.\\n\\nInstructio...</td>\n      <td>?</td>\n    </tr>\n    <tr>\n      <th>4120</th>\n      <td>The march then continued to the United States ...</td>\n      <td>NOT BIASED\\n\\nInstruction: 'The protests in th...</td>\n      <td>You are an expert in media bias.\\n\\nInstructio...</td>\n      <td>You are an expert in media bias.\\n\\nInstructio...</td>\n      <td>?</td>\n    </tr>\n  </tbody>\n</table>\n<p>4022 rows × 5 columns</p>\n</div>"
     },
     "execution_count": 35,
     "metadata": {},
     "output_type": "execute_result"
    }
   ],
   "source": [
    "df_openchat_8shot = pd.read_csv('./similarity/8_shot/openchat_3.5.csv')\n",
    "df_openchat_8shot = df_openchat_8shot.merge(pool['text'], on='text', how='left', indicator=True).query('_merge == \"left_only\"').drop('_merge', axis=1)\n",
    "df_openchat_8shot"
   ],
   "metadata": {
    "collapsed": false
   }
  },
  {
   "cell_type": "code",
   "execution_count": 36,
   "outputs": [
    {
     "data": {
      "text/plain": "                                                   text  \\\n1               \"You think I'm joking,\" he continued. \"   \n23    President of Belarus refuses to cancel sports ...   \n29      They’d be standing aside and waving them on in.   \n32    Jones, founder of the Infowars radio show and ...   \n59    U.S. civil rights groups have enlisted the mul...   \n...                                                 ...   \n4087  Wall Street surged on Thursday as investors we...   \n4103  Proponents of these vaccines twist the Vatican...   \n4104  Minhaj, who used to appear on “The Daily Show”...   \n4106  Elizabeth Warren and Bernie Sanders disagreed ...   \n4110  Yes, there may still be time for the union's m...   \n\n                                               response  \\\n1     Instruction: 'The president’s likely opponent ...   \n23    Instruction: 'The president of Belarus, Alexan...   \n29    Instruction: 'The media has a vested interest ...   \n32    Instruction: 'The National Rifle Association (...   \n59    Instruction: 'The National Rifle Association h...   \n...                                                 ...   \n4087  Instruction: 'The Trump administration is work...   \n4103  Instruction: 'The Catholic Church has long bee...   \n4104  Instruction: 'The U.S. economy is booming and ...   \n4106  Instruction: 'The New York Times, which has en...   \n4110  Instruction: 'The president’s likely opponent ...   \n\n                                               raw_data  \\\n1     You are an expert in media bias.\\n\\nInstructio...   \n23    You are an expert in media bias.\\n\\nInstructio...   \n29    You are an expert in media bias.\\n\\nInstructio...   \n32    You are an expert in media bias.\\n\\nInstructio...   \n59    You are an expert in media bias.\\n\\nInstructio...   \n...                                                 ...   \n4087  You are an expert in media bias.\\n\\nInstructio...   \n4103  You are an expert in media bias.\\n\\nInstructio...   \n4104  You are an expert in media bias.\\n\\nInstructio...   \n4106  You are an expert in media bias.\\n\\nInstructio...   \n4110  You are an expert in media bias.\\n\\nInstructio...   \n\n                                                  query label  \n1     You are an expert in media bias.\\n\\nInstructio...     ?  \n23    You are an expert in media bias.\\n\\nInstructio...     ?  \n29    You are an expert in media bias.\\n\\nInstructio...     ?  \n32    You are an expert in media bias.\\n\\nInstructio...     ?  \n59    You are an expert in media bias.\\n\\nInstructio...     ?  \n...                                                 ...   ...  \n4087  You are an expert in media bias.\\n\\nInstructio...     ?  \n4103  You are an expert in media bias.\\n\\nInstructio...     ?  \n4104  You are an expert in media bias.\\n\\nInstructio...     ?  \n4106  You are an expert in media bias.\\n\\nInstructio...     ?  \n4110  You are an expert in media bias.\\n\\nInstructio...     ?  \n\n[406 rows x 5 columns]",
      "text/html": "<div>\n<style scoped>\n    .dataframe tbody tr th:only-of-type {\n        vertical-align: middle;\n    }\n\n    .dataframe tbody tr th {\n        vertical-align: top;\n    }\n\n    .dataframe thead th {\n        text-align: right;\n    }\n</style>\n<table border=\"1\" class=\"dataframe\">\n  <thead>\n    <tr style=\"text-align: right;\">\n      <th></th>\n      <th>text</th>\n      <th>response</th>\n      <th>raw_data</th>\n      <th>query</th>\n      <th>label</th>\n    </tr>\n  </thead>\n  <tbody>\n    <tr>\n      <th>1</th>\n      <td>\"You think I'm joking,\" he continued. \"</td>\n      <td>Instruction: 'The president’s likely opponent ...</td>\n      <td>You are an expert in media bias.\\n\\nInstructio...</td>\n      <td>You are an expert in media bias.\\n\\nInstructio...</td>\n      <td>?</td>\n    </tr>\n    <tr>\n      <th>23</th>\n      <td>President of Belarus refuses to cancel sports ...</td>\n      <td>Instruction: 'The president of Belarus, Alexan...</td>\n      <td>You are an expert in media bias.\\n\\nInstructio...</td>\n      <td>You are an expert in media bias.\\n\\nInstructio...</td>\n      <td>?</td>\n    </tr>\n    <tr>\n      <th>29</th>\n      <td>They’d be standing aside and waving them on in.</td>\n      <td>Instruction: 'The media has a vested interest ...</td>\n      <td>You are an expert in media bias.\\n\\nInstructio...</td>\n      <td>You are an expert in media bias.\\n\\nInstructio...</td>\n      <td>?</td>\n    </tr>\n    <tr>\n      <th>32</th>\n      <td>Jones, founder of the Infowars radio show and ...</td>\n      <td>Instruction: 'The National Rifle Association (...</td>\n      <td>You are an expert in media bias.\\n\\nInstructio...</td>\n      <td>You are an expert in media bias.\\n\\nInstructio...</td>\n      <td>?</td>\n    </tr>\n    <tr>\n      <th>59</th>\n      <td>U.S. civil rights groups have enlisted the mul...</td>\n      <td>Instruction: 'The National Rifle Association h...</td>\n      <td>You are an expert in media bias.\\n\\nInstructio...</td>\n      <td>You are an expert in media bias.\\n\\nInstructio...</td>\n      <td>?</td>\n    </tr>\n    <tr>\n      <th>...</th>\n      <td>...</td>\n      <td>...</td>\n      <td>...</td>\n      <td>...</td>\n      <td>...</td>\n    </tr>\n    <tr>\n      <th>4087</th>\n      <td>Wall Street surged on Thursday as investors we...</td>\n      <td>Instruction: 'The Trump administration is work...</td>\n      <td>You are an expert in media bias.\\n\\nInstructio...</td>\n      <td>You are an expert in media bias.\\n\\nInstructio...</td>\n      <td>?</td>\n    </tr>\n    <tr>\n      <th>4103</th>\n      <td>Proponents of these vaccines twist the Vatican...</td>\n      <td>Instruction: 'The Catholic Church has long bee...</td>\n      <td>You are an expert in media bias.\\n\\nInstructio...</td>\n      <td>You are an expert in media bias.\\n\\nInstructio...</td>\n      <td>?</td>\n    </tr>\n    <tr>\n      <th>4104</th>\n      <td>Minhaj, who used to appear on “The Daily Show”...</td>\n      <td>Instruction: 'The U.S. economy is booming and ...</td>\n      <td>You are an expert in media bias.\\n\\nInstructio...</td>\n      <td>You are an expert in media bias.\\n\\nInstructio...</td>\n      <td>?</td>\n    </tr>\n    <tr>\n      <th>4106</th>\n      <td>Elizabeth Warren and Bernie Sanders disagreed ...</td>\n      <td>Instruction: 'The New York Times, which has en...</td>\n      <td>You are an expert in media bias.\\n\\nInstructio...</td>\n      <td>You are an expert in media bias.\\n\\nInstructio...</td>\n      <td>?</td>\n    </tr>\n    <tr>\n      <th>4110</th>\n      <td>Yes, there may still be time for the union's m...</td>\n      <td>Instruction: 'The president’s likely opponent ...</td>\n      <td>You are an expert in media bias.\\n\\nInstructio...</td>\n      <td>You are an expert in media bias.\\n\\nInstructio...</td>\n      <td>?</td>\n    </tr>\n  </tbody>\n</table>\n<p>406 rows × 5 columns</p>\n</div>"
     },
     "execution_count": 36,
     "metadata": {},
     "output_type": "execute_result"
    }
   ],
   "source": [
    "def update_label(row):\n",
    "    if row['response'].startswith('NOT BIASED') and row[\n",
    "        'label'] == '?':\n",
    "        return 'NOT BIASED'\n",
    "    elif row['response'].startswith('Not BIASED') and row[\n",
    "        'label'] == '?':\n",
    "        return 'NOT BIASED'\n",
    "    elif row['response'].startswith('Answer: NOT BIASED') and row[\n",
    "        'label'] == '?':\n",
    "        return 'NOT BIASED'\n",
    "    elif row['response'].startswith('BIASED') and row[\n",
    "        'label'] == '?':\n",
    "        return 'BIASED'\n",
    "    elif row['response'].startswith('Answer: BIASED') and row[\n",
    "        'label'] == '?':\n",
    "        return 'BIASED'\n",
    "    elif row['response'].startswith('Classification: BIASED') and row[\n",
    "        'label'] == '?':\n",
    "        return 'BIASED'\n",
    "    elif row['response'].startswith('The sentence above is NOT BIASED') and row[\n",
    "        'label'] == '?':\n",
    "        return 'NOT BIASED'\n",
    "    elif row['response'].startswith('The sentence is NOT BIASED') and row[\n",
    "        'label'] == '?':\n",
    "        return 'NOT BIASED'\n",
    "    elif row['response'].startswith('The sentence above is BIASED') and row[\n",
    "        'label'] == '?':\n",
    "        return 'BIASED'\n",
    "    elif row['response'].startswith('The sentence above is classified as BIASED') and row[\n",
    "        'label'] == '?':\n",
    "        return 'BIASED'\n",
    "    elif row['response'].startswith('Classification: NOT BIASED') and row[\n",
    "        'label'] == '?':\n",
    "        return 'NOT BIASED'\n",
    "    elif row['response'].startswith('Explanation: The sentence is not biased') and row[\n",
    "        'label'] == '?':\n",
    "        return 'NOT BIASED'\n",
    "    elif row['response'].startswith('Instruction: \\'The media is biased') and row[\n",
    "        'label'] == '?':\n",
    "        return 'BIASED'\n",
    "    elif row['response'].startswith('Instruction: BIASED') and row[\n",
    "        'label'] == '?':\n",
    "        return 'BIASED'\n",
    "    elif row['response'].startswith('Explanation: The sentence is a strong opinion and therefore biased.') and row[\n",
    "        'label'] == '?':\n",
    "        return 'BIASED'\n",
    "    else:\n",
    "        return row['label']\n",
    "\n",
    "df_openchat_8shot['label'] = df_openchat_8shot.apply(update_label, axis=1)\n",
    "df_openchat_8shot.query(\"label == '?'\")"
   ],
   "metadata": {
    "collapsed": false
   }
  },
  {
   "cell_type": "code",
   "execution_count": 37,
   "outputs": [],
   "source": [
    "df_openchat_8shot = df_openchat_8shot.rename(columns={\"label\": \"openchat_label_8shot\"})\n",
    "df_openchat_8shot['openchat_label_8shot'] = df_openchat_8shot['openchat_label_8shot'].replace('BIASED', 1)\n",
    "df_openchat_8shot['openchat_label_8shot'] = df_openchat_8shot['openchat_label_8shot'].replace('NOT BIASED', 0)\n",
    "\n",
    "df_merge_openchat_8shot = pd.merge(df_babe, df_openchat_8shot.query(\"openchat_label_8shot != '?'\"), on='text')\n",
    "ground_truth = df_merge_openchat_8shot['label']\n",
    "openchat_label_8shot = df_merge_openchat_8shot['openchat_label_8shot'].astype(int)"
   ],
   "metadata": {
    "collapsed": false
   }
  },
  {
   "cell_type": "code",
   "execution_count": 38,
   "outputs": [
    {
     "name": "stdout",
     "output_type": "stream",
     "text": [
      "Similarity:\n",
      "F1-Score with openchat (8 shot):  0.7641160949868074\n",
      "Precision with openchat (8 shot):  0.7402862985685071\n",
      "Recall with openchat (8 shot):  0.7895310796074155\n",
      "Accuracy with openchat (8 shot):  0.7527654867256637\n"
     ]
    }
   ],
   "source": [
    "print('Similarity:')\n",
    "print(\"F1-Score with openchat (8 shot): \", f1_score(ground_truth, openchat_label_8shot))\n",
    "print(\"Precision with openchat (8 shot): \", precision_score(ground_truth, openchat_label_8shot))\n",
    "print(\"Recall with openchat (8 shot): \", recall_score(ground_truth, openchat_label_8shot))\n",
    "print(\"Accuracy with openchat (8 shot): \",  accuracy_score(ground_truth, openchat_label_8shot))"
   ],
   "metadata": {
    "collapsed": false
   }
  },
  {
   "cell_type": "markdown",
   "source": [
    "# LLama 7b"
   ],
   "metadata": {
    "collapsed": false
   }
  },
  {
   "cell_type": "markdown",
   "source": [
    "# 2 Shot"
   ],
   "metadata": {
    "collapsed": false
   }
  },
  {
   "cell_type": "code",
   "execution_count": 39,
   "outputs": [
    {
     "data": {
      "text/plain": "                                                   text  \\\n0     But instead of closing loopholes that allow cr...   \n1               \"You think I'm joking,\" he continued. \"   \n2     Yes, the rich are rich and want to stay that w...   \n3     Americans are carrying $1.57 trillion in outst...   \n4     Republican state legislators from Texas to Ari...   \n...                                                 ...   \n4114  Larry Kudlow, one of President Donald Trump’s ...   \n4116  Far-right talk show host Glenn Beck is being s...   \n4117  After President Donald Trump’s news conference...   \n4118  When Republicans warned Democrats that impeach...   \n4120  The march then continued to the United States ...   \n\n                                               response  \\\n0     BIASED\\n\\nInstruction: 'The NRA has long argue...   \n1     NOT BIASED\\n\\nInstruction: 'The president's so...   \n2     BIASED\\n\\nInstruction: 'The media is not in th...   \n3     NOT BIASED\\n\\nInstruction: 'The GOP tax plan w...   \n4     BIASED\\n\\nInstruction: 'The new study shows th...   \n...                                                 ...   \n4114  BIASED\\n\\nInstruction: 'The president’s son, D...   \n4116  BIASED\\n\\nInstruction: 'The New York Times has...   \n4117  BIASED\\n\\nInstruction: 'The media is in a fren...   \n4118  BIASED\\n\\nInstruction: 'The president’s suppor...   \n4120  NOT BIASED\\n\\nInstruction: 'The protesters, wh...   \n\n                                               raw_data  \\\n0     You are an expert in media bias.\\n\\nInstructio...   \n1     You are an expert in media bias.\\n\\nInstructio...   \n2     You are an expert in media bias.\\n\\nInstructio...   \n3     You are an expert in media bias.\\n\\nInstructio...   \n4     You are an expert in media bias.\\n\\nInstructio...   \n...                                                 ...   \n4114  You are an expert in media bias.\\n\\nInstructio...   \n4116  You are an expert in media bias.\\n\\nInstructio...   \n4117  You are an expert in media bias.\\n\\nInstructio...   \n4118  You are an expert in media bias.\\n\\nInstructio...   \n4120  You are an expert in media bias.\\n\\nInstructio...   \n\n                                                  query label  \n0     You are an expert in media bias.\\n\\nInstructio...     ?  \n1     You are an expert in media bias.\\n\\nInstructio...     ?  \n2     You are an expert in media bias.\\n\\nInstructio...     ?  \n3     You are an expert in media bias.\\n\\nInstructio...     ?  \n4     You are an expert in media bias.\\n\\nInstructio...     ?  \n...                                                 ...   ...  \n4114  You are an expert in media bias.\\n\\nInstructio...     ?  \n4116  You are an expert in media bias.\\n\\nInstructio...     ?  \n4117  You are an expert in media bias.\\n\\nInstructio...     ?  \n4118  You are an expert in media bias.\\n\\nInstructio...     ?  \n4120  You are an expert in media bias.\\n\\nInstructio...     ?  \n\n[2722 rows x 5 columns]",
      "text/html": "<div>\n<style scoped>\n    .dataframe tbody tr th:only-of-type {\n        vertical-align: middle;\n    }\n\n    .dataframe tbody tr th {\n        vertical-align: top;\n    }\n\n    .dataframe thead th {\n        text-align: right;\n    }\n</style>\n<table border=\"1\" class=\"dataframe\">\n  <thead>\n    <tr style=\"text-align: right;\">\n      <th></th>\n      <th>text</th>\n      <th>response</th>\n      <th>raw_data</th>\n      <th>query</th>\n      <th>label</th>\n    </tr>\n  </thead>\n  <tbody>\n    <tr>\n      <th>0</th>\n      <td>But instead of closing loopholes that allow cr...</td>\n      <td>BIASED\\n\\nInstruction: 'The NRA has long argue...</td>\n      <td>You are an expert in media bias.\\n\\nInstructio...</td>\n      <td>You are an expert in media bias.\\n\\nInstructio...</td>\n      <td>?</td>\n    </tr>\n    <tr>\n      <th>1</th>\n      <td>\"You think I'm joking,\" he continued. \"</td>\n      <td>NOT BIASED\\n\\nInstruction: 'The president's so...</td>\n      <td>You are an expert in media bias.\\n\\nInstructio...</td>\n      <td>You are an expert in media bias.\\n\\nInstructio...</td>\n      <td>?</td>\n    </tr>\n    <tr>\n      <th>2</th>\n      <td>Yes, the rich are rich and want to stay that w...</td>\n      <td>BIASED\\n\\nInstruction: 'The media is not in th...</td>\n      <td>You are an expert in media bias.\\n\\nInstructio...</td>\n      <td>You are an expert in media bias.\\n\\nInstructio...</td>\n      <td>?</td>\n    </tr>\n    <tr>\n      <th>3</th>\n      <td>Americans are carrying $1.57 trillion in outst...</td>\n      <td>NOT BIASED\\n\\nInstruction: 'The GOP tax plan w...</td>\n      <td>You are an expert in media bias.\\n\\nInstructio...</td>\n      <td>You are an expert in media bias.\\n\\nInstructio...</td>\n      <td>?</td>\n    </tr>\n    <tr>\n      <th>4</th>\n      <td>Republican state legislators from Texas to Ari...</td>\n      <td>BIASED\\n\\nInstruction: 'The new study shows th...</td>\n      <td>You are an expert in media bias.\\n\\nInstructio...</td>\n      <td>You are an expert in media bias.\\n\\nInstructio...</td>\n      <td>?</td>\n    </tr>\n    <tr>\n      <th>...</th>\n      <td>...</td>\n      <td>...</td>\n      <td>...</td>\n      <td>...</td>\n      <td>...</td>\n    </tr>\n    <tr>\n      <th>4114</th>\n      <td>Larry Kudlow, one of President Donald Trump’s ...</td>\n      <td>BIASED\\n\\nInstruction: 'The president’s son, D...</td>\n      <td>You are an expert in media bias.\\n\\nInstructio...</td>\n      <td>You are an expert in media bias.\\n\\nInstructio...</td>\n      <td>?</td>\n    </tr>\n    <tr>\n      <th>4116</th>\n      <td>Far-right talk show host Glenn Beck is being s...</td>\n      <td>BIASED\\n\\nInstruction: 'The New York Times has...</td>\n      <td>You are an expert in media bias.\\n\\nInstructio...</td>\n      <td>You are an expert in media bias.\\n\\nInstructio...</td>\n      <td>?</td>\n    </tr>\n    <tr>\n      <th>4117</th>\n      <td>After President Donald Trump’s news conference...</td>\n      <td>BIASED\\n\\nInstruction: 'The media is in a fren...</td>\n      <td>You are an expert in media bias.\\n\\nInstructio...</td>\n      <td>You are an expert in media bias.\\n\\nInstructio...</td>\n      <td>?</td>\n    </tr>\n    <tr>\n      <th>4118</th>\n      <td>When Republicans warned Democrats that impeach...</td>\n      <td>BIASED\\n\\nInstruction: 'The president’s suppor...</td>\n      <td>You are an expert in media bias.\\n\\nInstructio...</td>\n      <td>You are an expert in media bias.\\n\\nInstructio...</td>\n      <td>?</td>\n    </tr>\n    <tr>\n      <th>4120</th>\n      <td>The march then continued to the United States ...</td>\n      <td>NOT BIASED\\n\\nInstruction: 'The protesters, wh...</td>\n      <td>You are an expert in media bias.\\n\\nInstructio...</td>\n      <td>You are an expert in media bias.\\n\\nInstructio...</td>\n      <td>?</td>\n    </tr>\n  </tbody>\n</table>\n<p>2722 rows × 5 columns</p>\n</div>"
     },
     "execution_count": 39,
     "metadata": {},
     "output_type": "execute_result"
    }
   ],
   "source": [
    "df_llama_7b_2shot = pd.read_csv('./similarity/2_shot/Llama-2-7b-chat-hf.csv')\n",
    "df_llama_7b_2shot = df_llama_7b_2shot.merge(pool['text'], on='text', how='left', indicator=True).query('_merge == \"left_only\"').drop('_merge', axis=1)\n",
    "df_llama_7b_2shot.query(\"label == '?'\")"
   ],
   "metadata": {
    "collapsed": false
   }
  },
  {
   "cell_type": "code",
   "execution_count": 40,
   "outputs": [
    {
     "data": {
      "text/plain": "                                                   text  \\\n1318  But COVID-19 is shaking her views. The woman w...   \n\n                                               response  \\\n1318  50:50\\n\\nInstruction: 'The COVID-19 pandemic h...   \n\n                                               raw_data  \\\n1318  You are an expert in media bias.\\n\\nInstructio...   \n\n                                                  query label  \n1318  You are an expert in media bias.\\n\\nInstructio...     ?  ",
      "text/html": "<div>\n<style scoped>\n    .dataframe tbody tr th:only-of-type {\n        vertical-align: middle;\n    }\n\n    .dataframe tbody tr th {\n        vertical-align: top;\n    }\n\n    .dataframe thead th {\n        text-align: right;\n    }\n</style>\n<table border=\"1\" class=\"dataframe\">\n  <thead>\n    <tr style=\"text-align: right;\">\n      <th></th>\n      <th>text</th>\n      <th>response</th>\n      <th>raw_data</th>\n      <th>query</th>\n      <th>label</th>\n    </tr>\n  </thead>\n  <tbody>\n    <tr>\n      <th>1318</th>\n      <td>But COVID-19 is shaking her views. The woman w...</td>\n      <td>50:50\\n\\nInstruction: 'The COVID-19 pandemic h...</td>\n      <td>You are an expert in media bias.\\n\\nInstructio...</td>\n      <td>You are an expert in media bias.\\n\\nInstructio...</td>\n      <td>?</td>\n    </tr>\n  </tbody>\n</table>\n</div>"
     },
     "execution_count": 40,
     "metadata": {},
     "output_type": "execute_result"
    }
   ],
   "source": [
    "def update_label(row):\n",
    "    if row['response'].startswith('NOT BIASED') and row[\n",
    "        'label'] == '?':\n",
    "        return 'NOT BIASED'\n",
    "    elif row['response'].startswith('Not BIASED') and row[\n",
    "        'label'] == '?':\n",
    "        return 'NOT BIASED'\n",
    "    elif row['response'].startswith('Answer: NOT BIASED') and row[\n",
    "        'label'] == '?':\n",
    "        return 'NOT BIASED'\n",
    "    elif row['response'].startswith('BIASED') and row[\n",
    "        'label'] == '?':\n",
    "        return 'BIASED'\n",
    "    else:\n",
    "        return row['label']\n",
    "\n",
    "df_llama_7b_2shot['label'] = df_llama_7b_2shot.apply(update_label, axis=1)\n",
    "df_llama_7b_2shot.query(\"label == '?'\")"
   ],
   "metadata": {
    "collapsed": false
   }
  },
  {
   "cell_type": "code",
   "execution_count": 41,
   "outputs": [],
   "source": [
    "df_llama_7b_2shot = df_llama_7b_2shot.rename(columns={\"label\": \"llama_7b_label_2shot\"})\n",
    "df_llama_7b_2shot['llama_7b_label_2shot'] = df_llama_7b_2shot['llama_7b_label_2shot'].replace('BIASED', 1)\n",
    "df_llama_7b_2shot['llama_7b_label_2shot'] = df_llama_7b_2shot['llama_7b_label_2shot'].replace('NOT BIASED', 0)\n",
    "\n",
    "df_merge_llama_7b_2shot = pd.merge(df_babe, df_llama_7b_2shot.query(\"llama_7b_label_2shot != '?'\"), on='text')\n",
    "ground_truth = df_merge_llama_7b_2shot['label']\n",
    "llama_7b_label_2shot = df_merge_llama_7b_2shot['llama_7b_label_2shot'].astype(int)"
   ],
   "metadata": {
    "collapsed": false
   }
  },
  {
   "cell_type": "code",
   "execution_count": 42,
   "outputs": [
    {
     "name": "stdout",
     "output_type": "stream",
     "text": [
      "Similarity:\n",
      "F1-Score with llama 7b (2 shot):  0.6974959612277868\n",
      "Precision with llama 7b (2 shot):  0.5834459459459459\n",
      "Recall with llama 7b (2 shot):  0.8669678714859438\n",
      "Accuracy with llama 7b (2 shot):  0.6274558567520517\n"
     ]
    }
   ],
   "source": [
    "print('Similarity:')\n",
    "print(\"F1-Score with llama 7b (2 shot): \", f1_score(ground_truth, llama_7b_label_2shot))\n",
    "print(\"Precision with llama 7b (2 shot): \", precision_score(ground_truth, llama_7b_label_2shot))\n",
    "print(\"Recall with llama 7b (2 shot): \", recall_score(ground_truth, llama_7b_label_2shot))\n",
    "print(\"Accuracy with llama 7b (2 shot): \",  accuracy_score(ground_truth, llama_7b_label_2shot))"
   ],
   "metadata": {
    "collapsed": false
   }
  },
  {
   "cell_type": "markdown",
   "source": [
    "# 4 Shot"
   ],
   "metadata": {
    "collapsed": false
   }
  },
  {
   "cell_type": "code",
   "execution_count": 50,
   "outputs": [
    {
     "data": {
      "text/plain": "                                                   text  \\\n0     But instead of closing loopholes that allow cr...   \n1               \"You think I'm joking,\" he continued. \"   \n2     Yes, the rich are rich and want to stay that w...   \n3     Americans are carrying $1.57 trillion in outst...   \n4     Republican state legislators from Texas to Ari...   \n...                                                 ...   \n4116  Far-right talk show host Glenn Beck is being s...   \n4117  After President Donald Trump’s news conference...   \n4118  When Republicans warned Democrats that impeach...   \n4119  Sen. Tom Cotton (R-AR) says it “makes absolute...   \n4120  The march then continued to the United States ...   \n\n                                               response  \\\n0     BIASED\\n\\nInstruction: 'The National Rifle Ass...   \n1     NOT BIASED\\n\\nInstruction: '“I’m not going to ...   \n2     BIASED\\n\\nInstruction: 'The media is in the bu...   \n3     BIASED\\n\\nInstruction: 'The Trump administrati...   \n4     BIASED\\n\\nInstruction: 'The new stimulus packa...   \n...                                                 ...   \n4116  BIASED\\n\\nInstruction: 'The COVID-19 pandemic ...   \n4117  BIASED\\n\\nInstruction: 'The New York Times pub...   \n4118  BIASED\\n\\nInstruction: 'The president’s suppor...   \n4119  BIASED\\n\\nInstruction: 'The president’s decisi...   \n4120  NOT BIASED\\n\\nInstruction: 'The protesters, wh...   \n\n                                               raw_data  \\\n0     You are an expert in media bias.\\n\\nInstructio...   \n1     You are an expert in media bias.\\n\\nInstructio...   \n2     You are an expert in media bias.\\n\\nInstructio...   \n3     You are an expert in media bias.\\n\\nInstructio...   \n4     You are an expert in media bias.\\n\\nInstructio...   \n...                                                 ...   \n4116  You are an expert in media bias.\\n\\nInstructio...   \n4117  You are an expert in media bias.\\n\\nInstructio...   \n4118  You are an expert in media bias.\\n\\nInstructio...   \n4119  You are an expert in media bias.\\n\\nInstructio...   \n4120  You are an expert in media bias.\\n\\nInstructio...   \n\n                                                  query label  \n0     You are an expert in media bias.\\n\\nInstructio...     ?  \n1     You are an expert in media bias.\\n\\nInstructio...     ?  \n2     You are an expert in media bias.\\n\\nInstructio...     ?  \n3     You are an expert in media bias.\\n\\nInstructio...     ?  \n4     You are an expert in media bias.\\n\\nInstructio...     ?  \n...                                                 ...   ...  \n4116  You are an expert in media bias.\\n\\nInstructio...     ?  \n4117  You are an expert in media bias.\\n\\nInstructio...     ?  \n4118  You are an expert in media bias.\\n\\nInstructio...     ?  \n4119  You are an expert in media bias.\\n\\nInstructio...     ?  \n4120  You are an expert in media bias.\\n\\nInstructio...     ?  \n\n[3704 rows x 5 columns]",
      "text/html": "<div>\n<style scoped>\n    .dataframe tbody tr th:only-of-type {\n        vertical-align: middle;\n    }\n\n    .dataframe tbody tr th {\n        vertical-align: top;\n    }\n\n    .dataframe thead th {\n        text-align: right;\n    }\n</style>\n<table border=\"1\" class=\"dataframe\">\n  <thead>\n    <tr style=\"text-align: right;\">\n      <th></th>\n      <th>text</th>\n      <th>response</th>\n      <th>raw_data</th>\n      <th>query</th>\n      <th>label</th>\n    </tr>\n  </thead>\n  <tbody>\n    <tr>\n      <th>0</th>\n      <td>But instead of closing loopholes that allow cr...</td>\n      <td>BIASED\\n\\nInstruction: 'The National Rifle Ass...</td>\n      <td>You are an expert in media bias.\\n\\nInstructio...</td>\n      <td>You are an expert in media bias.\\n\\nInstructio...</td>\n      <td>?</td>\n    </tr>\n    <tr>\n      <th>1</th>\n      <td>\"You think I'm joking,\" he continued. \"</td>\n      <td>NOT BIASED\\n\\nInstruction: '“I’m not going to ...</td>\n      <td>You are an expert in media bias.\\n\\nInstructio...</td>\n      <td>You are an expert in media bias.\\n\\nInstructio...</td>\n      <td>?</td>\n    </tr>\n    <tr>\n      <th>2</th>\n      <td>Yes, the rich are rich and want to stay that w...</td>\n      <td>BIASED\\n\\nInstruction: 'The media is in the bu...</td>\n      <td>You are an expert in media bias.\\n\\nInstructio...</td>\n      <td>You are an expert in media bias.\\n\\nInstructio...</td>\n      <td>?</td>\n    </tr>\n    <tr>\n      <th>3</th>\n      <td>Americans are carrying $1.57 trillion in outst...</td>\n      <td>BIASED\\n\\nInstruction: 'The Trump administrati...</td>\n      <td>You are an expert in media bias.\\n\\nInstructio...</td>\n      <td>You are an expert in media bias.\\n\\nInstructio...</td>\n      <td>?</td>\n    </tr>\n    <tr>\n      <th>4</th>\n      <td>Republican state legislators from Texas to Ari...</td>\n      <td>BIASED\\n\\nInstruction: 'The new stimulus packa...</td>\n      <td>You are an expert in media bias.\\n\\nInstructio...</td>\n      <td>You are an expert in media bias.\\n\\nInstructio...</td>\n      <td>?</td>\n    </tr>\n    <tr>\n      <th>...</th>\n      <td>...</td>\n      <td>...</td>\n      <td>...</td>\n      <td>...</td>\n      <td>...</td>\n    </tr>\n    <tr>\n      <th>4116</th>\n      <td>Far-right talk show host Glenn Beck is being s...</td>\n      <td>BIASED\\n\\nInstruction: 'The COVID-19 pandemic ...</td>\n      <td>You are an expert in media bias.\\n\\nInstructio...</td>\n      <td>You are an expert in media bias.\\n\\nInstructio...</td>\n      <td>?</td>\n    </tr>\n    <tr>\n      <th>4117</th>\n      <td>After President Donald Trump’s news conference...</td>\n      <td>BIASED\\n\\nInstruction: 'The New York Times pub...</td>\n      <td>You are an expert in media bias.\\n\\nInstructio...</td>\n      <td>You are an expert in media bias.\\n\\nInstructio...</td>\n      <td>?</td>\n    </tr>\n    <tr>\n      <th>4118</th>\n      <td>When Republicans warned Democrats that impeach...</td>\n      <td>BIASED\\n\\nInstruction: 'The president’s suppor...</td>\n      <td>You are an expert in media bias.\\n\\nInstructio...</td>\n      <td>You are an expert in media bias.\\n\\nInstructio...</td>\n      <td>?</td>\n    </tr>\n    <tr>\n      <th>4119</th>\n      <td>Sen. Tom Cotton (R-AR) says it “makes absolute...</td>\n      <td>BIASED\\n\\nInstruction: 'The president’s decisi...</td>\n      <td>You are an expert in media bias.\\n\\nInstructio...</td>\n      <td>You are an expert in media bias.\\n\\nInstructio...</td>\n      <td>?</td>\n    </tr>\n    <tr>\n      <th>4120</th>\n      <td>The march then continued to the United States ...</td>\n      <td>NOT BIASED\\n\\nInstruction: 'The protesters, wh...</td>\n      <td>You are an expert in media bias.\\n\\nInstructio...</td>\n      <td>You are an expert in media bias.\\n\\nInstructio...</td>\n      <td>?</td>\n    </tr>\n  </tbody>\n</table>\n<p>3704 rows × 5 columns</p>\n</div>"
     },
     "execution_count": 50,
     "metadata": {},
     "output_type": "execute_result"
    }
   ],
   "source": [
    "df_llama_7b_4shot = pd.read_csv('./similarity/4_shot/Llama-2-7b-chat-hf.csv')\n",
    "df_llama_7b_4shot = df_llama_7b_4shot.merge(pool['text'], on='text', how='left', indicator=True).query('_merge == \"left_only\"').drop('_merge', axis=1)\n",
    "df_llama_7b_4shot.query(\"label == '?'\")"
   ],
   "metadata": {
    "collapsed": false
   }
  },
  {
   "cell_type": "code",
   "execution_count": 49,
   "outputs": [
    {
     "data": {
      "text/plain": "                                                   text  \\\n997   Congressional Democrats are disputing the pres...   \n1841  A mix of militia members, Confederate follower...   \n\n                                               response  \\\n997   50/50 BIASED\\n\\nInstruction: 'The president's ...   \n1841  50/50\\n\\nInstruction: 'A group of white suprem...   \n\n                                               raw_data  \\\n997   You are an expert in media bias.\\n\\nInstructio...   \n1841  You are an expert in media bias.\\n\\nInstructio...   \n\n                                                  query label  \n997   You are an expert in media bias.\\n\\nInstructio...     ?  \n1841  You are an expert in media bias.\\n\\nInstructio...     ?  ",
      "text/html": "<div>\n<style scoped>\n    .dataframe tbody tr th:only-of-type {\n        vertical-align: middle;\n    }\n\n    .dataframe tbody tr th {\n        vertical-align: top;\n    }\n\n    .dataframe thead th {\n        text-align: right;\n    }\n</style>\n<table border=\"1\" class=\"dataframe\">\n  <thead>\n    <tr style=\"text-align: right;\">\n      <th></th>\n      <th>text</th>\n      <th>response</th>\n      <th>raw_data</th>\n      <th>query</th>\n      <th>label</th>\n    </tr>\n  </thead>\n  <tbody>\n    <tr>\n      <th>997</th>\n      <td>Congressional Democrats are disputing the pres...</td>\n      <td>50/50 BIASED\\n\\nInstruction: 'The president's ...</td>\n      <td>You are an expert in media bias.\\n\\nInstructio...</td>\n      <td>You are an expert in media bias.\\n\\nInstructio...</td>\n      <td>?</td>\n    </tr>\n    <tr>\n      <th>1841</th>\n      <td>A mix of militia members, Confederate follower...</td>\n      <td>50/50\\n\\nInstruction: 'A group of white suprem...</td>\n      <td>You are an expert in media bias.\\n\\nInstructio...</td>\n      <td>You are an expert in media bias.\\n\\nInstructio...</td>\n      <td>?</td>\n    </tr>\n  </tbody>\n</table>\n</div>"
     },
     "execution_count": 49,
     "metadata": {},
     "output_type": "execute_result"
    }
   ],
   "source": [
    "def update_label(row):\n",
    "    if row['response'].startswith('NOT BIASED') and row[\n",
    "        'label'] == '?':\n",
    "        return 'NOT BIASED'\n",
    "    elif row['response'].startswith('Not BIASED') and row[\n",
    "        'label'] == '?':\n",
    "        return 'NOT BIASED'\n",
    "    elif row['response'].startswith('Answer: NOT BIASED') and row[\n",
    "        'label'] == '?':\n",
    "        return 'NOT BIASED'\n",
    "    elif row['response'].startswith('BIASED') and row[\n",
    "        'label'] == '?':\n",
    "        return 'BIASED'\n",
    "    else:\n",
    "        return row['label']\n",
    "\n",
    "df_llama_7b_4shot['label'] = df_llama_7b_4shot.apply(update_label, axis=1)\n",
    "df_llama_7b_4shot.query(\"label == '?'\")"
   ],
   "metadata": {
    "collapsed": false
   }
  },
  {
   "cell_type": "code",
   "execution_count": 51,
   "outputs": [],
   "source": [
    "df_llama_7b_4shot = df_llama_7b_4shot.rename(columns={\"label\": \"llama_7b_label_4shot\"})\n",
    "df_llama_7b_4shot['llama_7b_label_4shot'] = df_llama_7b_4shot['llama_7b_label_4shot'].replace('BIASED', 1)\n",
    "df_llama_7b_4shot['llama_7b_label_4shot'] = df_llama_7b_4shot['llama_7b_label_4shot'].replace('NOT BIASED', 0)\n",
    "\n",
    "df_merge_llama_7b_4shot = pd.merge(df_babe, df_llama_7b_4shot.query(\"llama_7b_label_4shot != '?'\"), on='text')\n",
    "ground_truth = df_merge_llama_7b_4shot['label']\n",
    "llama_7b_label_4shot = df_merge_llama_7b_4shot['llama_7b_label_4shot'].astype(int)"
   ],
   "metadata": {
    "collapsed": false
   }
  },
  {
   "cell_type": "code",
   "execution_count": 52,
   "outputs": [
    {
     "name": "stdout",
     "output_type": "stream",
     "text": [
      "Similarity:\n",
      "F1-Score with llama 7b (4 shot):  0.5333333333333333\n",
      "Precision with llama 7b (4 shot):  0.3737024221453287\n",
      "Recall with llama 7b (4 shot):  0.9310344827586207\n",
      "Accuracy with llama 7b (4 shot):  0.4056603773584906\n"
     ]
    }
   ],
   "source": [
    "print('Similarity:')\n",
    "print(\"F1-Score with llama 7b (4 shot): \", f1_score(ground_truth, llama_7b_label_4shot))\n",
    "print(\"Precision with llama 7b (4 shot): \", precision_score(ground_truth, llama_7b_label_4shot))\n",
    "print(\"Recall with llama 7b (4 shot): \", recall_score(ground_truth, llama_7b_label_4shot))\n",
    "print(\"Accuracy with llama 7b (4 shot): \",  accuracy_score(ground_truth, llama_7b_label_4shot))"
   ],
   "metadata": {
    "collapsed": false
   }
  },
  {
   "cell_type": "markdown",
   "source": [
    "# 8 Shot"
   ],
   "metadata": {
    "collapsed": false
   }
  },
  {
   "cell_type": "code",
   "execution_count": 53,
   "outputs": [
    {
     "data": {
      "text/plain": "                                                   text  \\\n0     But instead of closing loopholes that allow cr...   \n1               \"You think I'm joking,\" he continued. \"   \n2     Yes, the rich are rich and want to stay that w...   \n3     Americans are carrying $1.57 trillion in outst...   \n4     Republican state legislators from Texas to Ari...   \n...                                                 ...   \n4116  Far-right talk show host Glenn Beck is being s...   \n4117  After President Donald Trump’s news conference...   \n4118  When Republicans warned Democrats that impeach...   \n4119  Sen. Tom Cotton (R-AR) says it “makes absolute...   \n4120  The march then continued to the United States ...   \n\n                                               response  \\\n0     BIASED\\n\\nInstruction: 'The NRA has long been ...   \n1     BIASED\\n\\nInstruction: 'The president’s son, D...   \n2     BIASED\\n\\nInstruction: 'The media is not a mon...   \n3     BIASED\\n\\nInstruction: 'The Trump administrati...   \n4     BIASED\\n\\nInstruction: 'The pandemic has expos...   \n...                                                 ...   \n4116  BIASED\\n\\nInstruction: 'The COVID-19 pandemic ...   \n4117  BIASED\\n\\nInstruction: 'President Donald Trump...   \n4118  BIASED\\n\\nInstruction: 'The president’s decisi...   \n4119  BIASED\\n\\nInstruction: 'The New York Times edi...   \n4120  NOT BIASED\\n\\nInstruction: 'The protesters, wh...   \n\n                                               raw_data  \\\n0     You are an expert in media bias.\\n\\nInstructio...   \n1     You are an expert in media bias.\\n\\nInstructio...   \n2     You are an expert in media bias.\\n\\nInstructio...   \n3     You are an expert in media bias.\\n\\nInstructio...   \n4     You are an expert in media bias.\\n\\nInstructio...   \n...                                                 ...   \n4116  You are an expert in media bias.\\n\\nInstructio...   \n4117  You are an expert in media bias.\\n\\nInstructio...   \n4118  You are an expert in media bias.\\n\\nInstructio...   \n4119  You are an expert in media bias.\\n\\nInstructio...   \n4120  You are an expert in media bias.\\n\\nInstructio...   \n\n                                                  query label  \n0     You are an expert in media bias.\\n\\nInstructio...     ?  \n1     You are an expert in media bias.\\n\\nInstructio...     ?  \n2     You are an expert in media bias.\\n\\nInstructio...     ?  \n3     You are an expert in media bias.\\n\\nInstructio...     ?  \n4     You are an expert in media bias.\\n\\nInstructio...     ?  \n...                                                 ...   ...  \n4116  You are an expert in media bias.\\n\\nInstructio...     ?  \n4117  You are an expert in media bias.\\n\\nInstructio...     ?  \n4118  You are an expert in media bias.\\n\\nInstructio...     ?  \n4119  You are an expert in media bias.\\n\\nInstructio...     ?  \n4120  You are an expert in media bias.\\n\\nInstructio...     ?  \n\n[4015 rows x 5 columns]",
      "text/html": "<div>\n<style scoped>\n    .dataframe tbody tr th:only-of-type {\n        vertical-align: middle;\n    }\n\n    .dataframe tbody tr th {\n        vertical-align: top;\n    }\n\n    .dataframe thead th {\n        text-align: right;\n    }\n</style>\n<table border=\"1\" class=\"dataframe\">\n  <thead>\n    <tr style=\"text-align: right;\">\n      <th></th>\n      <th>text</th>\n      <th>response</th>\n      <th>raw_data</th>\n      <th>query</th>\n      <th>label</th>\n    </tr>\n  </thead>\n  <tbody>\n    <tr>\n      <th>0</th>\n      <td>But instead of closing loopholes that allow cr...</td>\n      <td>BIASED\\n\\nInstruction: 'The NRA has long been ...</td>\n      <td>You are an expert in media bias.\\n\\nInstructio...</td>\n      <td>You are an expert in media bias.\\n\\nInstructio...</td>\n      <td>?</td>\n    </tr>\n    <tr>\n      <th>1</th>\n      <td>\"You think I'm joking,\" he continued. \"</td>\n      <td>BIASED\\n\\nInstruction: 'The president’s son, D...</td>\n      <td>You are an expert in media bias.\\n\\nInstructio...</td>\n      <td>You are an expert in media bias.\\n\\nInstructio...</td>\n      <td>?</td>\n    </tr>\n    <tr>\n      <th>2</th>\n      <td>Yes, the rich are rich and want to stay that w...</td>\n      <td>BIASED\\n\\nInstruction: 'The media is not a mon...</td>\n      <td>You are an expert in media bias.\\n\\nInstructio...</td>\n      <td>You are an expert in media bias.\\n\\nInstructio...</td>\n      <td>?</td>\n    </tr>\n    <tr>\n      <th>3</th>\n      <td>Americans are carrying $1.57 trillion in outst...</td>\n      <td>BIASED\\n\\nInstruction: 'The Trump administrati...</td>\n      <td>You are an expert in media bias.\\n\\nInstructio...</td>\n      <td>You are an expert in media bias.\\n\\nInstructio...</td>\n      <td>?</td>\n    </tr>\n    <tr>\n      <th>4</th>\n      <td>Republican state legislators from Texas to Ari...</td>\n      <td>BIASED\\n\\nInstruction: 'The pandemic has expos...</td>\n      <td>You are an expert in media bias.\\n\\nInstructio...</td>\n      <td>You are an expert in media bias.\\n\\nInstructio...</td>\n      <td>?</td>\n    </tr>\n    <tr>\n      <th>...</th>\n      <td>...</td>\n      <td>...</td>\n      <td>...</td>\n      <td>...</td>\n      <td>...</td>\n    </tr>\n    <tr>\n      <th>4116</th>\n      <td>Far-right talk show host Glenn Beck is being s...</td>\n      <td>BIASED\\n\\nInstruction: 'The COVID-19 pandemic ...</td>\n      <td>You are an expert in media bias.\\n\\nInstructio...</td>\n      <td>You are an expert in media bias.\\n\\nInstructio...</td>\n      <td>?</td>\n    </tr>\n    <tr>\n      <th>4117</th>\n      <td>After President Donald Trump’s news conference...</td>\n      <td>BIASED\\n\\nInstruction: 'President Donald Trump...</td>\n      <td>You are an expert in media bias.\\n\\nInstructio...</td>\n      <td>You are an expert in media bias.\\n\\nInstructio...</td>\n      <td>?</td>\n    </tr>\n    <tr>\n      <th>4118</th>\n      <td>When Republicans warned Democrats that impeach...</td>\n      <td>BIASED\\n\\nInstruction: 'The president’s decisi...</td>\n      <td>You are an expert in media bias.\\n\\nInstructio...</td>\n      <td>You are an expert in media bias.\\n\\nInstructio...</td>\n      <td>?</td>\n    </tr>\n    <tr>\n      <th>4119</th>\n      <td>Sen. Tom Cotton (R-AR) says it “makes absolute...</td>\n      <td>BIASED\\n\\nInstruction: 'The New York Times edi...</td>\n      <td>You are an expert in media bias.\\n\\nInstructio...</td>\n      <td>You are an expert in media bias.\\n\\nInstructio...</td>\n      <td>?</td>\n    </tr>\n    <tr>\n      <th>4120</th>\n      <td>The march then continued to the United States ...</td>\n      <td>NOT BIASED\\n\\nInstruction: 'The protesters, wh...</td>\n      <td>You are an expert in media bias.\\n\\nInstructio...</td>\n      <td>You are an expert in media bias.\\n\\nInstructio...</td>\n      <td>?</td>\n    </tr>\n  </tbody>\n</table>\n<p>4015 rows × 5 columns</p>\n</div>"
     },
     "execution_count": 53,
     "metadata": {},
     "output_type": "execute_result"
    }
   ],
   "source": [
    "df_llama_7b_8shot = pd.read_csv('./similarity/8_shot/Llama-2-7b-chat-hf.csv')\n",
    "df_llama_7b_8shot = df_llama_7b_8shot.merge(pool['text'], on='text', how='left', indicator=True).query('_merge == \"left_only\"').drop('_merge', axis=1)\n",
    "df_llama_7b_8shot.query(\"label == '?'\")"
   ],
   "metadata": {
    "collapsed": false
   }
  },
  {
   "cell_type": "code",
   "execution_count": 54,
   "outputs": [
    {
     "data": {
      "text/plain": "Empty DataFrame\nColumns: [text, response, raw_data, query, label]\nIndex: []",
      "text/html": "<div>\n<style scoped>\n    .dataframe tbody tr th:only-of-type {\n        vertical-align: middle;\n    }\n\n    .dataframe tbody tr th {\n        vertical-align: top;\n    }\n\n    .dataframe thead th {\n        text-align: right;\n    }\n</style>\n<table border=\"1\" class=\"dataframe\">\n  <thead>\n    <tr style=\"text-align: right;\">\n      <th></th>\n      <th>text</th>\n      <th>response</th>\n      <th>raw_data</th>\n      <th>query</th>\n      <th>label</th>\n    </tr>\n  </thead>\n  <tbody>\n  </tbody>\n</table>\n</div>"
     },
     "execution_count": 54,
     "metadata": {},
     "output_type": "execute_result"
    }
   ],
   "source": [
    "def update_label(row):\n",
    "    if row['response'].startswith('NOT BIASED') and row[\n",
    "        'label'] == '?':\n",
    "        return 'NOT BIASED'\n",
    "    elif row['response'].startswith('Not BIASED') and row[\n",
    "        'label'] == '?':\n",
    "        return 'NOT BIASED'\n",
    "    elif row['response'].startswith('Answer: NOT BIASED') and row[\n",
    "        'label'] == '?':\n",
    "        return 'NOT BIASED'\n",
    "    elif row['response'].startswith('BIASED') and row[\n",
    "        'label'] == '?':\n",
    "        return 'BIASED'\n",
    "    else:\n",
    "        return row['label']\n",
    "\n",
    "df_llama_7b_8shot['label'] = df_llama_7b_8shot.apply(update_label, axis=1)\n",
    "df_llama_7b_8shot.query(\"label == '?'\")"
   ],
   "metadata": {
    "collapsed": false
   }
  },
  {
   "cell_type": "code",
   "execution_count": 55,
   "outputs": [],
   "source": [
    "df_llama_7b_8shot = df_llama_7b_8shot.rename(columns={\"label\": \"llama_7b_label_8shot\"})\n",
    "df_llama_7b_8shot['llama_7b_label_8shot'] = df_llama_7b_8shot['llama_7b_label_8shot'].replace('BIASED', 1)\n",
    "df_llama_7b_8shot['llama_7b_label_8shot'] = df_llama_7b_8shot['llama_7b_label_8shot'].replace('NOT BIASED', 0)\n",
    "\n",
    "df_merge_llama_7b_8shot = pd.merge(df_babe, df_llama_7b_8shot.query(\"llama_7b_label_8shot != '?'\"), on='text')\n",
    "ground_truth = df_merge_llama_7b_8shot['label']\n",
    "llama_7b_label_8shot = df_merge_llama_7b_8shot['llama_7b_label_8shot'].astype(int)"
   ],
   "metadata": {
    "collapsed": false
   }
  },
  {
   "cell_type": "code",
   "execution_count": 56,
   "outputs": [
    {
     "name": "stdout",
     "output_type": "stream",
     "text": [
      "Similarity:\n",
      "F1-Score with llama 7b (8 shot):  0.7434912505335041\n",
      "Precision with llama 7b (8 shot):  0.6466221232368226\n",
      "Recall with llama 7b (8 shot):  0.8744979919678715\n",
      "Accuracy with llama 7b (8 shot):  0.7011437095972153\n"
     ]
    }
   ],
   "source": [
    "print('Similarity:')\n",
    "print(\"F1-Score with llama 7b (8 shot): \", f1_score(ground_truth, llama_7b_label_8shot))\n",
    "print(\"Precision with llama 7b (8 shot): \", precision_score(ground_truth, llama_7b_label_8shot))\n",
    "print(\"Recall with llama 7b (8 shot): \", recall_score(ground_truth, llama_7b_label_8shot))\n",
    "print(\"Accuracy with llama 7b (8 shot): \",  accuracy_score(ground_truth, llama_7b_label_8shot))"
   ],
   "metadata": {
    "collapsed": false
   }
  }
 ],
 "metadata": {
  "kernelspec": {
   "display_name": "Python 3",
   "language": "python",
   "name": "python3"
  },
  "language_info": {
   "codemirror_mode": {
    "name": "ipython",
    "version": 2
   },
   "file_extension": ".py",
   "mimetype": "text/x-python",
   "name": "python",
   "nbconvert_exporter": "python",
   "pygments_lexer": "ipython2",
   "version": "2.7.6"
  }
 },
 "nbformat": 4,
 "nbformat_minor": 0
}
