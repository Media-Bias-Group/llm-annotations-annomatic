{
 "cells": [
  {
   "cell_type": "code",
   "execution_count": 1,
   "metadata": {},
   "outputs": [],
   "source": [
    "import pandas as pd"
   ]
  },
  {
   "cell_type": "code",
   "execution_count": 2,
   "metadata": {},
   "outputs": [],
   "source": [
    "train = pd.read_parquet('../annomatic-dataset/data/training/anno-lexical-train.parquet')\n",
    "dev = pd.read_parquet('../annomatic-dataset/data/training/anno-lexical-dev.parquet')\n"
   ]
  },
  {
   "cell_type": "code",
   "execution_count": 3,
   "metadata": {},
   "outputs": [
    {
     "data": {
      "text/plain": [
       "source_party\n",
       "Right         1863\n",
       "Left          1830\n",
       "Lean Left     1445\n",
       "Lean Right    1335\n",
       "Center         776\n",
       "Name: count, dtype: int64"
      ]
     },
     "execution_count": 3,
     "metadata": {},
     "output_type": "execute_result"
    }
   ],
   "source": [
    "dev.source_party.value_counts()"
   ]
  },
  {
   "cell_type": "code",
   "execution_count": 4,
   "metadata": {},
   "outputs": [],
   "source": [
    "train_left = train[train['source_party'].isin(['Left','Lean Left'])]\n",
    "train_right = train[train['source_party'].isin(['Right','Lean Right'])]\n",
    "dev_left = dev[dev['source_party'].isin(['Left','Lean Left'])]\n",
    "dev_right = dev[dev['source_party'].isin(['Right','Lean Right'])]\n",
    "train_balanced = train.sample(15000)\n",
    "dev_balanced = dev"
   ]
  },
  {
   "cell_type": "code",
   "execution_count": 9,
   "metadata": {},
   "outputs": [],
   "source": [
    "train_left.to_parquet('data/anno-lexical-train-left.parquet',index=False)\n",
    "train_right.to_parquet('data/anno-lexical-train-right.parquet',index=False)\n",
    "dev_left.to_parquet('data/anno-lexical-dev-left.parquet',index=False)\n",
    "dev_right.to_parquet('data/anno-lexical-dev-right.parquet',index=False)\n",
    "train_balanced.to_parquet('data/anno-lexical-train-balanced.parquet',index=False)\n",
    "dev_balanced.to_parquet('data/anno-lexical-dev-balanced.parquet',index=False)"
   ]
  }
 ],
 "metadata": {
  "kernelspec": {
   "display_name": "Python 3",
   "language": "python",
   "name": "python3"
  },
  "language_info": {
   "codemirror_mode": {
    "name": "ipython",
    "version": 3
   },
   "file_extension": ".py",
   "mimetype": "text/x-python",
   "name": "python",
   "nbconvert_exporter": "python",
   "pygments_lexer": "ipython3",
   "version": "3.10.12"
  }
 },
 "nbformat": 4,
 "nbformat_minor": 2
}
