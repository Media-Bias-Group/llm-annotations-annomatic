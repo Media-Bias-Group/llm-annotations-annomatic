{
 "cells": [
  {
   "cell_type": "code",
   "execution_count": null,
   "metadata": {},
   "outputs": [],
   "source": [
    "import pandas as pd\n",
    "import numpy as np\n",
    "import re\n",
    "import seaborn as sns\n",
    "import matplotlib.pyplot as plt\n",
    "\n",
    "import nltk\n",
    "from nltk.corpus import stopwords\n",
    "from nltk import word_tokenize, pos_tag, ne_chunk\n",
    "\n",
    "nltk.download(\"maxent_ne_chunker\")\n",
    "nltk.download(\"words\")\n",
    "nltk.download(\"averaged_perceptron_tagger\")\n",
    "nltk.download(\"punkt\")\n",
    "nltk.download(\"stopwords\")\n",
    "stop_words = set(stopwords.words(\"english\"))\n",
    "\n",
    "\n",
    "def is_noise(word):\n",
    "    return (\n",
    "        word.lower() in stop_words\n",
    "        or word.isdigit()\n",
    "        or re.match(r\"^\\W+$\", word) is not None\n",
    "        or re.match(r\"[\\U0001F600-\\U0001F64F]\", word) is not None\n",
    "    )\n",
    "\n",
    "\n",
    "def is_named_entity(token):\n",
    "    tagged_token = pos_tag([token])\n",
    "    chunk = ne_chunk(tagged_token)\n",
    "    for subtree in chunk:\n",
    "        if hasattr(subtree, \"label\"):\n",
    "            return True\n",
    "    return False"
   ]
  },
  {
   "cell_type": "code",
   "execution_count": 8,
   "metadata": {},
   "outputs": [],
   "source": [
    "base = pd.read_csv('data/BABE/babe.csv').rename(columns={'Unnamed: 0':'token'})\n",
    "magpie = pd.read_csv('data/BABE/magpie.csv').rename(columns={'Unnamed: 0':'token'})\n",
    "synth = pd.read_csv('data/BABE/synth.csv').rename(columns={'Unnamed: 0':'token'})\n",
    "\n",
    "# cast to strings (some tokens are numbers)\n",
    "base['token'] = base['token'].astype(str)\n",
    "magpie['token'] = magpie['token'].astype(str)\n",
    "synth['token'] = synth['token'].astype(str)\n",
    "\n",
    "# remove stopwords, numbers, emojis, etc.\n",
    "base = base[~base[\"token\"].apply(is_noise)]\n",
    "magpie = magpie[~magpie[\"token\"].apply(is_noise)]\n",
    "synth = synth[~synth[\"token\"].apply(is_noise)]\n",
    "\n",
    "# only consider non-negative attributions \n",
    "magpie = magpie[magpie['attribution'] >= 0]\n",
    "base = base[base['attribution'] >= 0]\n",
    "synth = synth[synth['attribution'] >= 0]\n"
   ]
  },
  {
   "cell_type": "markdown",
   "metadata": {},
   "source": [
    "### average attributions to Named Entities"
   ]
  },
  {
   "cell_type": "code",
   "execution_count": 21,
   "metadata": {},
   "outputs": [],
   "source": [
    "def get_percentage_of_NER_attributions(df):\n",
    "    ner_attributions = df[df['token'].apply(is_named_entity)]['attribution'].sum()\n",
    "    all_attributions = df['attribution'].sum()\n",
    "    return ner_attributions/all_attributions"
   ]
  },
  {
   "cell_type": "code",
   "execution_count": 24,
   "metadata": {},
   "outputs": [
    {
     "data": {
      "text/plain": [
       "0.09785730346662938"
      ]
     },
     "execution_count": 24,
     "metadata": {},
     "output_type": "execute_result"
    }
   ],
   "source": [
    "get_percentage_of_NER_attributions(synth)"
   ]
  },
  {
   "cell_type": "code",
   "execution_count": 17,
   "metadata": {},
   "outputs": [
    {
     "name": "stdout",
     "output_type": "stream",
     "text": [
      "base attribution:  0.11847788212482634\n",
      "magpie attribution:  0.06218049519729795\n",
      "synth attribution:  0.08675489275717088\n"
     ]
    },
    {
     "data": {
      "image/png": "[encoded data removed]",
      "text/plain": [
       "<Figure size 640x480 with 1 Axes>"
      ]
     },
     "metadata": {},
     "output_type": "display_data"
    }
   ],
   "source": [
    "magpie_mean = magpie[magpie['token'].apply(is_named_entity)]['attribution'].mean()\n",
    "base_mean = base[base['token'].apply(is_named_entity)]['attribution'].mean()\n",
    "synth_mean = synth[synth['token'].apply(is_named_entity)]['attribution'].mean()\n",
    "\n",
    "data = pd.DataFrame({\n",
    "    'model': ['Base', 'Magpie', 'Synth'],\n",
    "    'mean Attribution': [base_mean, magpie_mean, synth_mean]\n",
    "})\n",
    "sns.barplot(x='model', y='mean Attribution', data=data)\n",
    "\n",
    "plt.xlabel('model')  # Label for x-axis\n",
    "plt.ylabel('mean attribution')  # Label for y-axis\n",
    "plt.title('Average attributions to named entities')  # Optional: Add a title\n",
    "\n",
    "\n",
    "print(\"base attribution: \",base_mean)\n",
    "print(\"magpie attribution: \",magpie_mean)\n",
    "print(\"synth attribution: \",synth_mean)"
   ]
  }
 ],
 "metadata": {
  "kernelspec": {
   "display_name": "Python 3",
   "language": "python",
   "name": "python3"
  },
  "language_info": {
   "codemirror_mode": {
    "name": "ipython",
    "version": 3
   },
   "file_extension": ".py",
   "mimetype": "text/x-python",
   "name": "python",
   "nbconvert_exporter": "python",
   "pygments_lexer": "ipython3",
   "version": "3.10.12"
  }
 },
 "nbformat": 4,
 "nbformat_minor": 2
}
