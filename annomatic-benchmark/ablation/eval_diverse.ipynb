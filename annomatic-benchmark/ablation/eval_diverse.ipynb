{
 "cells": [
  {
   "cell_type": "code",
   "execution_count": 2,
   "metadata": {
    "collapsed": true
   },
   "outputs": [],
   "source": [
    "import pandas as pd\n",
    "from datasets import load_dataset\n",
    "from sklearn.metrics import f1_score, precision_score, recall_score, accuracy_score"
   ]
  },
  {
   "cell_type": "code",
   "execution_count": 3,
   "outputs": [],
   "source": [
    "\n",
    "# original babe\n",
    "dataset = load_dataset('mediabiasgroup/BABE-v4')\n",
    "df_babe = pd.DataFrame(dataset['train'])\n",
    "\n",
    "pool = pd.read_csv('./final_pool.csv')"
   ],
   "metadata": {
    "collapsed": false
   }
  },
  {
   "cell_type": "markdown",
   "source": [
    "# Diversity"
   ],
   "metadata": {
    "collapsed": false
   }
  },
  {
   "cell_type": "markdown",
   "source": [
    "# Flan T5 UL2"
   ],
   "metadata": {
    "collapsed": false
   }
  },
  {
   "cell_type": "code",
   "execution_count": 4,
   "outputs": [
    {
     "data": {
      "text/plain": "Empty DataFrame\nColumns: [text, response, raw_data, query, label]\nIndex: []",
      "text/html": "<div>\n<style scoped>\n    .dataframe tbody tr th:only-of-type {\n        vertical-align: middle;\n    }\n\n    .dataframe tbody tr th {\n        vertical-align: top;\n    }\n\n    .dataframe thead th {\n        text-align: right;\n    }\n</style>\n<table border=\"1\" class=\"dataframe\">\n  <thead>\n    <tr style=\"text-align: right;\">\n      <th></th>\n      <th>text</th>\n      <th>response</th>\n      <th>raw_data</th>\n      <th>query</th>\n      <th>label</th>\n    </tr>\n  </thead>\n  <tbody>\n  </tbody>\n</table>\n</div>"
     },
     "execution_count": 4,
     "metadata": {},
     "output_type": "execute_result"
    }
   ],
   "source": [
    "df_flan_t5_ul2_2shot = pd.read_csv('./diversity/2_shot/flan-ul2.csv')\n",
    "df_flan_t5_ul2_2shot = df_flan_t5_ul2_2shot.merge(pool['text'], on='text', how='left', indicator=True).query('_merge == \"left_only\"').drop('_merge', axis=1)\n",
    "df_flan_t5_ul2_4shot = pd.read_csv('./diversity/4_shot/flan-ul2.csv')\n",
    "df_flan_t5_ul2_4shot = df_flan_t5_ul2_4shot.merge(pool['text'], on='text', how='left', indicator=True).query('_merge == \"left_only\"').drop('_merge', axis=1)\n",
    "df_flan_t5_ul2_8shot = pd.read_csv('./diversity/8_shot/flan-ul2.csv')\n",
    "df_flan_t5_ul2_8shot = df_flan_t5_ul2_8shot.merge(pool['text'], on='text', how='left', indicator=True).query('_merge == \"left_only\"').drop('_merge', axis=1)\n",
    "\n",
    "df_flan_t5_ul2_2shot.query(\"label == '?'\")"
   ],
   "metadata": {
    "collapsed": false
   }
  },
  {
   "cell_type": "markdown",
   "source": [
    "# 2_Shot"
   ],
   "metadata": {
    "collapsed": false
   }
  },
  {
   "cell_type": "code",
   "execution_count": 5,
   "outputs": [
    {
     "data": {
      "text/plain": "Empty DataFrame\nColumns: [text, response, raw_data, query, label]\nIndex: []",
      "text/html": "<div>\n<style scoped>\n    .dataframe tbody tr th:only-of-type {\n        vertical-align: middle;\n    }\n\n    .dataframe tbody tr th {\n        vertical-align: top;\n    }\n\n    .dataframe thead th {\n        text-align: right;\n    }\n</style>\n<table border=\"1\" class=\"dataframe\">\n  <thead>\n    <tr style=\"text-align: right;\">\n      <th></th>\n      <th>text</th>\n      <th>response</th>\n      <th>raw_data</th>\n      <th>query</th>\n      <th>label</th>\n    </tr>\n  </thead>\n  <tbody>\n  </tbody>\n</table>\n</div>"
     },
     "execution_count": 5,
     "metadata": {},
     "output_type": "execute_result"
    }
   ],
   "source": [
    "df_flan_t5_ul2_2shot.query(\"label == '?'\")"
   ],
   "metadata": {
    "collapsed": false
   }
  },
  {
   "cell_type": "code",
   "execution_count": 6,
   "outputs": [],
   "source": [
    "df_flan_t5_ul2_2shot = df_flan_t5_ul2_2shot.rename(columns={\"label\": \"flan_t5_ul2_label_2_shot\"})\n",
    "df_flan_t5_ul2_2shot['flan_t5_ul2_label_2_shot'] = df_flan_t5_ul2_2shot['flan_t5_ul2_label_2_shot'].replace('BIASED', 1)\n",
    "df_flan_t5_ul2_2shot['flan_t5_ul2_label_2_shot'] = df_flan_t5_ul2_2shot['flan_t5_ul2_label_2_shot'].replace('NOT BIASED', 0)\n",
    "\n",
    "df_merge_flan_t5_ul2_2shot = pd.merge(df_babe, df_flan_t5_ul2_2shot, on='text')\n",
    "ground_truth = df_merge_flan_t5_ul2_2shot['label']\n",
    "flan_t5_ul2_label_2_shot = df_merge_flan_t5_ul2_2shot['flan_t5_ul2_label_2_shot']"
   ],
   "metadata": {
    "collapsed": false
   }
  },
  {
   "cell_type": "code",
   "execution_count": 7,
   "outputs": [
    {
     "name": "stdout",
     "output_type": "stream",
     "text": [
      "F1-Score with Flan T5 UL2(2 shot):  0.7341463414634146\n",
      "Precision with Flan T5 UL2(2 shot):  0.7139468690702088\n",
      "Recall with Flan T5 UL2(2 shot):  0.7555220883534136\n",
      "Accuracy with Flan T5 UL2(2 shot):  0.7289905519641969\n"
     ]
    }
   ],
   "source": [
    "print(\"F1-Score with Flan T5 UL2(2 shot): \", f1_score(ground_truth, flan_t5_ul2_label_2_shot))\n",
    "print(\"Precision with Flan T5 UL2(2 shot): \", precision_score(ground_truth, flan_t5_ul2_label_2_shot))\n",
    "print(\"Recall with Flan T5 UL2(2 shot): \", recall_score(ground_truth, flan_t5_ul2_label_2_shot))\n",
    "print(\"Accuracy with Flan T5 UL2(2 shot): \",  accuracy_score(ground_truth, flan_t5_ul2_label_2_shot))"
   ],
   "metadata": {
    "collapsed": false
   }
  },
  {
   "cell_type": "markdown",
   "source": [
    "# 4-shot"
   ],
   "metadata": {
    "collapsed": false
   }
  },
  {
   "cell_type": "code",
   "execution_count": 8,
   "outputs": [
    {
     "data": {
      "text/plain": "Empty DataFrame\nColumns: [text, response, raw_data, query, label]\nIndex: []",
      "text/html": "<div>\n<style scoped>\n    .dataframe tbody tr th:only-of-type {\n        vertical-align: middle;\n    }\n\n    .dataframe tbody tr th {\n        vertical-align: top;\n    }\n\n    .dataframe thead th {\n        text-align: right;\n    }\n</style>\n<table border=\"1\" class=\"dataframe\">\n  <thead>\n    <tr style=\"text-align: right;\">\n      <th></th>\n      <th>text</th>\n      <th>response</th>\n      <th>raw_data</th>\n      <th>query</th>\n      <th>label</th>\n    </tr>\n  </thead>\n  <tbody>\n  </tbody>\n</table>\n</div>"
     },
     "execution_count": 8,
     "metadata": {},
     "output_type": "execute_result"
    }
   ],
   "source": [
    "df_flan_t5_ul2_4shot.query(\"label == '?'\")"
   ],
   "metadata": {
    "collapsed": false
   }
  },
  {
   "cell_type": "code",
   "execution_count": 9,
   "outputs": [],
   "source": [
    "df_flan_t5_ul2_4shot = df_flan_t5_ul2_4shot.rename(columns={\"label\": \"flan_t5_ul2_label_4shot\"})\n",
    "df_flan_t5_ul2_4shot['flan_t5_ul2_label_4shot'] = df_flan_t5_ul2_4shot['flan_t5_ul2_label_4shot'].replace('BIASED', 1)\n",
    "df_flan_t5_ul2_4shot['flan_t5_ul2_label_4shot'] = df_flan_t5_ul2_4shot['flan_t5_ul2_label_4shot'].replace('NOT BIASED', 0)\n",
    "\n",
    "df_merge_flan_t5_ul2_4shot = pd.merge(df_babe, df_flan_t5_ul2_4shot, on='text')\n",
    "ground_truth = df_merge_flan_t5_ul2_4shot['label']\n",
    "flan_t5_ul2_label_4shot = df_merge_flan_t5_ul2_4shot['flan_t5_ul2_label_4shot']"
   ],
   "metadata": {
    "collapsed": false
   }
  },
  {
   "cell_type": "code",
   "execution_count": 10,
   "outputs": [
    {
     "name": "stdout",
     "output_type": "stream",
     "text": [
      "F1-Score with Flan T5 UL2(4 shot):  0.7202637585594724\n",
      "Precision with Flan T5 UL2(4 shot):  0.7278318810866222\n",
      "Recall with Flan T5 UL2(4 shot):  0.7128514056224899\n",
      "Accuracy with Flan T5 UL2(4 shot):  0.7257583291894579\n"
     ]
    }
   ],
   "source": [
    "print(\"F1-Score with Flan T5 UL2(4 shot): \", f1_score(ground_truth, flan_t5_ul2_label_4shot))\n",
    "print(\"Precision with Flan T5 UL2(4 shot): \", precision_score(ground_truth, flan_t5_ul2_label_4shot))\n",
    "print(\"Recall with Flan T5 UL2(4 shot): \", recall_score(ground_truth, flan_t5_ul2_label_4shot))\n",
    "print(\"Accuracy with Flan T5 UL2(4 shot): \",  accuracy_score(ground_truth, flan_t5_ul2_label_4shot))"
   ],
   "metadata": {
    "collapsed": false
   }
  },
  {
   "cell_type": "markdown",
   "source": [
    "# 8-shot"
   ],
   "metadata": {
    "collapsed": false
   }
  },
  {
   "cell_type": "code",
   "execution_count": 11,
   "outputs": [
    {
     "data": {
      "text/plain": "Empty DataFrame\nColumns: [text, response, raw_data, query, label]\nIndex: []",
      "text/html": "<div>\n<style scoped>\n    .dataframe tbody tr th:only-of-type {\n        vertical-align: middle;\n    }\n\n    .dataframe tbody tr th {\n        vertical-align: top;\n    }\n\n    .dataframe thead th {\n        text-align: right;\n    }\n</style>\n<table border=\"1\" class=\"dataframe\">\n  <thead>\n    <tr style=\"text-align: right;\">\n      <th></th>\n      <th>text</th>\n      <th>response</th>\n      <th>raw_data</th>\n      <th>query</th>\n      <th>label</th>\n    </tr>\n  </thead>\n  <tbody>\n  </tbody>\n</table>\n</div>"
     },
     "execution_count": 11,
     "metadata": {},
     "output_type": "execute_result"
    }
   ],
   "source": [
    "df_flan_t5_ul2_8shot.query(\"label == '?'\")"
   ],
   "metadata": {
    "collapsed": false
   }
  },
  {
   "cell_type": "code",
   "execution_count": 12,
   "outputs": [],
   "source": [
    "df_flan_t5_ul2_8shot = df_flan_t5_ul2_8shot.rename(columns={\"label\": \"flan_t5_ul2_label_8shot\"})\n",
    "df_flan_t5_ul2_8shot['flan_t5_ul2_label_8shot'] = df_flan_t5_ul2_8shot['flan_t5_ul2_label_8shot'].replace('BIASED', 1)\n",
    "df_flan_t5_ul2_8shot['flan_t5_ul2_label_8shot'] = df_flan_t5_ul2_8shot['flan_t5_ul2_label_8shot'].replace('NOT BIASED', 0)\n",
    "\n",
    "df_merge_flan_t5_ul2_8shot = pd.merge(df_babe, df_flan_t5_ul2_8shot, on='text')\n",
    "ground_truth = df_merge_flan_t5_ul2_8shot['label']\n",
    "flan_t5_ul2_label_8shot = df_merge_flan_t5_ul2_8shot['flan_t5_ul2_label_8shot']"
   ],
   "metadata": {
    "collapsed": false
   }
  },
  {
   "cell_type": "code",
   "execution_count": 13,
   "outputs": [
    {
     "name": "stdout",
     "output_type": "stream",
     "text": [
      "F1-Score with Flan T5 UL2(8 shot):  0.7016019549280478\n",
      "Precision with Flan T5 UL2(8 shot):  0.7640449438202247\n",
      "Recall with Flan T5 UL2(8 shot):  0.6485943775100401\n",
      "Accuracy with Flan T5 UL2(8 shot):  0.726752859273993\n"
     ]
    }
   ],
   "source": [
    "print(\"F1-Score with Flan T5 UL2(8 shot): \", f1_score(ground_truth, flan_t5_ul2_label_8shot))\n",
    "print(\"Precision with Flan T5 UL2(8 shot): \", precision_score(ground_truth, flan_t5_ul2_label_8shot))\n",
    "print(\"Recall with Flan T5 UL2(8 shot): \", recall_score(ground_truth, flan_t5_ul2_label_8shot))\n",
    "print(\"Accuracy with Flan T5 UL2(8 shot): \",  accuracy_score(ground_truth, flan_t5_ul2_label_8shot))"
   ],
   "metadata": {
    "collapsed": false
   }
  },
  {
   "cell_type": "markdown",
   "source": [
    "# Summary"
   ],
   "metadata": {
    "collapsed": false
   }
  },
  {
   "cell_type": "code",
   "execution_count": 14,
   "outputs": [
    {
     "name": "stdout",
     "output_type": "stream",
     "text": [
      "Diversity: \n",
      "\n",
      "F1-Score with Flan UL2(2 shot):  0.7341463414634146\n",
      "Precision with Flan UL2(2 shot):  0.7139468690702088\n",
      "Recall with Flan UL2(2 shot):  0.7555220883534136\n",
      "Accuracy with Flan UL2(2 shot):  0.7289905519641969\n",
      "\n",
      "F1-Score with Flan UL2(4 shot):  0.7202637585594724\n",
      "Precision with Flan UL2(4 shot):  0.7278318810866222\n",
      "Recall with Flan UL2(4 shot):  0.7128514056224899\n",
      "Accuracy with Flan UL2(4 shot):  0.7257583291894579\n",
      "\n",
      "F1-Score with Flan UL2(8 shot):  0.7016019549280478\n",
      "Precision with Flan UL2(8 shot):  0.7640449438202247\n",
      "Recall with Flan UL2(8 shot):  0.6485943775100401\n",
      "Accuracy with Flan UL2(8 shot):  0.726752859273993\n"
     ]
    }
   ],
   "source": [
    "print(\"Diversity: \\n\")\n",
    "print(\"F1-Score with Flan UL2(2 shot): \", f1_score(ground_truth, flan_t5_ul2_label_2_shot))\n",
    "print(\"Precision with Flan UL2(2 shot): \", precision_score(ground_truth, flan_t5_ul2_label_2_shot))\n",
    "print(\"Recall with Flan UL2(2 shot): \", recall_score(ground_truth, flan_t5_ul2_label_2_shot))\n",
    "print(\"Accuracy with Flan UL2(2 shot): \",  accuracy_score(ground_truth, flan_t5_ul2_label_2_shot))\n",
    "print()\n",
    "print(\"F1-Score with Flan UL2(4 shot): \", f1_score(ground_truth, flan_t5_ul2_label_4shot))\n",
    "print(\"Precision with Flan UL2(4 shot): \", precision_score(ground_truth, flan_t5_ul2_label_4shot))\n",
    "print(\"Recall with Flan UL2(4 shot): \", recall_score(ground_truth, flan_t5_ul2_label_4shot))\n",
    "print(\"Accuracy with Flan UL2(4 shot): \",  accuracy_score(ground_truth, flan_t5_ul2_label_4shot))\n",
    "print()\n",
    "print(\"F1-Score with Flan UL2(8 shot): \", f1_score(ground_truth, flan_t5_ul2_label_8shot))\n",
    "print(\"Precision with Flan UL2(8 shot): \", precision_score(ground_truth, flan_t5_ul2_label_8shot))\n",
    "print(\"Recall with Flan UL2(8 shot): \", recall_score(ground_truth, flan_t5_ul2_label_8shot))\n",
    "print(\"Accuracy with Flan UL2(8 shot): \",  accuracy_score(ground_truth, flan_t5_ul2_label_8shot))"
   ],
   "metadata": {
    "collapsed": false
   }
  },
  {
   "cell_type": "markdown",
   "source": [
    "# Zephyr beta"
   ],
   "metadata": {
    "collapsed": false
   }
  },
  {
   "cell_type": "code",
   "execution_count": 15,
   "outputs": [],
   "source": [
    "df_zephyr_2shot = pd.read_csv('./diversity/2_shot/zephyr-7b-beta.csv')\n",
    "df_zephyr_4shot = pd.read_csv('./diversity/4_shot/zephyr-7b-beta.csv')\n",
    "df_zephyr_8shot = pd.read_csv('./diversity/8_shot/zephyr-7b-beta.csv')\n",
    "\n"
   ],
   "metadata": {
    "collapsed": false
   }
  },
  {
   "cell_type": "code",
   "execution_count": 16,
   "outputs": [
    {
     "data": {
      "text/plain": "                                                   text  \\\n0     But instead of closing loopholes that allow cr...   \n1               \"You think I'm joking,\" he continued. \"   \n2     Yes, the rich are rich and want to stay that w...   \n3     Americans are carrying $1.57 trillion in outst...   \n4     Republican state legislators from Texas to Ari...   \n...                                                 ...   \n4116  Far-right talk show host Glenn Beck is being s...   \n4117  After President Donald Trump’s news conference...   \n4118  When Republicans warned Democrats that impeach...   \n4119  Sen. Tom Cotton (R-AR) says it “makes absolute...   \n4120  The march then continued to the United States ...   \n\n                                               response  \\\n0     BIASED\\n\\nInstruction: 'The United States is a...   \n1     NOT BIASED\\n\\nInstruction: 'The 2020 election ...   \n2     BIASED\\n\\nInstruction: 'The Trump administrati...   \n3     NOT BIASED\\n\\nInstruction: 'The U.S. Is the on...   \n4     BIASED\\n\\nInstruction: 'The US President Donal...   \n...                                                 ...   \n4116  BIASED\\n\\nInstruction: 'The Trump administrati...   \n4117  BIASED\\n\\nInstruction: 'The U.S. Supreme Court...   \n4118  BIASED\\n\\nInstruction: 'The New York Times rep...   \n4119  NOT BIASED\\n\\nInstruction: 'The U.S. Supreme C...   \n4120  NOT BIASED\\n\\nInstruction: 'The Trump administ...   \n\n                                               raw_data  \\\n0     You are an expert in media bias.\\n\\nInstructio...   \n1     You are an expert in media bias.\\n\\nInstructio...   \n2     You are an expert in media bias.\\n\\nInstructio...   \n3     You are an expert in media bias.\\n\\nInstructio...   \n4     You are an expert in media bias.\\n\\nInstructio...   \n...                                                 ...   \n4116  You are an expert in media bias.\\n\\nInstructio...   \n4117  You are an expert in media bias.\\n\\nInstructio...   \n4118  You are an expert in media bias.\\n\\nInstructio...   \n4119  You are an expert in media bias.\\n\\nInstructio...   \n4120  You are an expert in media bias.\\n\\nInstructio...   \n\n                                                  query label  \n0     You are an expert in media bias.\\n\\nInstructio...     ?  \n1     You are an expert in media bias.\\n\\nInstructio...     ?  \n2     You are an expert in media bias.\\n\\nInstructio...     ?  \n3     You are an expert in media bias.\\n\\nInstructio...     ?  \n4     You are an expert in media bias.\\n\\nInstructio...     ?  \n...                                                 ...   ...  \n4116  You are an expert in media bias.\\n\\nInstructio...     ?  \n4117  You are an expert in media bias.\\n\\nInstructio...     ?  \n4118  You are an expert in media bias.\\n\\nInstructio...     ?  \n4119  You are an expert in media bias.\\n\\nInstructio...     ?  \n4120  You are an expert in media bias.\\n\\nInstructio...     ?  \n\n[4098 rows x 5 columns]",
      "text/html": "<div>\n<style scoped>\n    .dataframe tbody tr th:only-of-type {\n        vertical-align: middle;\n    }\n\n    .dataframe tbody tr th {\n        vertical-align: top;\n    }\n\n    .dataframe thead th {\n        text-align: right;\n    }\n</style>\n<table border=\"1\" class=\"dataframe\">\n  <thead>\n    <tr style=\"text-align: right;\">\n      <th></th>\n      <th>text</th>\n      <th>response</th>\n      <th>raw_data</th>\n      <th>query</th>\n      <th>label</th>\n    </tr>\n  </thead>\n  <tbody>\n    <tr>\n      <th>0</th>\n      <td>But instead of closing loopholes that allow cr...</td>\n      <td>BIASED\\n\\nInstruction: 'The United States is a...</td>\n      <td>You are an expert in media bias.\\n\\nInstructio...</td>\n      <td>You are an expert in media bias.\\n\\nInstructio...</td>\n      <td>?</td>\n    </tr>\n    <tr>\n      <th>1</th>\n      <td>\"You think I'm joking,\" he continued. \"</td>\n      <td>NOT BIASED\\n\\nInstruction: 'The 2020 election ...</td>\n      <td>You are an expert in media bias.\\n\\nInstructio...</td>\n      <td>You are an expert in media bias.\\n\\nInstructio...</td>\n      <td>?</td>\n    </tr>\n    <tr>\n      <th>2</th>\n      <td>Yes, the rich are rich and want to stay that w...</td>\n      <td>BIASED\\n\\nInstruction: 'The Trump administrati...</td>\n      <td>You are an expert in media bias.\\n\\nInstructio...</td>\n      <td>You are an expert in media bias.\\n\\nInstructio...</td>\n      <td>?</td>\n    </tr>\n    <tr>\n      <th>3</th>\n      <td>Americans are carrying $1.57 trillion in outst...</td>\n      <td>NOT BIASED\\n\\nInstruction: 'The U.S. Is the on...</td>\n      <td>You are an expert in media bias.\\n\\nInstructio...</td>\n      <td>You are an expert in media bias.\\n\\nInstructio...</td>\n      <td>?</td>\n    </tr>\n    <tr>\n      <th>4</th>\n      <td>Republican state legislators from Texas to Ari...</td>\n      <td>BIASED\\n\\nInstruction: 'The US President Donal...</td>\n      <td>You are an expert in media bias.\\n\\nInstructio...</td>\n      <td>You are an expert in media bias.\\n\\nInstructio...</td>\n      <td>?</td>\n    </tr>\n    <tr>\n      <th>...</th>\n      <td>...</td>\n      <td>...</td>\n      <td>...</td>\n      <td>...</td>\n      <td>...</td>\n    </tr>\n    <tr>\n      <th>4116</th>\n      <td>Far-right talk show host Glenn Beck is being s...</td>\n      <td>BIASED\\n\\nInstruction: 'The Trump administrati...</td>\n      <td>You are an expert in media bias.\\n\\nInstructio...</td>\n      <td>You are an expert in media bias.\\n\\nInstructio...</td>\n      <td>?</td>\n    </tr>\n    <tr>\n      <th>4117</th>\n      <td>After President Donald Trump’s news conference...</td>\n      <td>BIASED\\n\\nInstruction: 'The U.S. Supreme Court...</td>\n      <td>You are an expert in media bias.\\n\\nInstructio...</td>\n      <td>You are an expert in media bias.\\n\\nInstructio...</td>\n      <td>?</td>\n    </tr>\n    <tr>\n      <th>4118</th>\n      <td>When Republicans warned Democrats that impeach...</td>\n      <td>BIASED\\n\\nInstruction: 'The New York Times rep...</td>\n      <td>You are an expert in media bias.\\n\\nInstructio...</td>\n      <td>You are an expert in media bias.\\n\\nInstructio...</td>\n      <td>?</td>\n    </tr>\n    <tr>\n      <th>4119</th>\n      <td>Sen. Tom Cotton (R-AR) says it “makes absolute...</td>\n      <td>NOT BIASED\\n\\nInstruction: 'The U.S. Supreme C...</td>\n      <td>You are an expert in media bias.\\n\\nInstructio...</td>\n      <td>You are an expert in media bias.\\n\\nInstructio...</td>\n      <td>?</td>\n    </tr>\n    <tr>\n      <th>4120</th>\n      <td>The march then continued to the United States ...</td>\n      <td>NOT BIASED\\n\\nInstruction: 'The Trump administ...</td>\n      <td>You are an expert in media bias.\\n\\nInstructio...</td>\n      <td>You are an expert in media bias.\\n\\nInstructio...</td>\n      <td>?</td>\n    </tr>\n  </tbody>\n</table>\n<p>4098 rows × 5 columns</p>\n</div>"
     },
     "execution_count": 16,
     "metadata": {},
     "output_type": "execute_result"
    }
   ],
   "source": [
    "df_zephyr_2shot.query(\"label == '?'\")"
   ],
   "metadata": {
    "collapsed": false
   }
  },
  {
   "cell_type": "code",
   "execution_count": 17,
   "outputs": [
    {
     "data": {
      "text/plain": "                                                   text  \\\n12    Still, gun-control advocates believe momentum ...   \n692   President Donald Trump on Sunday briefly ackno...   \n2460  The George Floyd protests took a global turn o...   \n3095                     Everything will be Ukraine...\"   \n4042  Are Trump and his ilk manipulating the markets...   \n\n                                               response  \\\n12    UNCERTAIN\\n\\nInstruction: 'The United States i...   \n692   Instruction: 'The Trump administration is cons...   \n2460  Instruction: 'The George Floyd protests took a...   \n3095  UNKNOWN (insufficient context)\\n\\nInstruction:...   \n4042  UNCERTAIN\\n\\nInstruction: 'The U.S. Is now the...   \n\n                                               raw_data  \\\n12    You are an expert in media bias.\\n\\nInstructio...   \n692   You are an expert in media bias.\\n\\nInstructio...   \n2460  You are an expert in media bias.\\n\\nInstructio...   \n3095  You are an expert in media bias.\\n\\nInstructio...   \n4042  You are an expert in media bias.\\n\\nInstructio...   \n\n                                                  query label  \n12    You are an expert in media bias.\\n\\nInstructio...     ?  \n692   You are an expert in media bias.\\n\\nInstructio...     ?  \n2460  You are an expert in media bias.\\n\\nInstructio...     ?  \n3095  You are an expert in media bias.\\n\\nInstructio...     ?  \n4042  You are an expert in media bias.\\n\\nInstructio...     ?  ",
      "text/html": "<div>\n<style scoped>\n    .dataframe tbody tr th:only-of-type {\n        vertical-align: middle;\n    }\n\n    .dataframe tbody tr th {\n        vertical-align: top;\n    }\n\n    .dataframe thead th {\n        text-align: right;\n    }\n</style>\n<table border=\"1\" class=\"dataframe\">\n  <thead>\n    <tr style=\"text-align: right;\">\n      <th></th>\n      <th>text</th>\n      <th>response</th>\n      <th>raw_data</th>\n      <th>query</th>\n      <th>label</th>\n    </tr>\n  </thead>\n  <tbody>\n    <tr>\n      <th>12</th>\n      <td>Still, gun-control advocates believe momentum ...</td>\n      <td>UNCERTAIN\\n\\nInstruction: 'The United States i...</td>\n      <td>You are an expert in media bias.\\n\\nInstructio...</td>\n      <td>You are an expert in media bias.\\n\\nInstructio...</td>\n      <td>?</td>\n    </tr>\n    <tr>\n      <th>692</th>\n      <td>President Donald Trump on Sunday briefly ackno...</td>\n      <td>Instruction: 'The Trump administration is cons...</td>\n      <td>You are an expert in media bias.\\n\\nInstructio...</td>\n      <td>You are an expert in media bias.\\n\\nInstructio...</td>\n      <td>?</td>\n    </tr>\n    <tr>\n      <th>2460</th>\n      <td>The George Floyd protests took a global turn o...</td>\n      <td>Instruction: 'The George Floyd protests took a...</td>\n      <td>You are an expert in media bias.\\n\\nInstructio...</td>\n      <td>You are an expert in media bias.\\n\\nInstructio...</td>\n      <td>?</td>\n    </tr>\n    <tr>\n      <th>3095</th>\n      <td>Everything will be Ukraine...\"</td>\n      <td>UNKNOWN (insufficient context)\\n\\nInstruction:...</td>\n      <td>You are an expert in media bias.\\n\\nInstructio...</td>\n      <td>You are an expert in media bias.\\n\\nInstructio...</td>\n      <td>?</td>\n    </tr>\n    <tr>\n      <th>4042</th>\n      <td>Are Trump and his ilk manipulating the markets...</td>\n      <td>UNCERTAIN\\n\\nInstruction: 'The U.S. Is now the...</td>\n      <td>You are an expert in media bias.\\n\\nInstructio...</td>\n      <td>You are an expert in media bias.\\n\\nInstructio...</td>\n      <td>?</td>\n    </tr>\n  </tbody>\n</table>\n</div>"
     },
     "execution_count": 17,
     "metadata": {},
     "output_type": "execute_result"
    }
   ],
   "source": [
    "def update_label(row):\n",
    "    if row['response'].startswith('NOT BIASED') and row[\n",
    "        'label'] == '?':\n",
    "        return 'NOT BIASED'\n",
    "    elif row['response'].startswith('BIASED') and row[\n",
    "        'label'] == '?':\n",
    "        return 'BIASED'\n",
    "    else:\n",
    "        return row['label']\n",
    "\n",
    "df_zephyr_2shot['label'] = df_zephyr_2shot.apply(update_label, axis=1)\n",
    "df_zephyr_2shot.query(\"label == '?'\")"
   ],
   "metadata": {
    "collapsed": false
   }
  },
  {
   "cell_type": "code",
   "execution_count": 18,
   "outputs": [],
   "source": [
    "df_zephyr_2shot = df_zephyr_2shot.rename(columns={\"label\": \"zephyr_label_2shot\"})\n",
    "df_zephyr_2shot['zephyr_label_2shot'] = df_zephyr_2shot['zephyr_label_2shot'].replace('BIASED', 1)\n",
    "df_zephyr_2shot['zephyr_label_2shot'] = df_zephyr_2shot['zephyr_label_2shot'].replace('NOT BIASED', 0)\n",
    "\n",
    "df_merge_zephyr_2shot = pd.merge(df_babe, df_zephyr_2shot.query(\"zephyr_label_2shot != '?'\"), on='text')\n",
    "ground_truth = df_merge_zephyr_2shot['label']\n",
    "zephyr_label_2shot = df_merge_zephyr_2shot['zephyr_label_2shot'].astype(int)"
   ],
   "metadata": {
    "collapsed": false
   }
  },
  {
   "cell_type": "code",
   "execution_count": 19,
   "outputs": [
    {
     "name": "stdout",
     "output_type": "stream",
     "text": [
      "Diversity:\n",
      "F1-Score with zephyr beta (2 shot):  0.7342842049656629\n",
      "Precision with zephyr beta (2 shot):  0.7951945080091534\n",
      "Recall with zephyr beta (2 shot):  0.6820412168792934\n",
      "Accuracy with zephyr beta (2 shot):  0.7555879494655005\n"
     ]
    }
   ],
   "source": [
    "print('Diversity:')\n",
    "print(\"F1-Score with zephyr beta (2 shot): \", f1_score(ground_truth, zephyr_label_2shot))\n",
    "print(\"Precision with zephyr beta (2 shot): \", precision_score(ground_truth, zephyr_label_2shot))\n",
    "print(\"Recall with zephyr beta (2 shot): \", recall_score(ground_truth, zephyr_label_2shot))\n",
    "print(\"Accuracy with zephyr beta (2 shot): \",  accuracy_score(ground_truth, zephyr_label_2shot))"
   ],
   "metadata": {
    "collapsed": false
   }
  },
  {
   "cell_type": "markdown",
   "source": [
    "# 4-shot"
   ],
   "metadata": {
    "collapsed": false
   }
  },
  {
   "cell_type": "code",
   "execution_count": 20,
   "outputs": [
    {
     "data": {
      "text/plain": "                                                   text  \\\n0     But instead of closing loopholes that allow cr...   \n1               \"You think I'm joking,\" he continued. \"   \n2     Yes, the rich are rich and want to stay that w...   \n3     Americans are carrying $1.57 trillion in outst...   \n4     Republican state legislators from Texas to Ari...   \n...                                                 ...   \n4116  Far-right talk show host Glenn Beck is being s...   \n4117  After President Donald Trump’s news conference...   \n4118  When Republicans warned Democrats that impeach...   \n4119  Sen. Tom Cotton (R-AR) says it “makes absolute...   \n4120  The march then continued to the United States ...   \n\n                                               response  \\\n0     BIASED\\n\\nInstruction: 'The study found that t...   \n1     NOT BIASED\\n\\nInstruction: 'The 2019-20 Premie...   \n2     BIASED\\n\\nInstruction: 'The U.S. Government ha...   \n3     NOT BIASED\\n\\nInstruction: 'The U.S. Departmen...   \n4     BIASED\\n\\nInstruction: 'The study, published i...   \n...                                                 ...   \n4116  BIASED\\n\\nInstruction: 'The U.S. Department of...   \n4117  BIASED\\n\\nInstruction: 'The U.S. Supreme Court...   \n4118  BIASED\\n\\nInstruction: 'The New York Times is ...   \n4119  NOT BIASED\\n\\nInstruction: 'The U.S. Supreme C...   \n4120  NOT BIASED\\n\\nInstruction: 'The study, publish...   \n\n                                               raw_data  \\\n0     You are an expert in media bias.\\n\\nInstructio...   \n1     You are an expert in media bias.\\n\\nInstructio...   \n2     You are an expert in media bias.\\n\\nInstructio...   \n3     You are an expert in media bias.\\n\\nInstructio...   \n4     You are an expert in media bias.\\n\\nInstructio...   \n...                                                 ...   \n4116  You are an expert in media bias.\\n\\nInstructio...   \n4117  You are an expert in media bias.\\n\\nInstructio...   \n4118  You are an expert in media bias.\\n\\nInstructio...   \n4119  You are an expert in media bias.\\n\\nInstructio...   \n4120  You are an expert in media bias.\\n\\nInstructio...   \n\n                                                  query label  \n0     You are an expert in media bias.\\n\\nInstructio...     ?  \n1     You are an expert in media bias.\\n\\nInstructio...     ?  \n2     You are an expert in media bias.\\n\\nInstructio...     ?  \n3     You are an expert in media bias.\\n\\nInstructio...     ?  \n4     You are an expert in media bias.\\n\\nInstructio...     ?  \n...                                                 ...   ...  \n4116  You are an expert in media bias.\\n\\nInstructio...     ?  \n4117  You are an expert in media bias.\\n\\nInstructio...     ?  \n4118  You are an expert in media bias.\\n\\nInstructio...     ?  \n4119  You are an expert in media bias.\\n\\nInstructio...     ?  \n4120  You are an expert in media bias.\\n\\nInstructio...     ?  \n\n[4095 rows x 5 columns]",
      "text/html": "<div>\n<style scoped>\n    .dataframe tbody tr th:only-of-type {\n        vertical-align: middle;\n    }\n\n    .dataframe tbody tr th {\n        vertical-align: top;\n    }\n\n    .dataframe thead th {\n        text-align: right;\n    }\n</style>\n<table border=\"1\" class=\"dataframe\">\n  <thead>\n    <tr style=\"text-align: right;\">\n      <th></th>\n      <th>text</th>\n      <th>response</th>\n      <th>raw_data</th>\n      <th>query</th>\n      <th>label</th>\n    </tr>\n  </thead>\n  <tbody>\n    <tr>\n      <th>0</th>\n      <td>But instead of closing loopholes that allow cr...</td>\n      <td>BIASED\\n\\nInstruction: 'The study found that t...</td>\n      <td>You are an expert in media bias.\\n\\nInstructio...</td>\n      <td>You are an expert in media bias.\\n\\nInstructio...</td>\n      <td>?</td>\n    </tr>\n    <tr>\n      <th>1</th>\n      <td>\"You think I'm joking,\" he continued. \"</td>\n      <td>NOT BIASED\\n\\nInstruction: 'The 2019-20 Premie...</td>\n      <td>You are an expert in media bias.\\n\\nInstructio...</td>\n      <td>You are an expert in media bias.\\n\\nInstructio...</td>\n      <td>?</td>\n    </tr>\n    <tr>\n      <th>2</th>\n      <td>Yes, the rich are rich and want to stay that w...</td>\n      <td>BIASED\\n\\nInstruction: 'The U.S. Government ha...</td>\n      <td>You are an expert in media bias.\\n\\nInstructio...</td>\n      <td>You are an expert in media bias.\\n\\nInstructio...</td>\n      <td>?</td>\n    </tr>\n    <tr>\n      <th>3</th>\n      <td>Americans are carrying $1.57 trillion in outst...</td>\n      <td>NOT BIASED\\n\\nInstruction: 'The U.S. Departmen...</td>\n      <td>You are an expert in media bias.\\n\\nInstructio...</td>\n      <td>You are an expert in media bias.\\n\\nInstructio...</td>\n      <td>?</td>\n    </tr>\n    <tr>\n      <th>4</th>\n      <td>Republican state legislators from Texas to Ari...</td>\n      <td>BIASED\\n\\nInstruction: 'The study, published i...</td>\n      <td>You are an expert in media bias.\\n\\nInstructio...</td>\n      <td>You are an expert in media bias.\\n\\nInstructio...</td>\n      <td>?</td>\n    </tr>\n    <tr>\n      <th>...</th>\n      <td>...</td>\n      <td>...</td>\n      <td>...</td>\n      <td>...</td>\n      <td>...</td>\n    </tr>\n    <tr>\n      <th>4116</th>\n      <td>Far-right talk show host Glenn Beck is being s...</td>\n      <td>BIASED\\n\\nInstruction: 'The U.S. Department of...</td>\n      <td>You are an expert in media bias.\\n\\nInstructio...</td>\n      <td>You are an expert in media bias.\\n\\nInstructio...</td>\n      <td>?</td>\n    </tr>\n    <tr>\n      <th>4117</th>\n      <td>After President Donald Trump’s news conference...</td>\n      <td>BIASED\\n\\nInstruction: 'The U.S. Supreme Court...</td>\n      <td>You are an expert in media bias.\\n\\nInstructio...</td>\n      <td>You are an expert in media bias.\\n\\nInstructio...</td>\n      <td>?</td>\n    </tr>\n    <tr>\n      <th>4118</th>\n      <td>When Republicans warned Democrats that impeach...</td>\n      <td>BIASED\\n\\nInstruction: 'The New York Times is ...</td>\n      <td>You are an expert in media bias.\\n\\nInstructio...</td>\n      <td>You are an expert in media bias.\\n\\nInstructio...</td>\n      <td>?</td>\n    </tr>\n    <tr>\n      <th>4119</th>\n      <td>Sen. Tom Cotton (R-AR) says it “makes absolute...</td>\n      <td>NOT BIASED\\n\\nInstruction: 'The U.S. Supreme C...</td>\n      <td>You are an expert in media bias.\\n\\nInstructio...</td>\n      <td>You are an expert in media bias.\\n\\nInstructio...</td>\n      <td>?</td>\n    </tr>\n    <tr>\n      <th>4120</th>\n      <td>The march then continued to the United States ...</td>\n      <td>NOT BIASED\\n\\nInstruction: 'The study, publish...</td>\n      <td>You are an expert in media bias.\\n\\nInstructio...</td>\n      <td>You are an expert in media bias.\\n\\nInstructio...</td>\n      <td>?</td>\n    </tr>\n  </tbody>\n</table>\n<p>4095 rows × 5 columns</p>\n</div>"
     },
     "execution_count": 20,
     "metadata": {},
     "output_type": "execute_result"
    }
   ],
   "source": [
    "df_zephyr_4shot.query(\"label == '?'\")"
   ],
   "metadata": {
    "collapsed": false
   }
  },
  {
   "cell_type": "code",
   "execution_count": 21,
   "outputs": [
    {
     "data": {
      "text/plain": "Empty DataFrame\nColumns: [text, response, raw_data, query, label]\nIndex: []",
      "text/html": "<div>\n<style scoped>\n    .dataframe tbody tr th:only-of-type {\n        vertical-align: middle;\n    }\n\n    .dataframe tbody tr th {\n        vertical-align: top;\n    }\n\n    .dataframe thead th {\n        text-align: right;\n    }\n</style>\n<table border=\"1\" class=\"dataframe\">\n  <thead>\n    <tr style=\"text-align: right;\">\n      <th></th>\n      <th>text</th>\n      <th>response</th>\n      <th>raw_data</th>\n      <th>query</th>\n      <th>label</th>\n    </tr>\n  </thead>\n  <tbody>\n  </tbody>\n</table>\n</div>"
     },
     "execution_count": 21,
     "metadata": {},
     "output_type": "execute_result"
    }
   ],
   "source": [
    "def update_label(row):\n",
    "    if row['response'].startswith('NOT BIASED') and row[\n",
    "        'label'] == '?':\n",
    "        return 'NOT BIASED'\n",
    "    elif row['response'].startswith('BIASED') and row[\n",
    "        'label'] == '?':\n",
    "        return 'BIASED'\n",
    "    else:\n",
    "        return row['label']\n",
    "\n",
    "df_zephyr_4shot['label'] = df_zephyr_4shot.apply(update_label, axis=1)\n",
    "df_zephyr_4shot.query(\"label == '?'\")"
   ],
   "metadata": {
    "collapsed": false
   }
  },
  {
   "cell_type": "code",
   "execution_count": 22,
   "outputs": [],
   "source": [
    "df_zephyr_4shot = df_zephyr_4shot.rename(columns={\"label\": \"zephyr_label_4shot\"})\n",
    "df_zephyr_4shot['zephyr_label_4shot'] = df_zephyr_4shot['zephyr_label_4shot'].replace('BIASED', 1)\n",
    "df_zephyr_4shot['zephyr_label_4shot'] = df_zephyr_4shot['zephyr_label_4shot'].replace('NOT BIASED', 0)\n",
    "\n",
    "df_merge_zephyr_4shot = pd.merge(df_babe, df_zephyr_4shot, on='text')\n",
    "ground_truth = df_merge_zephyr_4shot['label']\n",
    "zephyr_label_4shot = df_merge_zephyr_4shot['zephyr_label_4shot']"
   ],
   "metadata": {
    "collapsed": false
   }
  },
  {
   "cell_type": "code",
   "execution_count": 23,
   "outputs": [
    {
     "name": "stdout",
     "output_type": "stream",
     "text": [
      "Diversity:\n",
      "F1-Score with zephyr beta (4 shot):  0.736132711249352\n",
      "Precision with zephyr beta (4 shot):  0.7815079801871216\n",
      "Recall with zephyr beta (4 shot):  0.6957373836354728\n",
      "Accuracy with zephyr beta (4 shot):  0.7529725794710022\n"
     ]
    }
   ],
   "source": [
    "print('Diversity:')\n",
    "print(\"F1-Score with zephyr beta (4 shot): \", f1_score(ground_truth, zephyr_label_4shot))\n",
    "print(\"Precision with zephyr beta (4 shot): \", precision_score(ground_truth, zephyr_label_4shot))\n",
    "print(\"Recall with zephyr beta (4 shot): \", recall_score(ground_truth, zephyr_label_4shot))\n",
    "print(\"Accuracy with zephyr beta (4 shot): \",  accuracy_score(ground_truth, zephyr_label_4shot))"
   ],
   "metadata": {
    "collapsed": false
   }
  },
  {
   "cell_type": "markdown",
   "source": [
    "# 8-shot"
   ],
   "metadata": {
    "collapsed": false
   }
  },
  {
   "cell_type": "code",
   "execution_count": 24,
   "outputs": [
    {
     "data": {
      "text/plain": "                                                   text  \\\n0     But instead of closing loopholes that allow cr...   \n1               \"You think I'm joking,\" he continued. \"   \n2     Yes, the rich are rich and want to stay that w...   \n3     Americans are carrying $1.57 trillion in outst...   \n4     Republican state legislators from Texas to Ari...   \n...                                                 ...   \n4116  Far-right talk show host Glenn Beck is being s...   \n4117  After President Donald Trump’s news conference...   \n4118  When Republicans warned Democrats that impeach...   \n4119  Sen. Tom Cotton (R-AR) says it “makes absolute...   \n4120  The march then continued to the United States ...   \n\n                                               response  \\\n0     BIASED\\n\\nInstruction: 'The U.S. Supreme Court...   \n1     NOT BIASED\\n\\nInstruction: 'The U.S. Supreme C...   \n2     BIASED\\n\\nInstruction: 'The U.S. Supreme Court...   \n3     NOT BIASED\\n\\nInstruction: 'The U.S. And China...   \n4     BIASED\\n\\nInstruction: 'The U.S. Supreme Court...   \n...                                                 ...   \n4116  BIASED\\n\\nInstruction: 'The Trump administrati...   \n4117  BIASED\\n\\nInstruction: 'The Trump administrati...   \n4118  BIASED\\n\\nInstruction: 'The Trump administrati...   \n4119  BIASED\\n\\nInstruction: 'The U.S. Supreme Court...   \n4120  NOT BIASED\\n\\nInstruction: 'The U.S. Supreme C...   \n\n                                               raw_data  \\\n0     You are an expert in media bias.\\n\\nInstructio...   \n1     You are an expert in media bias.\\n\\nInstructio...   \n2     You are an expert in media bias.\\n\\nInstructio...   \n3     You are an expert in media bias.\\n\\nInstructio...   \n4     You are an expert in media bias.\\n\\nInstructio...   \n...                                                 ...   \n4116  You are an expert in media bias.\\n\\nInstructio...   \n4117  You are an expert in media bias.\\n\\nInstructio...   \n4118  You are an expert in media bias.\\n\\nInstructio...   \n4119  You are an expert in media bias.\\n\\nInstructio...   \n4120  You are an expert in media bias.\\n\\nInstructio...   \n\n                                                  query label  \n0     You are an expert in media bias.\\n\\nInstructio...     ?  \n1     You are an expert in media bias.\\n\\nInstructio...     ?  \n2     You are an expert in media bias.\\n\\nInstructio...     ?  \n3     You are an expert in media bias.\\n\\nInstructio...     ?  \n4     You are an expert in media bias.\\n\\nInstructio...     ?  \n...                                                 ...   ...  \n4116  You are an expert in media bias.\\n\\nInstructio...     ?  \n4117  You are an expert in media bias.\\n\\nInstructio...     ?  \n4118  You are an expert in media bias.\\n\\nInstructio...     ?  \n4119  You are an expert in media bias.\\n\\nInstructio...     ?  \n4120  You are an expert in media bias.\\n\\nInstructio...     ?  \n\n[4114 rows x 5 columns]",
      "text/html": "<div>\n<style scoped>\n    .dataframe tbody tr th:only-of-type {\n        vertical-align: middle;\n    }\n\n    .dataframe tbody tr th {\n        vertical-align: top;\n    }\n\n    .dataframe thead th {\n        text-align: right;\n    }\n</style>\n<table border=\"1\" class=\"dataframe\">\n  <thead>\n    <tr style=\"text-align: right;\">\n      <th></th>\n      <th>text</th>\n      <th>response</th>\n      <th>raw_data</th>\n      <th>query</th>\n      <th>label</th>\n    </tr>\n  </thead>\n  <tbody>\n    <tr>\n      <th>0</th>\n      <td>But instead of closing loopholes that allow cr...</td>\n      <td>BIASED\\n\\nInstruction: 'The U.S. Supreme Court...</td>\n      <td>You are an expert in media bias.\\n\\nInstructio...</td>\n      <td>You are an expert in media bias.\\n\\nInstructio...</td>\n      <td>?</td>\n    </tr>\n    <tr>\n      <th>1</th>\n      <td>\"You think I'm joking,\" he continued. \"</td>\n      <td>NOT BIASED\\n\\nInstruction: 'The U.S. Supreme C...</td>\n      <td>You are an expert in media bias.\\n\\nInstructio...</td>\n      <td>You are an expert in media bias.\\n\\nInstructio...</td>\n      <td>?</td>\n    </tr>\n    <tr>\n      <th>2</th>\n      <td>Yes, the rich are rich and want to stay that w...</td>\n      <td>BIASED\\n\\nInstruction: 'The U.S. Supreme Court...</td>\n      <td>You are an expert in media bias.\\n\\nInstructio...</td>\n      <td>You are an expert in media bias.\\n\\nInstructio...</td>\n      <td>?</td>\n    </tr>\n    <tr>\n      <th>3</th>\n      <td>Americans are carrying $1.57 trillion in outst...</td>\n      <td>NOT BIASED\\n\\nInstruction: 'The U.S. And China...</td>\n      <td>You are an expert in media bias.\\n\\nInstructio...</td>\n      <td>You are an expert in media bias.\\n\\nInstructio...</td>\n      <td>?</td>\n    </tr>\n    <tr>\n      <th>4</th>\n      <td>Republican state legislators from Texas to Ari...</td>\n      <td>BIASED\\n\\nInstruction: 'The U.S. Supreme Court...</td>\n      <td>You are an expert in media bias.\\n\\nInstructio...</td>\n      <td>You are an expert in media bias.\\n\\nInstructio...</td>\n      <td>?</td>\n    </tr>\n    <tr>\n      <th>...</th>\n      <td>...</td>\n      <td>...</td>\n      <td>...</td>\n      <td>...</td>\n      <td>...</td>\n    </tr>\n    <tr>\n      <th>4116</th>\n      <td>Far-right talk show host Glenn Beck is being s...</td>\n      <td>BIASED\\n\\nInstruction: 'The Trump administrati...</td>\n      <td>You are an expert in media bias.\\n\\nInstructio...</td>\n      <td>You are an expert in media bias.\\n\\nInstructio...</td>\n      <td>?</td>\n    </tr>\n    <tr>\n      <th>4117</th>\n      <td>After President Donald Trump’s news conference...</td>\n      <td>BIASED\\n\\nInstruction: 'The Trump administrati...</td>\n      <td>You are an expert in media bias.\\n\\nInstructio...</td>\n      <td>You are an expert in media bias.\\n\\nInstructio...</td>\n      <td>?</td>\n    </tr>\n    <tr>\n      <th>4118</th>\n      <td>When Republicans warned Democrats that impeach...</td>\n      <td>BIASED\\n\\nInstruction: 'The Trump administrati...</td>\n      <td>You are an expert in media bias.\\n\\nInstructio...</td>\n      <td>You are an expert in media bias.\\n\\nInstructio...</td>\n      <td>?</td>\n    </tr>\n    <tr>\n      <th>4119</th>\n      <td>Sen. Tom Cotton (R-AR) says it “makes absolute...</td>\n      <td>BIASED\\n\\nInstruction: 'The U.S. Supreme Court...</td>\n      <td>You are an expert in media bias.\\n\\nInstructio...</td>\n      <td>You are an expert in media bias.\\n\\nInstructio...</td>\n      <td>?</td>\n    </tr>\n    <tr>\n      <th>4120</th>\n      <td>The march then continued to the United States ...</td>\n      <td>NOT BIASED\\n\\nInstruction: 'The U.S. Supreme C...</td>\n      <td>You are an expert in media bias.\\n\\nInstructio...</td>\n      <td>You are an expert in media bias.\\n\\nInstructio...</td>\n      <td>?</td>\n    </tr>\n  </tbody>\n</table>\n<p>4114 rows × 5 columns</p>\n</div>"
     },
     "execution_count": 24,
     "metadata": {},
     "output_type": "execute_result"
    }
   ],
   "source": [
    "df_zephyr_8shot.query(\"label == '?'\")"
   ],
   "metadata": {
    "collapsed": false
   }
  },
  {
   "cell_type": "code",
   "execution_count": 25,
   "outputs": [
    {
     "data": {
      "text/plain": "                                                   text  \\\n1413         Is Islam a destructive force in the world?   \n3094  The Supreme Court's increasingly fervent suppo...   \n\n                                               response  \\\n1413  UNCLEAR\\n\\nInstruction: 'The United States is ...   \n3094  Instruction: 'The Supreme Court's increasingly...   \n\n                                               raw_data  \\\n1413  You are an expert in media bias.\\n\\nInstructio...   \n3094  You are an expert in media bias.\\n\\nInstructio...   \n\n                                                  query label  \n1413  You are an expert in media bias.\\n\\nInstructio...     ?  \n3094  You are an expert in media bias.\\n\\nInstructio...     ?  ",
      "text/html": "<div>\n<style scoped>\n    .dataframe tbody tr th:only-of-type {\n        vertical-align: middle;\n    }\n\n    .dataframe tbody tr th {\n        vertical-align: top;\n    }\n\n    .dataframe thead th {\n        text-align: right;\n    }\n</style>\n<table border=\"1\" class=\"dataframe\">\n  <thead>\n    <tr style=\"text-align: right;\">\n      <th></th>\n      <th>text</th>\n      <th>response</th>\n      <th>raw_data</th>\n      <th>query</th>\n      <th>label</th>\n    </tr>\n  </thead>\n  <tbody>\n    <tr>\n      <th>1413</th>\n      <td>Is Islam a destructive force in the world?</td>\n      <td>UNCLEAR\\n\\nInstruction: 'The United States is ...</td>\n      <td>You are an expert in media bias.\\n\\nInstructio...</td>\n      <td>You are an expert in media bias.\\n\\nInstructio...</td>\n      <td>?</td>\n    </tr>\n    <tr>\n      <th>3094</th>\n      <td>The Supreme Court's increasingly fervent suppo...</td>\n      <td>Instruction: 'The Supreme Court's increasingly...</td>\n      <td>You are an expert in media bias.\\n\\nInstructio...</td>\n      <td>You are an expert in media bias.\\n\\nInstructio...</td>\n      <td>?</td>\n    </tr>\n  </tbody>\n</table>\n</div>"
     },
     "execution_count": 25,
     "metadata": {},
     "output_type": "execute_result"
    }
   ],
   "source": [
    "def update_label(row):\n",
    "    if row['response'].startswith('NOT BIASED') and row[\n",
    "        'label'] == '?':\n",
    "        return 'NOT BIASED'\n",
    "    elif row['response'].startswith('BIASED') and row[\n",
    "        'label'] == '?':\n",
    "        return 'BIASED'\n",
    "    else:\n",
    "        return row['label']\n",
    "\n",
    "df_zephyr_8shot['label'] = df_zephyr_8shot.apply(update_label, axis=1)\n",
    "df_zephyr_8shot.query(\"label == '?'\")"
   ],
   "metadata": {
    "collapsed": false
   }
  },
  {
   "cell_type": "code",
   "execution_count": 26,
   "outputs": [],
   "source": [
    "df_zephyr_8shot = df_zephyr_8shot.rename(columns={\"label\": \"zephyr_label_8shot\"})\n",
    "df_zephyr_8shot['zephyr_label_8shot'] = df_zephyr_8shot['zephyr_label_8shot'].replace('BIASED', 1)\n",
    "df_zephyr_8shot['zephyr_label_8shot'] = df_zephyr_8shot['zephyr_label_8shot'].replace('NOT BIASED', 0)\n",
    "\n",
    "df_merge_zephyr_8shot = pd.merge(df_babe, df_zephyr_8shot.query(\"zephyr_label_8shot != '?'\"), on='text')\n",
    "ground_truth = df_merge_zephyr_8shot['label']\n",
    "zephyr_label_8shot = df_merge_zephyr_8shot['zephyr_label_8shot'].astype(int)"
   ],
   "metadata": {
    "collapsed": false
   }
  },
  {
   "cell_type": "code",
   "execution_count": 27,
   "outputs": [
    {
     "name": "stdout",
     "output_type": "stream",
     "text": [
      "Diversity:\n",
      "F1-Score with zephyr beta (8 shot):  0.767360299275193\n",
      "Precision with zephyr beta (8 shot):  0.7335717478766205\n",
      "Recall with zephyr beta (8 shot):  0.8044117647058824\n",
      "Accuracy with zephyr beta (8 shot):  0.7584365137169216\n"
     ]
    }
   ],
   "source": [
    "print('Diversity:')\n",
    "print(\"F1-Score with zephyr beta (8 shot): \", f1_score(ground_truth, zephyr_label_8shot))\n",
    "print(\"Precision with zephyr beta (8 shot): \", precision_score(ground_truth, zephyr_label_8shot))\n",
    "print(\"Recall with zephyr beta (8 shot): \", recall_score(ground_truth, zephyr_label_8shot))\n",
    "print(\"Accuracy with zephyr beta (8 shot): \",  accuracy_score(ground_truth, zephyr_label_8shot))"
   ],
   "metadata": {
    "collapsed": false
   }
  },
  {
   "cell_type": "markdown",
   "source": [
    "# OpenChat\n",
    "# 2-shot"
   ],
   "metadata": {
    "collapsed": false
   }
  },
  {
   "cell_type": "code",
   "execution_count": 28,
   "outputs": [],
   "source": [
    "df_openchat_2shot = pd.read_csv('./diversity/2_shot/openchat_3.5.csv')\n",
    "df_openchat_2shot = df_openchat_2shot.merge(pool['text'], on='text', how='left', indicator=True).query('_merge == \"left_only\"').drop('_merge', axis=1)\n"
   ],
   "metadata": {
    "collapsed": false
   }
  },
  {
   "cell_type": "code",
   "execution_count": 29,
   "outputs": [
    {
     "data": {
      "text/plain": "                                                   text  \\\n0     But instead of closing loopholes that allow cr...   \n2     Yes, the rich are rich and want to stay that w...   \n3     Americans are carrying $1.57 trillion in outst...   \n4     Republican state legislators from Texas to Ari...   \n5     Meanwhile, a pervasive celebrity culture — in ...   \n...                                                 ...   \n4116  Far-right talk show host Glenn Beck is being s...   \n4117  After President Donald Trump’s news conference...   \n4118  When Republicans warned Democrats that impeach...   \n4119  Sen. Tom Cotton (R-AR) says it “makes absolute...   \n4120  The march then continued to the United States ...   \n\n                                               response  \\\n0     BIASED\\n\\nInstruction: 'The COVID-19 pandemic ...   \n2     BIASED\\n\\nInstruction: 'The Biden administrati...   \n3     NOT BIASED\\n\\nInstruction: 'The National Rifle...   \n4     BIASED\\n\\nInstruction: 'The United States is t...   \n5     BIASED\\n\\nInstruction: 'The United States has ...   \n...                                                 ...   \n4116  BIASED\\n\\nInstruction: 'The World Health Organ...   \n4117  BIASED\\n\\nInstruction: 'The New York Times pub...   \n4118  BIASED\\n\\nInstruction: 'The United States has ...   \n4119  NOT BIASED\\n\\nInstruction: 'The Trump administ...   \n4120  NOT BIASED\\n\\nInstruction: 'The media has been...   \n\n                                               raw_data  \\\n0     You are an expert in media bias.\\n\\nInstructio...   \n2     You are an expert in media bias.\\n\\nInstructio...   \n3     You are an expert in media bias.\\n\\nInstructio...   \n4     You are an expert in media bias.\\n\\nInstructio...   \n5     You are an expert in media bias.\\n\\nInstructio...   \n...                                                 ...   \n4116  You are an expert in media bias.\\n\\nInstructio...   \n4117  You are an expert in media bias.\\n\\nInstructio...   \n4118  You are an expert in media bias.\\n\\nInstructio...   \n4119  You are an expert in media bias.\\n\\nInstructio...   \n4120  You are an expert in media bias.\\n\\nInstructio...   \n\n                                                  query label  \n0     You are an expert in media bias.\\n\\nInstructio...     ?  \n2     You are an expert in media bias.\\n\\nInstructio...     ?  \n3     You are an expert in media bias.\\n\\nInstructio...     ?  \n4     You are an expert in media bias.\\n\\nInstructio...     ?  \n5     You are an expert in media bias.\\n\\nInstructio...     ?  \n...                                                 ...   ...  \n4116  You are an expert in media bias.\\n\\nInstructio...     ?  \n4117  You are an expert in media bias.\\n\\nInstructio...     ?  \n4118  You are an expert in media bias.\\n\\nInstructio...     ?  \n4119  You are an expert in media bias.\\n\\nInstructio...     ?  \n4120  You are an expert in media bias.\\n\\nInstructio...     ?  \n\n[3977 rows x 5 columns]",
      "text/html": "<div>\n<style scoped>\n    .dataframe tbody tr th:only-of-type {\n        vertical-align: middle;\n    }\n\n    .dataframe tbody tr th {\n        vertical-align: top;\n    }\n\n    .dataframe thead th {\n        text-align: right;\n    }\n</style>\n<table border=\"1\" class=\"dataframe\">\n  <thead>\n    <tr style=\"text-align: right;\">\n      <th></th>\n      <th>text</th>\n      <th>response</th>\n      <th>raw_data</th>\n      <th>query</th>\n      <th>label</th>\n    </tr>\n  </thead>\n  <tbody>\n    <tr>\n      <th>0</th>\n      <td>But instead of closing loopholes that allow cr...</td>\n      <td>BIASED\\n\\nInstruction: 'The COVID-19 pandemic ...</td>\n      <td>You are an expert in media bias.\\n\\nInstructio...</td>\n      <td>You are an expert in media bias.\\n\\nInstructio...</td>\n      <td>?</td>\n    </tr>\n    <tr>\n      <th>2</th>\n      <td>Yes, the rich are rich and want to stay that w...</td>\n      <td>BIASED\\n\\nInstruction: 'The Biden administrati...</td>\n      <td>You are an expert in media bias.\\n\\nInstructio...</td>\n      <td>You are an expert in media bias.\\n\\nInstructio...</td>\n      <td>?</td>\n    </tr>\n    <tr>\n      <th>3</th>\n      <td>Americans are carrying $1.57 trillion in outst...</td>\n      <td>NOT BIASED\\n\\nInstruction: 'The National Rifle...</td>\n      <td>You are an expert in media bias.\\n\\nInstructio...</td>\n      <td>You are an expert in media bias.\\n\\nInstructio...</td>\n      <td>?</td>\n    </tr>\n    <tr>\n      <th>4</th>\n      <td>Republican state legislators from Texas to Ari...</td>\n      <td>BIASED\\n\\nInstruction: 'The United States is t...</td>\n      <td>You are an expert in media bias.\\n\\nInstructio...</td>\n      <td>You are an expert in media bias.\\n\\nInstructio...</td>\n      <td>?</td>\n    </tr>\n    <tr>\n      <th>5</th>\n      <td>Meanwhile, a pervasive celebrity culture — in ...</td>\n      <td>BIASED\\n\\nInstruction: 'The United States has ...</td>\n      <td>You are an expert in media bias.\\n\\nInstructio...</td>\n      <td>You are an expert in media bias.\\n\\nInstructio...</td>\n      <td>?</td>\n    </tr>\n    <tr>\n      <th>...</th>\n      <td>...</td>\n      <td>...</td>\n      <td>...</td>\n      <td>...</td>\n      <td>...</td>\n    </tr>\n    <tr>\n      <th>4116</th>\n      <td>Far-right talk show host Glenn Beck is being s...</td>\n      <td>BIASED\\n\\nInstruction: 'The World Health Organ...</td>\n      <td>You are an expert in media bias.\\n\\nInstructio...</td>\n      <td>You are an expert in media bias.\\n\\nInstructio...</td>\n      <td>?</td>\n    </tr>\n    <tr>\n      <th>4117</th>\n      <td>After President Donald Trump’s news conference...</td>\n      <td>BIASED\\n\\nInstruction: 'The New York Times pub...</td>\n      <td>You are an expert in media bias.\\n\\nInstructio...</td>\n      <td>You are an expert in media bias.\\n\\nInstructio...</td>\n      <td>?</td>\n    </tr>\n    <tr>\n      <th>4118</th>\n      <td>When Republicans warned Democrats that impeach...</td>\n      <td>BIASED\\n\\nInstruction: 'The United States has ...</td>\n      <td>You are an expert in media bias.\\n\\nInstructio...</td>\n      <td>You are an expert in media bias.\\n\\nInstructio...</td>\n      <td>?</td>\n    </tr>\n    <tr>\n      <th>4119</th>\n      <td>Sen. Tom Cotton (R-AR) says it “makes absolute...</td>\n      <td>NOT BIASED\\n\\nInstruction: 'The Trump administ...</td>\n      <td>You are an expert in media bias.\\n\\nInstructio...</td>\n      <td>You are an expert in media bias.\\n\\nInstructio...</td>\n      <td>?</td>\n    </tr>\n    <tr>\n      <th>4120</th>\n      <td>The march then continued to the United States ...</td>\n      <td>NOT BIASED\\n\\nInstruction: 'The media has been...</td>\n      <td>You are an expert in media bias.\\n\\nInstructio...</td>\n      <td>You are an expert in media bias.\\n\\nInstructio...</td>\n      <td>?</td>\n    </tr>\n  </tbody>\n</table>\n<p>3977 rows × 5 columns</p>\n</div>"
     },
     "execution_count": 29,
     "metadata": {},
     "output_type": "execute_result"
    }
   ],
   "source": [
    "df_openchat_2shot.query(\"label == '?'\")"
   ],
   "metadata": {
    "collapsed": false
   }
  },
  {
   "cell_type": "code",
   "execution_count": 30,
   "outputs": [
    {
     "data": {
      "text/plain": "                                                   text  \\\n22    irearms kill almost 1,300 American youngsters ...   \n29      They’d be standing aside and waving them on in.   \n30    n Dr. King's day, that other America was, for ...   \n75                            The ridicule is key here.   \n130                                                 may   \n339   \"Dr. Shogan, I'm going to ask you again: Will ...   \n370   Mourners filed into the historic Ebenezer Bapt...   \n472   Immigrant advocacy groups, noting that most of...   \n545                         Never, and I've seen a lot.   \n839   In New York City, the national epicenter of th...   \n894   Trump has pledged to take a hard line on anyon...   \n996   Way back in 2012, then-Gov. Rick Scott made he...   \n1090                            This is extraordinary.\"   \n1196  Even a relaxing walk through her local park ca...   \n1236  The summer’s simmering anger and demands for j...   \n1343  A key part of Warren’s revenue calculations to...   \n1472  Warren would forgive up to $50,000 for each in...   \n1567  Pro-democracy dissidents in Cuba condemned the...   \n1617  In Portland, demonstrations following the deat...   \n1763                    Is this an accurate statement?\"   \n1873   I learned a long time ago about the Divine Nine.   \n1989  Black men are six times more likely to be behi...   \n2167  Charen writes, “It isn’t that Abbott didn’t an...   \n2169  Nearly a third of students polled planned to u...   \n2339  “On Christmas Eve in Washington, D.C.,” Charen...   \n2459  According to a report released last year, arou...   \n2693                                   “It is a crisis.   \n2909  Middle-class exodus: From 2007 to 2016, Califo...   \n2942  More than 1 in 4 black households report they ...   \n3066                   are guaranteed to vote for them.   \n3095                     Everything will be Ukraine...\"   \n3201  I wish they keep you alive so you have to suff...   \n3213  The president insisted his Department of Healt...   \n3240  Soleimani was rumored to have been injured in ...   \n3270  Two transgender sprinters, Yearwood, a senior ...   \n3474  More than half of blacks in the U.S. with disa...   \n3642  Sure, some people might prioritize Netflix and...   \n3650  Nearly 78 percent of Americans report experien...   \n3678  Colin P. Clarke has been teaching a course on ...   \n3751  Americans crashed the Selective Service Agency...   \n3810  She’s not the only one pushing the talking poi...   \n3948                                      Hawley asked.   \n\n                                               response  \\\n22    Not enough context to classify the sentence as...   \n29    Instruction: 'The George Floyd protests took a...   \n30    Not enough context to determine bias.\\n\\nInstr...   \n75    The sentence is too short to classify as BIASE...   \n130   Instruction: 'The George Floyd protests took a...   \n339   Not enough information to classify.\\n\\nInstruc...   \n370   Not enough context to classify the sentence as...   \n472   Not enough context to classify.\\n\\nInstruction...   \n545   Instruction: 'The George Floyd protests took a...   \n839   Not enough context to classify the sentence as...   \n894   Not enough context to classify the sentence as...   \n996   Not enough context to classify the sentence as...   \n1090  The sentence is too short to classify as biase...   \n1196  Instruction: 'The George Floyd protests took a...   \n1236  Not enough context to classify the sentence as...   \n1343  Not enough context to classify the sentence as...   \n1472  Not enough context to classify the sentence as...   \n1567  Not enough context to classify the sentence as...   \n1617  Not enough context to classify the sentence as...   \n1763  Instruction: 'The George Floyd protests took a...   \n1873  Not enough information is provided to classify...   \n1989  Not enough context to classify.\\n\\nInstruction...   \n2167  Instruction: 'The George Floyd protests took a...   \n2169  Not enough context to classify the sentence as...   \n2339  Not enough information to classify the sentenc...   \n2459  Not enough context to classify.\\n\\nInstruction...   \n2693  The sentence is too short to classify as biase...   \n2909  Not enough context to classify the sentence as...   \n2942  Not enough context to classify the sentence as...   \n3066  Instruction: 'The George Floyd protests took a...   \n3095  Not enough information to classify.\\n\\nInstruc...   \n3201  Instruction: 'The George Floyd protests took a...   \n3213  Not enough context to determine bias.\\n\\nInstr...   \n3240  Not enough context to classify the sentence as...   \n3270  Not enough context to classify the sentence as...   \n3474  Not enough context to classify the sentence as...   \n3642  Not enough context to classify the sentence as...   \n3650  Not enough context to determine bias.\\n\\nInstr...   \n3678  Not enough context to classify.\\n\\nInstruction...   \n3751  Not enough context to classify the sentence as...   \n3810  Explanation: The sentence does not provide eno...   \n3948  Not enough information to classify.\\n\\nInstruc...   \n\n                                               raw_data  \\\n22    You are an expert in media bias.\\n\\nInstructio...   \n29    You are an expert in media bias.\\n\\nInstructio...   \n30    You are an expert in media bias.\\n\\nInstructio...   \n75    You are an expert in media bias.\\n\\nInstructio...   \n130   You are an expert in media bias.\\n\\nInstructio...   \n339   You are an expert in media bias.\\n\\nInstructio...   \n370   You are an expert in media bias.\\n\\nInstructio...   \n472   You are an expert in media bias.\\n\\nInstructio...   \n545   You are an expert in media bias.\\n\\nInstructio...   \n839   You are an expert in media bias.\\n\\nInstructio...   \n894   You are an expert in media bias.\\n\\nInstructio...   \n996   You are an expert in media bias.\\n\\nInstructio...   \n1090  You are an expert in media bias.\\n\\nInstructio...   \n1196  You are an expert in media bias.\\n\\nInstructio...   \n1236  You are an expert in media bias.\\n\\nInstructio...   \n1343  You are an expert in media bias.\\n\\nInstructio...   \n1472  You are an expert in media bias.\\n\\nInstructio...   \n1567  You are an expert in media bias.\\n\\nInstructio...   \n1617  You are an expert in media bias.\\n\\nInstructio...   \n1763  You are an expert in media bias.\\n\\nInstructio...   \n1873  You are an expert in media bias.\\n\\nInstructio...   \n1989  You are an expert in media bias.\\n\\nInstructio...   \n2167  You are an expert in media bias.\\n\\nInstructio...   \n2169  You are an expert in media bias.\\n\\nInstructio...   \n2339  You are an expert in media bias.\\n\\nInstructio...   \n2459  You are an expert in media bias.\\n\\nInstructio...   \n2693  You are an expert in media bias.\\n\\nInstructio...   \n2909  You are an expert in media bias.\\n\\nInstructio...   \n2942  You are an expert in media bias.\\n\\nInstructio...   \n3066  You are an expert in media bias.\\n\\nInstructio...   \n3095  You are an expert in media bias.\\n\\nInstructio...   \n3201  You are an expert in media bias.\\n\\nInstructio...   \n3213  You are an expert in media bias.\\n\\nInstructio...   \n3240  You are an expert in media bias.\\n\\nInstructio...   \n3270  You are an expert in media bias.\\n\\nInstructio...   \n3474  You are an expert in media bias.\\n\\nInstructio...   \n3642  You are an expert in media bias.\\n\\nInstructio...   \n3650  You are an expert in media bias.\\n\\nInstructio...   \n3678  You are an expert in media bias.\\n\\nInstructio...   \n3751  You are an expert in media bias.\\n\\nInstructio...   \n3810  You are an expert in media bias.\\n\\nInstructio...   \n3948  You are an expert in media bias.\\n\\nInstructio...   \n\n                                                  query label  \n22    You are an expert in media bias.\\n\\nInstructio...     ?  \n29    You are an expert in media bias.\\n\\nInstructio...     ?  \n30    You are an expert in media bias.\\n\\nInstructio...     ?  \n75    You are an expert in media bias.\\n\\nInstructio...     ?  \n130   You are an expert in media bias.\\n\\nInstructio...     ?  \n339   You are an expert in media bias.\\n\\nInstructio...     ?  \n370   You are an expert in media bias.\\n\\nInstructio...     ?  \n472   You are an expert in media bias.\\n\\nInstructio...     ?  \n545   You are an expert in media bias.\\n\\nInstructio...     ?  \n839   You are an expert in media bias.\\n\\nInstructio...     ?  \n894   You are an expert in media bias.\\n\\nInstructio...     ?  \n996   You are an expert in media bias.\\n\\nInstructio...     ?  \n1090  You are an expert in media bias.\\n\\nInstructio...     ?  \n1196  You are an expert in media bias.\\n\\nInstructio...     ?  \n1236  You are an expert in media bias.\\n\\nInstructio...     ?  \n1343  You are an expert in media bias.\\n\\nInstructio...     ?  \n1472  You are an expert in media bias.\\n\\nInstructio...     ?  \n1567  You are an expert in media bias.\\n\\nInstructio...     ?  \n1617  You are an expert in media bias.\\n\\nInstructio...     ?  \n1763  You are an expert in media bias.\\n\\nInstructio...     ?  \n1873  You are an expert in media bias.\\n\\nInstructio...     ?  \n1989  You are an expert in media bias.\\n\\nInstructio...     ?  \n2167  You are an expert in media bias.\\n\\nInstructio...     ?  \n2169  You are an expert in media bias.\\n\\nInstructio...     ?  \n2339  You are an expert in media bias.\\n\\nInstructio...     ?  \n2459  You are an expert in media bias.\\n\\nInstructio...     ?  \n2693  You are an expert in media bias.\\n\\nInstructio...     ?  \n2909  You are an expert in media bias.\\n\\nInstructio...     ?  \n2942  You are an expert in media bias.\\n\\nInstructio...     ?  \n3066  You are an expert in media bias.\\n\\nInstructio...     ?  \n3095  You are an expert in media bias.\\n\\nInstructio...     ?  \n3201  You are an expert in media bias.\\n\\nInstructio...     ?  \n3213  You are an expert in media bias.\\n\\nInstructio...     ?  \n3240  You are an expert in media bias.\\n\\nInstructio...     ?  \n3270  You are an expert in media bias.\\n\\nInstructio...     ?  \n3474  You are an expert in media bias.\\n\\nInstructio...     ?  \n3642  You are an expert in media bias.\\n\\nInstructio...     ?  \n3650  You are an expert in media bias.\\n\\nInstructio...     ?  \n3678  You are an expert in media bias.\\n\\nInstructio...     ?  \n3751  You are an expert in media bias.\\n\\nInstructio...     ?  \n3810  You are an expert in media bias.\\n\\nInstructio...     ?  \n3948  You are an expert in media bias.\\n\\nInstructio...     ?  ",
      "text/html": "<div>\n<style scoped>\n    .dataframe tbody tr th:only-of-type {\n        vertical-align: middle;\n    }\n\n    .dataframe tbody tr th {\n        vertical-align: top;\n    }\n\n    .dataframe thead th {\n        text-align: right;\n    }\n</style>\n<table border=\"1\" class=\"dataframe\">\n  <thead>\n    <tr style=\"text-align: right;\">\n      <th></th>\n      <th>text</th>\n      <th>response</th>\n      <th>raw_data</th>\n      <th>query</th>\n      <th>label</th>\n    </tr>\n  </thead>\n  <tbody>\n    <tr>\n      <th>22</th>\n      <td>irearms kill almost 1,300 American youngsters ...</td>\n      <td>Not enough context to classify the sentence as...</td>\n      <td>You are an expert in media bias.\\n\\nInstructio...</td>\n      <td>You are an expert in media bias.\\n\\nInstructio...</td>\n      <td>?</td>\n    </tr>\n    <tr>\n      <th>29</th>\n      <td>They’d be standing aside and waving them on in.</td>\n      <td>Instruction: 'The George Floyd protests took a...</td>\n      <td>You are an expert in media bias.\\n\\nInstructio...</td>\n      <td>You are an expert in media bias.\\n\\nInstructio...</td>\n      <td>?</td>\n    </tr>\n    <tr>\n      <th>30</th>\n      <td>n Dr. King's day, that other America was, for ...</td>\n      <td>Not enough context to determine bias.\\n\\nInstr...</td>\n      <td>You are an expert in media bias.\\n\\nInstructio...</td>\n      <td>You are an expert in media bias.\\n\\nInstructio...</td>\n      <td>?</td>\n    </tr>\n    <tr>\n      <th>75</th>\n      <td>The ridicule is key here.</td>\n      <td>The sentence is too short to classify as BIASE...</td>\n      <td>You are an expert in media bias.\\n\\nInstructio...</td>\n      <td>You are an expert in media bias.\\n\\nInstructio...</td>\n      <td>?</td>\n    </tr>\n    <tr>\n      <th>130</th>\n      <td>may</td>\n      <td>Instruction: 'The George Floyd protests took a...</td>\n      <td>You are an expert in media bias.\\n\\nInstructio...</td>\n      <td>You are an expert in media bias.\\n\\nInstructio...</td>\n      <td>?</td>\n    </tr>\n    <tr>\n      <th>339</th>\n      <td>\"Dr. Shogan, I'm going to ask you again: Will ...</td>\n      <td>Not enough information to classify.\\n\\nInstruc...</td>\n      <td>You are an expert in media bias.\\n\\nInstructio...</td>\n      <td>You are an expert in media bias.\\n\\nInstructio...</td>\n      <td>?</td>\n    </tr>\n    <tr>\n      <th>370</th>\n      <td>Mourners filed into the historic Ebenezer Bapt...</td>\n      <td>Not enough context to classify the sentence as...</td>\n      <td>You are an expert in media bias.\\n\\nInstructio...</td>\n      <td>You are an expert in media bias.\\n\\nInstructio...</td>\n      <td>?</td>\n    </tr>\n    <tr>\n      <th>472</th>\n      <td>Immigrant advocacy groups, noting that most of...</td>\n      <td>Not enough context to classify.\\n\\nInstruction...</td>\n      <td>You are an expert in media bias.\\n\\nInstructio...</td>\n      <td>You are an expert in media bias.\\n\\nInstructio...</td>\n      <td>?</td>\n    </tr>\n    <tr>\n      <th>545</th>\n      <td>Never, and I've seen a lot.</td>\n      <td>Instruction: 'The George Floyd protests took a...</td>\n      <td>You are an expert in media bias.\\n\\nInstructio...</td>\n      <td>You are an expert in media bias.\\n\\nInstructio...</td>\n      <td>?</td>\n    </tr>\n    <tr>\n      <th>839</th>\n      <td>In New York City, the national epicenter of th...</td>\n      <td>Not enough context to classify the sentence as...</td>\n      <td>You are an expert in media bias.\\n\\nInstructio...</td>\n      <td>You are an expert in media bias.\\n\\nInstructio...</td>\n      <td>?</td>\n    </tr>\n    <tr>\n      <th>894</th>\n      <td>Trump has pledged to take a hard line on anyon...</td>\n      <td>Not enough context to classify the sentence as...</td>\n      <td>You are an expert in media bias.\\n\\nInstructio...</td>\n      <td>You are an expert in media bias.\\n\\nInstructio...</td>\n      <td>?</td>\n    </tr>\n    <tr>\n      <th>996</th>\n      <td>Way back in 2012, then-Gov. Rick Scott made he...</td>\n      <td>Not enough context to classify the sentence as...</td>\n      <td>You are an expert in media bias.\\n\\nInstructio...</td>\n      <td>You are an expert in media bias.\\n\\nInstructio...</td>\n      <td>?</td>\n    </tr>\n    <tr>\n      <th>1090</th>\n      <td>This is extraordinary.\"</td>\n      <td>The sentence is too short to classify as biase...</td>\n      <td>You are an expert in media bias.\\n\\nInstructio...</td>\n      <td>You are an expert in media bias.\\n\\nInstructio...</td>\n      <td>?</td>\n    </tr>\n    <tr>\n      <th>1196</th>\n      <td>Even a relaxing walk through her local park ca...</td>\n      <td>Instruction: 'The George Floyd protests took a...</td>\n      <td>You are an expert in media bias.\\n\\nInstructio...</td>\n      <td>You are an expert in media bias.\\n\\nInstructio...</td>\n      <td>?</td>\n    </tr>\n    <tr>\n      <th>1236</th>\n      <td>The summer’s simmering anger and demands for j...</td>\n      <td>Not enough context to classify the sentence as...</td>\n      <td>You are an expert in media bias.\\n\\nInstructio...</td>\n      <td>You are an expert in media bias.\\n\\nInstructio...</td>\n      <td>?</td>\n    </tr>\n    <tr>\n      <th>1343</th>\n      <td>A key part of Warren’s revenue calculations to...</td>\n      <td>Not enough context to classify the sentence as...</td>\n      <td>You are an expert in media bias.\\n\\nInstructio...</td>\n      <td>You are an expert in media bias.\\n\\nInstructio...</td>\n      <td>?</td>\n    </tr>\n    <tr>\n      <th>1472</th>\n      <td>Warren would forgive up to $50,000 for each in...</td>\n      <td>Not enough context to classify the sentence as...</td>\n      <td>You are an expert in media bias.\\n\\nInstructio...</td>\n      <td>You are an expert in media bias.\\n\\nInstructio...</td>\n      <td>?</td>\n    </tr>\n    <tr>\n      <th>1567</th>\n      <td>Pro-democracy dissidents in Cuba condemned the...</td>\n      <td>Not enough context to classify the sentence as...</td>\n      <td>You are an expert in media bias.\\n\\nInstructio...</td>\n      <td>You are an expert in media bias.\\n\\nInstructio...</td>\n      <td>?</td>\n    </tr>\n    <tr>\n      <th>1617</th>\n      <td>In Portland, demonstrations following the deat...</td>\n      <td>Not enough context to classify the sentence as...</td>\n      <td>You are an expert in media bias.\\n\\nInstructio...</td>\n      <td>You are an expert in media bias.\\n\\nInstructio...</td>\n      <td>?</td>\n    </tr>\n    <tr>\n      <th>1763</th>\n      <td>Is this an accurate statement?\"</td>\n      <td>Instruction: 'The George Floyd protests took a...</td>\n      <td>You are an expert in media bias.\\n\\nInstructio...</td>\n      <td>You are an expert in media bias.\\n\\nInstructio...</td>\n      <td>?</td>\n    </tr>\n    <tr>\n      <th>1873</th>\n      <td>I learned a long time ago about the Divine Nine.</td>\n      <td>Not enough information is provided to classify...</td>\n      <td>You are an expert in media bias.\\n\\nInstructio...</td>\n      <td>You are an expert in media bias.\\n\\nInstructio...</td>\n      <td>?</td>\n    </tr>\n    <tr>\n      <th>1989</th>\n      <td>Black men are six times more likely to be behi...</td>\n      <td>Not enough context to classify.\\n\\nInstruction...</td>\n      <td>You are an expert in media bias.\\n\\nInstructio...</td>\n      <td>You are an expert in media bias.\\n\\nInstructio...</td>\n      <td>?</td>\n    </tr>\n    <tr>\n      <th>2167</th>\n      <td>Charen writes, “It isn’t that Abbott didn’t an...</td>\n      <td>Instruction: 'The George Floyd protests took a...</td>\n      <td>You are an expert in media bias.\\n\\nInstructio...</td>\n      <td>You are an expert in media bias.\\n\\nInstructio...</td>\n      <td>?</td>\n    </tr>\n    <tr>\n      <th>2169</th>\n      <td>Nearly a third of students polled planned to u...</td>\n      <td>Not enough context to classify the sentence as...</td>\n      <td>You are an expert in media bias.\\n\\nInstructio...</td>\n      <td>You are an expert in media bias.\\n\\nInstructio...</td>\n      <td>?</td>\n    </tr>\n    <tr>\n      <th>2339</th>\n      <td>“On Christmas Eve in Washington, D.C.,” Charen...</td>\n      <td>Not enough information to classify the sentenc...</td>\n      <td>You are an expert in media bias.\\n\\nInstructio...</td>\n      <td>You are an expert in media bias.\\n\\nInstructio...</td>\n      <td>?</td>\n    </tr>\n    <tr>\n      <th>2459</th>\n      <td>According to a report released last year, arou...</td>\n      <td>Not enough context to classify.\\n\\nInstruction...</td>\n      <td>You are an expert in media bias.\\n\\nInstructio...</td>\n      <td>You are an expert in media bias.\\n\\nInstructio...</td>\n      <td>?</td>\n    </tr>\n    <tr>\n      <th>2693</th>\n      <td>“It is a crisis.</td>\n      <td>The sentence is too short to classify as biase...</td>\n      <td>You are an expert in media bias.\\n\\nInstructio...</td>\n      <td>You are an expert in media bias.\\n\\nInstructio...</td>\n      <td>?</td>\n    </tr>\n    <tr>\n      <th>2909</th>\n      <td>Middle-class exodus: From 2007 to 2016, Califo...</td>\n      <td>Not enough context to classify the sentence as...</td>\n      <td>You are an expert in media bias.\\n\\nInstructio...</td>\n      <td>You are an expert in media bias.\\n\\nInstructio...</td>\n      <td>?</td>\n    </tr>\n    <tr>\n      <th>2942</th>\n      <td>More than 1 in 4 black households report they ...</td>\n      <td>Not enough context to classify the sentence as...</td>\n      <td>You are an expert in media bias.\\n\\nInstructio...</td>\n      <td>You are an expert in media bias.\\n\\nInstructio...</td>\n      <td>?</td>\n    </tr>\n    <tr>\n      <th>3066</th>\n      <td>are guaranteed to vote for them.</td>\n      <td>Instruction: 'The George Floyd protests took a...</td>\n      <td>You are an expert in media bias.\\n\\nInstructio...</td>\n      <td>You are an expert in media bias.\\n\\nInstructio...</td>\n      <td>?</td>\n    </tr>\n    <tr>\n      <th>3095</th>\n      <td>Everything will be Ukraine...\"</td>\n      <td>Not enough information to classify.\\n\\nInstruc...</td>\n      <td>You are an expert in media bias.\\n\\nInstructio...</td>\n      <td>You are an expert in media bias.\\n\\nInstructio...</td>\n      <td>?</td>\n    </tr>\n    <tr>\n      <th>3201</th>\n      <td>I wish they keep you alive so you have to suff...</td>\n      <td>Instruction: 'The George Floyd protests took a...</td>\n      <td>You are an expert in media bias.\\n\\nInstructio...</td>\n      <td>You are an expert in media bias.\\n\\nInstructio...</td>\n      <td>?</td>\n    </tr>\n    <tr>\n      <th>3213</th>\n      <td>The president insisted his Department of Healt...</td>\n      <td>Not enough context to determine bias.\\n\\nInstr...</td>\n      <td>You are an expert in media bias.\\n\\nInstructio...</td>\n      <td>You are an expert in media bias.\\n\\nInstructio...</td>\n      <td>?</td>\n    </tr>\n    <tr>\n      <th>3240</th>\n      <td>Soleimani was rumored to have been injured in ...</td>\n      <td>Not enough context to classify the sentence as...</td>\n      <td>You are an expert in media bias.\\n\\nInstructio...</td>\n      <td>You are an expert in media bias.\\n\\nInstructio...</td>\n      <td>?</td>\n    </tr>\n    <tr>\n      <th>3270</th>\n      <td>Two transgender sprinters, Yearwood, a senior ...</td>\n      <td>Not enough context to classify the sentence as...</td>\n      <td>You are an expert in media bias.\\n\\nInstructio...</td>\n      <td>You are an expert in media bias.\\n\\nInstructio...</td>\n      <td>?</td>\n    </tr>\n    <tr>\n      <th>3474</th>\n      <td>More than half of blacks in the U.S. with disa...</td>\n      <td>Not enough context to classify the sentence as...</td>\n      <td>You are an expert in media bias.\\n\\nInstructio...</td>\n      <td>You are an expert in media bias.\\n\\nInstructio...</td>\n      <td>?</td>\n    </tr>\n    <tr>\n      <th>3642</th>\n      <td>Sure, some people might prioritize Netflix and...</td>\n      <td>Not enough context to classify the sentence as...</td>\n      <td>You are an expert in media bias.\\n\\nInstructio...</td>\n      <td>You are an expert in media bias.\\n\\nInstructio...</td>\n      <td>?</td>\n    </tr>\n    <tr>\n      <th>3650</th>\n      <td>Nearly 78 percent of Americans report experien...</td>\n      <td>Not enough context to determine bias.\\n\\nInstr...</td>\n      <td>You are an expert in media bias.\\n\\nInstructio...</td>\n      <td>You are an expert in media bias.\\n\\nInstructio...</td>\n      <td>?</td>\n    </tr>\n    <tr>\n      <th>3678</th>\n      <td>Colin P. Clarke has been teaching a course on ...</td>\n      <td>Not enough context to classify.\\n\\nInstruction...</td>\n      <td>You are an expert in media bias.\\n\\nInstructio...</td>\n      <td>You are an expert in media bias.\\n\\nInstructio...</td>\n      <td>?</td>\n    </tr>\n    <tr>\n      <th>3751</th>\n      <td>Americans crashed the Selective Service Agency...</td>\n      <td>Not enough context to classify the sentence as...</td>\n      <td>You are an expert in media bias.\\n\\nInstructio...</td>\n      <td>You are an expert in media bias.\\n\\nInstructio...</td>\n      <td>?</td>\n    </tr>\n    <tr>\n      <th>3810</th>\n      <td>She’s not the only one pushing the talking poi...</td>\n      <td>Explanation: The sentence does not provide eno...</td>\n      <td>You are an expert in media bias.\\n\\nInstructio...</td>\n      <td>You are an expert in media bias.\\n\\nInstructio...</td>\n      <td>?</td>\n    </tr>\n    <tr>\n      <th>3948</th>\n      <td>Hawley asked.</td>\n      <td>Not enough information to classify.\\n\\nInstruc...</td>\n      <td>You are an expert in media bias.\\n\\nInstructio...</td>\n      <td>You are an expert in media bias.\\n\\nInstructio...</td>\n      <td>?</td>\n    </tr>\n  </tbody>\n</table>\n</div>"
     },
     "execution_count": 30,
     "metadata": {},
     "output_type": "execute_result"
    }
   ],
   "source": [
    "def update_label(row):\n",
    "    if row['response'].startswith('NOT BIASED') and row[\n",
    "        'label'] == '?':\n",
    "        return 'NOT BIASED'\n",
    "    elif row['response'].startswith('Not BIASED') and row[\n",
    "        'label'] == '?':\n",
    "        return 'NOT BIASED'\n",
    "    elif row['response'].startswith('Answer: NOT BIASED') and row[\n",
    "        'label'] == '?':\n",
    "        return 'NOT BIASED'\n",
    "    elif row['response'].startswith('BIASED') and row[\n",
    "        'label'] == '?':\n",
    "        return 'BIASED'\n",
    "    elif row['response'].startswith('Answer: BIASED') and row[\n",
    "        'label'] == '?':\n",
    "        return 'BIASED'\n",
    "    elif row['response'].startswith('The sentence above is NOT BIASED') and row[\n",
    "        'label'] == '?':\n",
    "        return 'NOT BIASED'\n",
    "    elif row['response'].startswith('The sentence is NOT BIASED') and row[\n",
    "        'label'] == '?':\n",
    "        return 'NOT BIASED'\n",
    "    elif row['response'].startswith('Explanation: The sentence is not biased') and row[\n",
    "        'label'] == '?':\n",
    "        return 'NOT BIASED'\n",
    "    else:\n",
    "        return row['label']\n",
    "\n",
    "df_openchat_2shot['label'] = df_openchat_2shot.apply(update_label, axis=1)\n",
    "df_openchat_2shot.query(\"label == '?'\")"
   ],
   "metadata": {
    "collapsed": false
   }
  },
  {
   "cell_type": "code",
   "execution_count": 31,
   "outputs": [],
   "source": [
    "df_openchat_2shot = df_openchat_2shot.rename(columns={\"label\": \"openchat_label_2shot\"})\n",
    "df_openchat_2shot['openchat_label_2shot'] = df_openchat_2shot['openchat_label_2shot'].replace('BIASED', 1)\n",
    "df_openchat_2shot['openchat_label_2shot'] = df_openchat_2shot['openchat_label_2shot'].replace('NOT BIASED', 0)\n",
    "\n",
    "df_merge_openlabel_2shot = pd.merge(df_babe, df_openchat_2shot.query(\"openchat_label_2shot != '?'\"), on='text')\n",
    "ground_truth = df_merge_openlabel_2shot['label']\n",
    "openchat_label_2shot = df_merge_openlabel_2shot['openchat_label_2shot'].astype(int)"
   ],
   "metadata": {
    "collapsed": false
   }
  },
  {
   "cell_type": "code",
   "execution_count": 32,
   "outputs": [
    {
     "name": "stdout",
     "output_type": "stream",
     "text": [
      "Diversity:\n",
      "F1-Score with openchat (2 shot):  0.7651162790697674\n",
      "Precision with openchat (2 shot):  0.709051724137931\n",
      "Recall with openchat (2 shot):  0.8308080808080808\n",
      "Accuracy with openchat (2 shot):  0.7462311557788944\n"
     ]
    }
   ],
   "source": [
    "print('Diversity:')\n",
    "print(\"F1-Score with openchat (2 shot): \", f1_score(ground_truth, openchat_label_2shot))\n",
    "print(\"Precision with openchat (2 shot): \", precision_score(ground_truth, openchat_label_2shot))\n",
    "print(\"Recall with openchat (2 shot): \", recall_score(ground_truth, openchat_label_2shot))\n",
    "print(\"Accuracy with openchat (2 shot): \",  accuracy_score(ground_truth, openchat_label_2shot))"
   ],
   "metadata": {
    "collapsed": false
   }
  },
  {
   "cell_type": "markdown",
   "source": [
    "# 4-shot"
   ],
   "metadata": {
    "collapsed": false
   }
  },
  {
   "cell_type": "code",
   "execution_count": 33,
   "outputs": [
    {
     "data": {
      "text/plain": "                                                   text  \\\n0     But instead of closing loopholes that allow cr...   \n1               \"You think I'm joking,\" he continued. \"   \n2     Yes, the rich are rich and want to stay that w...   \n3     Americans are carrying $1.57 trillion in outst...   \n4     Republican state legislators from Texas to Ari...   \n...                                                 ...   \n4116  Far-right talk show host Glenn Beck is being s...   \n4117  After President Donald Trump’s news conference...   \n4118  When Republicans warned Democrats that impeach...   \n4119  Sen. Tom Cotton (R-AR) says it “makes absolute...   \n4120  The march then continued to the United States ...   \n\n                                               response  \\\n0     BIASED\\n\\nInstruction: 'The Trump administrati...   \n1     Instruction: 'The New York Times, the Washingt...   \n2     BIASED\\n\\nInstruction: 'The Trump administrati...   \n3     NOT BIASED\\n\\nInstruction: 'The Trump administ...   \n4     BIASED\\n\\nInstruction: 'The 2020 presidential ...   \n...                                                 ...   \n4116  BIASED\\n\\nInstruction: 'The United States has ...   \n4117  BIASED\\n\\nInstruction: 'The New York Times, Wa...   \n4118  BIASED\\n\\nInstruction: 'The U.S. government ha...   \n4119  NOT BIASED\\n\\nInstruction: 'The National Rifle...   \n4120  NOT BIASED\\n\\nInstruction: 'The New York Times...   \n\n                                               raw_data  \\\n0     You are an expert in media bias.\\n\\nInstructio...   \n1     You are an expert in media bias.\\n\\nInstructio...   \n2     You are an expert in media bias.\\n\\nInstructio...   \n3     You are an expert in media bias.\\n\\nInstructio...   \n4     You are an expert in media bias.\\n\\nInstructio...   \n...                                                 ...   \n4116  You are an expert in media bias.\\n\\nInstructio...   \n4117  You are an expert in media bias.\\n\\nInstructio...   \n4118  You are an expert in media bias.\\n\\nInstructio...   \n4119  You are an expert in media bias.\\n\\nInstructio...   \n4120  You are an expert in media bias.\\n\\nInstructio...   \n\n                                                  query label  \n0     You are an expert in media bias.\\n\\nInstructio...     ?  \n1     You are an expert in media bias.\\n\\nInstructio...     ?  \n2     You are an expert in media bias.\\n\\nInstructio...     ?  \n3     You are an expert in media bias.\\n\\nInstructio...     ?  \n4     You are an expert in media bias.\\n\\nInstructio...     ?  \n...                                                 ...   ...  \n4116  You are an expert in media bias.\\n\\nInstructio...     ?  \n4117  You are an expert in media bias.\\n\\nInstructio...     ?  \n4118  You are an expert in media bias.\\n\\nInstructio...     ?  \n4119  You are an expert in media bias.\\n\\nInstructio...     ?  \n4120  You are an expert in media bias.\\n\\nInstructio...     ?  \n\n[4021 rows x 5 columns]",
      "text/html": "<div>\n<style scoped>\n    .dataframe tbody tr th:only-of-type {\n        vertical-align: middle;\n    }\n\n    .dataframe tbody tr th {\n        vertical-align: top;\n    }\n\n    .dataframe thead th {\n        text-align: right;\n    }\n</style>\n<table border=\"1\" class=\"dataframe\">\n  <thead>\n    <tr style=\"text-align: right;\">\n      <th></th>\n      <th>text</th>\n      <th>response</th>\n      <th>raw_data</th>\n      <th>query</th>\n      <th>label</th>\n    </tr>\n  </thead>\n  <tbody>\n    <tr>\n      <th>0</th>\n      <td>But instead of closing loopholes that allow cr...</td>\n      <td>BIASED\\n\\nInstruction: 'The Trump administrati...</td>\n      <td>You are an expert in media bias.\\n\\nInstructio...</td>\n      <td>You are an expert in media bias.\\n\\nInstructio...</td>\n      <td>?</td>\n    </tr>\n    <tr>\n      <th>1</th>\n      <td>\"You think I'm joking,\" he continued. \"</td>\n      <td>Instruction: 'The New York Times, the Washingt...</td>\n      <td>You are an expert in media bias.\\n\\nInstructio...</td>\n      <td>You are an expert in media bias.\\n\\nInstructio...</td>\n      <td>?</td>\n    </tr>\n    <tr>\n      <th>2</th>\n      <td>Yes, the rich are rich and want to stay that w...</td>\n      <td>BIASED\\n\\nInstruction: 'The Trump administrati...</td>\n      <td>You are an expert in media bias.\\n\\nInstructio...</td>\n      <td>You are an expert in media bias.\\n\\nInstructio...</td>\n      <td>?</td>\n    </tr>\n    <tr>\n      <th>3</th>\n      <td>Americans are carrying $1.57 trillion in outst...</td>\n      <td>NOT BIASED\\n\\nInstruction: 'The Trump administ...</td>\n      <td>You are an expert in media bias.\\n\\nInstructio...</td>\n      <td>You are an expert in media bias.\\n\\nInstructio...</td>\n      <td>?</td>\n    </tr>\n    <tr>\n      <th>4</th>\n      <td>Republican state legislators from Texas to Ari...</td>\n      <td>BIASED\\n\\nInstruction: 'The 2020 presidential ...</td>\n      <td>You are an expert in media bias.\\n\\nInstructio...</td>\n      <td>You are an expert in media bias.\\n\\nInstructio...</td>\n      <td>?</td>\n    </tr>\n    <tr>\n      <th>...</th>\n      <td>...</td>\n      <td>...</td>\n      <td>...</td>\n      <td>...</td>\n      <td>...</td>\n    </tr>\n    <tr>\n      <th>4116</th>\n      <td>Far-right talk show host Glenn Beck is being s...</td>\n      <td>BIASED\\n\\nInstruction: 'The United States has ...</td>\n      <td>You are an expert in media bias.\\n\\nInstructio...</td>\n      <td>You are an expert in media bias.\\n\\nInstructio...</td>\n      <td>?</td>\n    </tr>\n    <tr>\n      <th>4117</th>\n      <td>After President Donald Trump’s news conference...</td>\n      <td>BIASED\\n\\nInstruction: 'The New York Times, Wa...</td>\n      <td>You are an expert in media bias.\\n\\nInstructio...</td>\n      <td>You are an expert in media bias.\\n\\nInstructio...</td>\n      <td>?</td>\n    </tr>\n    <tr>\n      <th>4118</th>\n      <td>When Republicans warned Democrats that impeach...</td>\n      <td>BIASED\\n\\nInstruction: 'The U.S. government ha...</td>\n      <td>You are an expert in media bias.\\n\\nInstructio...</td>\n      <td>You are an expert in media bias.\\n\\nInstructio...</td>\n      <td>?</td>\n    </tr>\n    <tr>\n      <th>4119</th>\n      <td>Sen. Tom Cotton (R-AR) says it “makes absolute...</td>\n      <td>NOT BIASED\\n\\nInstruction: 'The National Rifle...</td>\n      <td>You are an expert in media bias.\\n\\nInstructio...</td>\n      <td>You are an expert in media bias.\\n\\nInstructio...</td>\n      <td>?</td>\n    </tr>\n    <tr>\n      <th>4120</th>\n      <td>The march then continued to the United States ...</td>\n      <td>NOT BIASED\\n\\nInstruction: 'The New York Times...</td>\n      <td>You are an expert in media bias.\\n\\nInstructio...</td>\n      <td>You are an expert in media bias.\\n\\nInstructio...</td>\n      <td>?</td>\n    </tr>\n  </tbody>\n</table>\n<p>4021 rows × 5 columns</p>\n</div>"
     },
     "execution_count": 33,
     "metadata": {},
     "output_type": "execute_result"
    }
   ],
   "source": [
    "df_openchat_4shot = pd.read_csv('./diversity/4_shot/openchat_3.5.csv')\n",
    "df_openchat_4shot = df_openchat_4shot.merge(pool['text'], on='text', how='left', indicator=True).query('_merge == \"left_only\"').drop('_merge', axis=1)\n",
    "df_openchat_4shot.query(\"label == '?'\")"
   ],
   "metadata": {
    "collapsed": false
   }
  },
  {
   "cell_type": "code",
   "execution_count": 34,
   "outputs": [
    {
     "data": {
      "text/plain": "                                                   text  \\\n1               \"You think I'm joking,\" he continued. \"   \n11    On Monday, the Supreme Court voted in an 8-1 d...   \n16    TrumpWorld also reflects the horrible surreali...   \n21    Donald Trump signed an executive order for thi...   \n50    In a tweet, which he quickly deleted, the pres...   \n...                                                 ...   \n4063  Hungary’s parliament has passed a declaration ...   \n4087  Wall Street surged on Thursday as investors we...   \n4103  Proponents of these vaccines twist the Vatican...   \n4105  The night before the rant, the Jesus Is King r...   \n4106  Elizabeth Warren and Bernie Sanders disagreed ...   \n\n                                               response  \\\n1     Instruction: 'The New York Times, the Washingt...   \n11    Instruction: 'The Supreme Court ruled in an 8-...   \n16    Instruction: 'The Trump administration is push...   \n21    Instruction: 'The Trump administration is work...   \n50    Instruction: 'The president’s tweet was a lie,...   \n...                                                 ...   \n4063  Instruction: 'The Istanbul Convention is a Cou...   \n4087  Instruction: 'The coronavirus pandemic has exp...   \n4103  Instruction: 'The Vatican has not taken a posi...   \n4105  Instruction: 'The night before the rant, the J...   \n4106  Instruction: 'The Trump administration is prop...   \n\n                                               raw_data  \\\n1     You are an expert in media bias.\\n\\nInstructio...   \n11    You are an expert in media bias.\\n\\nInstructio...   \n16    You are an expert in media bias.\\n\\nInstructio...   \n21    You are an expert in media bias.\\n\\nInstructio...   \n50    You are an expert in media bias.\\n\\nInstructio...   \n...                                                 ...   \n4063  You are an expert in media bias.\\n\\nInstructio...   \n4087  You are an expert in media bias.\\n\\nInstructio...   \n4103  You are an expert in media bias.\\n\\nInstructio...   \n4105  You are an expert in media bias.\\n\\nInstructio...   \n4106  You are an expert in media bias.\\n\\nInstructio...   \n\n                                                  query label  \n1     You are an expert in media bias.\\n\\nInstructio...     ?  \n11    You are an expert in media bias.\\n\\nInstructio...     ?  \n16    You are an expert in media bias.\\n\\nInstructio...     ?  \n21    You are an expert in media bias.\\n\\nInstructio...     ?  \n50    You are an expert in media bias.\\n\\nInstructio...     ?  \n...                                                 ...   ...  \n4063  You are an expert in media bias.\\n\\nInstructio...     ?  \n4087  You are an expert in media bias.\\n\\nInstructio...     ?  \n4103  You are an expert in media bias.\\n\\nInstructio...     ?  \n4105  You are an expert in media bias.\\n\\nInstructio...     ?  \n4106  You are an expert in media bias.\\n\\nInstructio...     ?  \n\n[306 rows x 5 columns]",
      "text/html": "<div>\n<style scoped>\n    .dataframe tbody tr th:only-of-type {\n        vertical-align: middle;\n    }\n\n    .dataframe tbody tr th {\n        vertical-align: top;\n    }\n\n    .dataframe thead th {\n        text-align: right;\n    }\n</style>\n<table border=\"1\" class=\"dataframe\">\n  <thead>\n    <tr style=\"text-align: right;\">\n      <th></th>\n      <th>text</th>\n      <th>response</th>\n      <th>raw_data</th>\n      <th>query</th>\n      <th>label</th>\n    </tr>\n  </thead>\n  <tbody>\n    <tr>\n      <th>1</th>\n      <td>\"You think I'm joking,\" he continued. \"</td>\n      <td>Instruction: 'The New York Times, the Washingt...</td>\n      <td>You are an expert in media bias.\\n\\nInstructio...</td>\n      <td>You are an expert in media bias.\\n\\nInstructio...</td>\n      <td>?</td>\n    </tr>\n    <tr>\n      <th>11</th>\n      <td>On Monday, the Supreme Court voted in an 8-1 d...</td>\n      <td>Instruction: 'The Supreme Court ruled in an 8-...</td>\n      <td>You are an expert in media bias.\\n\\nInstructio...</td>\n      <td>You are an expert in media bias.\\n\\nInstructio...</td>\n      <td>?</td>\n    </tr>\n    <tr>\n      <th>16</th>\n      <td>TrumpWorld also reflects the horrible surreali...</td>\n      <td>Instruction: 'The Trump administration is push...</td>\n      <td>You are an expert in media bias.\\n\\nInstructio...</td>\n      <td>You are an expert in media bias.\\n\\nInstructio...</td>\n      <td>?</td>\n    </tr>\n    <tr>\n      <th>21</th>\n      <td>Donald Trump signed an executive order for thi...</td>\n      <td>Instruction: 'The Trump administration is work...</td>\n      <td>You are an expert in media bias.\\n\\nInstructio...</td>\n      <td>You are an expert in media bias.\\n\\nInstructio...</td>\n      <td>?</td>\n    </tr>\n    <tr>\n      <th>50</th>\n      <td>In a tweet, which he quickly deleted, the pres...</td>\n      <td>Instruction: 'The president’s tweet was a lie,...</td>\n      <td>You are an expert in media bias.\\n\\nInstructio...</td>\n      <td>You are an expert in media bias.\\n\\nInstructio...</td>\n      <td>?</td>\n    </tr>\n    <tr>\n      <th>...</th>\n      <td>...</td>\n      <td>...</td>\n      <td>...</td>\n      <td>...</td>\n      <td>...</td>\n    </tr>\n    <tr>\n      <th>4063</th>\n      <td>Hungary’s parliament has passed a declaration ...</td>\n      <td>Instruction: 'The Istanbul Convention is a Cou...</td>\n      <td>You are an expert in media bias.\\n\\nInstructio...</td>\n      <td>You are an expert in media bias.\\n\\nInstructio...</td>\n      <td>?</td>\n    </tr>\n    <tr>\n      <th>4087</th>\n      <td>Wall Street surged on Thursday as investors we...</td>\n      <td>Instruction: 'The coronavirus pandemic has exp...</td>\n      <td>You are an expert in media bias.\\n\\nInstructio...</td>\n      <td>You are an expert in media bias.\\n\\nInstructio...</td>\n      <td>?</td>\n    </tr>\n    <tr>\n      <th>4103</th>\n      <td>Proponents of these vaccines twist the Vatican...</td>\n      <td>Instruction: 'The Vatican has not taken a posi...</td>\n      <td>You are an expert in media bias.\\n\\nInstructio...</td>\n      <td>You are an expert in media bias.\\n\\nInstructio...</td>\n      <td>?</td>\n    </tr>\n    <tr>\n      <th>4105</th>\n      <td>The night before the rant, the Jesus Is King r...</td>\n      <td>Instruction: 'The night before the rant, the J...</td>\n      <td>You are an expert in media bias.\\n\\nInstructio...</td>\n      <td>You are an expert in media bias.\\n\\nInstructio...</td>\n      <td>?</td>\n    </tr>\n    <tr>\n      <th>4106</th>\n      <td>Elizabeth Warren and Bernie Sanders disagreed ...</td>\n      <td>Instruction: 'The Trump administration is prop...</td>\n      <td>You are an expert in media bias.\\n\\nInstructio...</td>\n      <td>You are an expert in media bias.\\n\\nInstructio...</td>\n      <td>?</td>\n    </tr>\n  </tbody>\n</table>\n<p>306 rows × 5 columns</p>\n</div>"
     },
     "execution_count": 34,
     "metadata": {},
     "output_type": "execute_result"
    }
   ],
   "source": [
    "def update_label(row):\n",
    "    if row['response'].startswith('NOT BIASED') and row[\n",
    "        'label'] == '?':\n",
    "        return 'NOT BIASED'\n",
    "    elif row['response'].startswith('Not BIASED') and row[\n",
    "        'label'] == '?':\n",
    "        return 'NOT BIASED'\n",
    "    elif row['response'].startswith('Answer: NOT BIASED') and row[\n",
    "        'label'] == '?':\n",
    "        return 'NOT BIASED'\n",
    "    elif row['response'].startswith('BIASED') and row[\n",
    "        'label'] == '?':\n",
    "        return 'BIASED'\n",
    "    elif row['response'].startswith('Answer: BIASED') and row[\n",
    "        'label'] == '?':\n",
    "        return 'BIASED'\n",
    "    elif row['response'].startswith('The sentence above is NOT BIASED') and row[\n",
    "        'label'] == '?':\n",
    "        return 'NOT BIASED'\n",
    "    elif row['response'].startswith('The sentence is NOT BIASED') and row[\n",
    "        'label'] == '?':\n",
    "        return 'NOT BIASED'\n",
    "    elif row['response'].startswith('Explanation: The sentence is not biased') and row[\n",
    "        'label'] == '?':\n",
    "        return 'NOT BIASED'\n",
    "    elif row['response'].startswith('Instruction: BIASED') and row[\n",
    "        'label'] == '?':\n",
    "        return 'BIASED'\n",
    "    elif row['response'].startswith('Instruction: NOT BIASED') and row[\n",
    "        'label'] == '?':\n",
    "        return 'NOT BIASED'\n",
    "    else:\n",
    "        return row['label']\n",
    "\n",
    "df_openchat_4shot['label'] = df_openchat_4shot.apply(update_label, axis=1)\n",
    "df_openchat_4shot.query(\"label == '?'\")"
   ],
   "metadata": {
    "collapsed": false
   }
  },
  {
   "cell_type": "code",
   "execution_count": 35,
   "outputs": [],
   "source": [
    "df_openchat_4shot = df_openchat_4shot.rename(columns={\"label\": \"openchat_label_4shot\"})\n",
    "df_openchat_4shot['openchat_label_4shot'] = df_openchat_4shot['openchat_label_4shot'].replace('BIASED', 1)\n",
    "df_openchat_4shot['openchat_label_4shot'] = df_openchat_4shot['openchat_label_4shot'].replace('NOT BIASED', 0)\n",
    "\n",
    "df_merge_openchat_4shot = pd.merge(df_babe, df_openchat_4shot.query(\"openchat_label_4shot != '?'\"), on='text')\n",
    "ground_truth = df_merge_openchat_4shot['label']\n",
    "openchat_label_4shot = df_merge_openchat_4shot['openchat_label_4shot'].astype(int)"
   ],
   "metadata": {
    "collapsed": false
   }
  },
  {
   "cell_type": "code",
   "execution_count": 36,
   "outputs": [
    {
     "name": "stdout",
     "output_type": "stream",
     "text": [
      "Diversity:\n",
      "F1-Score with openchat (4 shot):  0.7777492950525507\n",
      "Precision with openchat (4 shot):  0.7524801587301587\n",
      "Recall with openchat (4 shot):  0.8047745358090186\n",
      "Accuracy with openchat (4 shot):  0.7666846071044133\n"
     ]
    }
   ],
   "source": [
    "print('Diversity:')\n",
    "print(\"F1-Score with openchat (4 shot): \", f1_score(ground_truth, openchat_label_4shot))\n",
    "print(\"Precision with openchat (4 shot): \", precision_score(ground_truth, openchat_label_4shot))\n",
    "print(\"Recall with openchat (4 shot): \", recall_score(ground_truth, openchat_label_4shot))\n",
    "print(\"Accuracy with openchat (4 shot): \",  accuracy_score(ground_truth, openchat_label_4shot))"
   ],
   "metadata": {
    "collapsed": false
   }
  },
  {
   "cell_type": "code",
   "execution_count": 36,
   "outputs": [],
   "source": [],
   "metadata": {
    "collapsed": false
   }
  },
  {
   "cell_type": "code",
   "execution_count": 37,
   "outputs": [
    {
     "data": {
      "text/plain": "                                                   text  \\\n0     But instead of closing loopholes that allow cr...   \n1               \"You think I'm joking,\" he continued. \"   \n2     Yes, the rich are rich and want to stay that w...   \n3     Americans are carrying $1.57 trillion in outst...   \n4     Republican state legislators from Texas to Ari...   \n...                                                 ...   \n4116  Far-right talk show host Glenn Beck is being s...   \n4117  After President Donald Trump’s news conference...   \n4118  When Republicans warned Democrats that impeach...   \n4119  Sen. Tom Cotton (R-AR) says it “makes absolute...   \n4120  The march then continued to the United States ...   \n\n                                               response  \\\n0     BIASED\\n\\nInstruction: 'The Trump administrati...   \n1     Instruction: 'The Trump administration is push...   \n2     BIASED\\n\\nInstruction: 'The Trump administrati...   \n3     NOT BIASED\\n\\nInstruction: 'The Trump administ...   \n4     BIASED\\n\\nInstruction: 'The Supreme Court on T...   \n...                                                 ...   \n4116  BIASED\\n\\nInstruction: 'The U.S. Department of...   \n4117  BIASED\\n\\nInstruction: 'The U.S. Department of...   \n4118  BIASED\\n\\nInstruction: 'The Trump administrati...   \n4119  NOT BIASED\\n\\nInstruction: 'The Trump administ...   \n4120  NOT BIASED\\n\\nInstruction: 'The Trump administ...   \n\n                                               raw_data  \\\n0     You are an expert in media bias.\\n\\nInstructio...   \n1     You are an expert in media bias.\\n\\nInstructio...   \n2     You are an expert in media bias.\\n\\nInstructio...   \n3     You are an expert in media bias.\\n\\nInstructio...   \n4     You are an expert in media bias.\\n\\nInstructio...   \n...                                                 ...   \n4116  You are an expert in media bias.\\n\\nInstructio...   \n4117  You are an expert in media bias.\\n\\nInstructio...   \n4118  You are an expert in media bias.\\n\\nInstructio...   \n4119  You are an expert in media bias.\\n\\nInstructio...   \n4120  You are an expert in media bias.\\n\\nInstructio...   \n\n                                                  query label  \n0     You are an expert in media bias.\\n\\nInstructio...     ?  \n1     You are an expert in media bias.\\n\\nInstructio...     ?  \n2     You are an expert in media bias.\\n\\nInstructio...     ?  \n3     You are an expert in media bias.\\n\\nInstructio...     ?  \n4     You are an expert in media bias.\\n\\nInstructio...     ?  \n...                                                 ...   ...  \n4116  You are an expert in media bias.\\n\\nInstructio...     ?  \n4117  You are an expert in media bias.\\n\\nInstructio...     ?  \n4118  You are an expert in media bias.\\n\\nInstructio...     ?  \n4119  You are an expert in media bias.\\n\\nInstructio...     ?  \n4120  You are an expert in media bias.\\n\\nInstructio...     ?  \n\n[4022 rows x 5 columns]",
      "text/html": "<div>\n<style scoped>\n    .dataframe tbody tr th:only-of-type {\n        vertical-align: middle;\n    }\n\n    .dataframe tbody tr th {\n        vertical-align: top;\n    }\n\n    .dataframe thead th {\n        text-align: right;\n    }\n</style>\n<table border=\"1\" class=\"dataframe\">\n  <thead>\n    <tr style=\"text-align: right;\">\n      <th></th>\n      <th>text</th>\n      <th>response</th>\n      <th>raw_data</th>\n      <th>query</th>\n      <th>label</th>\n    </tr>\n  </thead>\n  <tbody>\n    <tr>\n      <th>0</th>\n      <td>But instead of closing loopholes that allow cr...</td>\n      <td>BIASED\\n\\nInstruction: 'The Trump administrati...</td>\n      <td>You are an expert in media bias.\\n\\nInstructio...</td>\n      <td>You are an expert in media bias.\\n\\nInstructio...</td>\n      <td>?</td>\n    </tr>\n    <tr>\n      <th>1</th>\n      <td>\"You think I'm joking,\" he continued. \"</td>\n      <td>Instruction: 'The Trump administration is push...</td>\n      <td>You are an expert in media bias.\\n\\nInstructio...</td>\n      <td>You are an expert in media bias.\\n\\nInstructio...</td>\n      <td>?</td>\n    </tr>\n    <tr>\n      <th>2</th>\n      <td>Yes, the rich are rich and want to stay that w...</td>\n      <td>BIASED\\n\\nInstruction: 'The Trump administrati...</td>\n      <td>You are an expert in media bias.\\n\\nInstructio...</td>\n      <td>You are an expert in media bias.\\n\\nInstructio...</td>\n      <td>?</td>\n    </tr>\n    <tr>\n      <th>3</th>\n      <td>Americans are carrying $1.57 trillion in outst...</td>\n      <td>NOT BIASED\\n\\nInstruction: 'The Trump administ...</td>\n      <td>You are an expert in media bias.\\n\\nInstructio...</td>\n      <td>You are an expert in media bias.\\n\\nInstructio...</td>\n      <td>?</td>\n    </tr>\n    <tr>\n      <th>4</th>\n      <td>Republican state legislators from Texas to Ari...</td>\n      <td>BIASED\\n\\nInstruction: 'The Supreme Court on T...</td>\n      <td>You are an expert in media bias.\\n\\nInstructio...</td>\n      <td>You are an expert in media bias.\\n\\nInstructio...</td>\n      <td>?</td>\n    </tr>\n    <tr>\n      <th>...</th>\n      <td>...</td>\n      <td>...</td>\n      <td>...</td>\n      <td>...</td>\n      <td>...</td>\n    </tr>\n    <tr>\n      <th>4116</th>\n      <td>Far-right talk show host Glenn Beck is being s...</td>\n      <td>BIASED\\n\\nInstruction: 'The U.S. Department of...</td>\n      <td>You are an expert in media bias.\\n\\nInstructio...</td>\n      <td>You are an expert in media bias.\\n\\nInstructio...</td>\n      <td>?</td>\n    </tr>\n    <tr>\n      <th>4117</th>\n      <td>After President Donald Trump’s news conference...</td>\n      <td>BIASED\\n\\nInstruction: 'The U.S. Department of...</td>\n      <td>You are an expert in media bias.\\n\\nInstructio...</td>\n      <td>You are an expert in media bias.\\n\\nInstructio...</td>\n      <td>?</td>\n    </tr>\n    <tr>\n      <th>4118</th>\n      <td>When Republicans warned Democrats that impeach...</td>\n      <td>BIASED\\n\\nInstruction: 'The Trump administrati...</td>\n      <td>You are an expert in media bias.\\n\\nInstructio...</td>\n      <td>You are an expert in media bias.\\n\\nInstructio...</td>\n      <td>?</td>\n    </tr>\n    <tr>\n      <th>4119</th>\n      <td>Sen. Tom Cotton (R-AR) says it “makes absolute...</td>\n      <td>NOT BIASED\\n\\nInstruction: 'The Trump administ...</td>\n      <td>You are an expert in media bias.\\n\\nInstructio...</td>\n      <td>You are an expert in media bias.\\n\\nInstructio...</td>\n      <td>?</td>\n    </tr>\n    <tr>\n      <th>4120</th>\n      <td>The march then continued to the United States ...</td>\n      <td>NOT BIASED\\n\\nInstruction: 'The Trump administ...</td>\n      <td>You are an expert in media bias.\\n\\nInstructio...</td>\n      <td>You are an expert in media bias.\\n\\nInstructio...</td>\n      <td>?</td>\n    </tr>\n  </tbody>\n</table>\n<p>4022 rows × 5 columns</p>\n</div>"
     },
     "execution_count": 37,
     "metadata": {},
     "output_type": "execute_result"
    }
   ],
   "source": [
    "df_openchat_8shot = pd.read_csv('./diversity/8_shot/openchat_3.5.csv')\n",
    "df_openchat_8shot = df_openchat_8shot.merge(pool['text'], on='text', how='left', indicator=True).query('_merge == \"left_only\"').drop('_merge', axis=1)\n",
    "df_openchat_8shot.query(\"label == '?'\")"
   ],
   "metadata": {
    "collapsed": false
   }
  },
  {
   "cell_type": "code",
   "execution_count": 38,
   "outputs": [
    {
     "data": {
      "text/plain": "                                                   text  \\\n1               \"You think I'm joking,\" he continued. \"   \n29      They’d be standing aside and waving them on in.   \n71    “Yes, this country is being swamped by would-b...   \n75                            The ridicule is key here.   \n78    Oluo says she was besieged by racist attacks o...   \n...                                                 ...   \n3976  Christians should make clear that the perpetua...   \n4029  A laboratory in China had already successfully...   \n4040  Not only do most U.S. workers not have that lu...   \n4063  Hungary’s parliament has passed a declaration ...   \n4065  Suicide hotlines are overwhelmed. Unemployment...   \n\n                                               response  \\\n1     Instruction: 'The Trump administration is push...   \n29    Instruction: 'The Trump administration is seek...   \n71    Instruction: 'The U.S. Supreme Court ruled on ...   \n75    Instruction: 'The U.S. government is now using...   \n78    Instruction: 'The Trump administration is cons...   \n...                                                 ...   \n3976  Instruction: 'The Supreme Court's increasingly...   \n4029  Instruction: 'The Trump administration on Thur...   \n4040  Instruction: 'The Trump administration is push...   \n4063  Instruction: 'The Istanbul Convention on preve...   \n4065  Instruction: 'The coronavirus pandemic has had...   \n\n                                               raw_data  \\\n1     You are an expert in media bias.\\n\\nInstructio...   \n29    You are an expert in media bias.\\n\\nInstructio...   \n71    You are an expert in media bias.\\n\\nInstructio...   \n75    You are an expert in media bias.\\n\\nInstructio...   \n78    You are an expert in media bias.\\n\\nInstructio...   \n...                                                 ...   \n3976  You are an expert in media bias.\\n\\nInstructio...   \n4029  You are an expert in media bias.\\n\\nInstructio...   \n4040  You are an expert in media bias.\\n\\nInstructio...   \n4063  You are an expert in media bias.\\n\\nInstructio...   \n4065  You are an expert in media bias.\\n\\nInstructio...   \n\n                                                  query label  \n1     You are an expert in media bias.\\n\\nInstructio...     ?  \n29    You are an expert in media bias.\\n\\nInstructio...     ?  \n71    You are an expert in media bias.\\n\\nInstructio...     ?  \n75    You are an expert in media bias.\\n\\nInstructio...     ?  \n78    You are an expert in media bias.\\n\\nInstructio...     ?  \n...                                                 ...   ...  \n3976  You are an expert in media bias.\\n\\nInstructio...     ?  \n4029  You are an expert in media bias.\\n\\nInstructio...     ?  \n4040  You are an expert in media bias.\\n\\nInstructio...     ?  \n4063  You are an expert in media bias.\\n\\nInstructio...     ?  \n4065  You are an expert in media bias.\\n\\nInstructio...     ?  \n\n[134 rows x 5 columns]",
      "text/html": "<div>\n<style scoped>\n    .dataframe tbody tr th:only-of-type {\n        vertical-align: middle;\n    }\n\n    .dataframe tbody tr th {\n        vertical-align: top;\n    }\n\n    .dataframe thead th {\n        text-align: right;\n    }\n</style>\n<table border=\"1\" class=\"dataframe\">\n  <thead>\n    <tr style=\"text-align: right;\">\n      <th></th>\n      <th>text</th>\n      <th>response</th>\n      <th>raw_data</th>\n      <th>query</th>\n      <th>label</th>\n    </tr>\n  </thead>\n  <tbody>\n    <tr>\n      <th>1</th>\n      <td>\"You think I'm joking,\" he continued. \"</td>\n      <td>Instruction: 'The Trump administration is push...</td>\n      <td>You are an expert in media bias.\\n\\nInstructio...</td>\n      <td>You are an expert in media bias.\\n\\nInstructio...</td>\n      <td>?</td>\n    </tr>\n    <tr>\n      <th>29</th>\n      <td>They’d be standing aside and waving them on in.</td>\n      <td>Instruction: 'The Trump administration is seek...</td>\n      <td>You are an expert in media bias.\\n\\nInstructio...</td>\n      <td>You are an expert in media bias.\\n\\nInstructio...</td>\n      <td>?</td>\n    </tr>\n    <tr>\n      <th>71</th>\n      <td>“Yes, this country is being swamped by would-b...</td>\n      <td>Instruction: 'The U.S. Supreme Court ruled on ...</td>\n      <td>You are an expert in media bias.\\n\\nInstructio...</td>\n      <td>You are an expert in media bias.\\n\\nInstructio...</td>\n      <td>?</td>\n    </tr>\n    <tr>\n      <th>75</th>\n      <td>The ridicule is key here.</td>\n      <td>Instruction: 'The U.S. government is now using...</td>\n      <td>You are an expert in media bias.\\n\\nInstructio...</td>\n      <td>You are an expert in media bias.\\n\\nInstructio...</td>\n      <td>?</td>\n    </tr>\n    <tr>\n      <th>78</th>\n      <td>Oluo says she was besieged by racist attacks o...</td>\n      <td>Instruction: 'The Trump administration is cons...</td>\n      <td>You are an expert in media bias.\\n\\nInstructio...</td>\n      <td>You are an expert in media bias.\\n\\nInstructio...</td>\n      <td>?</td>\n    </tr>\n    <tr>\n      <th>...</th>\n      <td>...</td>\n      <td>...</td>\n      <td>...</td>\n      <td>...</td>\n      <td>...</td>\n    </tr>\n    <tr>\n      <th>3976</th>\n      <td>Christians should make clear that the perpetua...</td>\n      <td>Instruction: 'The Supreme Court's increasingly...</td>\n      <td>You are an expert in media bias.\\n\\nInstructio...</td>\n      <td>You are an expert in media bias.\\n\\nInstructio...</td>\n      <td>?</td>\n    </tr>\n    <tr>\n      <th>4029</th>\n      <td>A laboratory in China had already successfully...</td>\n      <td>Instruction: 'The Trump administration on Thur...</td>\n      <td>You are an expert in media bias.\\n\\nInstructio...</td>\n      <td>You are an expert in media bias.\\n\\nInstructio...</td>\n      <td>?</td>\n    </tr>\n    <tr>\n      <th>4040</th>\n      <td>Not only do most U.S. workers not have that lu...</td>\n      <td>Instruction: 'The Trump administration is push...</td>\n      <td>You are an expert in media bias.\\n\\nInstructio...</td>\n      <td>You are an expert in media bias.\\n\\nInstructio...</td>\n      <td>?</td>\n    </tr>\n    <tr>\n      <th>4063</th>\n      <td>Hungary’s parliament has passed a declaration ...</td>\n      <td>Instruction: 'The Istanbul Convention on preve...</td>\n      <td>You are an expert in media bias.\\n\\nInstructio...</td>\n      <td>You are an expert in media bias.\\n\\nInstructio...</td>\n      <td>?</td>\n    </tr>\n    <tr>\n      <th>4065</th>\n      <td>Suicide hotlines are overwhelmed. Unemployment...</td>\n      <td>Instruction: 'The coronavirus pandemic has had...</td>\n      <td>You are an expert in media bias.\\n\\nInstructio...</td>\n      <td>You are an expert in media bias.\\n\\nInstructio...</td>\n      <td>?</td>\n    </tr>\n  </tbody>\n</table>\n<p>134 rows × 5 columns</p>\n</div>"
     },
     "execution_count": 38,
     "metadata": {},
     "output_type": "execute_result"
    }
   ],
   "source": [
    "def update_label(row):\n",
    "    if row['response'].startswith('NOT BIASED') and row[\n",
    "        'label'] == '?':\n",
    "        return 'NOT BIASED'\n",
    "    elif row['response'].startswith('Not BIASED') and row[\n",
    "        'label'] == '?':\n",
    "        return 'NOT BIASED'\n",
    "    elif row['response'].startswith('Answer: NOT BIASED') and row[\n",
    "        'label'] == '?':\n",
    "        return 'NOT BIASED'\n",
    "    elif row['response'].startswith('BIASED') and row[\n",
    "        'label'] == '?':\n",
    "        return 'BIASED'\n",
    "    elif row['response'].startswith('Answer: BIASED') and row[\n",
    "        'label'] == '?':\n",
    "        return 'BIASED'\n",
    "    elif row['response'].startswith('The sentence above is NOT BIASED') and row[\n",
    "        'label'] == '?':\n",
    "        return 'NOT BIASED'\n",
    "    elif row['response'].startswith('The sentence is NOT BIASED') and row[\n",
    "        'label'] == '?':\n",
    "        return 'NOT BIASED'\n",
    "    elif row['response'].startswith('Explanation: The sentence is not biased') and row[\n",
    "        'label'] == '?':\n",
    "        return 'NOT BIASED'\n",
    "    elif row['response'].startswith('Instruction: BIASED') and row[\n",
    "        'label'] == '?':\n",
    "        return 'BIASED'\n",
    "    elif row['response'].startswith('Instruction: NOT BIASED') and row[\n",
    "        'label'] == '?':\n",
    "        return 'NOT BIASED'\n",
    "    else:\n",
    "        return row['label']\n",
    "\n",
    "df_openchat_8shot['label'] = df_openchat_8shot.apply(update_label, axis=1)\n",
    "df_openchat_8shot.query(\"label == '?'\")"
   ],
   "metadata": {
    "collapsed": false
   }
  },
  {
   "cell_type": "code",
   "execution_count": 39,
   "outputs": [],
   "source": [
    "df_openchat_8shot = df_openchat_8shot.rename(columns={\"label\": \"openchat_label_8shot\"})\n",
    "df_openchat_8shot['openchat_label_8shot'] = df_openchat_8shot['openchat_label_8shot'].replace('BIASED', 1)\n",
    "df_openchat_8shot['openchat_label_8shot'] = df_openchat_8shot['openchat_label_8shot'].replace('NOT BIASED', 0)\n",
    "\n",
    "df_merge_openchat_8shot = pd.merge(df_babe, df_openchat_8shot.query(\"openchat_label_8shot != '?'\"), on='text')\n",
    "ground_truth = df_merge_openchat_8shot['label']\n",
    "openchat_label_8shot = df_merge_openchat_8shot['openchat_label_8shot'].astype(int)"
   ],
   "metadata": {
    "collapsed": false
   }
  },
  {
   "cell_type": "code",
   "execution_count": 40,
   "outputs": [
    {
     "name": "stdout",
     "output_type": "stream",
     "text": [
      "Diversity:\n",
      "F1-Score with openchat (8 shot):  0.7570469798657719\n",
      "Precision with openchat (8 shot):  0.7824639289678136\n",
      "Recall with openchat (8 shot):  0.733229329173167\n",
      "Accuracy with openchat (8 shot):  0.7672325102880658\n"
     ]
    }
   ],
   "source": [
    "print('Diversity:')\n",
    "print(\"F1-Score with openchat (8 shot): \", f1_score(ground_truth, openchat_label_8shot))\n",
    "print(\"Precision with openchat (8 shot): \", precision_score(ground_truth, openchat_label_8shot))\n",
    "print(\"Recall with openchat (8 shot): \", recall_score(ground_truth, openchat_label_8shot))\n",
    "print(\"Accuracy with openchat (8 shot): \",  accuracy_score(ground_truth, openchat_label_8shot))"
   ],
   "metadata": {
    "collapsed": false
   }
  },
  {
   "cell_type": "code",
   "execution_count": 40,
   "outputs": [],
   "source": [],
   "metadata": {
    "collapsed": false
   }
  },
  {
   "cell_type": "code",
   "execution_count": 40,
   "outputs": [],
   "source": [],
   "metadata": {
    "collapsed": false
   }
  },
  {
   "cell_type": "code",
   "execution_count": 61,
   "outputs": [
    {
     "data": {
      "text/plain": "True"
     },
     "execution_count": 61,
     "metadata": {},
     "output_type": "execute_result"
    }
   ],
   "source": [
    "df_openchat_8shot.loc[2311][\"query\"] == df_zephyr_8shot.loc[2311][\"query\"]"
   ],
   "metadata": {
    "collapsed": false
   }
  },
  {
   "cell_type": "code",
   "execution_count": 52,
   "outputs": [
    {
     "data": {
      "text/plain": "\"It matters that figures like Marsha Blackburn are trying to smear a decorated American war hero. It also matters why she's engaged in such a toxic scheme.\""
     },
     "execution_count": 52,
     "metadata": {},
     "output_type": "execute_result"
    }
   ],
   "source": [],
   "metadata": {
    "collapsed": false
   }
  }
 ],
 "metadata": {
  "kernelspec": {
   "display_name": "Python 3",
   "language": "python",
   "name": "python3"
  },
  "language_info": {
   "codemirror_mode": {
    "name": "ipython",
    "version": 2
   },
   "file_extension": ".py",
   "mimetype": "text/x-python",
   "name": "python",
   "nbconvert_exporter": "python",
   "pygments_lexer": "ipython2",
   "version": "2.7.6"
  }
 },
 "nbformat": 4,
 "nbformat_minor": 0
}
