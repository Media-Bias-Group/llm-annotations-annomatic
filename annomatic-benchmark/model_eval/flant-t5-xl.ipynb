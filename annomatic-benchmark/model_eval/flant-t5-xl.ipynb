{
 "cells": [
  {
   "cell_type": "markdown",
   "metadata": {
    "collapsed": false
   },
   "source": [
    "# Eval the results of Flan T5 XL"
   ]
  },
  {
   "cell_type": "code",
   "execution_count": 1,
   "metadata": {
    "collapsed": false
   },
   "outputs": [],
   "source": [
    "import pandas as pd\n",
    "from datasets import load_dataset\n",
    "from sklearn.metrics import f1_score, precision_score, recall_score, \\\n",
    "    accuracy_score"
   ]
  },
  {
   "cell_type": "code",
   "execution_count": 3,
   "metadata": {
    "collapsed": false
   },
   "outputs": [],
   "source": [
    "\n",
    "# load\n",
    "model = 'flan-t5-xl'\n",
    "\n",
    "# load results\n",
    "zero_shot = pd.read_csv(f\"../zero-shot/data/{model}.csv\")\n",
    "zero_shot_with_system = pd.read_csv(\n",
    "    f\"../zero-shot-system_prompt/data/{model}.csv\")\n",
    "zero_shot_cot = pd.read_csv(f\"../zero-shot-cot/data/{model}.csv\")\n",
    "two_shot = pd.read_csv(f\"../2-shot/data/{model}.csv\")\n",
    "four_shot = pd.read_csv(f\"../4-shot/data/{model}.csv\")\n",
    "\n",
    "\n",
    "#load pool\n",
    "pool = load_dataset('mediabiasgroup/BABE-icl-pool')['train'].to_pandas()\n",
    "\n",
    "# exclude pool from model (if needed)\n",
    "zero_shot = zero_shot.merge(pool['text'], on='text', how='left',\n",
    "                            indicator=True).query(\n",
    "    '_merge == \"left_only\"').drop('_merge', axis=1)\n",
    "zero_shot_with_system = zero_shot_with_system.merge(pool['text'], on='text',\n",
    "                                                    how='left',\n",
    "                                                    indicator=True).query(\n",
    "    '_merge == \"left_only\"').drop('_merge', axis=1)\n",
    "zero_shot_cot = zero_shot_cot.merge(pool['text'], on='text', how='left',\n",
    "                                    indicator=True).query(\n",
    "    '_merge == \"left_only\"').drop('_merge', axis=1)\n",
    "two_shot = two_shot.merge(pool['text'], on='text', how='left',\n",
    "                          indicator=True).query('_merge == \"left_only\"').drop(\n",
    "    '_merge', axis=1)\n",
    "four_shot = four_shot.merge(pool['text'], on='text', how='left',\n",
    "                            indicator=True).query(\n",
    "    '_merge == \"left_only\"').drop('_merge', axis=1)\n",
    "\n",
    "\n",
    "\n",
    "#load babe\n",
    "dataset = load_dataset('mediabiasgroup/BABE-v4')\n",
    "df_babe = pd.DataFrame(dataset['train'])\n",
    "\n",
    "# df_merge = babe at begin\n",
    "df_merge_all_runs = df_babe"
   ]
  },
  {
   "cell_type": "markdown",
   "metadata": {
    "collapsed": false
   },
   "source": [
    "# Zero shot"
   ]
  },
  {
   "cell_type": "code",
   "execution_count": 4,
   "metadata": {
    "collapsed": false
   },
   "outputs": [
    {
     "data": {
      "text/html": [
       "<div>\n",
       "<style scoped>\n",
       "    .dataframe tbody tr th:only-of-type {\n",
       "        vertical-align: middle;\n",
       "    }\n",
       "\n",
       "    .dataframe tbody tr th {\n",
       "        vertical-align: top;\n",
       "    }\n",
       "\n",
       "    .dataframe thead th {\n",
       "        text-align: right;\n",
       "    }\n",
       "</style>\n",
       "<table border=\"1\" class=\"dataframe\">\n",
       "  <thead>\n",
       "    <tr style=\"text-align: right;\">\n",
       "      <th></th>\n",
       "      <th>text</th>\n",
       "      <th>response</th>\n",
       "      <th>raw_data</th>\n",
       "      <th>query</th>\n",
       "      <th>label</th>\n",
       "    </tr>\n",
       "  </thead>\n",
       "  <tbody>\n",
       "  </tbody>\n",
       "</table>\n",
       "</div>"
      ],
      "text/plain": [
       "Empty DataFrame\n",
       "Columns: [text, response, raw_data, query, label]\n",
       "Index: []"
      ]
     },
     "execution_count": 4,
     "metadata": {},
     "output_type": "execute_result"
    }
   ],
   "source": [
    "zero_shot.query(\"label == '?'\")"
   ]
  },
  {
   "cell_type": "code",
   "execution_count": 4,
   "metadata": {
    "collapsed": false
   },
   "outputs": [],
   "source": [
    "# preprocessing"
   ]
  },
  {
   "cell_type": "code",
   "execution_count": 5,
   "metadata": {
    "collapsed": false
   },
   "outputs": [],
   "source": [
    "zero_shot = zero_shot.rename(columns={\"label\": \"0_shot_label\"})\n",
    "zero_shot['0_shot_label'] = zero_shot['0_shot_label'].replace('BIASED', 1)\n",
    "zero_shot['0_shot_label'] = zero_shot['0_shot_label'].replace('NOT BIASED', 0)\n",
    "\n",
    "df_merge = df_babe.merge(zero_shot[zero_shot['0_shot_label'] != '?'][['text', '0_shot_label']], on='text')\n",
    "df_merge_all_runs = df_merge_all_runs.merge(zero_shot[zero_shot['0_shot_label'] != '?'][['text', '0_shot_label']], on='text')\n",
    "\n",
    "ground_truth = df_merge['label']\n",
    "zero_shot_label = df_merge['0_shot_label']"
   ]
  },
  {
   "cell_type": "code",
   "execution_count": 7,
   "metadata": {
    "collapsed": false
   },
   "outputs": [
    {
     "name": "stdout",
     "output_type": "stream",
     "text": [
      "F1-Score with Flan T5 xl:  0.6723749436683191\n",
      "Precision with Flan T5 xl:  0.6097261953412342\n",
      "Recall with Flan T5 xl:  0.7493721747865394\n",
      "Accuracy with Flan T5 xl:  0.6383984083561303\n"
     ]
    }
   ],
   "source": [
    "print(\"F1-Score with Flan T5 xl: \", f1_score(ground_truth, zero_shot_label))\n",
    "print(\"Precision with Flan T5 xl: \",\n",
    "      precision_score(ground_truth, zero_shot_label))\n",
    "print(\"Recall with Flan T5 xl: \",\n",
    "      recall_score(ground_truth, zero_shot_label))\n",
    "print(\"Accuracy with Flan T5 xl: \",\n",
    "      accuracy_score(ground_truth, zero_shot_label))"
   ]
  },
  {
   "cell_type": "markdown",
   "metadata": {
    "collapsed": false
   },
   "source": [
    "# zero shot with system prompt"
   ]
  },
  {
   "cell_type": "code",
   "execution_count": 8,
   "metadata": {
    "collapsed": false
   },
   "outputs": [
    {
     "data": {
      "text/html": [
       "<div>\n",
       "<style scoped>\n",
       "    .dataframe tbody tr th:only-of-type {\n",
       "        vertical-align: middle;\n",
       "    }\n",
       "\n",
       "    .dataframe tbody tr th {\n",
       "        vertical-align: top;\n",
       "    }\n",
       "\n",
       "    .dataframe thead th {\n",
       "        text-align: right;\n",
       "    }\n",
       "</style>\n",
       "<table border=\"1\" class=\"dataframe\">\n",
       "  <thead>\n",
       "    <tr style=\"text-align: right;\">\n",
       "      <th></th>\n",
       "      <th>text</th>\n",
       "      <th>response</th>\n",
       "      <th>raw_data</th>\n",
       "      <th>query</th>\n",
       "      <th>label</th>\n",
       "    </tr>\n",
       "  </thead>\n",
       "  <tbody>\n",
       "    <tr>\n",
       "      <th>1705</th>\n",
       "      <td>Tennessee has an annual sales tax-free holiday...</td>\n",
       "      <td>Not bias</td>\n",
       "      <td>Not bias</td>\n",
       "      <td>You are an expert in media bias.\\n\\nInstructio...</td>\n",
       "      <td>?</td>\n",
       "    </tr>\n",
       "  </tbody>\n",
       "</table>\n",
       "</div>"
      ],
      "text/plain": [
       "                                                   text  response  raw_data  \\\n",
       "1705  Tennessee has an annual sales tax-free holiday...  Not bias  Not bias   \n",
       "\n",
       "                                                  query label  \n",
       "1705  You are an expert in media bias.\\n\\nInstructio...     ?  "
      ]
     },
     "execution_count": 8,
     "metadata": {},
     "output_type": "execute_result"
    }
   ],
   "source": [
    "zero_shot_with_system.query(\"label == '?'\")"
   ]
  },
  {
   "cell_type": "code",
   "execution_count": 9,
   "metadata": {
    "collapsed": false
   },
   "outputs": [],
   "source": [
    "zero_shot_with_system.loc[[1705], 'label'] = 'NOT BIASED'\n"
   ]
  },
  {
   "cell_type": "code",
   "execution_count": 10,
   "metadata": {
    "collapsed": false
   },
   "outputs": [],
   "source": [
    "zero_shot_with_system = zero_shot_with_system.rename(\n",
    "    columns={\"label\": \"0_shot_with_system_label\"})\n",
    "zero_shot_with_system['0_shot_with_system_label'] = zero_shot_with_system[\n",
    "    '0_shot_with_system_label'].replace('BIASED', 1)\n",
    "zero_shot_with_system['0_shot_with_system_label'] = zero_shot_with_system[\n",
    "    '0_shot_with_system_label'].replace('NOT BIASED', 0)\n",
    "\n",
    "df_merge = df_babe.merge(zero_shot_with_system[zero_shot_with_system['0_shot_with_system_label'] != '?'][['text', '0_shot_with_system_label']], on='text')\n",
    "df_merge_all_runs = df_merge_all_runs.merge(zero_shot_with_system[zero_shot_with_system['0_shot_with_system_label'] != '?'][['text', '0_shot_with_system_label']], on='text')\n",
    " \n",
    "ground_truth = df_merge['label']\n",
    "zero_shot_with_system_label = df_merge['0_shot_with_system_label']"
   ]
  },
  {
   "cell_type": "code",
   "execution_count": 11,
   "metadata": {
    "collapsed": false
   },
   "outputs": [
    {
     "name": "stdout",
     "output_type": "stream",
     "text": [
      "F1-Score with TODO with System Prompt:  0.5209397344228806\n",
      "Precision with TODO with System Prompt:  0.8086680761099366\n",
      "Recall with TODO with System Prompt:  0.3842290306378704\n",
      "Accuracy with TODO with System Prompt:  0.6500870430241233\n"
     ]
    }
   ],
   "source": [
    "print(\"F1-Score with TODO with System Prompt: \",\n",
    "      f1_score(ground_truth, zero_shot_with_system_label))\n",
    "print(\"Precision with TODO with System Prompt: \",\n",
    "      precision_score(ground_truth, zero_shot_with_system_label))\n",
    "print(\"Recall with TODO with System Prompt: \",\n",
    "      recall_score(ground_truth, zero_shot_with_system_label))\n",
    "print(\"Accuracy with TODO with System Prompt: \",\n",
    "      accuracy_score(ground_truth, zero_shot_with_system_label))"
   ]
  },
  {
   "cell_type": "markdown",
   "metadata": {
    "collapsed": false
   },
   "source": [
    "# zero shot CoT"
   ]
  },
  {
   "cell_type": "code",
   "execution_count": 13,
   "metadata": {
    "collapsed": false
   },
   "outputs": [
    {
     "data": {
      "text/html": [
       "<div>\n",
       "<style scoped>\n",
       "    .dataframe tbody tr th:only-of-type {\n",
       "        vertical-align: middle;\n",
       "    }\n",
       "\n",
       "    .dataframe tbody tr th {\n",
       "        vertical-align: top;\n",
       "    }\n",
       "\n",
       "    .dataframe thead th {\n",
       "        text-align: right;\n",
       "    }\n",
       "</style>\n",
       "<table border=\"1\" class=\"dataframe\">\n",
       "  <thead>\n",
       "    <tr style=\"text-align: right;\">\n",
       "      <th></th>\n",
       "      <th>text</th>\n",
       "      <th>response</th>\n",
       "      <th>raw_data</th>\n",
       "      <th>query</th>\n",
       "      <th>label</th>\n",
       "    </tr>\n",
       "  </thead>\n",
       "  <tbody>\n",
       "    <tr>\n",
       "      <th>75</th>\n",
       "      <td>The ridicule is key here.</td>\n",
       "      <td>BIASED. The sentence is a statement of fact. T...</td>\n",
       "      <td>BIASED. The sentence is a statement of fact. T...</td>\n",
       "      <td>You are an expert in media bias.\\n\\nInstructio...</td>\n",
       "      <td>?</td>\n",
       "    </tr>\n",
       "    <tr>\n",
       "      <th>160</th>\n",
       "      <td>Memories of smashed windows, stolen merchandis...</td>\n",
       "      <td>Not biased. The article is not biased and does...</td>\n",
       "      <td>Not biased. The article is not biased and does...</td>\n",
       "      <td>You are an expert in media bias.\\n\\nInstructio...</td>\n",
       "      <td>?</td>\n",
       "    </tr>\n",
       "    <tr>\n",
       "      <th>203</th>\n",
       "      <td>Cable news is poison.</td>\n",
       "      <td>BIASED. The sentence is not biased because it ...</td>\n",
       "      <td>BIASED. The sentence is not biased because it ...</td>\n",
       "      <td>You are an expert in media bias.\\n\\nInstructio...</td>\n",
       "      <td>?</td>\n",
       "    </tr>\n",
       "    <tr>\n",
       "      <th>237</th>\n",
       "      <td>The Heroes Act contains many leftist provision...</td>\n",
       "      <td>BIASED. The sentence is not biased because it ...</td>\n",
       "      <td>BIASED. The sentence is not biased because it ...</td>\n",
       "      <td>You are an expert in media bias.\\n\\nInstructio...</td>\n",
       "      <td>?</td>\n",
       "    </tr>\n",
       "    <tr>\n",
       "      <th>239</th>\n",
       "      <td>On Saturday, there were numerous assaults by l...</td>\n",
       "      <td>Not biased. The sentence is not biased. The fa...</td>\n",
       "      <td>Not biased. The sentence is not biased. The fa...</td>\n",
       "      <td>You are an expert in media bias.\\n\\nInstructio...</td>\n",
       "      <td>?</td>\n",
       "    </tr>\n",
       "    <tr>\n",
       "      <th>...</th>\n",
       "      <td>...</td>\n",
       "      <td>...</td>\n",
       "      <td>...</td>\n",
       "      <td>...</td>\n",
       "      <td>...</td>\n",
       "    </tr>\n",
       "    <tr>\n",
       "      <th>3894</th>\n",
       "      <td>Dozens of bills to change the flag are filed i...</td>\n",
       "      <td>Not biased. The reporter did not state that th...</td>\n",
       "      <td>Not biased. The reporter did not state that th...</td>\n",
       "      <td>You are an expert in media bias.\\n\\nInstructio...</td>\n",
       "      <td>?</td>\n",
       "    </tr>\n",
       "    <tr>\n",
       "      <th>3898</th>\n",
       "      <td>A fifth of U.S. trans people reported discrimi...</td>\n",
       "      <td>Not biased because the National Center for Tra...</td>\n",
       "      <td>Not biased because the National Center for Tra...</td>\n",
       "      <td>You are an expert in media bias.\\n\\nInstructio...</td>\n",
       "      <td>?</td>\n",
       "    </tr>\n",
       "    <tr>\n",
       "      <th>4013</th>\n",
       "      <td>Trump, of course, is his most stunning when he...</td>\n",
       "      <td>Not biased. The sentence is not biased. It is ...</td>\n",
       "      <td>Not biased. The sentence is not biased. It is ...</td>\n",
       "      <td>You are an expert in media bias.\\n\\nInstructio...</td>\n",
       "      <td>?</td>\n",
       "    </tr>\n",
       "    <tr>\n",
       "      <th>4039</th>\n",
       "      <td>April, typically a big revenue month for U.S. ...</td>\n",
       "      <td>Not biased. The article is not biased. It is u...</td>\n",
       "      <td>Not biased. The article is not biased. It is u...</td>\n",
       "      <td>You are an expert in media bias.\\n\\nInstructio...</td>\n",
       "      <td>?</td>\n",
       "    </tr>\n",
       "    <tr>\n",
       "      <th>4062</th>\n",
       "      <td>In a part of the country where the rules about...</td>\n",
       "      <td>Not biased. The sentence is not biased. It is ...</td>\n",
       "      <td>Not biased. The sentence is not biased. It is ...</td>\n",
       "      <td>You are an expert in media bias.\\n\\nInstructio...</td>\n",
       "      <td>?</td>\n",
       "    </tr>\n",
       "  </tbody>\n",
       "</table>\n",
       "<p>63 rows × 5 columns</p>\n",
       "</div>"
      ],
      "text/plain": [
       "                                                   text  \\\n",
       "75                            The ridicule is key here.   \n",
       "160   Memories of smashed windows, stolen merchandis...   \n",
       "203                               Cable news is poison.   \n",
       "237   The Heroes Act contains many leftist provision...   \n",
       "239   On Saturday, there were numerous assaults by l...   \n",
       "...                                                 ...   \n",
       "3894  Dozens of bills to change the flag are filed i...   \n",
       "3898  A fifth of U.S. trans people reported discrimi...   \n",
       "4013  Trump, of course, is his most stunning when he...   \n",
       "4039  April, typically a big revenue month for U.S. ...   \n",
       "4062  In a part of the country where the rules about...   \n",
       "\n",
       "                                               response  \\\n",
       "75    BIASED. The sentence is a statement of fact. T...   \n",
       "160   Not biased. The article is not biased and does...   \n",
       "203   BIASED. The sentence is not biased because it ...   \n",
       "237   BIASED. The sentence is not biased because it ...   \n",
       "239   Not biased. The sentence is not biased. The fa...   \n",
       "...                                                 ...   \n",
       "3894  Not biased. The reporter did not state that th...   \n",
       "3898  Not biased because the National Center for Tra...   \n",
       "4013  Not biased. The sentence is not biased. It is ...   \n",
       "4039  Not biased. The article is not biased. It is u...   \n",
       "4062  Not biased. The sentence is not biased. It is ...   \n",
       "\n",
       "                                               raw_data  \\\n",
       "75    BIASED. The sentence is a statement of fact. T...   \n",
       "160   Not biased. The article is not biased and does...   \n",
       "203   BIASED. The sentence is not biased because it ...   \n",
       "237   BIASED. The sentence is not biased because it ...   \n",
       "239   Not biased. The sentence is not biased. The fa...   \n",
       "...                                                 ...   \n",
       "3894  Not biased. The reporter did not state that th...   \n",
       "3898  Not biased because the National Center for Tra...   \n",
       "4013  Not biased. The sentence is not biased. It is ...   \n",
       "4039  Not biased. The article is not biased. It is u...   \n",
       "4062  Not biased. The sentence is not biased. It is ...   \n",
       "\n",
       "                                                  query label  \n",
       "75    You are an expert in media bias.\\n\\nInstructio...     ?  \n",
       "160   You are an expert in media bias.\\n\\nInstructio...     ?  \n",
       "203   You are an expert in media bias.\\n\\nInstructio...     ?  \n",
       "237   You are an expert in media bias.\\n\\nInstructio...     ?  \n",
       "239   You are an expert in media bias.\\n\\nInstructio...     ?  \n",
       "...                                                 ...   ...  \n",
       "3894  You are an expert in media bias.\\n\\nInstructio...     ?  \n",
       "3898  You are an expert in media bias.\\n\\nInstructio...     ?  \n",
       "4013  You are an expert in media bias.\\n\\nInstructio...     ?  \n",
       "4039  You are an expert in media bias.\\n\\nInstructio...     ?  \n",
       "4062  You are an expert in media bias.\\n\\nInstructio...     ?  \n",
       "\n",
       "[63 rows x 5 columns]"
      ]
     },
     "execution_count": 13,
     "metadata": {},
     "output_type": "execute_result"
    }
   ],
   "source": [
    "zero_shot_cot.query(\"label == '?'\")"
   ]
  },
  {
   "cell_type": "code",
   "execution_count": 14,
   "metadata": {
    "collapsed": false
   },
   "outputs": [
    {
     "data": {
      "text/html": [
       "<div>\n",
       "<style scoped>\n",
       "    .dataframe tbody tr th:only-of-type {\n",
       "        vertical-align: middle;\n",
       "    }\n",
       "\n",
       "    .dataframe tbody tr th {\n",
       "        vertical-align: top;\n",
       "    }\n",
       "\n",
       "    .dataframe thead th {\n",
       "        text-align: right;\n",
       "    }\n",
       "</style>\n",
       "<table border=\"1\" class=\"dataframe\">\n",
       "  <thead>\n",
       "    <tr style=\"text-align: right;\">\n",
       "      <th></th>\n",
       "      <th>text</th>\n",
       "      <th>response</th>\n",
       "      <th>raw_data</th>\n",
       "      <th>query</th>\n",
       "      <th>label</th>\n",
       "    </tr>\n",
       "  </thead>\n",
       "  <tbody>\n",
       "  </tbody>\n",
       "</table>\n",
       "</div>"
      ],
      "text/plain": [
       "Empty DataFrame\n",
       "Columns: [text, response, raw_data, query, label]\n",
       "Index: []"
      ]
     },
     "execution_count": 14,
     "metadata": {},
     "output_type": "execute_result"
    }
   ],
   "source": [
    "# preprocessing\n",
    "def update_label(row):\n",
    "    if row['response'].startswith('BIASED') and row['label'] == '?':\n",
    "        return 'BIASED'\n",
    "    elif row['response'].startswith('NOT BIASED') and row[\n",
    "        'label'] == '?':\n",
    "        return 'NOT BIASED'\n",
    "    elif row['response'].startswith('not biased') and row[\n",
    "        'label'] == '?':\n",
    "        return 'NOT BIASED'\n",
    "    elif row['response'].startswith('Not biased') and row[\n",
    "        'label'] == '?':\n",
    "        return 'NOT BIASED'\n",
    "    elif row['response'].startswith('Not based') and row[\n",
    "        'label'] == '?':\n",
    "        return 'NOT BIASED'\n",
    "    else:\n",
    "        return row['label']\n",
    "\n",
    "\n",
    "zero_shot_cot['label'] = zero_shot_cot.apply(update_label, axis=1)\n",
    "zero_shot_cot.query(\"label == '?'\")"
   ]
  },
  {
   "cell_type": "code",
   "execution_count": 15,
   "metadata": {
    "collapsed": false
   },
   "outputs": [],
   "source": [
    "zero_shot_cot = zero_shot_cot.rename(columns={\"label\": \"0_shot_cot_label\"})\n",
    "zero_shot_cot['0_shot_cot_label'] = zero_shot_cot['0_shot_cot_label'].replace(\n",
    "    'BIASED', 1)\n",
    "zero_shot_cot['0_shot_cot_label'] = zero_shot_cot['0_shot_cot_label'].replace(\n",
    "    'NOT BIASED', 0)\n",
    "    \n",
    "df_merge = df_babe.merge(zero_shot_cot[zero_shot_cot['0_shot_cot_label'] != '?'][['text', '0_shot_cot_label']], on='text')\n",
    "df_merge_all_runs = df_merge_all_runs.merge(zero_shot_cot[zero_shot_cot['0_shot_cot_label'] != '?'][['text', '0_shot_cot_label']], on='text')\n",
    " \n",
    "ground_truth = df_merge['label']\n",
    "zero_shot_cot_label = df_merge['0_shot_cot_label']"
   ]
  },
  {
   "cell_type": "code",
   "execution_count": 16,
   "metadata": {
    "collapsed": false
   },
   "outputs": [
    {
     "name": "stdout",
     "output_type": "stream",
     "text": [
      "F1-Score with TODO with CoT:  0.5494648070061628\n",
      "Precision with TODO with CoT:  0.7756410256410257\n",
      "Recall with TODO with CoT:  0.425414364640884\n",
      "Accuracy with TODO with CoT:  0.6545635414076101\n"
     ]
    }
   ],
   "source": [
    "print(\"F1-Score with TODO with CoT: \",\n",
    "      f1_score(ground_truth, zero_shot_cot_label))\n",
    "print(\"Precision with TODO with CoT: \",\n",
    "      precision_score(ground_truth, zero_shot_cot_label))\n",
    "print(\"Recall with TODO with CoT: \",\n",
    "      recall_score(ground_truth, zero_shot_cot_label))\n",
    "print(\"Accuracy with TODO with CoT: \",\n",
    "      accuracy_score(ground_truth, zero_shot_cot_label))"
   ]
  },
  {
   "cell_type": "markdown",
   "metadata": {
    "collapsed": false
   },
   "source": [
    "# 2-shot"
   ]
  },
  {
   "cell_type": "code",
   "execution_count": 17,
   "metadata": {
    "collapsed": false
   },
   "outputs": [
    {
     "data": {
      "text/html": [
       "<div>\n",
       "<style scoped>\n",
       "    .dataframe tbody tr th:only-of-type {\n",
       "        vertical-align: middle;\n",
       "    }\n",
       "\n",
       "    .dataframe tbody tr th {\n",
       "        vertical-align: top;\n",
       "    }\n",
       "\n",
       "    .dataframe thead th {\n",
       "        text-align: right;\n",
       "    }\n",
       "</style>\n",
       "<table border=\"1\" class=\"dataframe\">\n",
       "  <thead>\n",
       "    <tr style=\"text-align: right;\">\n",
       "      <th></th>\n",
       "      <th>text</th>\n",
       "      <th>response</th>\n",
       "      <th>raw_data</th>\n",
       "      <th>query</th>\n",
       "      <th>label</th>\n",
       "    </tr>\n",
       "  </thead>\n",
       "  <tbody>\n",
       "  </tbody>\n",
       "</table>\n",
       "</div>"
      ],
      "text/plain": [
       "Empty DataFrame\n",
       "Columns: [text, response, raw_data, query, label]\n",
       "Index: []"
      ]
     },
     "execution_count": 17,
     "metadata": {},
     "output_type": "execute_result"
    }
   ],
   "source": [
    "two_shot.query(\"label == '?'\")"
   ]
  },
  {
   "cell_type": "code",
   "execution_count": 16,
   "metadata": {
    "collapsed": false
   },
   "outputs": [],
   "source": [
    "# preprocessing"
   ]
  },
  {
   "cell_type": "code",
   "execution_count": 17,
   "metadata": {
    "collapsed": false
   },
   "outputs": [],
   "source": [
    "two_shot = two_shot.rename(columns={\"label\": \"2_shot_label\"})\n",
    "two_shot['2_shot_label'] = two_shot['2_shot_label'].replace('BIASED', 1)\n",
    "two_shot['2_shot_label'] = two_shot['2_shot_label'].replace('NOT BIASED', 0)\n",
    "\n",
    "df_merge = df_babe.merge(two_shot[two_shot['2_shot_label'] != '?'][['text', '2_shot_label']], on='text')\n",
    "df_merge_all_runs = df_merge_all_runs.merge(two_shot[two_shot['2_shot_label'] != '?'][['text', '2_shot_label']], on='text')\n",
    "\n",
    "ground_truth = df_merge['label']\n",
    "two_shot_label = df_merge['2_shot_label']"
   ]
  },
  {
   "cell_type": "code",
   "execution_count": 18,
   "metadata": {
    "collapsed": false
   },
   "outputs": [
    {
     "name": "stdout",
     "output_type": "stream",
     "text": [
      "F1-Score with TODO with (2 shot):  0.6342182890855458\n",
      "Precision with TODO with (2 shot):  0.7684060042887777\n",
      "Recall with TODO with (2 shot):  0.5399296835760924\n",
      "Accuracy with TODO with (2 shot):  0.6916190002486944\n"
     ]
    }
   ],
   "source": [
    "print(\"F1-Score with TODO with (2 shot): \",\n",
    "      f1_score(ground_truth, two_shot_label))\n",
    "print(\"Precision with TODO with (2 shot): \",\n",
    "      precision_score(ground_truth, two_shot_label))\n",
    "print(\"Recall with TODO with (2 shot): \",\n",
    "      recall_score(ground_truth, two_shot_label))\n",
    "print(\"Accuracy with TODO with (2 shot): \",\n",
    "      accuracy_score(ground_truth, two_shot_label))"
   ]
  },
  {
   "cell_type": "markdown",
   "metadata": {
    "collapsed": false
   },
   "source": [
    "# 4-shot"
   ]
  },
  {
   "cell_type": "code",
   "execution_count": 18,
   "metadata": {
    "collapsed": false
   },
   "outputs": [
    {
     "data": {
      "text/html": [
       "<div>\n",
       "<style scoped>\n",
       "    .dataframe tbody tr th:only-of-type {\n",
       "        vertical-align: middle;\n",
       "    }\n",
       "\n",
       "    .dataframe tbody tr th {\n",
       "        vertical-align: top;\n",
       "    }\n",
       "\n",
       "    .dataframe thead th {\n",
       "        text-align: right;\n",
       "    }\n",
       "</style>\n",
       "<table border=\"1\" class=\"dataframe\">\n",
       "  <thead>\n",
       "    <tr style=\"text-align: right;\">\n",
       "      <th></th>\n",
       "      <th>text</th>\n",
       "      <th>response</th>\n",
       "      <th>raw_data</th>\n",
       "      <th>query</th>\n",
       "      <th>label</th>\n",
       "    </tr>\n",
       "  </thead>\n",
       "  <tbody>\n",
       "  </tbody>\n",
       "</table>\n",
       "</div>"
      ],
      "text/plain": [
       "Empty DataFrame\n",
       "Columns: [text, response, raw_data, query, label]\n",
       "Index: []"
      ]
     },
     "execution_count": 18,
     "metadata": {},
     "output_type": "execute_result"
    }
   ],
   "source": [
    "four_shot.query(\"label == '?'\")"
   ]
  },
  {
   "cell_type": "code",
   "execution_count": 20,
   "metadata": {
    "collapsed": false
   },
   "outputs": [],
   "source": [
    "# preprocessing"
   ]
  },
  {
   "cell_type": "code",
   "execution_count": 19,
   "metadata": {
    "collapsed": false
   },
   "outputs": [],
   "source": [
    "four_shot = four_shot.rename(columns={\"label\": \"4_shot_label\"})\n",
    "four_shot['4_shot_label'] = four_shot['4_shot_label'].replace('BIASED', 1)\n",
    "four_shot['4_shot_label'] = four_shot['4_shot_label'].replace('NOT BIASED', 0)\n",
    "\n",
    "df_merge = df_babe.merge(four_shot[four_shot['4_shot_label'] != '?'][['text', '4_shot_label']], on='text')\n",
    "df_merge_all_runs = df_merge_all_runs.merge(four_shot[four_shot['4_shot_label'] != '?'][['text', '4_shot_label']], on='text')\n",
    "\n",
    "ground_truth = df_merge['label']\n",
    "four_shot_label = df_merge['4_shot_label']"
   ]
  },
  {
   "cell_type": "code",
   "execution_count": 20,
   "metadata": {
    "collapsed": false
   },
   "outputs": [
    {
     "name": "stdout",
     "output_type": "stream",
     "text": [
      "F1-Score with TODO with (4 shot):  0.6050836949783014\n",
      "Precision with TODO with (4 shot):  0.7902834008097166\n",
      "Recall with TODO with (4 shot):  0.49020592667001506\n",
      "Accuracy with TODO with (4 shot):  0.6831633921909973\n"
     ]
    }
   ],
   "source": [
    "print(\"F1-Score with TODO with (4 shot): \",\n",
    "      f1_score(ground_truth, four_shot_label))\n",
    "print(\"Precision with TODO with (4 shot): \",\n",
    "      precision_score(ground_truth, four_shot_label))\n",
    "print(\"Recall with TODO with (4 shot): \",\n",
    "      recall_score(ground_truth, four_shot_label))\n",
    "print(\"Accuracy with TODO with (4 shot): \",\n",
    "      accuracy_score(ground_truth, four_shot_label))"
   ]
  },
  {
   "cell_type": "markdown",
   "metadata": {
    "collapsed": false
   },
   "source": [
    "# Comparison and plots"
   ]
  },
  {
   "cell_type": "code",
   "execution_count": 23,
   "metadata": {
    "collapsed": false
   },
   "outputs": [
    {
     "ename": "KeyError",
     "evalue": "'8_shot_label'",
     "output_type": "error",
     "traceback": [
      "\u001b[0;31m---------------------------------------------------------------------------\u001b[0m",
      "\u001b[0;31mKeyError\u001b[0m                                  Traceback (most recent call last)",
      "File \u001b[0;32m~/PycharmProjects/Annomatic_Benchmark/venv/lib/python3.9/site-packages/pandas/core/indexes/base.py:3790\u001b[0m, in \u001b[0;36mIndex.get_loc\u001b[0;34m(self, key)\u001b[0m\n\u001b[1;32m   3789\u001b[0m \u001b[39mtry\u001b[39;00m:\n\u001b[0;32m-> 3790\u001b[0m     \u001b[39mreturn\u001b[39;00m \u001b[39mself\u001b[39;49m\u001b[39m.\u001b[39;49m_engine\u001b[39m.\u001b[39;49mget_loc(casted_key)\n\u001b[1;32m   3791\u001b[0m \u001b[39mexcept\u001b[39;00m \u001b[39mKeyError\u001b[39;00m \u001b[39mas\u001b[39;00m err:\n",
      "File \u001b[0;32mindex.pyx:152\u001b[0m, in \u001b[0;36mpandas._libs.index.IndexEngine.get_loc\u001b[0;34m()\u001b[0m\n",
      "File \u001b[0;32mindex.pyx:181\u001b[0m, in \u001b[0;36mpandas._libs.index.IndexEngine.get_loc\u001b[0;34m()\u001b[0m\n",
      "File \u001b[0;32mpandas/_libs/hashtable_class_helper.pxi:7080\u001b[0m, in \u001b[0;36mpandas._libs.hashtable.PyObjectHashTable.get_item\u001b[0;34m()\u001b[0m\n",
      "File \u001b[0;32mpandas/_libs/hashtable_class_helper.pxi:7088\u001b[0m, in \u001b[0;36mpandas._libs.hashtable.PyObjectHashTable.get_item\u001b[0;34m()\u001b[0m\n",
      "\u001b[0;31mKeyError\u001b[0m: '8_shot_label'",
      "\nThe above exception was the direct cause of the following exception:\n",
      "\u001b[0;31mKeyError\u001b[0m                                  Traceback (most recent call last)",
      "Cell \u001b[0;32mIn[23], line 39\u001b[0m\n\u001b[1;32m     37\u001b[0m plot_confusion_matrix(axes[\u001b[39m1\u001b[39m, \u001b[39m0\u001b[39m], df_merge, \u001b[39m'\u001b[39m\u001b[39mlabel\u001b[39m\u001b[39m'\u001b[39m, \u001b[39m'\u001b[39m\u001b[39m2_shot_label\u001b[39m\u001b[39m'\u001b[39m, \u001b[39m'\u001b[39m\u001b[39m2_shot\u001b[39m\u001b[39m'\u001b[39m)\n\u001b[1;32m     38\u001b[0m plot_confusion_matrix(axes[\u001b[39m1\u001b[39m, \u001b[39m1\u001b[39m], df_merge, \u001b[39m'\u001b[39m\u001b[39mlabel\u001b[39m\u001b[39m'\u001b[39m, \u001b[39m'\u001b[39m\u001b[39m4_shot_label\u001b[39m\u001b[39m'\u001b[39m, \u001b[39m'\u001b[39m\u001b[39m4_shot\u001b[39m\u001b[39m'\u001b[39m)\n\u001b[0;32m---> 39\u001b[0m plot_confusion_matrix(axes[\u001b[39m1\u001b[39;49m, \u001b[39m2\u001b[39;49m], df_merge, \u001b[39m'\u001b[39;49m\u001b[39mlabel\u001b[39;49m\u001b[39m'\u001b[39;49m, \u001b[39m'\u001b[39;49m\u001b[39m8_shot_label\u001b[39;49m\u001b[39m'\u001b[39;49m, \u001b[39m'\u001b[39;49m\u001b[39m8_shot\u001b[39;49m\u001b[39m'\u001b[39;49m)\n\u001b[1;32m     41\u001b[0m plt\u001b[39m.\u001b[39mtight_layout(\n\u001b[1;32m     42\u001b[0m     rect\u001b[39m=\u001b[39m[\u001b[39m0\u001b[39m, \u001b[39m0\u001b[39m, \u001b[39m1\u001b[39m, \u001b[39m0.96\u001b[39m])  \u001b[39m# Adjust layout to prevent title overlap\u001b[39;00m\n\u001b[1;32m     43\u001b[0m plt\u001b[39m.\u001b[39mshow()\n",
      "Cell \u001b[0;32mIn[23], line 9\u001b[0m, in \u001b[0;36mplot_confusion_matrix\u001b[0;34m(ax, df, true_labels_column, predicted_labels_column, title)\u001b[0m\n\u001b[1;32m      6\u001b[0m \u001b[39mdef\u001b[39;00m \u001b[39mplot_confusion_matrix\u001b[39m(ax, df, true_labels_column, predicted_labels_column,\n\u001b[1;32m      7\u001b[0m                           title\u001b[39m=\u001b[39m\u001b[39mNone\u001b[39;00m\n\u001b[1;32m      8\u001b[0m                           ): \n\u001b[0;32m----> 9\u001b[0m     predicted_labels \u001b[39m=\u001b[39m df[\u001b[39mf\u001b[39;49m\u001b[39m'\u001b[39;49m\u001b[39m{\u001b[39;49;00mpredicted_labels_column\u001b[39m}\u001b[39;49;00m\u001b[39m'\u001b[39;49m]\n\u001b[1;32m     10\u001b[0m     true_labels \u001b[39m=\u001b[39m df[\u001b[39mf\u001b[39m\u001b[39m'\u001b[39m\u001b[39m{\u001b[39;00mtrue_labels_column\u001b[39m}\u001b[39;00m\u001b[39m'\u001b[39m]\n\u001b[1;32m     12\u001b[0m     \u001b[39m# Calculate confusion matrix\u001b[39;00m\n",
      "File \u001b[0;32m~/PycharmProjects/Annomatic_Benchmark/venv/lib/python3.9/site-packages/pandas/core/frame.py:3893\u001b[0m, in \u001b[0;36mDataFrame.__getitem__\u001b[0;34m(self, key)\u001b[0m\n\u001b[1;32m   3891\u001b[0m \u001b[39mif\u001b[39;00m \u001b[39mself\u001b[39m\u001b[39m.\u001b[39mcolumns\u001b[39m.\u001b[39mnlevels \u001b[39m>\u001b[39m \u001b[39m1\u001b[39m:\n\u001b[1;32m   3892\u001b[0m     \u001b[39mreturn\u001b[39;00m \u001b[39mself\u001b[39m\u001b[39m.\u001b[39m_getitem_multilevel(key)\n\u001b[0;32m-> 3893\u001b[0m indexer \u001b[39m=\u001b[39m \u001b[39mself\u001b[39;49m\u001b[39m.\u001b[39;49mcolumns\u001b[39m.\u001b[39;49mget_loc(key)\n\u001b[1;32m   3894\u001b[0m \u001b[39mif\u001b[39;00m is_integer(indexer):\n\u001b[1;32m   3895\u001b[0m     indexer \u001b[39m=\u001b[39m [indexer]\n",
      "File \u001b[0;32m~/PycharmProjects/Annomatic_Benchmark/venv/lib/python3.9/site-packages/pandas/core/indexes/base.py:3797\u001b[0m, in \u001b[0;36mIndex.get_loc\u001b[0;34m(self, key)\u001b[0m\n\u001b[1;32m   3792\u001b[0m     \u001b[39mif\u001b[39;00m \u001b[39misinstance\u001b[39m(casted_key, \u001b[39mslice\u001b[39m) \u001b[39mor\u001b[39;00m (\n\u001b[1;32m   3793\u001b[0m         \u001b[39misinstance\u001b[39m(casted_key, abc\u001b[39m.\u001b[39mIterable)\n\u001b[1;32m   3794\u001b[0m         \u001b[39mand\u001b[39;00m \u001b[39many\u001b[39m(\u001b[39misinstance\u001b[39m(x, \u001b[39mslice\u001b[39m) \u001b[39mfor\u001b[39;00m x \u001b[39min\u001b[39;00m casted_key)\n\u001b[1;32m   3795\u001b[0m     ):\n\u001b[1;32m   3796\u001b[0m         \u001b[39mraise\u001b[39;00m InvalidIndexError(key)\n\u001b[0;32m-> 3797\u001b[0m     \u001b[39mraise\u001b[39;00m \u001b[39mKeyError\u001b[39;00m(key) \u001b[39mfrom\u001b[39;00m \u001b[39merr\u001b[39;00m\n\u001b[1;32m   3798\u001b[0m \u001b[39mexcept\u001b[39;00m \u001b[39mTypeError\u001b[39;00m:\n\u001b[1;32m   3799\u001b[0m     \u001b[39m# If we have a listlike key, _check_indexing_error will raise\u001b[39;00m\n\u001b[1;32m   3800\u001b[0m     \u001b[39m#  InvalidIndexError. Otherwise we fall through and re-raise\u001b[39;00m\n\u001b[1;32m   3801\u001b[0m     \u001b[39m#  the TypeError.\u001b[39;00m\n\u001b[1;32m   3802\u001b[0m     \u001b[39mself\u001b[39m\u001b[39m.\u001b[39m_check_indexing_error(key)\n",
      "\u001b[0;31mKeyError\u001b[0m: '8_shot_label'"
     ]
    },
    {
     "data": {
      "image/png": "[encoded data removed]",
      "text/plain": [
       "<Figure size 1800x1200 with 11 Axes>"
      ]
     },
     "metadata": {},
     "output_type": "display_data"
    }
   ],
   "source": [
    "import seaborn as sns\n",
    "import matplotlib.pyplot as plt\n",
    "from sklearn.metrics import confusion_matrix\n",
    "\n",
    "\n",
    "def plot_confusion_matrix(ax, df, true_labels_column, predicted_labels_column,\n",
    "                          title=None\n",
    "                          ): \n",
    "    predicted_labels = df[f'{predicted_labels_column}']\n",
    "    true_labels = df[f'{true_labels_column}']\n",
    "\n",
    "    # Calculate confusion matrix\n",
    "    cm = confusion_matrix(true_labels, predicted_labels)\n",
    "\n",
    "\n",
    "    # Display confusion matrix heatmap\n",
    "    sns.heatmap(cm, annot=True, fmt='d', cmap='Blues', xticklabels=True,\n",
    "                yticklabels=True, ax=ax)\n",
    "\n",
    "    title = title if title else predicted_labels_column\n",
    "\n",
    "    ax.set_title(f'Confusion Matrix - {title}')\n",
    "    ax.set_xlabel('Predicted')\n",
    "    ax.set_ylabel('True')\n",
    "\n",
    "\n",
    "# Create subplots\n",
    "fig, axes = plt.subplots(2, 3, figsize=(18, 12))\n",
    "fig.suptitle('Confusion Matrices')\n",
    "\n",
    "# Plot each confusion matrix\n",
    "plot_confusion_matrix(axes[0, 0], df_merge, 'label', '0_shot_label', '0_shot')\n",
    "plot_confusion_matrix(axes[0, 1], df_merge, 'label',\n",
    "                      '0_shot_with_system_label', '0_shot_with_system')\n",
    "plot_confusion_matrix(axes[0, 2], df_merge, 'label', '0_shot_cot_label',\n",
    "                      '0_shot_cot')\n",
    "plot_confusion_matrix(axes[1, 0], df_merge, 'label', '2_shot_label', '2_shot')\n",
    "plot_confusion_matrix(axes[1, 1], df_merge, 'label', '4_shot_label', '4_shot')\n",
    "plot_confusion_matrix(axes[1, 2], df_merge, 'label', '8_shot_label', '8_shot')\n",
    "\n",
    "plt.tight_layout(\n",
    "    rect=[0, 0, 1, 0.96])  # Adjust layout to prevent title overlap\n",
    "plt.show()"
   ]
  },
  {
   "cell_type": "markdown",
   "metadata": {
    "collapsed": false
   },
   "source": [
    "# Krippendorff Alpha in model"
   ]
  },
  {
   "cell_type": "code",
   "execution_count": null,
   "metadata": {
    "collapsed": false
   },
   "outputs": [],
   "source": [
    "import krippendorff\n",
    "\n",
    "runs = ['0_shot_label', '0_shot_with_system_label', '0_shot_cot_label',\n",
    "        '2_shot_label', '4_shot_label', '8_shot_label']\n",
    "\n",
    "\n",
    "def compute_krippendorff_alpha(df, predicted_columns):\n",
    "    pred_map = {}\n",
    "    for run in predicted_columns:\n",
    "        predicted_labels = df[run]\n",
    "        pred_map[run] = predicted_labels\n",
    "\n",
    "    # Check if there is variability in the ratings\n",
    "    unique_labels_counts = df[predicted_columns].nunique(axis=1)\n",
    "    if unique_labels_counts.max() == 1:\n",
    "        # All ratings are the same, return a special value or handle accordingly\n",
    "        return 0\n",
    "\n",
    "    reliability_data = df[predicted_columns].values.tolist()\n",
    "\n",
    "    # Calculate Krippendorff's alpha\n",
    "    alpha = krippendorff.alpha(reliability_data=list(pred_map.values()),\n",
    "                               level_of_measurement='nominal')\n",
    "\n",
    "    return alpha\n"
   ]
  },
  {
   "cell_type": "code",
   "execution_count": null,
   "metadata": {
    "collapsed": false
   },
   "outputs": [],
   "source": [
    "alpha_value = compute_krippendorff_alpha(df_merge, runs)\n",
    "print(f\"Krippendorff's Alpha (all runs): {alpha_value}\")"
   ]
  },
  {
   "cell_type": "code",
   "execution_count": null,
   "metadata": {
    "collapsed": false
   },
   "outputs": [],
   "source": [
    "import itertools\n",
    "\n",
    "def compute_krippendorff_alpha_for_k_runs(df, runs, k=None):\n",
    "    # Initialize variables to store the best combination and alpha\n",
    "    if k is None:\n",
    "        k = len(runs)\n",
    "\n",
    "    best_combination = None\n",
    "    best_alpha = 0  # Assuming alpha ranges from 0 to 1\n",
    "\n",
    "    # Iterate through all possible combinations\n",
    "    for combination in itertools.combinations(runs, k):\n",
    "\n",
    "        alpha_value = compute_krippendorff_alpha(df, list(combination))\n",
    "\n",
    "        # Print alpha for the current combination\n",
    "        print(f\"Combination: {combination}, Alpha: {alpha_value}\")\n",
    "\n",
    "        # Update best combination and alpha if a higher alpha is found\n",
    "        if alpha_value > best_alpha:\n",
    "            best_alpha = alpha_value\n",
    "            best_combination = combination\n",
    "\n",
    "    # Print the best combination and alpha\n",
    "    print(f\"\\nBest Combination: {best_combination}, Best Alpha: {best_alpha}\")\n",
    "    return best_alpha, best_combination"
   ]
  },
  {
   "cell_type": "code",
   "execution_count": null,
   "metadata": {
    "collapsed": false
   },
   "outputs": [],
   "source": [
    "compute_krippendorff_alpha_for_k_runs(df_merge, runs, 2)"
   ]
  }
 ],
 "metadata": {
  "kernelspec": {
   "display_name": "Python 3.9.18 ('venv': venv)",
   "language": "python",
   "name": "python3"
  },
  "language_info": {
   "codemirror_mode": {
    "name": "ipython",
    "version": 3
   },
   "file_extension": ".py",
   "mimetype": "text/x-python",
   "name": "python",
   "nbconvert_exporter": "python",
   "pygments_lexer": "ipython3",
   "version": "3.9.18"
  },
  "vscode": {
   "interpreter": {
    "hash": "8a80f9e0de999ee68a5c4d727299d170641bcafce6104c26cbe6897ebd010016"
   }
  }
 },
 "nbformat": 4,
 "nbformat_minor": 0
}
