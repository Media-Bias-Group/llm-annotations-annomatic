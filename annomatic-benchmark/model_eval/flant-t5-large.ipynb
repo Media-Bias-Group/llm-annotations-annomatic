{
 "cells": [
  {
   "cell_type": "markdown",
   "metadata": {
    "collapsed": false
   },
   "source": [
    "# Eval the results of Flan T5 large"
   ]
  },
  {
   "cell_type": "code",
   "execution_count": 1,
   "metadata": {
    "collapsed": false
   },
   "outputs": [],
   "source": [
    "import pandas as pd\n",
    "from datasets import load_dataset\n",
    "from sklearn.metrics import f1_score, precision_score, recall_score, \\\n",
    "    accuracy_score"
   ]
  },
  {
   "cell_type": "code",
   "execution_count": 3,
   "metadata": {
    "collapsed": false
   },
   "outputs": [],
   "source": [
    "\n",
    "# load\n",
    "model = 'flan-t5-large'\n",
    "\n",
    "# load results\n",
    "zero_shot = pd.read_csv(f\"../zero-shot/data/{model}.csv\")\n",
    "zero_shot_with_system = pd.read_csv(\n",
    "    f\"../zero-shot-system_prompt/data/{model}.csv\")\n",
    "zero_shot_cot = pd.read_csv(f\"../zero-shot-cot/data/{model}.csv\")\n",
    "two_shot = pd.read_csv(f\"../2-shot/data/{model}.csv\")\n",
    "four_shot = pd.read_csv(f\"../4-shot/data/{model}.csv\")\n",
    "\n",
    "\n",
    "#load pool\n",
    "pool = load_dataset('mediabiasgroup/BABE-icl-pool')['train'].to_pandas()\n",
    "\n",
    "# exclude pool from model (if needed)\n",
    "zero_shot = zero_shot.merge(pool['text'], on='text', how='left',\n",
    "                            indicator=True).query(\n",
    "    '_merge == \"left_only\"').drop('_merge', axis=1)\n",
    "zero_shot_with_system = zero_shot_with_system.merge(pool['text'], on='text',\n",
    "                                                    how='left',\n",
    "                                                    indicator=True).query(\n",
    "    '_merge == \"left_only\"').drop('_merge', axis=1)\n",
    "zero_shot_cot = zero_shot_cot.merge(pool['text'], on='text', how='left',\n",
    "                                    indicator=True).query(\n",
    "    '_merge == \"left_only\"').drop('_merge', axis=1)\n",
    "two_shot = two_shot.merge(pool['text'], on='text', how='left',\n",
    "                          indicator=True).query('_merge == \"left_only\"').drop(\n",
    "    '_merge', axis=1)\n",
    "four_shot = four_shot.merge(pool['text'], on='text', how='left',\n",
    "                            indicator=True).query(\n",
    "    '_merge == \"left_only\"').drop('_merge', axis=1)\n",
    "\n",
    "\n",
    "\n",
    "#load babe\n",
    "dataset = load_dataset('mediabiasgroup/BABE-v4')\n",
    "df_babe = pd.DataFrame(dataset['train'])\n",
    "\n",
    "# df_merge = babe at begin\n",
    "df_merge_all_runs = df_babe"
   ]
  },
  {
   "cell_type": "markdown",
   "metadata": {
    "collapsed": false
   },
   "source": [
    "# Zero shot"
   ]
  },
  {
   "cell_type": "code",
   "execution_count": 4,
   "metadata": {
    "collapsed": false
   },
   "outputs": [
    {
     "data": {
      "text/html": [
       "<div>\n",
       "<style scoped>\n",
       "    .dataframe tbody tr th:only-of-type {\n",
       "        vertical-align: middle;\n",
       "    }\n",
       "\n",
       "    .dataframe tbody tr th {\n",
       "        vertical-align: top;\n",
       "    }\n",
       "\n",
       "    .dataframe thead th {\n",
       "        text-align: right;\n",
       "    }\n",
       "</style>\n",
       "<table border=\"1\" class=\"dataframe\">\n",
       "  <thead>\n",
       "    <tr style=\"text-align: right;\">\n",
       "      <th></th>\n",
       "      <th>text</th>\n",
       "      <th>response</th>\n",
       "      <th>raw_data</th>\n",
       "      <th>query</th>\n",
       "      <th>label</th>\n",
       "    </tr>\n",
       "  </thead>\n",
       "  <tbody>\n",
       "  </tbody>\n",
       "</table>\n",
       "</div>"
      ],
      "text/plain": [
       "Empty DataFrame\n",
       "Columns: [text, response, raw_data, query, label]\n",
       "Index: []"
      ]
     },
     "execution_count": 4,
     "metadata": {},
     "output_type": "execute_result"
    }
   ],
   "source": [
    "zero_shot.query(\"label == '?'\")"
   ]
  },
  {
   "cell_type": "code",
   "execution_count": 24,
   "metadata": {
    "collapsed": false
   },
   "outputs": [],
   "source": [
    "# preprocessing"
   ]
  },
  {
   "cell_type": "code",
   "execution_count": 5,
   "metadata": {
    "collapsed": false
   },
   "outputs": [],
   "source": [
    "zero_shot = zero_shot.rename(columns={\"label\": \"0_shot_label\"})\n",
    "zero_shot['0_shot_label'] = zero_shot['0_shot_label'].replace('BIASED', 1)\n",
    "zero_shot['0_shot_label'] = zero_shot['0_shot_label'].replace('NOT BIASED', 0)\n",
    "\n",
    "df_merge = df_babe.merge(zero_shot[zero_shot['0_shot_label'] != '?'][['text', '0_shot_label']], on='text')\n",
    "df_merge_all_runs = df_merge_all_runs.merge(zero_shot[zero_shot['0_shot_label'] != '?'][['text', '0_shot_label']], on='text')\n",
    "\n",
    "ground_truth = df_merge['label']\n",
    "zero_shot_label = df_merge['0_shot_label']"
   ]
  },
  {
   "cell_type": "code",
   "execution_count": 6,
   "metadata": {
    "collapsed": false
   },
   "outputs": [
    {
     "name": "stdout",
     "output_type": "stream",
     "text": [
      "F1-Score with TODO:  0.5924235508900045\n",
      "Precision with TODO:  0.5428690924299456\n",
      "Recall with TODO:  0.6519337016574586\n",
      "Accuracy with TODO:  0.5558318826162646\n"
     ]
    }
   ],
   "source": [
    "print(\"F1-Score with TODO: \", f1_score(ground_truth, zero_shot_label))\n",
    "print(\"Precision with TODO: \",\n",
    "      precision_score(ground_truth, zero_shot_label))\n",
    "print(\"Recall with TODO: \",\n",
    "      recall_score(ground_truth, zero_shot_label))\n",
    "print(\"Accuracy with TODO: \",\n",
    "      accuracy_score(ground_truth, zero_shot_label))"
   ]
  },
  {
   "cell_type": "markdown",
   "metadata": {
    "collapsed": false
   },
   "source": [
    "# zero shot with system prompt"
   ]
  },
  {
   "cell_type": "code",
   "execution_count": 7,
   "metadata": {
    "collapsed": false
   },
   "outputs": [
    {
     "data": {
      "text/html": [
       "<div>\n",
       "<style scoped>\n",
       "    .dataframe tbody tr th:only-of-type {\n",
       "        vertical-align: middle;\n",
       "    }\n",
       "\n",
       "    .dataframe tbody tr th {\n",
       "        vertical-align: top;\n",
       "    }\n",
       "\n",
       "    .dataframe thead th {\n",
       "        text-align: right;\n",
       "    }\n",
       "</style>\n",
       "<table border=\"1\" class=\"dataframe\">\n",
       "  <thead>\n",
       "    <tr style=\"text-align: right;\">\n",
       "      <th></th>\n",
       "      <th>text</th>\n",
       "      <th>response</th>\n",
       "      <th>raw_data</th>\n",
       "      <th>query</th>\n",
       "      <th>label</th>\n",
       "    </tr>\n",
       "  </thead>\n",
       "  <tbody>\n",
       "  </tbody>\n",
       "</table>\n",
       "</div>"
      ],
      "text/plain": [
       "Empty DataFrame\n",
       "Columns: [text, response, raw_data, query, label]\n",
       "Index: []"
      ]
     },
     "execution_count": 7,
     "metadata": {},
     "output_type": "execute_result"
    }
   ],
   "source": [
    "zero_shot_with_system.query(\"label == '?'\")"
   ]
  },
  {
   "cell_type": "code",
   "execution_count": null,
   "metadata": {
    "collapsed": false
   },
   "outputs": [],
   "source": []
  },
  {
   "cell_type": "code",
   "execution_count": 8,
   "metadata": {
    "collapsed": false
   },
   "outputs": [],
   "source": [
    "zero_shot_with_system = zero_shot_with_system.rename(\n",
    "    columns={\"label\": \"0_shot_with_system_label\"})\n",
    "zero_shot_with_system['0_shot_with_system_label'] = zero_shot_with_system[\n",
    "    '0_shot_with_system_label'].replace('BIASED', 1)\n",
    "zero_shot_with_system['0_shot_with_system_label'] = zero_shot_with_system[\n",
    "    '0_shot_with_system_label'].replace('NOT BIASED', 0)\n",
    "\n",
    "df_merge = df_babe.merge(zero_shot_with_system[zero_shot_with_system['0_shot_with_system_label'] != '?'][['text', '0_shot_with_system_label']], on='text')\n",
    "df_merge_all_runs = df_merge_all_runs.merge(zero_shot_with_system[zero_shot_with_system['0_shot_with_system_label'] != '?'][['text', '0_shot_with_system_label']], on='text')\n",
    " \n",
    "ground_truth = df_merge['label']\n",
    "zero_shot_with_system_label = df_merge['0_shot_with_system_label']"
   ]
  },
  {
   "cell_type": "code",
   "execution_count": 9,
   "metadata": {
    "collapsed": false
   },
   "outputs": [
    {
     "name": "stdout",
     "output_type": "stream",
     "text": [
      "F1-Score with TODO with System Prompt:  0.6681534344335416\n",
      "Precision with TODO with System Prompt:  0.600882470918572\n",
      "Recall with TODO with System Prompt:  0.7523857358111502\n",
      "Accuracy with TODO with System Prompt:  0.6299428002984332\n"
     ]
    }
   ],
   "source": [
    "print(\"F1-Score with TODO with System Prompt: \",\n",
    "      f1_score(ground_truth, zero_shot_with_system_label))\n",
    "print(\"Precision with TODO with System Prompt: \",\n",
    "      precision_score(ground_truth, zero_shot_with_system_label))\n",
    "print(\"Recall with TODO with System Prompt: \",\n",
    "      recall_score(ground_truth, zero_shot_with_system_label))\n",
    "print(\"Accuracy with TODO with System Prompt: \",\n",
    "      accuracy_score(ground_truth, zero_shot_with_system_label))"
   ]
  },
  {
   "cell_type": "markdown",
   "metadata": {
    "collapsed": false
   },
   "source": [
    "# zero shot CoT"
   ]
  },
  {
   "cell_type": "code",
   "execution_count": 30,
   "metadata": {
    "collapsed": false
   },
   "outputs": [
    {
     "data": {
      "text/html": [
       "<div>\n",
       "<style scoped>\n",
       "    .dataframe tbody tr th:only-of-type {\n",
       "        vertical-align: middle;\n",
       "    }\n",
       "\n",
       "    .dataframe tbody tr th {\n",
       "        vertical-align: top;\n",
       "    }\n",
       "\n",
       "    .dataframe thead th {\n",
       "        text-align: right;\n",
       "    }\n",
       "</style>\n",
       "<table border=\"1\" class=\"dataframe\">\n",
       "  <thead>\n",
       "    <tr style=\"text-align: right;\">\n",
       "      <th></th>\n",
       "      <th>text</th>\n",
       "      <th>response</th>\n",
       "      <th>raw_data</th>\n",
       "      <th>query</th>\n",
       "      <th>label</th>\n",
       "    </tr>\n",
       "  </thead>\n",
       "  <tbody>\n",
       "    <tr>\n",
       "      <th>0</th>\n",
       "      <td>But instead of closing loopholes that allow cr...</td>\n",
       "      <td>BIASED is the opposite of not biased.</td>\n",
       "      <td>BIASED is the opposite of not biased.</td>\n",
       "      <td>You are an expert in media bias.\\n\\nInstructio...</td>\n",
       "      <td>?</td>\n",
       "    </tr>\n",
       "    <tr>\n",
       "      <th>1</th>\n",
       "      <td>\"You think I'm joking,\" he continued. \"</td>\n",
       "      <td>Not biased is the opposite of biased. So the a...</td>\n",
       "      <td>Not biased is the opposite of biased. So the a...</td>\n",
       "      <td>You are an expert in media bias.\\n\\nInstructio...</td>\n",
       "      <td>?</td>\n",
       "    </tr>\n",
       "    <tr>\n",
       "      <th>2</th>\n",
       "      <td>Yes, the rich are rich and want to stay that w...</td>\n",
       "      <td>BIASED is the opposite of not biased. So, the ...</td>\n",
       "      <td>BIASED is the opposite of not biased. So, the ...</td>\n",
       "      <td>You are an expert in media bias.\\n\\nInstructio...</td>\n",
       "      <td>?</td>\n",
       "    </tr>\n",
       "    <tr>\n",
       "      <th>3</th>\n",
       "      <td>Americans are carrying $1.57 trillion in outst...</td>\n",
       "      <td>BIASED is the opposite of not biased. The sent...</td>\n",
       "      <td>BIASED is the opposite of not biased. The sent...</td>\n",
       "      <td>You are an expert in media bias.\\n\\nInstructio...</td>\n",
       "      <td>?</td>\n",
       "    </tr>\n",
       "    <tr>\n",
       "      <th>4</th>\n",
       "      <td>Republican state legislators from Texas to Ari...</td>\n",
       "      <td>BIASED is the opposite of not biased. The Repu...</td>\n",
       "      <td>BIASED is the opposite of not biased. The Repu...</td>\n",
       "      <td>You are an expert in media bias.\\n\\nInstructio...</td>\n",
       "      <td>?</td>\n",
       "    </tr>\n",
       "    <tr>\n",
       "      <th>...</th>\n",
       "      <td>...</td>\n",
       "      <td>...</td>\n",
       "      <td>...</td>\n",
       "      <td>...</td>\n",
       "      <td>...</td>\n",
       "    </tr>\n",
       "    <tr>\n",
       "      <th>4115</th>\n",
       "      <td>Trump sought to use the event to bring momentu...</td>\n",
       "      <td>BIASED is the opposite of not biased. George F...</td>\n",
       "      <td>BIASED is the opposite of not biased. George F...</td>\n",
       "      <td>You are an expert in media bias.\\n\\nInstructio...</td>\n",
       "      <td>?</td>\n",
       "    </tr>\n",
       "    <tr>\n",
       "      <th>4117</th>\n",
       "      <td>After President Donald Trump’s news conference...</td>\n",
       "      <td>BIASED is the opposite of not biased. George F...</td>\n",
       "      <td>BIASED is the opposite of not biased. George F...</td>\n",
       "      <td>You are an expert in media bias.\\n\\nInstructio...</td>\n",
       "      <td>?</td>\n",
       "    </tr>\n",
       "    <tr>\n",
       "      <th>4118</th>\n",
       "      <td>When Republicans warned Democrats that impeach...</td>\n",
       "      <td>BIASED is the opposite of what the author is t...</td>\n",
       "      <td>BIASED is the opposite of what the author is t...</td>\n",
       "      <td>You are an expert in media bias.\\n\\nInstructio...</td>\n",
       "      <td>?</td>\n",
       "    </tr>\n",
       "    <tr>\n",
       "      <th>4119</th>\n",
       "      <td>Sen. Tom Cotton (R-AR) says it “makes absolute...</td>\n",
       "      <td>BIASED is the opposite of not biased. The pass...</td>\n",
       "      <td>BIASED is the opposite of not biased. The pass...</td>\n",
       "      <td>You are an expert in media bias.\\n\\nInstructio...</td>\n",
       "      <td>?</td>\n",
       "    </tr>\n",
       "    <tr>\n",
       "      <th>4120</th>\n",
       "      <td>The march then continued to the United States ...</td>\n",
       "      <td>BIASED is the opposite of not biased. The marc...</td>\n",
       "      <td>BIASED is the opposite of not biased. The marc...</td>\n",
       "      <td>You are an expert in media bias.\\n\\nInstructio...</td>\n",
       "      <td>?</td>\n",
       "    </tr>\n",
       "  </tbody>\n",
       "</table>\n",
       "<p>2846 rows × 5 columns</p>\n",
       "</div>"
      ],
      "text/plain": [
       "                                                   text  \\\n",
       "0     But instead of closing loopholes that allow cr...   \n",
       "1               \"You think I'm joking,\" he continued. \"   \n",
       "2     Yes, the rich are rich and want to stay that w...   \n",
       "3     Americans are carrying $1.57 trillion in outst...   \n",
       "4     Republican state legislators from Texas to Ari...   \n",
       "...                                                 ...   \n",
       "4115  Trump sought to use the event to bring momentu...   \n",
       "4117  After President Donald Trump’s news conference...   \n",
       "4118  When Republicans warned Democrats that impeach...   \n",
       "4119  Sen. Tom Cotton (R-AR) says it “makes absolute...   \n",
       "4120  The march then continued to the United States ...   \n",
       "\n",
       "                                               response  \\\n",
       "0                 BIASED is the opposite of not biased.   \n",
       "1     Not biased is the opposite of biased. So the a...   \n",
       "2     BIASED is the opposite of not biased. So, the ...   \n",
       "3     BIASED is the opposite of not biased. The sent...   \n",
       "4     BIASED is the opposite of not biased. The Repu...   \n",
       "...                                                 ...   \n",
       "4115  BIASED is the opposite of not biased. George F...   \n",
       "4117  BIASED is the opposite of not biased. George F...   \n",
       "4118  BIASED is the opposite of what the author is t...   \n",
       "4119  BIASED is the opposite of not biased. The pass...   \n",
       "4120  BIASED is the opposite of not biased. The marc...   \n",
       "\n",
       "                                               raw_data  \\\n",
       "0                 BIASED is the opposite of not biased.   \n",
       "1     Not biased is the opposite of biased. So the a...   \n",
       "2     BIASED is the opposite of not biased. So, the ...   \n",
       "3     BIASED is the opposite of not biased. The sent...   \n",
       "4     BIASED is the opposite of not biased. The Repu...   \n",
       "...                                                 ...   \n",
       "4115  BIASED is the opposite of not biased. George F...   \n",
       "4117  BIASED is the opposite of not biased. George F...   \n",
       "4118  BIASED is the opposite of what the author is t...   \n",
       "4119  BIASED is the opposite of not biased. The pass...   \n",
       "4120  BIASED is the opposite of not biased. The marc...   \n",
       "\n",
       "                                                  query label  \n",
       "0     You are an expert in media bias.\\n\\nInstructio...     ?  \n",
       "1     You are an expert in media bias.\\n\\nInstructio...     ?  \n",
       "2     You are an expert in media bias.\\n\\nInstructio...     ?  \n",
       "3     You are an expert in media bias.\\n\\nInstructio...     ?  \n",
       "4     You are an expert in media bias.\\n\\nInstructio...     ?  \n",
       "...                                                 ...   ...  \n",
       "4115  You are an expert in media bias.\\n\\nInstructio...     ?  \n",
       "4117  You are an expert in media bias.\\n\\nInstructio...     ?  \n",
       "4118  You are an expert in media bias.\\n\\nInstructio...     ?  \n",
       "4119  You are an expert in media bias.\\n\\nInstructio...     ?  \n",
       "4120  You are an expert in media bias.\\n\\nInstructio...     ?  \n",
       "\n",
       "[2846 rows x 5 columns]"
      ]
     },
     "execution_count": 30,
     "metadata": {},
     "output_type": "execute_result"
    }
   ],
   "source": [
    "zero_shot_cot.query(\"label == '?'\")"
   ]
  },
  {
   "cell_type": "code",
   "execution_count": 10,
   "metadata": {
    "collapsed": false
   },
   "outputs": [
    {
     "data": {
      "text/html": [
       "<div>\n",
       "<style scoped>\n",
       "    .dataframe tbody tr th:only-of-type {\n",
       "        vertical-align: middle;\n",
       "    }\n",
       "\n",
       "    .dataframe tbody tr th {\n",
       "        vertical-align: top;\n",
       "    }\n",
       "\n",
       "    .dataframe thead th {\n",
       "        text-align: right;\n",
       "    }\n",
       "</style>\n",
       "<table border=\"1\" class=\"dataframe\">\n",
       "  <thead>\n",
       "    <tr style=\"text-align: right;\">\n",
       "      <th></th>\n",
       "      <th>text</th>\n",
       "      <th>response</th>\n",
       "      <th>raw_data</th>\n",
       "      <th>query</th>\n",
       "      <th>label</th>\n",
       "    </tr>\n",
       "  </thead>\n",
       "  <tbody>\n",
       "    <tr>\n",
       "      <th>777</th>\n",
       "      <td>Last summer, Romney criticized President Trump...</td>\n",
       "      <td>Not biasing is the opposite of biased. The sen...</td>\n",
       "      <td>Not biasing is the opposite of biased. The sen...</td>\n",
       "      <td>You are an expert in media bias.\\n\\nInstructio...</td>\n",
       "      <td>?</td>\n",
       "    </tr>\n",
       "    <tr>\n",
       "      <th>2172</th>\n",
       "      <td>While emphasizing he’s not singling out either...</td>\n",
       "      <td>Not biasing is the opposite of biased. So the ...</td>\n",
       "      <td>Not biasing is the opposite of biased. So the ...</td>\n",
       "      <td>You are an expert in media bias.\\n\\nInstructio...</td>\n",
       "      <td>?</td>\n",
       "    </tr>\n",
       "  </tbody>\n",
       "</table>\n",
       "</div>"
      ],
      "text/plain": [
       "                                                   text  \\\n",
       "777   Last summer, Romney criticized President Trump...   \n",
       "2172  While emphasizing he’s not singling out either...   \n",
       "\n",
       "                                               response  \\\n",
       "777   Not biasing is the opposite of biased. The sen...   \n",
       "2172  Not biasing is the opposite of biased. So the ...   \n",
       "\n",
       "                                               raw_data  \\\n",
       "777   Not biasing is the opposite of biased. The sen...   \n",
       "2172  Not biasing is the opposite of biased. So the ...   \n",
       "\n",
       "                                                  query label  \n",
       "777   You are an expert in media bias.\\n\\nInstructio...     ?  \n",
       "2172  You are an expert in media bias.\\n\\nInstructio...     ?  "
      ]
     },
     "execution_count": 10,
     "metadata": {},
     "output_type": "execute_result"
    }
   ],
   "source": [
    "# preprocessing\n",
    "# preprocessing\n",
    "# preprocessing\n",
    "def update_label(row):\n",
    "    if row['response'].startswith('BIASED') and row['label'] == '?':\n",
    "        return 'BIASED'\n",
    "    elif row['response'].startswith('NOT BIASED') and row[\n",
    "        'label'] == '?':\n",
    "        return 'NOT BIASED'\n",
    "    elif row['response'].startswith('not biased') and row[\n",
    "        'label'] == '?':\n",
    "        return 'NOT BIASED'\n",
    "    elif row['response'].startswith('Not biased') and row[\n",
    "        'label'] == '?':\n",
    "        return 'NOT BIASED'\n",
    "    elif row['response'].startswith('Not based') and row[\n",
    "        'label'] == '?':\n",
    "        return 'NOT BIASED'\n",
    "    else:\n",
    "        return row['label']\n",
    "\n",
    "\n",
    "zero_shot_cot['label'] = zero_shot_cot.apply(update_label, axis=1)\n",
    "zero_shot_cot.query(\"label == '?'\")"
   ]
  },
  {
   "cell_type": "code",
   "execution_count": 11,
   "metadata": {},
   "outputs": [
    {
     "data": {
      "text/plain": [
       "'Not biasing is the opposite of biased. So the answer is NOT BIASED.'"
      ]
     },
     "execution_count": 11,
     "metadata": {},
     "output_type": "execute_result"
    }
   ],
   "source": [
    "zero_shot_cot.loc[ [777, 2172], 'label'] = 'NOT BIASED'\n",
    "\n",
    "zero_shot_cot.loc[[], 'label'] = 'BIASED'\n",
    "\n",
    "# undecideable 2860\n",
    "\n",
    "zero_shot_cot.loc[2172]['response']"
   ]
  },
  {
   "cell_type": "code",
   "execution_count": 12,
   "metadata": {
    "collapsed": false
   },
   "outputs": [],
   "source": [
    "zero_shot_cot = zero_shot_cot.rename(columns={\"label\": \"0_shot_cot_label\"})\n",
    "zero_shot_cot['0_shot_cot_label'] = zero_shot_cot['0_shot_cot_label'].replace(\n",
    "    'BIASED', 1)\n",
    "zero_shot_cot['0_shot_cot_label'] = zero_shot_cot['0_shot_cot_label'].replace(\n",
    "    'NOT BIASED', 0)\n",
    "\n",
    "df_merge = df_babe.merge(zero_shot_cot[zero_shot_cot['0_shot_cot_label'] != '?'][['text', '0_shot_cot_label']], on='text')\n",
    "df_merge_all_runs = df_merge_all_runs.merge(zero_shot_cot[zero_shot_cot['0_shot_cot_label'] != '?'][['text', '0_shot_cot_label']], on='text')\n",
    " \n",
    "ground_truth = df_merge['label']\n",
    "zero_shot_cot_label = df_merge['0_shot_cot_label']"
   ]
  },
  {
   "cell_type": "code",
   "execution_count": 13,
   "metadata": {
    "collapsed": false
   },
   "outputs": [
    {
     "name": "stdout",
     "output_type": "stream",
     "text": [
      "F1-Score with TODO with CoT:  0.6973227059063969\n",
      "Precision with TODO with CoT:  0.5878704341833219\n",
      "Recall with TODO with CoT:  0.8568558513309894\n",
      "Accuracy with TODO with CoT:  0.6316836607809003\n"
     ]
    }
   ],
   "source": [
    "print(\"F1-Score with TODO with CoT: \",\n",
    "      f1_score(ground_truth, zero_shot_cot_label))\n",
    "print(\"Precision with TODO with CoT: \",\n",
    "      precision_score(ground_truth, zero_shot_cot_label))\n",
    "print(\"Recall with TODO with CoT: \",\n",
    "      recall_score(ground_truth, zero_shot_cot_label))\n",
    "print(\"Accuracy with TODO with CoT: \",\n",
    "      accuracy_score(ground_truth, zero_shot_cot_label))"
   ]
  },
  {
   "cell_type": "markdown",
   "metadata": {
    "collapsed": false
   },
   "source": [
    "# 2-shot"
   ]
  },
  {
   "cell_type": "code",
   "execution_count": 35,
   "metadata": {
    "collapsed": false
   },
   "outputs": [
    {
     "data": {
      "text/html": [
       "<div>\n",
       "<style scoped>\n",
       "    .dataframe tbody tr th:only-of-type {\n",
       "        vertical-align: middle;\n",
       "    }\n",
       "\n",
       "    .dataframe tbody tr th {\n",
       "        vertical-align: top;\n",
       "    }\n",
       "\n",
       "    .dataframe thead th {\n",
       "        text-align: right;\n",
       "    }\n",
       "</style>\n",
       "<table border=\"1\" class=\"dataframe\">\n",
       "  <thead>\n",
       "    <tr style=\"text-align: right;\">\n",
       "      <th></th>\n",
       "      <th>text</th>\n",
       "      <th>response</th>\n",
       "      <th>raw_data</th>\n",
       "      <th>query</th>\n",
       "      <th>label</th>\n",
       "    </tr>\n",
       "  </thead>\n",
       "  <tbody>\n",
       "  </tbody>\n",
       "</table>\n",
       "</div>"
      ],
      "text/plain": [
       "Empty DataFrame\n",
       "Columns: [text, response, raw_data, query, label]\n",
       "Index: []"
      ]
     },
     "execution_count": 35,
     "metadata": {},
     "output_type": "execute_result"
    }
   ],
   "source": [
    "two_shot.query(\"label == '?'\")"
   ]
  },
  {
   "cell_type": "code",
   "execution_count": 36,
   "metadata": {
    "collapsed": false
   },
   "outputs": [],
   "source": [
    "# preprocessing"
   ]
  },
  {
   "cell_type": "code",
   "execution_count": 14,
   "metadata": {
    "collapsed": false
   },
   "outputs": [],
   "source": [
    "two_shot = two_shot.rename(columns={\"label\": \"2_shot_label\"})\n",
    "two_shot['2_shot_label'] = two_shot['2_shot_label'].replace('BIASED', 1)\n",
    "two_shot['2_shot_label'] = two_shot['2_shot_label'].replace('NOT BIASED', 0)\n",
    "\n",
    "df_merge = df_babe.merge(two_shot[two_shot['2_shot_label'] != '?'][['text', '2_shot_label']], on='text')\n",
    "df_merge_all_runs = df_merge_all_runs.merge(two_shot[two_shot['2_shot_label'] != '?'][['text', '2_shot_label']], on='text')\n",
    "ground_truth = df_merge['label']\n",
    "two_shot_label = df_merge['2_shot_label']"
   ]
  },
  {
   "cell_type": "code",
   "execution_count": 15,
   "metadata": {
    "collapsed": false
   },
   "outputs": [
    {
     "name": "stdout",
     "output_type": "stream",
     "text": [
      "F1-Score with TODO with (2 shot):  0.6698700836447765\n",
      "Precision with TODO with (2 shot):  0.5187431091510474\n",
      "Recall with TODO with (2 shot):  0.945253641386238\n",
      "Accuracy with TODO with (2 shot):  0.5386719721462323\n"
     ]
    }
   ],
   "source": [
    "print(\"F1-Score with TODO with (2 shot): \",\n",
    "      f1_score(ground_truth, two_shot_label))\n",
    "print(\"Precision with TODO with (2 shot): \",\n",
    "      precision_score(ground_truth, two_shot_label))\n",
    "print(\"Recall with TODO with (2 shot): \",\n",
    "      recall_score(ground_truth, two_shot_label))\n",
    "print(\"Accuracy with TODO with (2 shot): \",\n",
    "      accuracy_score(ground_truth, two_shot_label))"
   ]
  },
  {
   "cell_type": "markdown",
   "metadata": {
    "collapsed": false
   },
   "source": [
    "# 4-shot"
   ]
  },
  {
   "cell_type": "code",
   "execution_count": 16,
   "metadata": {
    "collapsed": false
   },
   "outputs": [
    {
     "data": {
      "text/html": [
       "<div>\n",
       "<style scoped>\n",
       "    .dataframe tbody tr th:only-of-type {\n",
       "        vertical-align: middle;\n",
       "    }\n",
       "\n",
       "    .dataframe tbody tr th {\n",
       "        vertical-align: top;\n",
       "    }\n",
       "\n",
       "    .dataframe thead th {\n",
       "        text-align: right;\n",
       "    }\n",
       "</style>\n",
       "<table border=\"1\" class=\"dataframe\">\n",
       "  <thead>\n",
       "    <tr style=\"text-align: right;\">\n",
       "      <th></th>\n",
       "      <th>text</th>\n",
       "      <th>response</th>\n",
       "      <th>raw_data</th>\n",
       "      <th>query</th>\n",
       "      <th>label</th>\n",
       "    </tr>\n",
       "  </thead>\n",
       "  <tbody>\n",
       "  </tbody>\n",
       "</table>\n",
       "</div>"
      ],
      "text/plain": [
       "Empty DataFrame\n",
       "Columns: [text, response, raw_data, query, label]\n",
       "Index: []"
      ]
     },
     "execution_count": 16,
     "metadata": {},
     "output_type": "execute_result"
    }
   ],
   "source": [
    "four_shot.query(\"label == '?'\")"
   ]
  },
  {
   "cell_type": "code",
   "execution_count": 40,
   "metadata": {
    "collapsed": false
   },
   "outputs": [],
   "source": [
    "# preprocessing"
   ]
  },
  {
   "cell_type": "code",
   "execution_count": 17,
   "metadata": {
    "collapsed": false
   },
   "outputs": [],
   "source": [
    "four_shot = four_shot.rename(columns={\"label\": \"4_shot_label\"})\n",
    "four_shot['4_shot_label'] = four_shot['4_shot_label'].replace('BIASED', 1)\n",
    "four_shot['4_shot_label'] = four_shot['4_shot_label'].replace('NOT BIASED', 0)\n",
    "\n",
    "df_merge = df_babe.merge(four_shot[four_shot['4_shot_label'] != '?'][['text', '4_shot_label']], on='text')\n",
    "df_merge_all_runs = df_merge_all_runs.merge(four_shot[four_shot['4_shot_label'] != '?'][['text', '4_shot_label']], on='text')\n",
    "ground_truth = df_merge['label']\n",
    "four_shot_label = df_merge['4_shot_label']"
   ]
  },
  {
   "cell_type": "code",
   "execution_count": 18,
   "metadata": {
    "collapsed": false
   },
   "outputs": [
    {
     "name": "stdout",
     "output_type": "stream",
     "text": [
      "F1-Score with TODO with (4 shot):  0.6679577464788733\n",
      "Precision with TODO with (4 shot):  0.5142314990512334\n",
      "Recall with TODO with (4 shot):  0.952787543947765\n",
      "Accuracy with TODO with (4 shot):  0.5309624471524497\n"
     ]
    }
   ],
   "source": [
    "print(\"F1-Score with TODO with (4 shot): \",\n",
    "      f1_score(ground_truth, four_shot_label))\n",
    "print(\"Precision with TODO with (4 shot): \",\n",
    "      precision_score(ground_truth, four_shot_label))\n",
    "print(\"Recall with TODO with (4 shot): \",\n",
    "      recall_score(ground_truth, four_shot_label))\n",
    "print(\"Accuracy with TODO with (4 shot): \",\n",
    "      accuracy_score(ground_truth, four_shot_label))"
   ]
  },
  {
   "cell_type": "markdown",
   "metadata": {
    "collapsed": false
   },
   "source": [
    "# Comparison and plots"
   ]
  },
  {
   "cell_type": "code",
   "execution_count": 43,
   "metadata": {
    "collapsed": false
   },
   "outputs": [
    {
     "ename": "KeyError",
     "evalue": "'8_shot_label'",
     "output_type": "error",
     "traceback": [
      "\u001b[0;31m---------------------------------------------------------------------------\u001b[0m",
      "\u001b[0;31mKeyError\u001b[0m                                  Traceback (most recent call last)",
      "File \u001b[0;32m~/PycharmProjects/Annomatic_Benchmark/venv/lib/python3.9/site-packages/pandas/core/indexes/base.py:3790\u001b[0m, in \u001b[0;36mIndex.get_loc\u001b[0;34m(self, key)\u001b[0m\n\u001b[1;32m   3789\u001b[0m \u001b[39mtry\u001b[39;00m:\n\u001b[0;32m-> 3790\u001b[0m     \u001b[39mreturn\u001b[39;00m \u001b[39mself\u001b[39;49m\u001b[39m.\u001b[39;49m_engine\u001b[39m.\u001b[39;49mget_loc(casted_key)\n\u001b[1;32m   3791\u001b[0m \u001b[39mexcept\u001b[39;00m \u001b[39mKeyError\u001b[39;00m \u001b[39mas\u001b[39;00m err:\n",
      "File \u001b[0;32mindex.pyx:152\u001b[0m, in \u001b[0;36mpandas._libs.index.IndexEngine.get_loc\u001b[0;34m()\u001b[0m\n",
      "File \u001b[0;32mindex.pyx:181\u001b[0m, in \u001b[0;36mpandas._libs.index.IndexEngine.get_loc\u001b[0;34m()\u001b[0m\n",
      "File \u001b[0;32mpandas/_libs/hashtable_class_helper.pxi:7080\u001b[0m, in \u001b[0;36mpandas._libs.hashtable.PyObjectHashTable.get_item\u001b[0;34m()\u001b[0m\n",
      "File \u001b[0;32mpandas/_libs/hashtable_class_helper.pxi:7088\u001b[0m, in \u001b[0;36mpandas._libs.hashtable.PyObjectHashTable.get_item\u001b[0;34m()\u001b[0m\n",
      "\u001b[0;31mKeyError\u001b[0m: '8_shot_label'",
      "\nThe above exception was the direct cause of the following exception:\n",
      "\u001b[0;31mKeyError\u001b[0m                                  Traceback (most recent call last)",
      "Cell \u001b[0;32mIn[43], line 39\u001b[0m\n\u001b[1;32m     37\u001b[0m plot_confusion_matrix(axes[\u001b[39m1\u001b[39m, \u001b[39m0\u001b[39m], df_merge, \u001b[39m'\u001b[39m\u001b[39mlabel\u001b[39m\u001b[39m'\u001b[39m, \u001b[39m'\u001b[39m\u001b[39m2_shot_label\u001b[39m\u001b[39m'\u001b[39m, \u001b[39m'\u001b[39m\u001b[39m2_shot\u001b[39m\u001b[39m'\u001b[39m)\n\u001b[1;32m     38\u001b[0m plot_confusion_matrix(axes[\u001b[39m1\u001b[39m, \u001b[39m1\u001b[39m], df_merge, \u001b[39m'\u001b[39m\u001b[39mlabel\u001b[39m\u001b[39m'\u001b[39m, \u001b[39m'\u001b[39m\u001b[39m4_shot_label\u001b[39m\u001b[39m'\u001b[39m, \u001b[39m'\u001b[39m\u001b[39m4_shot\u001b[39m\u001b[39m'\u001b[39m)\n\u001b[0;32m---> 39\u001b[0m plot_confusion_matrix(axes[\u001b[39m1\u001b[39;49m, \u001b[39m2\u001b[39;49m], df_merge, \u001b[39m'\u001b[39;49m\u001b[39mlabel\u001b[39;49m\u001b[39m'\u001b[39;49m, \u001b[39m'\u001b[39;49m\u001b[39m8_shot_label\u001b[39;49m\u001b[39m'\u001b[39;49m, \u001b[39m'\u001b[39;49m\u001b[39m8_shot\u001b[39;49m\u001b[39m'\u001b[39;49m)\n\u001b[1;32m     41\u001b[0m plt\u001b[39m.\u001b[39mtight_layout(\n\u001b[1;32m     42\u001b[0m     rect\u001b[39m=\u001b[39m[\u001b[39m0\u001b[39m, \u001b[39m0\u001b[39m, \u001b[39m1\u001b[39m, \u001b[39m0.96\u001b[39m])  \u001b[39m# Adjust layout to prevent title overlap\u001b[39;00m\n\u001b[1;32m     43\u001b[0m plt\u001b[39m.\u001b[39mshow()\n",
      "Cell \u001b[0;32mIn[43], line 9\u001b[0m, in \u001b[0;36mplot_confusion_matrix\u001b[0;34m(ax, df, true_labels_column, predicted_labels_column, title)\u001b[0m\n\u001b[1;32m      6\u001b[0m \u001b[39mdef\u001b[39;00m \u001b[39mplot_confusion_matrix\u001b[39m(ax, df, true_labels_column, predicted_labels_column,\n\u001b[1;32m      7\u001b[0m                           title\u001b[39m=\u001b[39m\u001b[39mNone\u001b[39;00m\n\u001b[1;32m      8\u001b[0m                           ):\n\u001b[0;32m----> 9\u001b[0m     predicted_labels \u001b[39m=\u001b[39m df[\u001b[39mf\u001b[39;49m\u001b[39m'\u001b[39;49m\u001b[39m{\u001b[39;49;00mpredicted_labels_column\u001b[39m}\u001b[39;49;00m\u001b[39m'\u001b[39;49m]\n\u001b[1;32m     10\u001b[0m     true_labels \u001b[39m=\u001b[39m df[\u001b[39mf\u001b[39m\u001b[39m'\u001b[39m\u001b[39m{\u001b[39;00mtrue_labels_column\u001b[39m}\u001b[39;00m\u001b[39m'\u001b[39m]\n\u001b[1;32m     12\u001b[0m     \u001b[39m# Calculate confusion matrix\u001b[39;00m\n",
      "File \u001b[0;32m~/PycharmProjects/Annomatic_Benchmark/venv/lib/python3.9/site-packages/pandas/core/frame.py:3893\u001b[0m, in \u001b[0;36mDataFrame.__getitem__\u001b[0;34m(self, key)\u001b[0m\n\u001b[1;32m   3891\u001b[0m \u001b[39mif\u001b[39;00m \u001b[39mself\u001b[39m\u001b[39m.\u001b[39mcolumns\u001b[39m.\u001b[39mnlevels \u001b[39m>\u001b[39m \u001b[39m1\u001b[39m:\n\u001b[1;32m   3892\u001b[0m     \u001b[39mreturn\u001b[39;00m \u001b[39mself\u001b[39m\u001b[39m.\u001b[39m_getitem_multilevel(key)\n\u001b[0;32m-> 3893\u001b[0m indexer \u001b[39m=\u001b[39m \u001b[39mself\u001b[39;49m\u001b[39m.\u001b[39;49mcolumns\u001b[39m.\u001b[39;49mget_loc(key)\n\u001b[1;32m   3894\u001b[0m \u001b[39mif\u001b[39;00m is_integer(indexer):\n\u001b[1;32m   3895\u001b[0m     indexer \u001b[39m=\u001b[39m [indexer]\n",
      "File \u001b[0;32m~/PycharmProjects/Annomatic_Benchmark/venv/lib/python3.9/site-packages/pandas/core/indexes/base.py:3797\u001b[0m, in \u001b[0;36mIndex.get_loc\u001b[0;34m(self, key)\u001b[0m\n\u001b[1;32m   3792\u001b[0m     \u001b[39mif\u001b[39;00m \u001b[39misinstance\u001b[39m(casted_key, \u001b[39mslice\u001b[39m) \u001b[39mor\u001b[39;00m (\n\u001b[1;32m   3793\u001b[0m         \u001b[39misinstance\u001b[39m(casted_key, abc\u001b[39m.\u001b[39mIterable)\n\u001b[1;32m   3794\u001b[0m         \u001b[39mand\u001b[39;00m \u001b[39many\u001b[39m(\u001b[39misinstance\u001b[39m(x, \u001b[39mslice\u001b[39m) \u001b[39mfor\u001b[39;00m x \u001b[39min\u001b[39;00m casted_key)\n\u001b[1;32m   3795\u001b[0m     ):\n\u001b[1;32m   3796\u001b[0m         \u001b[39mraise\u001b[39;00m InvalidIndexError(key)\n\u001b[0;32m-> 3797\u001b[0m     \u001b[39mraise\u001b[39;00m \u001b[39mKeyError\u001b[39;00m(key) \u001b[39mfrom\u001b[39;00m \u001b[39merr\u001b[39;00m\n\u001b[1;32m   3798\u001b[0m \u001b[39mexcept\u001b[39;00m \u001b[39mTypeError\u001b[39;00m:\n\u001b[1;32m   3799\u001b[0m     \u001b[39m# If we have a listlike key, _check_indexing_error will raise\u001b[39;00m\n\u001b[1;32m   3800\u001b[0m     \u001b[39m#  InvalidIndexError. Otherwise we fall through and re-raise\u001b[39;00m\n\u001b[1;32m   3801\u001b[0m     \u001b[39m#  the TypeError.\u001b[39;00m\n\u001b[1;32m   3802\u001b[0m     \u001b[39mself\u001b[39m\u001b[39m.\u001b[39m_check_indexing_error(key)\n",
      "\u001b[0;31mKeyError\u001b[0m: '8_shot_label'"
     ]
    },
    {
     "data": {
      "image/png": "[encoded data removed]",
      "text/plain": [
       "<Figure size 1800x1200 with 11 Axes>"
      ]
     },
     "metadata": {},
     "output_type": "display_data"
    }
   ],
   "source": [
    "import seaborn as sns\n",
    "import matplotlib.pyplot as plt\n",
    "from sklearn.metrics import confusion_matrix\n",
    "\n",
    "\n",
    "def plot_confusion_matrix(ax, df, true_labels_column, predicted_labels_column,\n",
    "                          title=None\n",
    "                          ):\n",
    "    predicted_labels = df[f'{predicted_labels_column}']\n",
    "    true_labels = df[f'{true_labels_column}']\n",
    "\n",
    "    # Calculate confusion matrix\n",
    "    cm = confusion_matrix(true_labels, predicted_labels)\n",
    "\n",
    "\n",
    "    # Display confusion matrix heatmap\n",
    "    sns.heatmap(cm, annot=True, fmt='d', cmap='Blues', xticklabels=True,\n",
    "                yticklabels=True, ax=ax)\n",
    "\n",
    "    title = title if title else predicted_labels_column\n",
    "\n",
    "    ax.set_title(f'Confusion Matrix - {title}')\n",
    "    ax.set_xlabel('Predicted')\n",
    "    ax.set_ylabel('True')\n",
    "\n",
    "\n",
    "# Create subplots\n",
    "fig, axes = plt.subplots(2, 3, figsize=(18, 12))\n",
    "fig.suptitle('Confusion Matrices')\n",
    "\n",
    "# Plot each confusion matrix\n",
    "plot_confusion_matrix(axes[0, 0], df_merge, 'label', '0_shot_label', '0_shot')\n",
    "plot_confusion_matrix(axes[0, 1], df_merge, 'label',\n",
    "                      '0_shot_with_system_label', '0_shot_with_system')\n",
    "plot_confusion_matrix(axes[0, 2], df_merge, 'label', '0_shot_cot_label',\n",
    "                      '0_shot_cot')\n",
    "plot_confusion_matrix(axes[1, 0], df_merge, 'label', '2_shot_label', '2_shot')\n",
    "plot_confusion_matrix(axes[1, 1], df_merge, 'label', '4_shot_label', '4_shot')\n",
    "plot_confusion_matrix(axes[1, 2], df_merge, 'label', '8_shot_label', '8_shot')\n",
    "\n",
    "plt.tight_layout(\n",
    "    rect=[0, 0, 1, 0.96])  # Adjust layout to prevent title overlap\n",
    "plt.show()"
   ]
  },
  {
   "cell_type": "markdown",
   "metadata": {
    "collapsed": false
   },
   "source": [
    "# Krippendorff Alpha in model"
   ]
  },
  {
   "cell_type": "code",
   "execution_count": null,
   "metadata": {
    "collapsed": false
   },
   "outputs": [],
   "source": [
    "import krippendorff\n",
    "\n",
    "runs = ['0_shot_label', '0_shot_with_system_label', '0_shot_cot_label',\n",
    "        '2_shot_label', '4_shot_label', '8_shot_label']\n",
    "\n",
    "\n",
    "def compute_krippendorff_alpha(df, predicted_columns):\n",
    "    pred_map = {}\n",
    "    for run in predicted_columns:\n",
    "        predicted_labels = df[run]\n",
    "        pred_map[run] = predicted_labels\n",
    "\n",
    "    # Check if there is variability in the ratings\n",
    "    unique_labels_counts = df[predicted_columns].nunique(axis=1)\n",
    "    if unique_labels_counts.max() == 1:\n",
    "        # All ratings are the same, return a special value or handle accordingly\n",
    "        return 0\n",
    "\n",
    "    reliability_data = df[predicted_columns].values.tolist()\n",
    "\n",
    "    # Calculate Krippendorff's alpha\n",
    "    alpha = krippendorff.alpha(reliability_data=list(pred_map.values()),\n",
    "                               level_of_measurement='nominal')\n",
    "\n",
    "    return alpha\n"
   ]
  },
  {
   "cell_type": "code",
   "execution_count": null,
   "metadata": {
    "collapsed": false
   },
   "outputs": [],
   "source": [
    "alpha_value = compute_krippendorff_alpha(df_merge, runs)\n",
    "print(f\"Krippendorff's Alpha (all runs): {alpha_value}\")"
   ]
  },
  {
   "cell_type": "code",
   "execution_count": null,
   "metadata": {
    "collapsed": false
   },
   "outputs": [],
   "source": [
    "import itertools\n",
    "\n",
    "def compute_krippendorff_alpha_for_k_runs(df, runs, k=None):\n",
    "    # Initialize variables to store the best combination and alpha\n",
    "    if k is None:\n",
    "        k = len(runs)\n",
    "\n",
    "    best_combination = None\n",
    "    best_alpha = 0  # Assuming alpha ranges from 0 to 1\n",
    "\n",
    "    # Iterate through all possible combinations\n",
    "    for combination in itertools.combinations(runs, k):\n",
    "\n",
    "        alpha_value = compute_krippendorff_alpha(df, list(combination))\n",
    "\n",
    "        # Print alpha for the current combination\n",
    "        print(f\"Combination: {combination}, Alpha: {alpha_value}\")\n",
    "\n",
    "        # Update best combination and alpha if a higher alpha is found\n",
    "        if alpha_value > best_alpha:\n",
    "            best_alpha = alpha_value\n",
    "            best_combination = combination\n",
    "\n",
    "    # Print the best combination and alpha\n",
    "    print(f\"\\nBest Combination: {best_combination}, Best Alpha: {best_alpha}\")\n",
    "    return best_alpha, best_combination"
   ]
  },
  {
   "cell_type": "code",
   "execution_count": null,
   "metadata": {
    "collapsed": false
   },
   "outputs": [],
   "source": [
    "compute_krippendorff_alpha_for_k_runs(df_merge, runs, 2)"
   ]
  }
 ],
 "metadata": {
  "kernelspec": {
   "display_name": "Python 3.9.18 ('venv': venv)",
   "language": "python",
   "name": "python3"
  },
  "language_info": {
   "codemirror_mode": {
    "name": "ipython",
    "version": 3
   },
   "file_extension": ".py",
   "mimetype": "text/x-python",
   "name": "python",
   "nbconvert_exporter": "python",
   "pygments_lexer": "ipython3",
   "version": "3.9.18"
  },
  "vscode": {
   "interpreter": {
    "hash": "8a80f9e0de999ee68a5c4d727299d170641bcafce6104c26cbe6897ebd010016"
   }
  }
 },
 "nbformat": 4,
 "nbformat_minor": 0
}
