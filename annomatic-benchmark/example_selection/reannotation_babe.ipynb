{
 "cells": [
  {
   "cell_type": "code",
   "execution_count": 77,
   "metadata": {
    "collapsed": true
   },
   "outputs": [],
   "source": [
    "import pandas as pd"
   ]
  },
  {
   "cell_type": "code",
   "execution_count": 78,
   "outputs": [
    {
     "data": {
      "text/plain": "                                                 text  babe_label  gpt4_label  \\\n0   When two sadists in uniform shoved an elderly ...           1           1   \n1   In addition to calling for severe funding cuts...           1           1   \n2   Chicago ended 2016 with more homicides than Ne...           1           1   \n3   Romania's government, in trying to soften anti...           1           1   \n4   Speaking to host Trevor Noah, Obama sang the p...           1           1   \n..                                                ...         ...         ...   \n95  Turner, a black woman herself, criticized Bide...           0           1   \n96  The president’s likely opponent in the Novembe...           1           1   \n97  Lefty corporate financial muscle can be deploy...           1           1   \n98  The U.S. Congress is moving to extend by anoth...           0           0   \n99  Leaders of the 20 biggest economies vowed on S...           0           0   \n\n    Christoph  Tomas  Martin  Timo  Smi  \n0         NaN    NaN     NaN   NaN  NaN  \n1         NaN    NaN     NaN   NaN  NaN  \n2         NaN    NaN     NaN   NaN  NaN  \n3         NaN    NaN     NaN   NaN  NaN  \n4         NaN    NaN     NaN   NaN  NaN  \n..        ...    ...     ...   ...  ...  \n95        0.0    0.0     0.0   0.0  0.0  \n96        NaN    NaN     NaN   NaN  NaN  \n97        NaN    NaN     NaN   NaN  NaN  \n98        NaN    NaN     NaN   NaN  NaN  \n99        1.0    1.0     NaN   1.0  NaN  \n\n[100 rows x 8 columns]",
      "text/html": "<div>\n<style scoped>\n    .dataframe tbody tr th:only-of-type {\n        vertical-align: middle;\n    }\n\n    .dataframe tbody tr th {\n        vertical-align: top;\n    }\n\n    .dataframe thead th {\n        text-align: right;\n    }\n</style>\n<table border=\"1\" class=\"dataframe\">\n  <thead>\n    <tr style=\"text-align: right;\">\n      <th></th>\n      <th>text</th>\n      <th>babe_label</th>\n      <th>gpt4_label</th>\n      <th>Christoph</th>\n      <th>Tomas</th>\n      <th>Martin</th>\n      <th>Timo</th>\n      <th>Smi</th>\n    </tr>\n  </thead>\n  <tbody>\n    <tr>\n      <th>0</th>\n      <td>When two sadists in uniform shoved an elderly ...</td>\n      <td>1</td>\n      <td>1</td>\n      <td>NaN</td>\n      <td>NaN</td>\n      <td>NaN</td>\n      <td>NaN</td>\n      <td>NaN</td>\n    </tr>\n    <tr>\n      <th>1</th>\n      <td>In addition to calling for severe funding cuts...</td>\n      <td>1</td>\n      <td>1</td>\n      <td>NaN</td>\n      <td>NaN</td>\n      <td>NaN</td>\n      <td>NaN</td>\n      <td>NaN</td>\n    </tr>\n    <tr>\n      <th>2</th>\n      <td>Chicago ended 2016 with more homicides than Ne...</td>\n      <td>1</td>\n      <td>1</td>\n      <td>NaN</td>\n      <td>NaN</td>\n      <td>NaN</td>\n      <td>NaN</td>\n      <td>NaN</td>\n    </tr>\n    <tr>\n      <th>3</th>\n      <td>Romania's government, in trying to soften anti...</td>\n      <td>1</td>\n      <td>1</td>\n      <td>NaN</td>\n      <td>NaN</td>\n      <td>NaN</td>\n      <td>NaN</td>\n      <td>NaN</td>\n    </tr>\n    <tr>\n      <th>4</th>\n      <td>Speaking to host Trevor Noah, Obama sang the p...</td>\n      <td>1</td>\n      <td>1</td>\n      <td>NaN</td>\n      <td>NaN</td>\n      <td>NaN</td>\n      <td>NaN</td>\n      <td>NaN</td>\n    </tr>\n    <tr>\n      <th>...</th>\n      <td>...</td>\n      <td>...</td>\n      <td>...</td>\n      <td>...</td>\n      <td>...</td>\n      <td>...</td>\n      <td>...</td>\n      <td>...</td>\n    </tr>\n    <tr>\n      <th>95</th>\n      <td>Turner, a black woman herself, criticized Bide...</td>\n      <td>0</td>\n      <td>1</td>\n      <td>0.0</td>\n      <td>0.0</td>\n      <td>0.0</td>\n      <td>0.0</td>\n      <td>0.0</td>\n    </tr>\n    <tr>\n      <th>96</th>\n      <td>The president’s likely opponent in the Novembe...</td>\n      <td>1</td>\n      <td>1</td>\n      <td>NaN</td>\n      <td>NaN</td>\n      <td>NaN</td>\n      <td>NaN</td>\n      <td>NaN</td>\n    </tr>\n    <tr>\n      <th>97</th>\n      <td>Lefty corporate financial muscle can be deploy...</td>\n      <td>1</td>\n      <td>1</td>\n      <td>NaN</td>\n      <td>NaN</td>\n      <td>NaN</td>\n      <td>NaN</td>\n      <td>NaN</td>\n    </tr>\n    <tr>\n      <th>98</th>\n      <td>The U.S. Congress is moving to extend by anoth...</td>\n      <td>0</td>\n      <td>0</td>\n      <td>NaN</td>\n      <td>NaN</td>\n      <td>NaN</td>\n      <td>NaN</td>\n      <td>NaN</td>\n    </tr>\n    <tr>\n      <th>99</th>\n      <td>Leaders of the 20 biggest economies vowed on S...</td>\n      <td>0</td>\n      <td>0</td>\n      <td>1.0</td>\n      <td>1.0</td>\n      <td>NaN</td>\n      <td>1.0</td>\n      <td>NaN</td>\n    </tr>\n  </tbody>\n</table>\n<p>100 rows × 8 columns</p>\n</div>"
     },
     "execution_count": 78,
     "metadata": {},
     "output_type": "execute_result"
    }
   ],
   "source": [
    "pool = pd.read_csv(\"reannotated_pool.csv\")\n",
    "pool = pool.rename(columns={'label': 'babe_label'})\n",
    "pool"
   ],
   "metadata": {
    "collapsed": false
   }
  },
  {
   "cell_type": "code",
   "execution_count": 79,
   "outputs": [
    {
     "data": {
      "text/plain": "                                                 text  babe_label  gpt4_label  \\\n0   When two sadists in uniform shoved an elderly ...           1           1   \n1   In addition to calling for severe funding cuts...           1           1   \n2   Chicago ended 2016 with more homicides than Ne...           1           1   \n3   Romania's government, in trying to soften anti...           1           1   \n4   Speaking to host Trevor Noah, Obama sang the p...           1           1   \n..                                                ...         ...         ...   \n95  Turner, a black woman herself, criticized Bide...           0           1   \n96  The president’s likely opponent in the Novembe...           1           1   \n97  Lefty corporate financial muscle can be deploy...           1           1   \n98  The U.S. Congress is moving to extend by anoth...           0           0   \n99  Leaders of the 20 biggest economies vowed on S...           0           0   \n\n    Christoph  Tomas  Martin  Timo  Smi  \n0         1.0    1.0     1.0   1.0  1.0  \n1         1.0    1.0     1.0   1.0  1.0  \n2         1.0    1.0     1.0   1.0  1.0  \n3         1.0    1.0     1.0   1.0  1.0  \n4         1.0    1.0     1.0   1.0  1.0  \n..        ...    ...     ...   ...  ...  \n95        0.0    0.0     0.0   0.0  0.0  \n96        1.0    1.0     1.0   1.0  1.0  \n97        1.0    1.0     1.0   1.0  1.0  \n98        0.0    0.0     0.0   0.0  0.0  \n99        1.0    1.0     0.0   1.0  0.0  \n\n[100 rows x 8 columns]",
      "text/html": "<div>\n<style scoped>\n    .dataframe tbody tr th:only-of-type {\n        vertical-align: middle;\n    }\n\n    .dataframe tbody tr th {\n        vertical-align: top;\n    }\n\n    .dataframe thead th {\n        text-align: right;\n    }\n</style>\n<table border=\"1\" class=\"dataframe\">\n  <thead>\n    <tr style=\"text-align: right;\">\n      <th></th>\n      <th>text</th>\n      <th>babe_label</th>\n      <th>gpt4_label</th>\n      <th>Christoph</th>\n      <th>Tomas</th>\n      <th>Martin</th>\n      <th>Timo</th>\n      <th>Smi</th>\n    </tr>\n  </thead>\n  <tbody>\n    <tr>\n      <th>0</th>\n      <td>When two sadists in uniform shoved an elderly ...</td>\n      <td>1</td>\n      <td>1</td>\n      <td>1.0</td>\n      <td>1.0</td>\n      <td>1.0</td>\n      <td>1.0</td>\n      <td>1.0</td>\n    </tr>\n    <tr>\n      <th>1</th>\n      <td>In addition to calling for severe funding cuts...</td>\n      <td>1</td>\n      <td>1</td>\n      <td>1.0</td>\n      <td>1.0</td>\n      <td>1.0</td>\n      <td>1.0</td>\n      <td>1.0</td>\n    </tr>\n    <tr>\n      <th>2</th>\n      <td>Chicago ended 2016 with more homicides than Ne...</td>\n      <td>1</td>\n      <td>1</td>\n      <td>1.0</td>\n      <td>1.0</td>\n      <td>1.0</td>\n      <td>1.0</td>\n      <td>1.0</td>\n    </tr>\n    <tr>\n      <th>3</th>\n      <td>Romania's government, in trying to soften anti...</td>\n      <td>1</td>\n      <td>1</td>\n      <td>1.0</td>\n      <td>1.0</td>\n      <td>1.0</td>\n      <td>1.0</td>\n      <td>1.0</td>\n    </tr>\n    <tr>\n      <th>4</th>\n      <td>Speaking to host Trevor Noah, Obama sang the p...</td>\n      <td>1</td>\n      <td>1</td>\n      <td>1.0</td>\n      <td>1.0</td>\n      <td>1.0</td>\n      <td>1.0</td>\n      <td>1.0</td>\n    </tr>\n    <tr>\n      <th>...</th>\n      <td>...</td>\n      <td>...</td>\n      <td>...</td>\n      <td>...</td>\n      <td>...</td>\n      <td>...</td>\n      <td>...</td>\n      <td>...</td>\n    </tr>\n    <tr>\n      <th>95</th>\n      <td>Turner, a black woman herself, criticized Bide...</td>\n      <td>0</td>\n      <td>1</td>\n      <td>0.0</td>\n      <td>0.0</td>\n      <td>0.0</td>\n      <td>0.0</td>\n      <td>0.0</td>\n    </tr>\n    <tr>\n      <th>96</th>\n      <td>The president’s likely opponent in the Novembe...</td>\n      <td>1</td>\n      <td>1</td>\n      <td>1.0</td>\n      <td>1.0</td>\n      <td>1.0</td>\n      <td>1.0</td>\n      <td>1.0</td>\n    </tr>\n    <tr>\n      <th>97</th>\n      <td>Lefty corporate financial muscle can be deploy...</td>\n      <td>1</td>\n      <td>1</td>\n      <td>1.0</td>\n      <td>1.0</td>\n      <td>1.0</td>\n      <td>1.0</td>\n      <td>1.0</td>\n    </tr>\n    <tr>\n      <th>98</th>\n      <td>The U.S. Congress is moving to extend by anoth...</td>\n      <td>0</td>\n      <td>0</td>\n      <td>0.0</td>\n      <td>0.0</td>\n      <td>0.0</td>\n      <td>0.0</td>\n      <td>0.0</td>\n    </tr>\n    <tr>\n      <th>99</th>\n      <td>Leaders of the 20 biggest economies vowed on S...</td>\n      <td>0</td>\n      <td>0</td>\n      <td>1.0</td>\n      <td>1.0</td>\n      <td>0.0</td>\n      <td>1.0</td>\n      <td>0.0</td>\n    </tr>\n  </tbody>\n</table>\n<p>100 rows × 8 columns</p>\n</div>"
     },
     "execution_count": 79,
     "metadata": {},
     "output_type": "execute_result"
    }
   ],
   "source": [
    "\n",
    "pool['Christoph'].fillna(pool['babe_label'].where(pool['babe_label'] == pool['gpt4_label']), inplace=True)\n",
    "pool['Tomas'].fillna(pool['babe_label'].where(pool['babe_label'] == pool['gpt4_label']), inplace=True)\n",
    "pool['Timo'].fillna(pool['babe_label'].where(pool['babe_label'] == pool['gpt4_label']), inplace=True)\n",
    "pool['Martin'].fillna(pool['babe_label'].where(pool['babe_label'] == pool['gpt4_label']), inplace=True)\n",
    "pool['Smi'].fillna(pool['babe_label'].where(pool['babe_label'] == pool['gpt4_label']), inplace=True)\n",
    "pool"
   ],
   "metadata": {
    "collapsed": false
   }
  },
  {
   "cell_type": "code",
   "execution_count": 80,
   "outputs": [
    {
     "data": {
      "text/plain": "                                                 text  babe_label  gpt4_label  \\\n0   When two sadists in uniform shoved an elderly ...           1           1   \n1   In addition to calling for severe funding cuts...           1           1   \n2   Chicago ended 2016 with more homicides than Ne...           1           1   \n3   Romania's government, in trying to soften anti...           1           1   \n4   Speaking to host Trevor Noah, Obama sang the p...           1           1   \n..                                                ...         ...         ...   \n95  Turner, a black woman herself, criticized Bide...           0           1   \n96  The president’s likely opponent in the Novembe...           1           1   \n97  Lefty corporate financial muscle can be deploy...           1           1   \n98  The U.S. Congress is moving to extend by anoth...           0           0   \n99  Leaders of the 20 biggest economies vowed on S...           0           0   \n\n    Christoph  Tomas  Martin  Timo  Smi  label  label_vergleich  \n0         1.0    1.0     1.0   1.0  1.0      1              1.0  \n1         1.0    1.0     1.0   1.0  1.0      1              1.0  \n2         1.0    1.0     1.0   1.0  1.0      1              1.0  \n3         1.0    1.0     1.0   1.0  1.0      1              1.0  \n4         1.0    1.0     1.0   1.0  1.0      1              1.0  \n..        ...    ...     ...   ...  ...    ...              ...  \n95        0.0    0.0     0.0   0.0  0.0      0              0.0  \n96        1.0    1.0     1.0   1.0  1.0      1              1.0  \n97        1.0    1.0     1.0   1.0  1.0      1              1.0  \n98        0.0    0.0     0.0   0.0  0.0      0              0.0  \n99        1.0    1.0     0.0   1.0  0.0      0              0.0  \n\n[100 rows x 10 columns]",
      "text/html": "<div>\n<style scoped>\n    .dataframe tbody tr th:only-of-type {\n        vertical-align: middle;\n    }\n\n    .dataframe tbody tr th {\n        vertical-align: top;\n    }\n\n    .dataframe thead th {\n        text-align: right;\n    }\n</style>\n<table border=\"1\" class=\"dataframe\">\n  <thead>\n    <tr style=\"text-align: right;\">\n      <th></th>\n      <th>text</th>\n      <th>babe_label</th>\n      <th>gpt4_label</th>\n      <th>Christoph</th>\n      <th>Tomas</th>\n      <th>Martin</th>\n      <th>Timo</th>\n      <th>Smi</th>\n      <th>label</th>\n      <th>label_vergleich</th>\n    </tr>\n  </thead>\n  <tbody>\n    <tr>\n      <th>0</th>\n      <td>When two sadists in uniform shoved an elderly ...</td>\n      <td>1</td>\n      <td>1</td>\n      <td>1.0</td>\n      <td>1.0</td>\n      <td>1.0</td>\n      <td>1.0</td>\n      <td>1.0</td>\n      <td>1</td>\n      <td>1.0</td>\n    </tr>\n    <tr>\n      <th>1</th>\n      <td>In addition to calling for severe funding cuts...</td>\n      <td>1</td>\n      <td>1</td>\n      <td>1.0</td>\n      <td>1.0</td>\n      <td>1.0</td>\n      <td>1.0</td>\n      <td>1.0</td>\n      <td>1</td>\n      <td>1.0</td>\n    </tr>\n    <tr>\n      <th>2</th>\n      <td>Chicago ended 2016 with more homicides than Ne...</td>\n      <td>1</td>\n      <td>1</td>\n      <td>1.0</td>\n      <td>1.0</td>\n      <td>1.0</td>\n      <td>1.0</td>\n      <td>1.0</td>\n      <td>1</td>\n      <td>1.0</td>\n    </tr>\n    <tr>\n      <th>3</th>\n      <td>Romania's government, in trying to soften anti...</td>\n      <td>1</td>\n      <td>1</td>\n      <td>1.0</td>\n      <td>1.0</td>\n      <td>1.0</td>\n      <td>1.0</td>\n      <td>1.0</td>\n      <td>1</td>\n      <td>1.0</td>\n    </tr>\n    <tr>\n      <th>4</th>\n      <td>Speaking to host Trevor Noah, Obama sang the p...</td>\n      <td>1</td>\n      <td>1</td>\n      <td>1.0</td>\n      <td>1.0</td>\n      <td>1.0</td>\n      <td>1.0</td>\n      <td>1.0</td>\n      <td>1</td>\n      <td>1.0</td>\n    </tr>\n    <tr>\n      <th>...</th>\n      <td>...</td>\n      <td>...</td>\n      <td>...</td>\n      <td>...</td>\n      <td>...</td>\n      <td>...</td>\n      <td>...</td>\n      <td>...</td>\n      <td>...</td>\n      <td>...</td>\n    </tr>\n    <tr>\n      <th>95</th>\n      <td>Turner, a black woman herself, criticized Bide...</td>\n      <td>0</td>\n      <td>1</td>\n      <td>0.0</td>\n      <td>0.0</td>\n      <td>0.0</td>\n      <td>0.0</td>\n      <td>0.0</td>\n      <td>0</td>\n      <td>0.0</td>\n    </tr>\n    <tr>\n      <th>96</th>\n      <td>The president’s likely opponent in the Novembe...</td>\n      <td>1</td>\n      <td>1</td>\n      <td>1.0</td>\n      <td>1.0</td>\n      <td>1.0</td>\n      <td>1.0</td>\n      <td>1.0</td>\n      <td>1</td>\n      <td>1.0</td>\n    </tr>\n    <tr>\n      <th>97</th>\n      <td>Lefty corporate financial muscle can be deploy...</td>\n      <td>1</td>\n      <td>1</td>\n      <td>1.0</td>\n      <td>1.0</td>\n      <td>1.0</td>\n      <td>1.0</td>\n      <td>1.0</td>\n      <td>1</td>\n      <td>1.0</td>\n    </tr>\n    <tr>\n      <th>98</th>\n      <td>The U.S. Congress is moving to extend by anoth...</td>\n      <td>0</td>\n      <td>0</td>\n      <td>0.0</td>\n      <td>0.0</td>\n      <td>0.0</td>\n      <td>0.0</td>\n      <td>0.0</td>\n      <td>0</td>\n      <td>0.0</td>\n    </tr>\n    <tr>\n      <th>99</th>\n      <td>Leaders of the 20 biggest economies vowed on S...</td>\n      <td>0</td>\n      <td>0</td>\n      <td>1.0</td>\n      <td>1.0</td>\n      <td>0.0</td>\n      <td>1.0</td>\n      <td>0.0</td>\n      <td>0</td>\n      <td>0.0</td>\n    </tr>\n  </tbody>\n</table>\n<p>100 rows × 10 columns</p>\n</div>"
     },
     "execution_count": 80,
     "metadata": {},
     "output_type": "execute_result"
    }
   ],
   "source": [
    "pool['label'] = pool[['babe_label', 'Christoph', 'Tomas', 'Timo', 'Martin', 'Smi']].mode(axis=1, dropna=True)[0]\n",
    "pool['label_vergleich'] = pool[['babe_label', \"gpt4_label\", 'Christoph', 'Tomas', 'Timo',  'Martin', 'Smi']].mode(axis=1, dropna=True)[0]\n",
    "pool['label'] = pool['label'].astype(int)\n",
    "pool"
   ],
   "metadata": {
    "collapsed": false
   }
  },
  {
   "cell_type": "code",
   "execution_count": 81,
   "outputs": [
    {
     "data": {
      "text/plain": "                                                 text  label\n0   So Acevedo’s war on gun shows would do little ...      1\n1   The 2010s saw the U.S. economy achieve its lon...      1\n2   Retailers are ramping up hiring for positions ...      0\n3   The New York state Sen. Jacobs also, in August...      0\n4   President Donald Trump on Sunday briefly ackno...      0\n..                                                ...    ...\n95  President Trump is culpable in the preventable...      1\n96  The COVID-19 pandemic may be a unique situatio...      0\n97  China’s state-run propaganda newspaper Global ...      1\n98  Yet Biden finds himself in an increasingly com...      0\n99  The Democrats’ plan is designed to aid the mul...      1\n\n[100 rows x 2 columns]",
      "text/html": "<div>\n<style scoped>\n    .dataframe tbody tr th:only-of-type {\n        vertical-align: middle;\n    }\n\n    .dataframe tbody tr th {\n        vertical-align: top;\n    }\n\n    .dataframe thead th {\n        text-align: right;\n    }\n</style>\n<table border=\"1\" class=\"dataframe\">\n  <thead>\n    <tr style=\"text-align: right;\">\n      <th></th>\n      <th>text</th>\n      <th>label</th>\n    </tr>\n  </thead>\n  <tbody>\n    <tr>\n      <th>0</th>\n      <td>So Acevedo’s war on gun shows would do little ...</td>\n      <td>1</td>\n    </tr>\n    <tr>\n      <th>1</th>\n      <td>The 2010s saw the U.S. economy achieve its lon...</td>\n      <td>1</td>\n    </tr>\n    <tr>\n      <th>2</th>\n      <td>Retailers are ramping up hiring for positions ...</td>\n      <td>0</td>\n    </tr>\n    <tr>\n      <th>3</th>\n      <td>The New York state Sen. Jacobs also, in August...</td>\n      <td>0</td>\n    </tr>\n    <tr>\n      <th>4</th>\n      <td>President Donald Trump on Sunday briefly ackno...</td>\n      <td>0</td>\n    </tr>\n    <tr>\n      <th>...</th>\n      <td>...</td>\n      <td>...</td>\n    </tr>\n    <tr>\n      <th>95</th>\n      <td>President Trump is culpable in the preventable...</td>\n      <td>1</td>\n    </tr>\n    <tr>\n      <th>96</th>\n      <td>The COVID-19 pandemic may be a unique situatio...</td>\n      <td>0</td>\n    </tr>\n    <tr>\n      <th>97</th>\n      <td>China’s state-run propaganda newspaper Global ...</td>\n      <td>1</td>\n    </tr>\n    <tr>\n      <th>98</th>\n      <td>Yet Biden finds himself in an increasingly com...</td>\n      <td>0</td>\n    </tr>\n    <tr>\n      <th>99</th>\n      <td>The Democrats’ plan is designed to aid the mul...</td>\n      <td>1</td>\n    </tr>\n  </tbody>\n</table>\n<p>100 rows × 2 columns</p>\n</div>"
     },
     "execution_count": 81,
     "metadata": {},
     "output_type": "execute_result"
    }
   ],
   "source": [
    "pool = pool.drop(columns=['babe_label', 'Christoph', 'Tomas', 'Timo', 'Martin', 'Smi', 'gpt4_label', 'label_vergleich'])\n",
    "pool = pool.sample(frac=1, random_state=42).reset_index(drop=True)\n",
    "pool"
   ],
   "metadata": {
    "collapsed": false
   }
  },
  {
   "cell_type": "code",
   "execution_count": 82,
   "outputs": [],
   "source": [
    "pool['label'] = pool['label'].replace({0: 'NOT BIASED', 1: 'BIASED'})\n",
    "pool.to_csv('final_pool.csv', index=False)"
   ],
   "metadata": {
    "collapsed": false
   }
  }
 ],
 "metadata": {
  "kernelspec": {
   "display_name": "Python 3",
   "language": "python",
   "name": "python3"
  },
  "language_info": {
   "codemirror_mode": {
    "name": "ipython",
    "version": 2
   },
   "file_extension": ".py",
   "mimetype": "text/x-python",
   "name": "python",
   "nbconvert_exporter": "python",
   "pygments_lexer": "ipython2",
   "version": "2.7.6"
  }
 },
 "nbformat": 4,
 "nbformat_minor": 0
}
