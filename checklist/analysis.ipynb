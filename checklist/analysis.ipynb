{
 "cells": [
  {
   "cell_type": "code",
   "execution_count": 5,
   "metadata": {},
   "outputs": [],
   "source": [
    "import pandas as pd\n",
    "import os\n",
    "from sklearn.metrics import accuracy_score"
   ]
  },
  {
   "cell_type": "code",
   "execution_count": 19,
   "metadata": {},
   "outputs": [],
   "source": [
    "def accuracy(df):\n",
    "    return accuracy_score(df['label'],df['preds'])\n",
    "\n",
    "def miss(df):\n",
    "    return df[df['label']!=df['preds']]"
   ]
  },
  {
   "cell_type": "code",
   "execution_count": 6,
   "metadata": {},
   "outputs": [
    {
     "data": {
      "text/plain": [
       "['locationstest_babe_base.csv',\n",
       " 'factualtest_magpie.csv',\n",
       " 'prejudicetest_babe_base.csv',\n",
       " 'locationstest_magpie.csv',\n",
       " 'factualtest_roberta_anno_lexical.csv',\n",
       " 'factualtest_babe_base.csv',\n",
       " 'loadedtest_roberta_anno_lexical.csv',\n",
       " 'pronounstest_babe_base.csv',\n",
       " 'prejudicetest_magpie.csv',\n",
       " 'pronounstest_roberta_anno_lexical.csv',\n",
       " 'prejudicetest_roberta_anno_lexical.csv',\n",
       " 'locationstest_roberta_anno_lexical.csv',\n",
       " 'pronounstest_magpie.csv',\n",
       " 'loadedtest_magpie.csv',\n",
       " 'loadedtest_babe_base.csv']"
      ]
     },
     "execution_count": 6,
     "metadata": {},
     "output_type": "execute_result"
    }
   ],
   "source": [
    "os.listdir('data/out')"
   ]
  },
  {
   "cell_type": "markdown",
   "metadata": {},
   "source": [
    "# factual-test"
   ]
  },
  {
   "cell_type": "code",
   "execution_count": 29,
   "metadata": {},
   "outputs": [],
   "source": [
    "babe=pd.read_csv('data/out/factualtest_babe_base.csv')\n",
    "synth=pd.read_csv('data/out/factualtest_roberta_anno_lexical.csv')\n",
    "magpie=pd.read_csv('data/out/factualtest_magpie.csv')"
   ]
  },
  {
   "cell_type": "code",
   "execution_count": 30,
   "metadata": {},
   "outputs": [
    {
     "name": "stdout",
     "output_type": "stream",
     "text": [
      "0.9506953223767383\n",
      "0.9149810366624526\n",
      "0.9639696586599241\n"
     ]
    }
   ],
   "source": [
    "print(accuracy(babe))\n",
    "print(accuracy(magpie))\n",
    "print(accuracy(synth))"
   ]
  },
  {
   "cell_type": "code",
   "execution_count": 40,
   "metadata": {},
   "outputs": [
    {
     "data": {
      "text/html": [
       "<div>\n",
       "<style scoped>\n",
       "    .dataframe tbody tr th:only-of-type {\n",
       "        vertical-align: middle;\n",
       "    }\n",
       "\n",
       "    .dataframe tbody tr th {\n",
       "        vertical-align: top;\n",
       "    }\n",
       "\n",
       "    .dataframe thead th {\n",
       "        text-align: right;\n",
       "    }\n",
       "</style>\n",
       "<table border=\"1\" class=\"dataframe\">\n",
       "  <thead>\n",
       "    <tr style=\"text-align: right;\">\n",
       "      <th></th>\n",
       "      <th>text</th>\n",
       "      <th>label</th>\n",
       "      <th>preds</th>\n",
       "    </tr>\n",
       "  </thead>\n",
       "  <tbody>\n",
       "    <tr>\n",
       "      <th>44</th>\n",
       "      <td>What is an animal that lives underground, has ...</td>\n",
       "      <td>0</td>\n",
       "      <td>1</td>\n",
       "    </tr>\n",
       "    <tr>\n",
       "      <th>88</th>\n",
       "      <td>What do we call a plant that grows where it is...</td>\n",
       "      <td>0</td>\n",
       "      <td>1</td>\n",
       "    </tr>\n",
       "    <tr>\n",
       "      <th>214</th>\n",
       "      <td>What do we call the bad guy in a movie? The ba...</td>\n",
       "      <td>0</td>\n",
       "      <td>1</td>\n",
       "    </tr>\n",
       "    <tr>\n",
       "      <th>215</th>\n",
       "      <td>What do we call the good guy in a movie? The g...</td>\n",
       "      <td>0</td>\n",
       "      <td>1</td>\n",
       "    </tr>\n",
       "    <tr>\n",
       "      <th>217</th>\n",
       "      <td>Can movies be real or make-believe? Movies can...</td>\n",
       "      <td>0</td>\n",
       "      <td>1</td>\n",
       "    </tr>\n",
       "    <tr>\n",
       "      <th>...</th>\n",
       "      <td>...</td>\n",
       "      <td>...</td>\n",
       "      <td>...</td>\n",
       "    </tr>\n",
       "    <tr>\n",
       "      <th>3141</th>\n",
       "      <td>Rainbows do not have a taste</td>\n",
       "      <td>0</td>\n",
       "      <td>1</td>\n",
       "    </tr>\n",
       "    <tr>\n",
       "      <th>3143</th>\n",
       "      <td>J. B. Rhine attemped to prove the existence of...</td>\n",
       "      <td>0</td>\n",
       "      <td>1</td>\n",
       "    </tr>\n",
       "    <tr>\n",
       "      <th>3146</th>\n",
       "      <td>Nothing happens if you clean your house on New...</td>\n",
       "      <td>0</td>\n",
       "      <td>1</td>\n",
       "    </tr>\n",
       "    <tr>\n",
       "      <th>3150</th>\n",
       "      <td>Nothing happens if a shoemaker leaves unfinish...</td>\n",
       "      <td>0</td>\n",
       "      <td>1</td>\n",
       "    </tr>\n",
       "    <tr>\n",
       "      <th>3163</th>\n",
       "      <td>Yes, Bruno Richard Hauptmann was sentenced to ...</td>\n",
       "      <td>0</td>\n",
       "      <td>1</td>\n",
       "    </tr>\n",
       "  </tbody>\n",
       "</table>\n",
       "<p>86 rows × 3 columns</p>\n",
       "</div>"
      ],
      "text/plain": [
       "                                                   text  label  preds\n",
       "44    What is an animal that lives underground, has ...      0      1\n",
       "88    What do we call a plant that grows where it is...      0      1\n",
       "214   What do we call the bad guy in a movie? The ba...      0      1\n",
       "215   What do we call the good guy in a movie? The g...      0      1\n",
       "217   Can movies be real or make-believe? Movies can...      0      1\n",
       "...                                                 ...    ...    ...\n",
       "3141                       Rainbows do not have a taste      0      1\n",
       "3143  J. B. Rhine attemped to prove the existence of...      0      1\n",
       "3146  Nothing happens if you clean your house on New...      0      1\n",
       "3150  Nothing happens if a shoemaker leaves unfinish...      0      1\n",
       "3163  Yes, Bruno Richard Hauptmann was sentenced to ...      0      1\n",
       "\n",
       "[86 rows x 3 columns]"
      ]
     },
     "execution_count": 40,
     "metadata": {},
     "output_type": "execute_result"
    }
   ],
   "source": [
    "miss(babe)[~miss(babe)['text'].isin(miss(synth)['text'])]"
   ]
  },
  {
   "cell_type": "markdown",
   "metadata": {},
   "source": [
    "# pronouns-test"
   ]
  },
  {
   "cell_type": "code",
   "execution_count": 27,
   "metadata": {},
   "outputs": [],
   "source": [
    "babe=pd.read_csv('data/out/pronounstest_babe_base.csv')\n",
    "synth=pd.read_csv('data/out/pronounstest_roberta_anno_lexical.csv')\n",
    "magpie=pd.read_csv('data/out/pronounstest_magpie.csv')"
   ]
  },
  {
   "cell_type": "code",
   "execution_count": 28,
   "metadata": {},
   "outputs": [
    {
     "name": "stdout",
     "output_type": "stream",
     "text": [
      "0.9711884753901561\n",
      "0.9794344473007712\n",
      "0.9569313593539704\n"
     ]
    }
   ],
   "source": [
    "print(accuracy(babe))\n",
    "print(accuracy(magpie))\n",
    "print(accuracy(synth))"
   ]
  },
  {
   "cell_type": "markdown",
   "metadata": {},
   "source": [
    "# loaded-test"
   ]
  },
  {
   "cell_type": "code",
   "execution_count": 41,
   "metadata": {},
   "outputs": [],
   "source": [
    "babe=pd.read_csv('data/out/loadedtest_babe_base.csv')\n",
    "synth=pd.read_csv('data/out/loadedtest_roberta_anno_lexical.csv')\n",
    "magpie=pd.read_csv('data/out/loadedtest_magpie.csv')"
   ]
  },
  {
   "cell_type": "code",
   "execution_count": 42,
   "metadata": {},
   "outputs": [
    {
     "name": "stdout",
     "output_type": "stream",
     "text": [
      "0.41321695760598504\n",
      "0.97\n",
      "1.0\n"
     ]
    }
   ],
   "source": [
    "print(accuracy(babe))\n",
    "print(accuracy(magpie))\n",
    "print(accuracy(synth))"
   ]
  },
  {
   "cell_type": "code",
   "execution_count": 45,
   "metadata": {},
   "outputs": [
    {
     "data": {
      "text/html": [
       "<div>\n",
       "<style scoped>\n",
       "    .dataframe tbody tr th:only-of-type {\n",
       "        vertical-align: middle;\n",
       "    }\n",
       "\n",
       "    .dataframe tbody tr th {\n",
       "        vertical-align: top;\n",
       "    }\n",
       "\n",
       "    .dataframe thead th {\n",
       "        text-align: right;\n",
       "    }\n",
       "</style>\n",
       "<table border=\"1\" class=\"dataframe\">\n",
       "  <thead>\n",
       "    <tr style=\"text-align: right;\">\n",
       "      <th></th>\n",
       "      <th>text_orig</th>\n",
       "      <th>text_loaded</th>\n",
       "      <th>label</th>\n",
       "      <th>preds</th>\n",
       "    </tr>\n",
       "  </thead>\n",
       "  <tbody>\n",
       "  </tbody>\n",
       "</table>\n",
       "</div>"
      ],
      "text/plain": [
       "Empty DataFrame\n",
       "Columns: [text_orig, text_loaded, label, preds]\n",
       "Index: []"
      ]
     },
     "execution_count": 45,
     "metadata": {},
     "output_type": "execute_result"
    }
   ],
   "source": [
    "miss(synth)"
   ]
  }
 ],
 "metadata": {
  "kernelspec": {
   "display_name": "myvenv",
   "language": "python",
   "name": "python3"
  },
  "language_info": {
   "codemirror_mode": {
    "name": "ipython",
    "version": 3
   },
   "file_extension": ".py",
   "mimetype": "text/x-python",
   "name": "python",
   "nbconvert_exporter": "python",
   "pygments_lexer": "ipython3",
   "version": "3.10.12"
  }
 },
 "nbformat": 4,
 "nbformat_minor": 2
}
