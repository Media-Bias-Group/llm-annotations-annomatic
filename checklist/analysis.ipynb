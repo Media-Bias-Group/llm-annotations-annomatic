{
 "cells": [
  {
   "cell_type": "code",
   "execution_count": 1,
   "metadata": {},
   "outputs": [],
   "source": [
    "import pandas as pd\n",
    "import os\n",
    "from sklearn.metrics import accuracy_score"
   ]
  },
  {
   "cell_type": "code",
   "execution_count": 2,
   "metadata": {},
   "outputs": [],
   "source": [
    "def accuracy(df):\n",
    "    return accuracy_score(df['label'],df['preds'])\n",
    "\n",
    "def miss(df):\n",
    "    return df[df['label']!=df['preds']]"
   ]
  },
  {
   "cell_type": "code",
   "execution_count": 3,
   "metadata": {},
   "outputs": [
    {
     "data": {
      "text/plain": [
       "['locationstest_babe_base.csv',\n",
       " 'factualtest_magpie.csv',\n",
       " 'prejudicetest_babe_base.csv',\n",
       " 'locationstest_magpie.csv',\n",
       " 'factualtest_roberta_anno_lexical.csv',\n",
       " 'factualtest_babe_base.csv',\n",
       " 'loadedtest_roberta_anno_lexical.csv',\n",
       " 'pronounstest_babe_base.csv',\n",
       " 'prejudicetest_magpie.csv',\n",
       " 'pronounstest_roberta_anno_lexical.csv',\n",
       " 'prejudicetest_roberta_anno_lexical.csv',\n",
       " 'locationstest_roberta_anno_lexical.csv',\n",
       " 'pronounstest_magpie.csv',\n",
       " 'loadedtest_magpie.csv',\n",
       " 'loadedtest_babe_base.csv']"
      ]
     },
     "execution_count": 3,
     "metadata": {},
     "output_type": "execute_result"
    }
   ],
   "source": [
    "os.listdir('data/out')"
   ]
  },
  {
   "cell_type": "markdown",
   "metadata": {},
   "source": [
    "# MFT: factual-test"
   ]
  },
  {
   "cell_type": "markdown",
   "metadata": {},
   "source": [
    "In this test we took two datasets of very simple, short, factual sentences and we want to test if our model can always predict them as unbiased. An example of a sentence from the dataset: \"Food cravings tell us that we want to eat a certain food.\""
   ]
  },
  {
   "cell_type": "code",
   "execution_count": 6,
   "metadata": {},
   "outputs": [],
   "source": [
    "babe=pd.read_csv('data/out/factualtest_babe_base.csv')\n",
    "synth=pd.read_csv('data/out/factualtest_roberta_anno_lexical.csv')\n",
    "magpie=pd.read_csv('data/out/factualtest_magpie.csv')"
   ]
  },
  {
   "cell_type": "code",
   "execution_count": 7,
   "metadata": {},
   "outputs": [
    {
     "name": "stdout",
     "output_type": "stream",
     "text": [
      "0.9506953223767383\n",
      "0.9149810366624526\n",
      "0.9639696586599241\n"
     ]
    }
   ],
   "source": [
    "print(accuracy(babe))\n",
    "print(accuracy(magpie))\n",
    "print(accuracy(synth))"
   ]
  },
  {
   "cell_type": "code",
   "execution_count": 16,
   "metadata": {},
   "outputs": [
    {
     "data": {
      "text/plain": [
       "['Nothing in particular happens to your nose if you tell a lie',\n",
       " 'The name of the villainous Gremlin was Stripe',\n",
       " \"No, reindeer can't really fly\",\n",
       " 'Yes, less than 1% of the US Federal budget is spent on foreign aid to poor countries',\n",
       " 'Humans disagree about the healthiest and most delicious dessert',\n",
       " 'What is a stereotype? An unfair, generalization about a group of people',\n",
       " 'What is a thought bubble? A bubble in a comic book that shows what a character is thinking',\n",
       " 'People disagree about the best form of government',\n",
       " \"There's no way to invest and guarantee you'll beat inflation\",\n",
       " 'No, pigs cannot fly']"
      ]
     },
     "execution_count": 16,
     "metadata": {},
     "output_type": "execute_result"
    }
   ],
   "source": [
    "# sample of 10 sentences where babe classifier wrongly predicts biased but synthetic one doesnt\n",
    "miss(babe)[~miss(babe)['text'].isin(miss(synth)['text'])].text.sample(10).tolist()"
   ]
  },
  {
   "cell_type": "markdown",
   "metadata": {},
   "source": [
    "# DIR: loaded-test"
   ]
  },
  {
   "cell_type": "markdown",
   "metadata": {},
   "source": [
    "In this test, we take unbiased sentences from the BABE test set and inject biased adjectives and adverbs into them, artifically changing the label to biased. The model succeeds if it can change it's prediction to biased. The biased adjectives and adverbs are taken from the bias lexicon. We only take neutral sentences that the model was able to classify as neutral in the first place, to ensure consistency."
   ]
  },
  {
   "cell_type": "code",
   "execution_count": 21,
   "metadata": {},
   "outputs": [],
   "source": [
    "babe=pd.read_csv('data/out/loadedtest_babe_base.csv')\n",
    "synth=pd.read_csv('data/out/loadedtest_roberta_anno_lexical.csv')\n",
    "magpie=pd.read_csv('data/out/loadedtest_magpie.csv')"
   ]
  },
  {
   "cell_type": "code",
   "execution_count": 28,
   "metadata": {},
   "outputs": [],
   "source": [
    "babe = babe[babe['text_orig']!=babe['text_loaded']]\n",
    "magpie = magpie[magpie['text_orig']!=magpie['text_loaded']]"
   ]
  },
  {
   "cell_type": "code",
   "execution_count": 31,
   "metadata": {},
   "outputs": [
    {
     "name": "stdout",
     "output_type": "stream",
     "text": [
      "0.41528822055137843\n",
      "0.96875\n",
      "1.0\n"
     ]
    }
   ],
   "source": [
    "print(accuracy(babe))\n",
    "print(accuracy(magpie))\n",
    "print(accuracy(synth))"
   ]
  },
  {
   "cell_type": "code",
   "execution_count": 46,
   "metadata": {},
   "outputs": [
    {
     "data": {
      "text/plain": [
       "24"
      ]
     },
     "execution_count": 46,
     "metadata": {},
     "output_type": "execute_result"
    }
   ],
   "source": [
    "len(magpie.text_orig.unique())"
   ]
  },
  {
   "cell_type": "code",
   "execution_count": 19,
   "metadata": {},
   "outputs": [
    {
     "data": {
      "text/html": [
       "<div>\n",
       "<style scoped>\n",
       "    .dataframe tbody tr th:only-of-type {\n",
       "        vertical-align: middle;\n",
       "    }\n",
       "\n",
       "    .dataframe tbody tr th {\n",
       "        vertical-align: top;\n",
       "    }\n",
       "\n",
       "    .dataframe thead th {\n",
       "        text-align: right;\n",
       "    }\n",
       "</style>\n",
       "<table border=\"1\" class=\"dataframe\">\n",
       "  <thead>\n",
       "    <tr style=\"text-align: right;\">\n",
       "      <th></th>\n",
       "      <th>text_orig</th>\n",
       "      <th>text_loaded</th>\n",
       "      <th>label</th>\n",
       "      <th>preds</th>\n",
       "    </tr>\n",
       "  </thead>\n",
       "  <tbody>\n",
       "    <tr>\n",
       "      <th>211</th>\n",
       "      <td>Trump has brushed aside criticism for his deci...</td>\n",
       "      <td>Trump has brushed freenow## aside criticism fo...</td>\n",
       "      <td>1</td>\n",
       "      <td>0</td>\n",
       "    </tr>\n",
       "    <tr>\n",
       "      <th>251</th>\n",
       "      <td>Party activists have been energized as Cory Bo...</td>\n",
       "      <td>Party activists have been energized bully as C...</td>\n",
       "      <td>1</td>\n",
       "      <td>0</td>\n",
       "    </tr>\n",
       "    <tr>\n",
       "      <th>263</th>\n",
       "      <td>Trans sportswomen hit back at Martina Navratil...</td>\n",
       "      <td>Trans irrelevant sportswomen hit back at Marti...</td>\n",
       "      <td>1</td>\n",
       "      <td>0</td>\n",
       "    </tr>\n",
       "    <tr>\n",
       "      <th>380</th>\n",
       "      <td>When Trump entered the White House in 2017, Lo...</td>\n",
       "      <td>When Trump entered the White House in 2017 , L...</td>\n",
       "      <td>1</td>\n",
       "      <td>0</td>\n",
       "    </tr>\n",
       "    <tr>\n",
       "      <th>381</th>\n",
       "      <td>When Trump entered the White House in 2017, Lo...</td>\n",
       "      <td>When Trump entered the White House in 2017 , L...</td>\n",
       "      <td>1</td>\n",
       "      <td>0</td>\n",
       "    </tr>\n",
       "    <tr>\n",
       "      <th>382</th>\n",
       "      <td>When Trump entered the White House in 2017, Lo...</td>\n",
       "      <td>When Trump entered the White House in 2017 , L...</td>\n",
       "      <td>1</td>\n",
       "      <td>0</td>\n",
       "    </tr>\n",
       "    <tr>\n",
       "      <th>383</th>\n",
       "      <td>When Trump entered the White House in 2017, Lo...</td>\n",
       "      <td>When Trump entered the White House in 2017 , L...</td>\n",
       "      <td>1</td>\n",
       "      <td>0</td>\n",
       "    </tr>\n",
       "    <tr>\n",
       "      <th>384</th>\n",
       "      <td>When Trump entered the White House in 2017, Lo...</td>\n",
       "      <td>When Trump entered the White House in 2017 , L...</td>\n",
       "      <td>1</td>\n",
       "      <td>0</td>\n",
       "    </tr>\n",
       "    <tr>\n",
       "      <th>385</th>\n",
       "      <td>When Trump entered the White House in 2017, Lo...</td>\n",
       "      <td>When Trump entered the White House in 2017 , L...</td>\n",
       "      <td>1</td>\n",
       "      <td>0</td>\n",
       "    </tr>\n",
       "    <tr>\n",
       "      <th>386</th>\n",
       "      <td>When Trump entered the White House in 2017, Lo...</td>\n",
       "      <td>When Trump entered the White House in 2017 , L...</td>\n",
       "      <td>1</td>\n",
       "      <td>0</td>\n",
       "    </tr>\n",
       "    <tr>\n",
       "      <th>387</th>\n",
       "      <td>When Trump entered the White House in 2017, Lo...</td>\n",
       "      <td>When Trump entered the White House in 2017 , L...</td>\n",
       "      <td>1</td>\n",
       "      <td>0</td>\n",
       "    </tr>\n",
       "    <tr>\n",
       "      <th>388</th>\n",
       "      <td>When Trump entered the White House in 2017, Lo...</td>\n",
       "      <td>When Trump entered the White House in 2017 , L...</td>\n",
       "      <td>1</td>\n",
       "      <td>0</td>\n",
       "    </tr>\n",
       "    <tr>\n",
       "      <th>389</th>\n",
       "      <td>When Trump entered the White House in 2017, Lo...</td>\n",
       "      <td>When Trump entered the White House in 2017 , L...</td>\n",
       "      <td>1</td>\n",
       "      <td>0</td>\n",
       "    </tr>\n",
       "    <tr>\n",
       "      <th>400</th>\n",
       "      <td>Their work came on the heels of an IPCC report...</td>\n",
       "      <td>Their demagogical work came on the heels of an...</td>\n",
       "      <td>1</td>\n",
       "      <td>0</td>\n",
       "    </tr>\n",
       "    <tr>\n",
       "      <th>410</th>\n",
       "      <td>Their work came on the heels of an IPCC report...</td>\n",
       "      <td>Their work came perversely on the heels of an ...</td>\n",
       "      <td>1</td>\n",
       "      <td>0</td>\n",
       "    </tr>\n",
       "  </tbody>\n",
       "</table>\n",
       "</div>"
      ],
      "text/plain": [
       "                                             text_orig  \\\n",
       "211  Trump has brushed aside criticism for his deci...   \n",
       "251  Party activists have been energized as Cory Bo...   \n",
       "263  Trans sportswomen hit back at Martina Navratil...   \n",
       "380  When Trump entered the White House in 2017, Lo...   \n",
       "381  When Trump entered the White House in 2017, Lo...   \n",
       "382  When Trump entered the White House in 2017, Lo...   \n",
       "383  When Trump entered the White House in 2017, Lo...   \n",
       "384  When Trump entered the White House in 2017, Lo...   \n",
       "385  When Trump entered the White House in 2017, Lo...   \n",
       "386  When Trump entered the White House in 2017, Lo...   \n",
       "387  When Trump entered the White House in 2017, Lo...   \n",
       "388  When Trump entered the White House in 2017, Lo...   \n",
       "389  When Trump entered the White House in 2017, Lo...   \n",
       "400  Their work came on the heels of an IPCC report...   \n",
       "410  Their work came on the heels of an IPCC report...   \n",
       "\n",
       "                                           text_loaded  label  preds  \n",
       "211  Trump has brushed freenow## aside criticism fo...      1      0  \n",
       "251  Party activists have been energized bully as C...      1      0  \n",
       "263  Trans irrelevant sportswomen hit back at Marti...      1      0  \n",
       "380  When Trump entered the White House in 2017 , L...      1      0  \n",
       "381  When Trump entered the White House in 2017 , L...      1      0  \n",
       "382  When Trump entered the White House in 2017 , L...      1      0  \n",
       "383  When Trump entered the White House in 2017 , L...      1      0  \n",
       "384  When Trump entered the White House in 2017 , L...      1      0  \n",
       "385  When Trump entered the White House in 2017 , L...      1      0  \n",
       "386  When Trump entered the White House in 2017 , L...      1      0  \n",
       "387  When Trump entered the White House in 2017 , L...      1      0  \n",
       "388  When Trump entered the White House in 2017 , L...      1      0  \n",
       "389  When Trump entered the White House in 2017 , L...      1      0  \n",
       "400  Their demagogical work came on the heels of an...      1      0  \n",
       "410  Their work came perversely on the heels of an ...      1      0  "
      ]
     },
     "execution_count": 19,
     "metadata": {},
     "output_type": "execute_result"
    }
   ],
   "source": [
    "miss(magpie)"
   ]
  }
 ],
 "metadata": {
  "kernelspec": {
   "display_name": "myvenv",
   "language": "python",
   "name": "python3"
  },
  "language_info": {
   "codemirror_mode": {
    "name": "ipython",
    "version": 3
   },
   "file_extension": ".py",
   "mimetype": "text/x-python",
   "name": "python",
   "nbconvert_exporter": "python",
   "pygments_lexer": "ipython3",
   "version": "3.10.12"
  }
 },
 "nbformat": 4,
 "nbformat_minor": 2
}
