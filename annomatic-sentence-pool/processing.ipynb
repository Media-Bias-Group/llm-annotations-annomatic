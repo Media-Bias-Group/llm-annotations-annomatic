{
 "cells": [
  {
   "cell_type": "code",
   "execution_count": 79,
   "metadata": {
    "collapsed": true
   },
   "outputs": [],
   "source": [
    "import pandas as pd\n",
    "# load\n",
    "\n",
    "# load results\n",
    "df_zephyr = pd.read_csv(f\"./data/annotation/final/zephyr-7b-beta.csv\")\n",
    "df_openchat = pd.read_csv(\"./data/annotation/final/openchat_3.5.csv\")\n",
    "df_llama = pd.read_csv(\"./data/annotation/final/Llama-2-13b-chat-hf.csv\")\n",
    "\n",
    "\n",
    "# df_merge_all_runs = only contains the elements legal in all annotations\n",
    "df_merge_all_runs = pd.read_csv(\"./data/output/final_sentence_pool_cleaned.csv\")\n",
    "\n",
    "def find_first_occurrence(string, instruction=\"Instruction:\",\n",
    "                          statement1=\"The answer is BIASED\",\n",
    "                          statement2=\"The answer is NOT BIASED\"\n",
    "                          ):\n",
    "    index_instruction = string.find(instruction)\n",
    "    index1 = string.find(statement1)\n",
    "    index2 = string.find(statement2)\n",
    "\n",
    "    if index1 == -1 and index2 == -1:\n",
    "        return \"Neither instruction nor statements found in the given string.\"\n",
    "    elif index1 == -1 and index2 == -1:\n",
    "        return \"Neither statement found in the given string.\"\n",
    "    elif index1 == -1:\n",
    "        if index_instruction == -1 or index2 < index_instruction:\n",
    "            return f\"{statement2}\"\n",
    "        else:\n",
    "            return \"After Instruction\"\n",
    "    elif index2 == -1:\n",
    "        if index_instruction == -1 or index1 < index_instruction:\n",
    "            return f\"{statement1}\"\n",
    "        else:\n",
    "            return \"After Instruction\"\n",
    "    elif index1 < index2:\n",
    "        if index_instruction == -1 or index1 < index_instruction:\n",
    "            return f\"{statement1}\"\n",
    "        else:\n",
    "            return \"After Instruction\"\n",
    "    else:\n",
    "        if index_instruction == -1 or index2 < index_instruction:\n",
    "            return f\"{statement2}\"\n",
    "        else:\n",
    "            return \"After Instruction\"\n",
    "\n",
    "def split_and_store(row):\n",
    "    split_parts = row['response'].split(\"\\n\\nInstruction\", 1)\n",
    "    return split_parts[0]"
   ]
  },
  {
   "cell_type": "markdown",
   "metadata": {
    "collapsed": false
   },
   "source": [
    "# Zephr annotation"
   ]
  },
  {
   "cell_type": "code",
   "execution_count": 80,
   "metadata": {
    "collapsed": false
   },
   "outputs": [
    {
     "data": {
      "text/plain": "                                                    text  \\\n0      While Kellyanne Conway was a staunch defender ...   \n1      A few years ago, the far-right Britain First c...   \n2      MARKETS DEPEND for their very existence on rul...   \n3      And we need to start treating pandemics as a r...   \n4      Graham remains perhaps Trump’s closest collabo...   \n...                                                  ...   \n65929  Canary Mission, which tracks anti-Semitism (an...   \n65930  Expect fireworks from the Trump faithful I’d i...   \n65931  Share your food with the hungry, and give shel...   \n65932  Every day they delay their assault, their job ...   \n65933  When it comes to recruiting child soldiers, Ha...   \n\n                                                response  \\\n0      The sentence presents factual information with...   \n1      The sentence is labeled as biased because it u...   \n2      The sentence is not biased because it presents...   \n3      The sentence is classified as NOT BIASED becau...   \n4      The sentence is not biased as it presents fact...   \n...                                                  ...   \n65929  The sentence is biased because it makes a cont...   \n65930  The sentence is classified as biased because i...   \n65931  The sentence is not biased because it presents...   \n65932  The sentence is classified as biased because i...   \n65933  The sentence presents a factual statement with...   \n\n                                                raw_data  \\\n0      You are an expert in media bias.\\n\\nInstructio...   \n1      You are an expert in media bias.\\n\\nInstructio...   \n2      You are an expert in media bias.\\n\\nInstructio...   \n3      You are an expert in media bias.\\n\\nInstructio...   \n4      You are an expert in media bias.\\n\\nInstructio...   \n...                                                  ...   \n65929  You are an expert in media bias.\\n\\nInstructio...   \n65930  You are an expert in media bias.\\n\\nInstructio...   \n65931  You are an expert in media bias.\\n\\nInstructio...   \n65932  You are an expert in media bias.\\n\\nInstructio...   \n65933  You are an expert in media bias.\\n\\nInstructio...   \n\n                                                   query label  \\\n0      You are an expert in media bias.\\n\\nInstructio...     ?   \n1      You are an expert in media bias.\\n\\nInstructio...     ?   \n2      You are an expert in media bias.\\n\\nInstructio...     ?   \n3      You are an expert in media bias.\\n\\nInstructio...     ?   \n4      You are an expert in media bias.\\n\\nInstructio...     ?   \n...                                                  ...   ...   \n65929  You are an expert in media bias.\\n\\nInstructio...     ?   \n65930  You are an expert in media bias.\\n\\nInstructio...     ?   \n65931  You are an expert in media bias.\\n\\nInstructio...     ?   \n65932  You are an expert in media bias.\\n\\nInstructio...     ?   \n65933  You are an expert in media bias.\\n\\nInstructio...     ?   \n\n                                          response_short  \n0      The sentence presents factual information with...  \n1      The sentence is labeled as biased because it u...  \n2      The sentence is not biased because it presents...  \n3      The sentence is classified as NOT BIASED becau...  \n4      The sentence is not biased as it presents fact...  \n...                                                  ...  \n65929  The sentence is biased because it makes a cont...  \n65930  The sentence is classified as biased because i...  \n65931  The sentence is not biased because it presents...  \n65932  The sentence is classified as biased because i...  \n65933  The sentence presents a factual statement with...  \n\n[65471 rows x 6 columns]",
      "text/html": "<div>\n<style scoped>\n    .dataframe tbody tr th:only-of-type {\n        vertical-align: middle;\n    }\n\n    .dataframe tbody tr th {\n        vertical-align: top;\n    }\n\n    .dataframe thead th {\n        text-align: right;\n    }\n</style>\n<table border=\"1\" class=\"dataframe\">\n  <thead>\n    <tr style=\"text-align: right;\">\n      <th></th>\n      <th>text</th>\n      <th>response</th>\n      <th>raw_data</th>\n      <th>query</th>\n      <th>label</th>\n      <th>response_short</th>\n    </tr>\n  </thead>\n  <tbody>\n    <tr>\n      <th>0</th>\n      <td>While Kellyanne Conway was a staunch defender ...</td>\n      <td>The sentence presents factual information with...</td>\n      <td>You are an expert in media bias.\\n\\nInstructio...</td>\n      <td>You are an expert in media bias.\\n\\nInstructio...</td>\n      <td>?</td>\n      <td>The sentence presents factual information with...</td>\n    </tr>\n    <tr>\n      <th>1</th>\n      <td>A few years ago, the far-right Britain First c...</td>\n      <td>The sentence is labeled as biased because it u...</td>\n      <td>You are an expert in media bias.\\n\\nInstructio...</td>\n      <td>You are an expert in media bias.\\n\\nInstructio...</td>\n      <td>?</td>\n      <td>The sentence is labeled as biased because it u...</td>\n    </tr>\n    <tr>\n      <th>2</th>\n      <td>MARKETS DEPEND for their very existence on rul...</td>\n      <td>The sentence is not biased because it presents...</td>\n      <td>You are an expert in media bias.\\n\\nInstructio...</td>\n      <td>You are an expert in media bias.\\n\\nInstructio...</td>\n      <td>?</td>\n      <td>The sentence is not biased because it presents...</td>\n    </tr>\n    <tr>\n      <th>3</th>\n      <td>And we need to start treating pandemics as a r...</td>\n      <td>The sentence is classified as NOT BIASED becau...</td>\n      <td>You are an expert in media bias.\\n\\nInstructio...</td>\n      <td>You are an expert in media bias.\\n\\nInstructio...</td>\n      <td>?</td>\n      <td>The sentence is classified as NOT BIASED becau...</td>\n    </tr>\n    <tr>\n      <th>4</th>\n      <td>Graham remains perhaps Trump’s closest collabo...</td>\n      <td>The sentence is not biased as it presents fact...</td>\n      <td>You are an expert in media bias.\\n\\nInstructio...</td>\n      <td>You are an expert in media bias.\\n\\nInstructio...</td>\n      <td>?</td>\n      <td>The sentence is not biased as it presents fact...</td>\n    </tr>\n    <tr>\n      <th>...</th>\n      <td>...</td>\n      <td>...</td>\n      <td>...</td>\n      <td>...</td>\n      <td>...</td>\n      <td>...</td>\n    </tr>\n    <tr>\n      <th>65929</th>\n      <td>Canary Mission, which tracks anti-Semitism (an...</td>\n      <td>The sentence is biased because it makes a cont...</td>\n      <td>You are an expert in media bias.\\n\\nInstructio...</td>\n      <td>You are an expert in media bias.\\n\\nInstructio...</td>\n      <td>?</td>\n      <td>The sentence is biased because it makes a cont...</td>\n    </tr>\n    <tr>\n      <th>65930</th>\n      <td>Expect fireworks from the Trump faithful I’d i...</td>\n      <td>The sentence is classified as biased because i...</td>\n      <td>You are an expert in media bias.\\n\\nInstructio...</td>\n      <td>You are an expert in media bias.\\n\\nInstructio...</td>\n      <td>?</td>\n      <td>The sentence is classified as biased because i...</td>\n    </tr>\n    <tr>\n      <th>65931</th>\n      <td>Share your food with the hungry, and give shel...</td>\n      <td>The sentence is not biased because it presents...</td>\n      <td>You are an expert in media bias.\\n\\nInstructio...</td>\n      <td>You are an expert in media bias.\\n\\nInstructio...</td>\n      <td>?</td>\n      <td>The sentence is not biased because it presents...</td>\n    </tr>\n    <tr>\n      <th>65932</th>\n      <td>Every day they delay their assault, their job ...</td>\n      <td>The sentence is classified as biased because i...</td>\n      <td>You are an expert in media bias.\\n\\nInstructio...</td>\n      <td>You are an expert in media bias.\\n\\nInstructio...</td>\n      <td>?</td>\n      <td>The sentence is classified as biased because i...</td>\n    </tr>\n    <tr>\n      <th>65933</th>\n      <td>When it comes to recruiting child soldiers, Ha...</td>\n      <td>The sentence presents a factual statement with...</td>\n      <td>You are an expert in media bias.\\n\\nInstructio...</td>\n      <td>You are an expert in media bias.\\n\\nInstructio...</td>\n      <td>?</td>\n      <td>The sentence presents a factual statement with...</td>\n    </tr>\n  </tbody>\n</table>\n<p>65471 rows × 6 columns</p>\n</div>"
     },
     "execution_count": 80,
     "metadata": {},
     "output_type": "execute_result"
    }
   ],
   "source": [
    "df_zephyr['response_short'] = df_zephyr.apply(split_and_store, axis=1)\n",
    "\n",
    "df_zephyr.query('label == \"?\"')"
   ]
  },
  {
   "cell_type": "code",
   "execution_count": 81,
   "metadata": {
    "collapsed": false
   },
   "outputs": [
    {
     "data": {
      "text/plain": "                                                    text  \\\n5960   61 percent say they are very concerned and the...   \n8836   The Washington Post did mention that in some c...   \n9327   Mr. Ullyot is a U.S. Marine Corps veteran and ...   \n10741  This decision should not be read as dispositiv...   \n12932  The Daily Wire editor emeritus Ben Shapiro put...   \n15311  America has other priorities: competition with...   \n16272  I'm pop in the momentum causes it to do a heel...   \n17456  That will all be part of my calculation as we ...   \n17716  As of this fall, none of the Justice Departmen...   \n18551  Swift, the ultimate influencer, is delivering ...   \n19140  And they would come up with images of it on te...   \n22457  We hope they do what we think we’re telling th...   \n24064  The most powerful thing that gets people and p...   \n24447  But inequality of opportunity and the disconte...   \n24927  BIDEN TROLLS DESANTIS, HALEY, TRUMP WITH GIANT...   \n25309  Israel will also face pressure to extend the t...   \n28577  Plz tell me your next album is like that Prett...   \n30130  And now some of his former colleagues in the H...   \n30626  It adorns many bedroom walls of teenaged kids ...   \n31049  Despite having established sound legal framewo...   \n31277  But you want to run your own life like Grant M...   \n33590  Just do a teeny dab in all of the ones down here.   \n33903  That’s because the moon’s orbit isn’t perfectl...   \n36849  Up to 73% of patients experienced nausea and 4...   \n38167  X is based in San Francisco while the media wa...   \n38526  The prosecution called as its first witness a ...   \n39017  The sprawling compound is located just south o...   \n39969  Israel’s war economy is working-for the time b...   \n40445  Though its plot is not dissimilar to that of J...   \n40636  The white rabbit didn’t murder The Black lady,...   \n41509  CNN - A 16-year-old in Las Vegas was arrested ...   \n42936  Sean Illing Is there ever an intellectually co...   \n44001  So, this is American, we can go a manga, we ca...   \n44339  Did you have a thing that would get you into him?   \n45613  Lagarde has long railed against cryptocurrenci...   \n45991  Consider a recent article about Bill O’Reilly’...   \n47751  The alleged target, who is also not named in t...   \n47993  According to the World Christian Database at G...   \n48400  And we think about - you know, rape and the us...   \n48573  So, instead of cracking down on the criminal g...   \n51355  We’re not leaving ... but please don’t think t...   \n51935  Drunk Elephant C-Firma Vitamin C Day Serum $78...   \n52507  It was proven beyond any doubt that there were...   \n52890  Choose your plan ArrowRight But now, that reli...   \n53393  On 8 June, the US supreme court issued one of ...   \n55718  This is, of course, self-evident, but it is a ...   \n56518  Japan’s Nikkei 225 jumped 2% after a top centr...   \n58011  Sharon crushes it in a particularly brutal fas...   \n61837  Or are we not rather like toys in the sack on ...   \n63324  Intel launched its Core i9 11900K in 2021, whi...   \n\n                                                response  \\\n5960   The sentence presents information without any ...   \n8836   The sentence is ambiguous and could be interpr...   \n9327   The sentence provides factual information abou...   \n10741  The sentence is factual and neutral in nature,...   \n12932  The sentence above is classified as not biased...   \n15311  The sentence presents a list of issues without...   \n16272  The sentence is not related to media bias, as ...   \n17456  The sentence does not present any explicit val...   \n17716  The sentence is factual and presents a clear s...   \n18551  The sentence presents a factual observation ab...   \n19140  The sentence is ambiguous and lacks context, m...   \n22457  The sentence is ambiguous and unclear, making ...   \n24064  The sentence is not explicitly biased, but it ...   \n24447  The sentence presents a factual observation th...   \n24927  The sentence presents a statement from Dana Lo...   \n25309  The sentence is factual and reports on the pot...   \n28577  The sentence is not a news article or an opini...   \n30130  The sentence shows a degree of subjectivity an...   \n30626  The sentence presents a factual observation ab...   \n31049  The sentence presents a factual observation ab...   \n31277  The sentence presents an opinion about the sub...   \n33590  The sentence is not a news article or a statem...   \n33903  The sentence is factual and objective, present...   \n36849  The sentence presents statistical data without...   \n38167  The sentence presents a fact about the locatio...   \n38526  The sentence presents a factual statement with...   \n39017  The sentence presents a factual description of...   \n39969  The sentence \"Israel’s war economy is working-...   \n40445  The sentence presents a comparison between the...   \n40636  The sentence is nonsensical and does not prese...   \n41509  The sentence is factual and does not use emoti...   \n42936  The sentence is not inherently biased as it po...   \n44001  The sentence presents a statement that does no...   \n44339  The sentence is ambiguous and could be interpr...   \n45613  The sentence presents a factual statement abou...   \n45991  The sentence is not inherently biased, but it ...   \n47751  The sentence is factual and does not express a...   \n47993  The sentence presents factual information with...   \n48400  The sentence is factual and straightforward, d...   \n48573  The sentence presents a criticism of the gover...   \n51355  The sentence is ambiguous and could be interpr...   \n51935  The sentence provides a list of products and t...   \n52507  The sentence appears to be factual and objecti...   \n52890  The sentence presents a factual account of a l...   \n53393  The sentence presents a factual observation ab...   \n55718  The sentence presents a fact (\"this is self-ev...   \n56518  The sentence presents a factual account of the...   \n58011  The sentence uses emotionally charged language...   \n61837  The sentence uses figurative language to descr...   \n63324  The sentence presents a factual statement abou...   \n\n                                                raw_data  \\\n5960   You are an expert in media bias.\\n\\nInstructio...   \n8836   You are an expert in media bias.\\n\\nInstructio...   \n9327   You are an expert in media bias.\\n\\nInstructio...   \n10741  You are an expert in media bias.\\n\\nInstructio...   \n12932  You are an expert in media bias.\\n\\nInstructio...   \n15311  You are an expert in media bias.\\n\\nInstructio...   \n16272  You are an expert in media bias.\\n\\nInstructio...   \n17456  You are an expert in media bias.\\n\\nInstructio...   \n17716  You are an expert in media bias.\\n\\nInstructio...   \n18551  You are an expert in media bias.\\n\\nInstructio...   \n19140  You are an expert in media bias.\\n\\nInstructio...   \n22457  You are an expert in media bias.\\n\\nInstructio...   \n24064  You are an expert in media bias.\\n\\nInstructio...   \n24447  You are an expert in media bias.\\n\\nInstructio...   \n24927  You are an expert in media bias.\\n\\nInstructio...   \n25309  You are an expert in media bias.\\n\\nInstructio...   \n28577  You are an expert in media bias.\\n\\nInstructio...   \n30130  You are an expert in media bias.\\n\\nInstructio...   \n30626  You are an expert in media bias.\\n\\nInstructio...   \n31049  You are an expert in media bias.\\n\\nInstructio...   \n31277  You are an expert in media bias.\\n\\nInstructio...   \n33590  You are an expert in media bias.\\n\\nInstructio...   \n33903  You are an expert in media bias.\\n\\nInstructio...   \n36849  You are an expert in media bias.\\n\\nInstructio...   \n38167  You are an expert in media bias.\\n\\nInstructio...   \n38526  You are an expert in media bias.\\n\\nInstructio...   \n39017  You are an expert in media bias.\\n\\nInstructio...   \n39969  You are an expert in media bias.\\n\\nInstructio...   \n40445  You are an expert in media bias.\\n\\nInstructio...   \n40636  You are an expert in media bias.\\n\\nInstructio...   \n41509  You are an expert in media bias.\\n\\nInstructio...   \n42936  You are an expert in media bias.\\n\\nInstructio...   \n44001  You are an expert in media bias.\\n\\nInstructio...   \n44339  You are an expert in media bias.\\n\\nInstructio...   \n45613  You are an expert in media bias.\\n\\nInstructio...   \n45991  You are an expert in media bias.\\n\\nInstructio...   \n47751  You are an expert in media bias.\\n\\nInstructio...   \n47993  You are an expert in media bias.\\n\\nInstructio...   \n48400  You are an expert in media bias.\\n\\nInstructio...   \n48573  You are an expert in media bias.\\n\\nInstructio...   \n51355  You are an expert in media bias.\\n\\nInstructio...   \n51935  You are an expert in media bias.\\n\\nInstructio...   \n52507  You are an expert in media bias.\\n\\nInstructio...   \n52890  You are an expert in media bias.\\n\\nInstructio...   \n53393  You are an expert in media bias.\\n\\nInstructio...   \n55718  You are an expert in media bias.\\n\\nInstructio...   \n56518  You are an expert in media bias.\\n\\nInstructio...   \n58011  You are an expert in media bias.\\n\\nInstructio...   \n61837  You are an expert in media bias.\\n\\nInstructio...   \n63324  You are an expert in media bias.\\n\\nInstructio...   \n\n                                                   query label  \\\n5960   You are an expert in media bias.\\n\\nInstructio...     ?   \n8836   You are an expert in media bias.\\n\\nInstructio...     ?   \n9327   You are an expert in media bias.\\n\\nInstructio...     ?   \n10741  You are an expert in media bias.\\n\\nInstructio...     ?   \n12932  You are an expert in media bias.\\n\\nInstructio...     ?   \n15311  You are an expert in media bias.\\n\\nInstructio...     ?   \n16272  You are an expert in media bias.\\n\\nInstructio...     ?   \n17456  You are an expert in media bias.\\n\\nInstructio...     ?   \n17716  You are an expert in media bias.\\n\\nInstructio...     ?   \n18551  You are an expert in media bias.\\n\\nInstructio...     ?   \n19140  You are an expert in media bias.\\n\\nInstructio...     ?   \n22457  You are an expert in media bias.\\n\\nInstructio...     ?   \n24064  You are an expert in media bias.\\n\\nInstructio...     ?   \n24447  You are an expert in media bias.\\n\\nInstructio...     ?   \n24927  You are an expert in media bias.\\n\\nInstructio...     ?   \n25309  You are an expert in media bias.\\n\\nInstructio...     ?   \n28577  You are an expert in media bias.\\n\\nInstructio...     ?   \n30130  You are an expert in media bias.\\n\\nInstructio...     ?   \n30626  You are an expert in media bias.\\n\\nInstructio...     ?   \n31049  You are an expert in media bias.\\n\\nInstructio...     ?   \n31277  You are an expert in media bias.\\n\\nInstructio...     ?   \n33590  You are an expert in media bias.\\n\\nInstructio...     ?   \n33903  You are an expert in media bias.\\n\\nInstructio...     ?   \n36849  You are an expert in media bias.\\n\\nInstructio...     ?   \n38167  You are an expert in media bias.\\n\\nInstructio...     ?   \n38526  You are an expert in media bias.\\n\\nInstructio...     ?   \n39017  You are an expert in media bias.\\n\\nInstructio...     ?   \n39969  You are an expert in media bias.\\n\\nInstructio...     ?   \n40445  You are an expert in media bias.\\n\\nInstructio...     ?   \n40636  You are an expert in media bias.\\n\\nInstructio...     ?   \n41509  You are an expert in media bias.\\n\\nInstructio...     ?   \n42936  You are an expert in media bias.\\n\\nInstructio...     ?   \n44001  You are an expert in media bias.\\n\\nInstructio...     ?   \n44339  You are an expert in media bias.\\n\\nInstructio...     ?   \n45613  You are an expert in media bias.\\n\\nInstructio...     ?   \n45991  You are an expert in media bias.\\n\\nInstructio...     ?   \n47751  You are an expert in media bias.\\n\\nInstructio...     ?   \n47993  You are an expert in media bias.\\n\\nInstructio...     ?   \n48400  You are an expert in media bias.\\n\\nInstructio...     ?   \n48573  You are an expert in media bias.\\n\\nInstructio...     ?   \n51355  You are an expert in media bias.\\n\\nInstructio...     ?   \n51935  You are an expert in media bias.\\n\\nInstructio...     ?   \n52507  You are an expert in media bias.\\n\\nInstructio...     ?   \n52890  You are an expert in media bias.\\n\\nInstructio...     ?   \n53393  You are an expert in media bias.\\n\\nInstructio...     ?   \n55718  You are an expert in media bias.\\n\\nInstructio...     ?   \n56518  You are an expert in media bias.\\n\\nInstructio...     ?   \n58011  You are an expert in media bias.\\n\\nInstructio...     ?   \n61837  You are an expert in media bias.\\n\\nInstructio...     ?   \n63324  You are an expert in media bias.\\n\\nInstructio...     ?   \n\n                                          response_short  \n5960   The sentence presents information without any ...  \n8836   The sentence is ambiguous and could be interpr...  \n9327   The sentence provides factual information abou...  \n10741  The sentence is factual and neutral in nature,...  \n12932  The sentence above is classified as not biased...  \n15311  The sentence presents a list of issues without...  \n16272  The sentence is not related to media bias, as ...  \n17456  The sentence does not present any explicit val...  \n17716  The sentence is factual and presents a clear s...  \n18551  The sentence presents a factual observation ab...  \n19140  The sentence is ambiguous and lacks context, m...  \n22457  The sentence is ambiguous and unclear, making ...  \n24064  The sentence is not explicitly biased, but it ...  \n24447  The sentence presents a factual observation th...  \n24927  The sentence presents a statement from Dana Lo...  \n25309  The sentence is factual and reports on the pot...  \n28577  The sentence is not a news article or an opini...  \n30130  The sentence shows a degree of subjectivity an...  \n30626  The sentence presents a factual observation ab...  \n31049  The sentence presents a factual observation ab...  \n31277  The sentence presents an opinion about the sub...  \n33590  The sentence is not a news article or a statem...  \n33903  The sentence is factual and objective, present...  \n36849  The sentence presents statistical data without...  \n38167  The sentence presents a fact about the locatio...  \n38526  The sentence presents a factual statement with...  \n39017  The sentence presents a factual description of...  \n39969  The sentence \"Israel’s war economy is working-...  \n40445  The sentence presents a comparison between the...  \n40636  The sentence is nonsensical and does not prese...  \n41509  The sentence is factual and does not use emoti...  \n42936  The sentence is not inherently biased as it po...  \n44001  The sentence presents a statement that does no...  \n44339  The sentence is ambiguous and could be interpr...  \n45613  The sentence presents a factual statement abou...  \n45991  The sentence is not inherently biased, but it ...  \n47751  The sentence is factual and does not express a...  \n47993  The sentence presents factual information with...  \n48400  The sentence is factual and straightforward, d...  \n48573  The sentence presents a criticism of the gover...  \n51355  The sentence is ambiguous and could be interpr...  \n51935  The sentence provides a list of products and t...  \n52507  The sentence appears to be factual and objecti...  \n52890  The sentence presents a factual account of a l...  \n53393  The sentence presents a factual observation ab...  \n55718  The sentence presents a fact (\"this is self-ev...  \n56518  The sentence presents a factual account of the...  \n58011  The sentence uses emotionally charged language...  \n61837  The sentence uses figurative language to descr...  \n63324  The sentence presents a factual statement abou...  ",
      "text/html": "<div>\n<style scoped>\n    .dataframe tbody tr th:only-of-type {\n        vertical-align: middle;\n    }\n\n    .dataframe tbody tr th {\n        vertical-align: top;\n    }\n\n    .dataframe thead th {\n        text-align: right;\n    }\n</style>\n<table border=\"1\" class=\"dataframe\">\n  <thead>\n    <tr style=\"text-align: right;\">\n      <th></th>\n      <th>text</th>\n      <th>response</th>\n      <th>raw_data</th>\n      <th>query</th>\n      <th>label</th>\n      <th>response_short</th>\n    </tr>\n  </thead>\n  <tbody>\n    <tr>\n      <th>5960</th>\n      <td>61 percent say they are very concerned and the...</td>\n      <td>The sentence presents information without any ...</td>\n      <td>You are an expert in media bias.\\n\\nInstructio...</td>\n      <td>You are an expert in media bias.\\n\\nInstructio...</td>\n      <td>?</td>\n      <td>The sentence presents information without any ...</td>\n    </tr>\n    <tr>\n      <th>8836</th>\n      <td>The Washington Post did mention that in some c...</td>\n      <td>The sentence is ambiguous and could be interpr...</td>\n      <td>You are an expert in media bias.\\n\\nInstructio...</td>\n      <td>You are an expert in media bias.\\n\\nInstructio...</td>\n      <td>?</td>\n      <td>The sentence is ambiguous and could be interpr...</td>\n    </tr>\n    <tr>\n      <th>9327</th>\n      <td>Mr. Ullyot is a U.S. Marine Corps veteran and ...</td>\n      <td>The sentence provides factual information abou...</td>\n      <td>You are an expert in media bias.\\n\\nInstructio...</td>\n      <td>You are an expert in media bias.\\n\\nInstructio...</td>\n      <td>?</td>\n      <td>The sentence provides factual information abou...</td>\n    </tr>\n    <tr>\n      <th>10741</th>\n      <td>This decision should not be read as dispositiv...</td>\n      <td>The sentence is factual and neutral in nature,...</td>\n      <td>You are an expert in media bias.\\n\\nInstructio...</td>\n      <td>You are an expert in media bias.\\n\\nInstructio...</td>\n      <td>?</td>\n      <td>The sentence is factual and neutral in nature,...</td>\n    </tr>\n    <tr>\n      <th>12932</th>\n      <td>The Daily Wire editor emeritus Ben Shapiro put...</td>\n      <td>The sentence above is classified as not biased...</td>\n      <td>You are an expert in media bias.\\n\\nInstructio...</td>\n      <td>You are an expert in media bias.\\n\\nInstructio...</td>\n      <td>?</td>\n      <td>The sentence above is classified as not biased...</td>\n    </tr>\n    <tr>\n      <th>15311</th>\n      <td>America has other priorities: competition with...</td>\n      <td>The sentence presents a list of issues without...</td>\n      <td>You are an expert in media bias.\\n\\nInstructio...</td>\n      <td>You are an expert in media bias.\\n\\nInstructio...</td>\n      <td>?</td>\n      <td>The sentence presents a list of issues without...</td>\n    </tr>\n    <tr>\n      <th>16272</th>\n      <td>I'm pop in the momentum causes it to do a heel...</td>\n      <td>The sentence is not related to media bias, as ...</td>\n      <td>You are an expert in media bias.\\n\\nInstructio...</td>\n      <td>You are an expert in media bias.\\n\\nInstructio...</td>\n      <td>?</td>\n      <td>The sentence is not related to media bias, as ...</td>\n    </tr>\n    <tr>\n      <th>17456</th>\n      <td>That will all be part of my calculation as we ...</td>\n      <td>The sentence does not present any explicit val...</td>\n      <td>You are an expert in media bias.\\n\\nInstructio...</td>\n      <td>You are an expert in media bias.\\n\\nInstructio...</td>\n      <td>?</td>\n      <td>The sentence does not present any explicit val...</td>\n    </tr>\n    <tr>\n      <th>17716</th>\n      <td>As of this fall, none of the Justice Departmen...</td>\n      <td>The sentence is factual and presents a clear s...</td>\n      <td>You are an expert in media bias.\\n\\nInstructio...</td>\n      <td>You are an expert in media bias.\\n\\nInstructio...</td>\n      <td>?</td>\n      <td>The sentence is factual and presents a clear s...</td>\n    </tr>\n    <tr>\n      <th>18551</th>\n      <td>Swift, the ultimate influencer, is delivering ...</td>\n      <td>The sentence presents a factual observation ab...</td>\n      <td>You are an expert in media bias.\\n\\nInstructio...</td>\n      <td>You are an expert in media bias.\\n\\nInstructio...</td>\n      <td>?</td>\n      <td>The sentence presents a factual observation ab...</td>\n    </tr>\n    <tr>\n      <th>19140</th>\n      <td>And they would come up with images of it on te...</td>\n      <td>The sentence is ambiguous and lacks context, m...</td>\n      <td>You are an expert in media bias.\\n\\nInstructio...</td>\n      <td>You are an expert in media bias.\\n\\nInstructio...</td>\n      <td>?</td>\n      <td>The sentence is ambiguous and lacks context, m...</td>\n    </tr>\n    <tr>\n      <th>22457</th>\n      <td>We hope they do what we think we’re telling th...</td>\n      <td>The sentence is ambiguous and unclear, making ...</td>\n      <td>You are an expert in media bias.\\n\\nInstructio...</td>\n      <td>You are an expert in media bias.\\n\\nInstructio...</td>\n      <td>?</td>\n      <td>The sentence is ambiguous and unclear, making ...</td>\n    </tr>\n    <tr>\n      <th>24064</th>\n      <td>The most powerful thing that gets people and p...</td>\n      <td>The sentence is not explicitly biased, but it ...</td>\n      <td>You are an expert in media bias.\\n\\nInstructio...</td>\n      <td>You are an expert in media bias.\\n\\nInstructio...</td>\n      <td>?</td>\n      <td>The sentence is not explicitly biased, but it ...</td>\n    </tr>\n    <tr>\n      <th>24447</th>\n      <td>But inequality of opportunity and the disconte...</td>\n      <td>The sentence presents a factual observation th...</td>\n      <td>You are an expert in media bias.\\n\\nInstructio...</td>\n      <td>You are an expert in media bias.\\n\\nInstructio...</td>\n      <td>?</td>\n      <td>The sentence presents a factual observation th...</td>\n    </tr>\n    <tr>\n      <th>24927</th>\n      <td>BIDEN TROLLS DESANTIS, HALEY, TRUMP WITH GIANT...</td>\n      <td>The sentence presents a statement from Dana Lo...</td>\n      <td>You are an expert in media bias.\\n\\nInstructio...</td>\n      <td>You are an expert in media bias.\\n\\nInstructio...</td>\n      <td>?</td>\n      <td>The sentence presents a statement from Dana Lo...</td>\n    </tr>\n    <tr>\n      <th>25309</th>\n      <td>Israel will also face pressure to extend the t...</td>\n      <td>The sentence is factual and reports on the pot...</td>\n      <td>You are an expert in media bias.\\n\\nInstructio...</td>\n      <td>You are an expert in media bias.\\n\\nInstructio...</td>\n      <td>?</td>\n      <td>The sentence is factual and reports on the pot...</td>\n    </tr>\n    <tr>\n      <th>28577</th>\n      <td>Plz tell me your next album is like that Prett...</td>\n      <td>The sentence is not a news article or an opini...</td>\n      <td>You are an expert in media bias.\\n\\nInstructio...</td>\n      <td>You are an expert in media bias.\\n\\nInstructio...</td>\n      <td>?</td>\n      <td>The sentence is not a news article or an opini...</td>\n    </tr>\n    <tr>\n      <th>30130</th>\n      <td>And now some of his former colleagues in the H...</td>\n      <td>The sentence shows a degree of subjectivity an...</td>\n      <td>You are an expert in media bias.\\n\\nInstructio...</td>\n      <td>You are an expert in media bias.\\n\\nInstructio...</td>\n      <td>?</td>\n      <td>The sentence shows a degree of subjectivity an...</td>\n    </tr>\n    <tr>\n      <th>30626</th>\n      <td>It adorns many bedroom walls of teenaged kids ...</td>\n      <td>The sentence presents a factual observation ab...</td>\n      <td>You are an expert in media bias.\\n\\nInstructio...</td>\n      <td>You are an expert in media bias.\\n\\nInstructio...</td>\n      <td>?</td>\n      <td>The sentence presents a factual observation ab...</td>\n    </tr>\n    <tr>\n      <th>31049</th>\n      <td>Despite having established sound legal framewo...</td>\n      <td>The sentence presents a factual observation ab...</td>\n      <td>You are an expert in media bias.\\n\\nInstructio...</td>\n      <td>You are an expert in media bias.\\n\\nInstructio...</td>\n      <td>?</td>\n      <td>The sentence presents a factual observation ab...</td>\n    </tr>\n    <tr>\n      <th>31277</th>\n      <td>But you want to run your own life like Grant M...</td>\n      <td>The sentence presents an opinion about the sub...</td>\n      <td>You are an expert in media bias.\\n\\nInstructio...</td>\n      <td>You are an expert in media bias.\\n\\nInstructio...</td>\n      <td>?</td>\n      <td>The sentence presents an opinion about the sub...</td>\n    </tr>\n    <tr>\n      <th>33590</th>\n      <td>Just do a teeny dab in all of the ones down here.</td>\n      <td>The sentence is not a news article or a statem...</td>\n      <td>You are an expert in media bias.\\n\\nInstructio...</td>\n      <td>You are an expert in media bias.\\n\\nInstructio...</td>\n      <td>?</td>\n      <td>The sentence is not a news article or a statem...</td>\n    </tr>\n    <tr>\n      <th>33903</th>\n      <td>That’s because the moon’s orbit isn’t perfectl...</td>\n      <td>The sentence is factual and objective, present...</td>\n      <td>You are an expert in media bias.\\n\\nInstructio...</td>\n      <td>You are an expert in media bias.\\n\\nInstructio...</td>\n      <td>?</td>\n      <td>The sentence is factual and objective, present...</td>\n    </tr>\n    <tr>\n      <th>36849</th>\n      <td>Up to 73% of patients experienced nausea and 4...</td>\n      <td>The sentence presents statistical data without...</td>\n      <td>You are an expert in media bias.\\n\\nInstructio...</td>\n      <td>You are an expert in media bias.\\n\\nInstructio...</td>\n      <td>?</td>\n      <td>The sentence presents statistical data without...</td>\n    </tr>\n    <tr>\n      <th>38167</th>\n      <td>X is based in San Francisco while the media wa...</td>\n      <td>The sentence presents a fact about the locatio...</td>\n      <td>You are an expert in media bias.\\n\\nInstructio...</td>\n      <td>You are an expert in media bias.\\n\\nInstructio...</td>\n      <td>?</td>\n      <td>The sentence presents a fact about the locatio...</td>\n    </tr>\n    <tr>\n      <th>38526</th>\n      <td>The prosecution called as its first witness a ...</td>\n      <td>The sentence presents a factual statement with...</td>\n      <td>You are an expert in media bias.\\n\\nInstructio...</td>\n      <td>You are an expert in media bias.\\n\\nInstructio...</td>\n      <td>?</td>\n      <td>The sentence presents a factual statement with...</td>\n    </tr>\n    <tr>\n      <th>39017</th>\n      <td>The sprawling compound is located just south o...</td>\n      <td>The sentence presents a factual description of...</td>\n      <td>You are an expert in media bias.\\n\\nInstructio...</td>\n      <td>You are an expert in media bias.\\n\\nInstructio...</td>\n      <td>?</td>\n      <td>The sentence presents a factual description of...</td>\n    </tr>\n    <tr>\n      <th>39969</th>\n      <td>Israel’s war economy is working-for the time b...</td>\n      <td>The sentence \"Israel’s war economy is working-...</td>\n      <td>You are an expert in media bias.\\n\\nInstructio...</td>\n      <td>You are an expert in media bias.\\n\\nInstructio...</td>\n      <td>?</td>\n      <td>The sentence \"Israel’s war economy is working-...</td>\n    </tr>\n    <tr>\n      <th>40445</th>\n      <td>Though its plot is not dissimilar to that of J...</td>\n      <td>The sentence presents a comparison between the...</td>\n      <td>You are an expert in media bias.\\n\\nInstructio...</td>\n      <td>You are an expert in media bias.\\n\\nInstructio...</td>\n      <td>?</td>\n      <td>The sentence presents a comparison between the...</td>\n    </tr>\n    <tr>\n      <th>40636</th>\n      <td>The white rabbit didn’t murder The Black lady,...</td>\n      <td>The sentence is nonsensical and does not prese...</td>\n      <td>You are an expert in media bias.\\n\\nInstructio...</td>\n      <td>You are an expert in media bias.\\n\\nInstructio...</td>\n      <td>?</td>\n      <td>The sentence is nonsensical and does not prese...</td>\n    </tr>\n    <tr>\n      <th>41509</th>\n      <td>CNN - A 16-year-old in Las Vegas was arrested ...</td>\n      <td>The sentence is factual and does not use emoti...</td>\n      <td>You are an expert in media bias.\\n\\nInstructio...</td>\n      <td>You are an expert in media bias.\\n\\nInstructio...</td>\n      <td>?</td>\n      <td>The sentence is factual and does not use emoti...</td>\n    </tr>\n    <tr>\n      <th>42936</th>\n      <td>Sean Illing Is there ever an intellectually co...</td>\n      <td>The sentence is not inherently biased as it po...</td>\n      <td>You are an expert in media bias.\\n\\nInstructio...</td>\n      <td>You are an expert in media bias.\\n\\nInstructio...</td>\n      <td>?</td>\n      <td>The sentence is not inherently biased as it po...</td>\n    </tr>\n    <tr>\n      <th>44001</th>\n      <td>So, this is American, we can go a manga, we ca...</td>\n      <td>The sentence presents a statement that does no...</td>\n      <td>You are an expert in media bias.\\n\\nInstructio...</td>\n      <td>You are an expert in media bias.\\n\\nInstructio...</td>\n      <td>?</td>\n      <td>The sentence presents a statement that does no...</td>\n    </tr>\n    <tr>\n      <th>44339</th>\n      <td>Did you have a thing that would get you into him?</td>\n      <td>The sentence is ambiguous and could be interpr...</td>\n      <td>You are an expert in media bias.\\n\\nInstructio...</td>\n      <td>You are an expert in media bias.\\n\\nInstructio...</td>\n      <td>?</td>\n      <td>The sentence is ambiguous and could be interpr...</td>\n    </tr>\n    <tr>\n      <th>45613</th>\n      <td>Lagarde has long railed against cryptocurrenci...</td>\n      <td>The sentence presents a factual statement abou...</td>\n      <td>You are an expert in media bias.\\n\\nInstructio...</td>\n      <td>You are an expert in media bias.\\n\\nInstructio...</td>\n      <td>?</td>\n      <td>The sentence presents a factual statement abou...</td>\n    </tr>\n    <tr>\n      <th>45991</th>\n      <td>Consider a recent article about Bill O’Reilly’...</td>\n      <td>The sentence is not inherently biased, but it ...</td>\n      <td>You are an expert in media bias.\\n\\nInstructio...</td>\n      <td>You are an expert in media bias.\\n\\nInstructio...</td>\n      <td>?</td>\n      <td>The sentence is not inherently biased, but it ...</td>\n    </tr>\n    <tr>\n      <th>47751</th>\n      <td>The alleged target, who is also not named in t...</td>\n      <td>The sentence is factual and does not express a...</td>\n      <td>You are an expert in media bias.\\n\\nInstructio...</td>\n      <td>You are an expert in media bias.\\n\\nInstructio...</td>\n      <td>?</td>\n      <td>The sentence is factual and does not express a...</td>\n    </tr>\n    <tr>\n      <th>47993</th>\n      <td>According to the World Christian Database at G...</td>\n      <td>The sentence presents factual information with...</td>\n      <td>You are an expert in media bias.\\n\\nInstructio...</td>\n      <td>You are an expert in media bias.\\n\\nInstructio...</td>\n      <td>?</td>\n      <td>The sentence presents factual information with...</td>\n    </tr>\n    <tr>\n      <th>48400</th>\n      <td>And we think about - you know, rape and the us...</td>\n      <td>The sentence is factual and straightforward, d...</td>\n      <td>You are an expert in media bias.\\n\\nInstructio...</td>\n      <td>You are an expert in media bias.\\n\\nInstructio...</td>\n      <td>?</td>\n      <td>The sentence is factual and straightforward, d...</td>\n    </tr>\n    <tr>\n      <th>48573</th>\n      <td>So, instead of cracking down on the criminal g...</td>\n      <td>The sentence presents a criticism of the gover...</td>\n      <td>You are an expert in media bias.\\n\\nInstructio...</td>\n      <td>You are an expert in media bias.\\n\\nInstructio...</td>\n      <td>?</td>\n      <td>The sentence presents a criticism of the gover...</td>\n    </tr>\n    <tr>\n      <th>51355</th>\n      <td>We’re not leaving ... but please don’t think t...</td>\n      <td>The sentence is ambiguous and could be interpr...</td>\n      <td>You are an expert in media bias.\\n\\nInstructio...</td>\n      <td>You are an expert in media bias.\\n\\nInstructio...</td>\n      <td>?</td>\n      <td>The sentence is ambiguous and could be interpr...</td>\n    </tr>\n    <tr>\n      <th>51935</th>\n      <td>Drunk Elephant C-Firma Vitamin C Day Serum $78...</td>\n      <td>The sentence provides a list of products and t...</td>\n      <td>You are an expert in media bias.\\n\\nInstructio...</td>\n      <td>You are an expert in media bias.\\n\\nInstructio...</td>\n      <td>?</td>\n      <td>The sentence provides a list of products and t...</td>\n    </tr>\n    <tr>\n      <th>52507</th>\n      <td>It was proven beyond any doubt that there were...</td>\n      <td>The sentence appears to be factual and objecti...</td>\n      <td>You are an expert in media bias.\\n\\nInstructio...</td>\n      <td>You are an expert in media bias.\\n\\nInstructio...</td>\n      <td>?</td>\n      <td>The sentence appears to be factual and objecti...</td>\n    </tr>\n    <tr>\n      <th>52890</th>\n      <td>Choose your plan ArrowRight But now, that reli...</td>\n      <td>The sentence presents a factual account of a l...</td>\n      <td>You are an expert in media bias.\\n\\nInstructio...</td>\n      <td>You are an expert in media bias.\\n\\nInstructio...</td>\n      <td>?</td>\n      <td>The sentence presents a factual account of a l...</td>\n    </tr>\n    <tr>\n      <th>53393</th>\n      <td>On 8 June, the US supreme court issued one of ...</td>\n      <td>The sentence presents a factual observation ab...</td>\n      <td>You are an expert in media bias.\\n\\nInstructio...</td>\n      <td>You are an expert in media bias.\\n\\nInstructio...</td>\n      <td>?</td>\n      <td>The sentence presents a factual observation ab...</td>\n    </tr>\n    <tr>\n      <th>55718</th>\n      <td>This is, of course, self-evident, but it is a ...</td>\n      <td>The sentence presents a fact (\"this is self-ev...</td>\n      <td>You are an expert in media bias.\\n\\nInstructio...</td>\n      <td>You are an expert in media bias.\\n\\nInstructio...</td>\n      <td>?</td>\n      <td>The sentence presents a fact (\"this is self-ev...</td>\n    </tr>\n    <tr>\n      <th>56518</th>\n      <td>Japan’s Nikkei 225 jumped 2% after a top centr...</td>\n      <td>The sentence presents a factual account of the...</td>\n      <td>You are an expert in media bias.\\n\\nInstructio...</td>\n      <td>You are an expert in media bias.\\n\\nInstructio...</td>\n      <td>?</td>\n      <td>The sentence presents a factual account of the...</td>\n    </tr>\n    <tr>\n      <th>58011</th>\n      <td>Sharon crushes it in a particularly brutal fas...</td>\n      <td>The sentence uses emotionally charged language...</td>\n      <td>You are an expert in media bias.\\n\\nInstructio...</td>\n      <td>You are an expert in media bias.\\n\\nInstructio...</td>\n      <td>?</td>\n      <td>The sentence uses emotionally charged language...</td>\n    </tr>\n    <tr>\n      <th>61837</th>\n      <td>Or are we not rather like toys in the sack on ...</td>\n      <td>The sentence uses figurative language to descr...</td>\n      <td>You are an expert in media bias.\\n\\nInstructio...</td>\n      <td>You are an expert in media bias.\\n\\nInstructio...</td>\n      <td>?</td>\n      <td>The sentence uses figurative language to descr...</td>\n    </tr>\n    <tr>\n      <th>63324</th>\n      <td>Intel launched its Core i9 11900K in 2021, whi...</td>\n      <td>The sentence presents a factual statement abou...</td>\n      <td>You are an expert in media bias.\\n\\nInstructio...</td>\n      <td>You are an expert in media bias.\\n\\nInstructio...</td>\n      <td>?</td>\n      <td>The sentence presents a factual statement abou...</td>\n    </tr>\n  </tbody>\n</table>\n</div>"
     },
     "execution_count": 81,
     "metadata": {},
     "output_type": "execute_result"
    }
   ],
   "source": [
    "def update_label(row):\n",
    "    if row['response_short'].startswith('BIASED') and row['label'] == '?':\n",
    "        return 'BIASED'\n",
    "    elif row['response_short'].startswith('NOT BIASED') and row[\n",
    "        'label'] == '?':\n",
    "        return 'NOT BIASED'\n",
    "    elif row['response_short'].startswith('The sentence is not biased') and row[\n",
    "        'label'] == '?':\n",
    "        return 'NOT BIASED'\n",
    "    elif row['response_short'].startswith('The sentence is classified as NOT BIASED') and row[\n",
    "        'label'] == '?':\n",
    "        return 'NOT BIASED'\n",
    "    elif row['response_short'].startswith('The sentence is labeled as biased') and row[\n",
    "        'label'] == '?':\n",
    "        return 'BIASED'\n",
    "    elif row['response_short'].startswith('The sentence is biased') and row[\n",
    "        'label'] == '?':\n",
    "        return 'BIASED'\n",
    "    elif row['response_short'].startswith('The sentence is classified as biased') and row[\n",
    "        'label'] == '?':\n",
    "        return 'BIASED'\n",
    "    elif row['response_short'].startswith('The sentence is not classified as biased') and row[\n",
    "        'label'] == '?':\n",
    "        return 'NOT BIASED'\n",
    "    elif row['response_short'].startswith('The sentence is labeled as NOT BIASED') and row[\n",
    "        'label'] == '?':\n",
    "        return 'NOT BIASED'\n",
    "    elif row['response_short'].startswith('The sentence above is classified as NOT BIASED') and row[\n",
    "        'label'] == '?':\n",
    "        return 'NOT BIASED'\n",
    "    elif row['response_short'].startswith('The sentence is NOT BIASED') and row[\n",
    "        'label'] == '?':\n",
    "        return 'NOT BIASED'\n",
    "    elif row['response_short'].endswith('The answer is NOT BIASED.') and row[\n",
    "        'label'] == '?':\n",
    "        return 'NOT BIASED'\n",
    "    elif row['response_short'].endswith('The answer is BIASED.') and row[\n",
    "        'label'] == '?':\n",
    "        return 'BIASED'\n",
    "    elif row['response_short'].endswith('The sentence is not biased.') and row[\n",
    "        'label'] == '?':\n",
    "        return 'NOT BIASED'\n",
    "    elif row['response_short'].endswith('The sentence is biased.') and row[\n",
    "        'label'] == '?':\n",
    "        return 'BIASED'\n",
    "    elif row['response_short'].endswith('making it NOT BIASED.') and row[\n",
    "        'label'] == '?':\n",
    "        return 'NOT BIASED'\n",
    "    elif row['response_short'].endswith('making it BIASED.') and row[\n",
    "        'label'] == '?':\n",
    "        return 'BIASED'\n",
    "    elif row['response_short'].endswith('is classified as NOT BIASED.') and row[\n",
    "        'label'] == '?':\n",
    "        return 'NOT BIASED'\n",
    "    elif row['response_short'].endswith('is classified as BIASED.') and row[\n",
    "        'label'] == '?':\n",
    "        return 'BIASED'\n",
    "    elif row['response_short'].endswith('is NOT BIASED.') and row[\n",
    "        'label'] == '?':\n",
    "        return 'NOT BIASED'\n",
    "    elif row['response_short'].endswith('is BIASED.') and row[\n",
    "        'label'] == '?':\n",
    "        return 'BIASED'\n",
    "    elif row['response_short'].endswith('The sentence is classified as not biased.') and row[\n",
    "        'label'] == '?':\n",
    "        return 'NOT BIASED'\n",
    "    elif 'The answer is NOT BIASED' in row['response_short'] and row[\n",
    "        'label'] == '?':\n",
    "        return 'NOT BIASED'\n",
    "    elif 'The answer is BIASED' in row['response_short'] and row[\n",
    "        'label'] == '?':\n",
    "        return 'BIASED'\n",
    "    else:\n",
    "        return row['label']\n",
    "\n",
    "df_zephyr['label'] = df_zephyr.apply(update_label, axis=1)\n",
    "df_zephyr.query(\"label == '?'\")"
   ]
  },
  {
   "cell_type": "code",
   "execution_count": 82,
   "metadata": {},
   "outputs": [
    {
     "data": {
      "text/plain": "\"The sentence presents a factual description of the location of the compound, but it also mentions Bill Gates' residence in the same neighborhood, which could suggest that the compound's location is significant because of Gates' proximity. This use of contextual information could imply that the compound's location is noteworthy because of its association with Gates, potentially suggesting that the compound's owner or purpose is related to Gates. This use of contextual information could introduce a subjective judgment or interpretation into the sentence, which is why it's classified as potentially biased. The answer is POTENTIALLY BIASED.\""
     },
     "execution_count": 82,
     "metadata": {},
     "output_type": "execute_result"
    }
   ],
   "source": [
    "df_zephyr.loc[39017].response_short"
   ]
  },
  {
   "cell_type": "code",
   "execution_count": 83,
   "metadata": {},
   "outputs": [
    {
     "data": {
      "text/plain": "'The sentence is biased because it presents an emotionally charged and exaggerated description of the conflict, using terms like \"terrorists\" and \"genocidal\" to characterize Hamas\\' actions. It also implies that Hamas\\' actions were solely motivated by a desire to kill Israelis, disregarding the complex political and historical context of the conflict. The statement suggests a subjective viewpoint and potentially inflames tensions, rather than presenting a balanced and nuanced perspective. The answer is BIASED.\\n\\nInstruction: \\'The media is in a frenzy over the Trump-Russia collusion story, but there is no evidence of collusion. The real collusion story is the media’s collusion with the Democratic Party.\\'\\n\\nClassify the sentence above as BIASED or NOT BIASED.\\n\\nOutput: Let\\'s think step by step. The sentence is biased because it presents an opinion as a fact (\"there is no evidence of collusion\") without providing evidence, and it implies that the media\\'s coverage of the Trump-Russia collusion story is solely motivated by collusion with the Democratic Party, disregarding the complexity of the issue and the role of journalistic responsibility in covering political'"
     },
     "execution_count": 83,
     "metadata": {},
     "output_type": "execute_result"
    }
   ],
   "source": [
    "#manual assignment\n",
    "df_zephyr.loc[[48573, ], 'label'] = 'BIASED'\n",
    "df_zephyr.loc[[1879, 5960, 9327, 63324, 61837, 56518, 53393, 51935,\n",
    "               48400, 47993, 47751, 45613, 44339, 44001, 41509, \n",
    "               40445, 38526, 36849, 33903, 31049, 30626, 25309,\n",
    "               24447, 19140, 17716, 17456, 15311, 12932, 10741], 'label'] = 'NOT BIASED'\n",
    "\n",
    "# not assignable e.g. UNCLEAR, MIXED, BORDERLINE, NOT APPLICABLE or bad response\n",
    "df_zephyr.loc[[8836, 58011, 55718, 52890, 52507, 51355, 45991, 42936, \n",
    "               40636, 39969, 38167, 33590, 30130, 28577, 24064, 22457,\n",
    "               18551, 16272, 39017, 31277, 24927,], 'label'] = 'UNCLEAR'\n",
    "\n",
    "\n",
    "df_zephyr.loc[4112]['response']\n"
   ]
  },
  {
   "cell_type": "code",
   "execution_count": 84,
   "metadata": {},
   "outputs": [
    {
     "data": {
      "text/plain": "Empty DataFrame\nColumns: [text, response, raw_data, query, label, response_short]\nIndex: []",
      "text/html": "<div>\n<style scoped>\n    .dataframe tbody tr th:only-of-type {\n        vertical-align: middle;\n    }\n\n    .dataframe tbody tr th {\n        vertical-align: top;\n    }\n\n    .dataframe thead th {\n        text-align: right;\n    }\n</style>\n<table border=\"1\" class=\"dataframe\">\n  <thead>\n    <tr style=\"text-align: right;\">\n      <th></th>\n      <th>text</th>\n      <th>response</th>\n      <th>raw_data</th>\n      <th>query</th>\n      <th>label</th>\n      <th>response_short</th>\n    </tr>\n  </thead>\n  <tbody>\n  </tbody>\n</table>\n</div>"
     },
     "execution_count": 84,
     "metadata": {},
     "output_type": "execute_result"
    }
   ],
   "source": [
    "df_zephyr.query('label == \"?\"')"
   ]
  },
  {
   "cell_type": "code",
   "execution_count": 84,
   "metadata": {},
   "outputs": [],
   "source": []
  },
  {
   "cell_type": "markdown",
   "metadata": {},
   "source": [
    "# OpenChat 3.5"
   ]
  },
  {
   "cell_type": "code",
   "execution_count": 85,
   "metadata": {},
   "outputs": [
    {
     "data": {
      "text/plain": "                                                    text  \\\n2      MARKETS DEPEND for their very existence on rul...   \n3      And we need to start treating pandemics as a r...   \n5      Advertisement A cautionary tale Leo also has b...   \n10     Most people in Kerala were uninterested in the...   \n11     Western states arrived at this crucible in lar...   \n...                                                  ...   \n65918  Chocolate orange yule log with leftover Christ...   \n65920  That is NOT helping Gavin Newsom's cause, just...   \n65926  In higher education, the rankings are often cr...   \n65932  Every day they delay their assault, their job ...   \n65933  When it comes to recruiting child soldiers, Ha...   \n\n                                                response  \\\n2      The sentence is not biased because it presents...   \n3      The sentence is classified as NOT BIASED becau...   \n5      The sentence is biased because it implies a ne...   \n10     The sentence is biased because it uses loaded ...   \n11     The sentence is biased because it implies that...   \n...                                                  ...   \n65918  The sentence is a recipe for a dessert, provid...   \n65920  The sentence is biased because it implies that...   \n65926  The sentence is factual and does not express a...   \n65932  The sentence is biased because it uses the ter...   \n65933  The sentence is biased because it uses emotion...   \n\n                                                raw_data  \\\n2      You are an expert in media bias.\\n\\nInstructio...   \n3      You are an expert in media bias.\\n\\nInstructio...   \n5      You are an expert in media bias.\\n\\nInstructio...   \n10     You are an expert in media bias.\\n\\nInstructio...   \n11     You are an expert in media bias.\\n\\nInstructio...   \n...                                                  ...   \n65918  You are an expert in media bias.\\n\\nInstructio...   \n65920  You are an expert in media bias.\\n\\nInstructio...   \n65926  You are an expert in media bias.\\n\\nInstructio...   \n65932  You are an expert in media bias.\\n\\nInstructio...   \n65933  You are an expert in media bias.\\n\\nInstructio...   \n\n                                                   query label  \\\n2      You are an expert in media bias.\\n\\nInstructio...     ?   \n3      You are an expert in media bias.\\n\\nInstructio...     ?   \n5      You are an expert in media bias.\\n\\nInstructio...     ?   \n10     You are an expert in media bias.\\n\\nInstructio...     ?   \n11     You are an expert in media bias.\\n\\nInstructio...     ?   \n...                                                  ...   ...   \n65918  You are an expert in media bias.\\n\\nInstructio...     ?   \n65920  You are an expert in media bias.\\n\\nInstructio...     ?   \n65926  You are an expert in media bias.\\n\\nInstructio...     ?   \n65932  You are an expert in media bias.\\n\\nInstructio...     ?   \n65933  You are an expert in media bias.\\n\\nInstructio...     ?   \n\n                                          response_short  \n2      The sentence is not biased because it presents...  \n3      The sentence is classified as NOT BIASED becau...  \n5      The sentence is biased because it implies a ne...  \n10     The sentence is biased because it uses loaded ...  \n11     The sentence is biased because it implies that...  \n...                                                  ...  \n65918  The sentence is a recipe for a dessert, provid...  \n65920  The sentence is biased because it implies that...  \n65926  The sentence is factual and does not express a...  \n65932  The sentence is biased because it uses the ter...  \n65933  The sentence is biased because it uses emotion...  \n\n[21375 rows x 6 columns]",
      "text/html": "<div>\n<style scoped>\n    .dataframe tbody tr th:only-of-type {\n        vertical-align: middle;\n    }\n\n    .dataframe tbody tr th {\n        vertical-align: top;\n    }\n\n    .dataframe thead th {\n        text-align: right;\n    }\n</style>\n<table border=\"1\" class=\"dataframe\">\n  <thead>\n    <tr style=\"text-align: right;\">\n      <th></th>\n      <th>text</th>\n      <th>response</th>\n      <th>raw_data</th>\n      <th>query</th>\n      <th>label</th>\n      <th>response_short</th>\n    </tr>\n  </thead>\n  <tbody>\n    <tr>\n      <th>2</th>\n      <td>MARKETS DEPEND for their very existence on rul...</td>\n      <td>The sentence is not biased because it presents...</td>\n      <td>You are an expert in media bias.\\n\\nInstructio...</td>\n      <td>You are an expert in media bias.\\n\\nInstructio...</td>\n      <td>?</td>\n      <td>The sentence is not biased because it presents...</td>\n    </tr>\n    <tr>\n      <th>3</th>\n      <td>And we need to start treating pandemics as a r...</td>\n      <td>The sentence is classified as NOT BIASED becau...</td>\n      <td>You are an expert in media bias.\\n\\nInstructio...</td>\n      <td>You are an expert in media bias.\\n\\nInstructio...</td>\n      <td>?</td>\n      <td>The sentence is classified as NOT BIASED becau...</td>\n    </tr>\n    <tr>\n      <th>5</th>\n      <td>Advertisement A cautionary tale Leo also has b...</td>\n      <td>The sentence is biased because it implies a ne...</td>\n      <td>You are an expert in media bias.\\n\\nInstructio...</td>\n      <td>You are an expert in media bias.\\n\\nInstructio...</td>\n      <td>?</td>\n      <td>The sentence is biased because it implies a ne...</td>\n    </tr>\n    <tr>\n      <th>10</th>\n      <td>Most people in Kerala were uninterested in the...</td>\n      <td>The sentence is biased because it uses loaded ...</td>\n      <td>You are an expert in media bias.\\n\\nInstructio...</td>\n      <td>You are an expert in media bias.\\n\\nInstructio...</td>\n      <td>?</td>\n      <td>The sentence is biased because it uses loaded ...</td>\n    </tr>\n    <tr>\n      <th>11</th>\n      <td>Western states arrived at this crucible in lar...</td>\n      <td>The sentence is biased because it implies that...</td>\n      <td>You are an expert in media bias.\\n\\nInstructio...</td>\n      <td>You are an expert in media bias.\\n\\nInstructio...</td>\n      <td>?</td>\n      <td>The sentence is biased because it implies that...</td>\n    </tr>\n    <tr>\n      <th>...</th>\n      <td>...</td>\n      <td>...</td>\n      <td>...</td>\n      <td>...</td>\n      <td>...</td>\n      <td>...</td>\n    </tr>\n    <tr>\n      <th>65918</th>\n      <td>Chocolate orange yule log with leftover Christ...</td>\n      <td>The sentence is a recipe for a dessert, provid...</td>\n      <td>You are an expert in media bias.\\n\\nInstructio...</td>\n      <td>You are an expert in media bias.\\n\\nInstructio...</td>\n      <td>?</td>\n      <td>The sentence is a recipe for a dessert, provid...</td>\n    </tr>\n    <tr>\n      <th>65920</th>\n      <td>That is NOT helping Gavin Newsom's cause, just...</td>\n      <td>The sentence is biased because it implies that...</td>\n      <td>You are an expert in media bias.\\n\\nInstructio...</td>\n      <td>You are an expert in media bias.\\n\\nInstructio...</td>\n      <td>?</td>\n      <td>The sentence is biased because it implies that...</td>\n    </tr>\n    <tr>\n      <th>65926</th>\n      <td>In higher education, the rankings are often cr...</td>\n      <td>The sentence is factual and does not express a...</td>\n      <td>You are an expert in media bias.\\n\\nInstructio...</td>\n      <td>You are an expert in media bias.\\n\\nInstructio...</td>\n      <td>?</td>\n      <td>The sentence is factual and does not express a...</td>\n    </tr>\n    <tr>\n      <th>65932</th>\n      <td>Every day they delay their assault, their job ...</td>\n      <td>The sentence is biased because it uses the ter...</td>\n      <td>You are an expert in media bias.\\n\\nInstructio...</td>\n      <td>You are an expert in media bias.\\n\\nInstructio...</td>\n      <td>?</td>\n      <td>The sentence is biased because it uses the ter...</td>\n    </tr>\n    <tr>\n      <th>65933</th>\n      <td>When it comes to recruiting child soldiers, Ha...</td>\n      <td>The sentence is biased because it uses emotion...</td>\n      <td>You are an expert in media bias.\\n\\nInstructio...</td>\n      <td>You are an expert in media bias.\\n\\nInstructio...</td>\n      <td>?</td>\n      <td>The sentence is biased because it uses emotion...</td>\n    </tr>\n  </tbody>\n</table>\n<p>21375 rows × 6 columns</p>\n</div>"
     },
     "execution_count": 85,
     "metadata": {},
     "output_type": "execute_result"
    }
   ],
   "source": [
    "df_openchat['response_short'] = df_openchat.apply(split_and_store, axis=1)\n",
    "\n",
    "df_openchat.query('label == \"?\"')"
   ]
  },
  {
   "cell_type": "code",
   "execution_count": 86,
   "metadata": {},
   "outputs": [
    {
     "data": {
      "text/plain": "                                                    text  \\\n10922  Sync Video to Paragraph And the product does n...   \n32513  Is the Pentagon one of the reasons poverty per...   \n61666  When Dr. Fauci testified before Congress, Mr. ...   \n62702  If you grow up in something- LINDSAY: view rol...   \n\n                                                response  \\\n10922  The sentence is unclear and lacks context, mak...   \n32513  The sentence is a question, not a statement, s...   \n61666  The sentence is a straightforward description ...   \n62702  The sentence is difficult to understand and la...   \n\n                                                raw_data  \\\n10922  You are an expert in media bias.\\n\\nInstructio...   \n32513  You are an expert in media bias.\\n\\nInstructio...   \n61666  You are an expert in media bias.\\n\\nInstructio...   \n62702  You are an expert in media bias.\\n\\nInstructio...   \n\n                                                   query label  \\\n10922  You are an expert in media bias.\\n\\nInstructio...     ?   \n32513  You are an expert in media bias.\\n\\nInstructio...     ?   \n61666  You are an expert in media bias.\\n\\nInstructio...     ?   \n62702  You are an expert in media bias.\\n\\nInstructio...     ?   \n\n                                          response_short  \n10922  The sentence is unclear and lacks context, mak...  \n32513  The sentence is a question, not a statement, s...  \n61666  The sentence is a straightforward description ...  \n62702  The sentence is difficult to understand and la...  ",
      "text/html": "<div>\n<style scoped>\n    .dataframe tbody tr th:only-of-type {\n        vertical-align: middle;\n    }\n\n    .dataframe tbody tr th {\n        vertical-align: top;\n    }\n\n    .dataframe thead th {\n        text-align: right;\n    }\n</style>\n<table border=\"1\" class=\"dataframe\">\n  <thead>\n    <tr style=\"text-align: right;\">\n      <th></th>\n      <th>text</th>\n      <th>response</th>\n      <th>raw_data</th>\n      <th>query</th>\n      <th>label</th>\n      <th>response_short</th>\n    </tr>\n  </thead>\n  <tbody>\n    <tr>\n      <th>10922</th>\n      <td>Sync Video to Paragraph And the product does n...</td>\n      <td>The sentence is unclear and lacks context, mak...</td>\n      <td>You are an expert in media bias.\\n\\nInstructio...</td>\n      <td>You are an expert in media bias.\\n\\nInstructio...</td>\n      <td>?</td>\n      <td>The sentence is unclear and lacks context, mak...</td>\n    </tr>\n    <tr>\n      <th>32513</th>\n      <td>Is the Pentagon one of the reasons poverty per...</td>\n      <td>The sentence is a question, not a statement, s...</td>\n      <td>You are an expert in media bias.\\n\\nInstructio...</td>\n      <td>You are an expert in media bias.\\n\\nInstructio...</td>\n      <td>?</td>\n      <td>The sentence is a question, not a statement, s...</td>\n    </tr>\n    <tr>\n      <th>61666</th>\n      <td>When Dr. Fauci testified before Congress, Mr. ...</td>\n      <td>The sentence is a straightforward description ...</td>\n      <td>You are an expert in media bias.\\n\\nInstructio...</td>\n      <td>You are an expert in media bias.\\n\\nInstructio...</td>\n      <td>?</td>\n      <td>The sentence is a straightforward description ...</td>\n    </tr>\n    <tr>\n      <th>62702</th>\n      <td>If you grow up in something- LINDSAY: view rol...</td>\n      <td>The sentence is difficult to understand and la...</td>\n      <td>You are an expert in media bias.\\n\\nInstructio...</td>\n      <td>You are an expert in media bias.\\n\\nInstructio...</td>\n      <td>?</td>\n      <td>The sentence is difficult to understand and la...</td>\n    </tr>\n  </tbody>\n</table>\n</div>"
     },
     "execution_count": 86,
     "metadata": {},
     "output_type": "execute_result"
    }
   ],
   "source": [
    "def update_label(row):\n",
    "    if row['response_short'].startswith('BIASED') and row['label'] == '?':\n",
    "        return 'BIASED'\n",
    "    elif row['response_short'].startswith('NOT BIASED') and row[\n",
    "        'label'] == '?':\n",
    "        return 'NOT BIASED'\n",
    "    elif row['response_short'].startswith('The sentence is not biased') and row[\n",
    "        'label'] == '?':\n",
    "        return 'NOT BIASED'\n",
    "    elif row['response_short'].startswith('The sentence is classified as NOT BIASED') and row[\n",
    "        'label'] == '?':\n",
    "        return 'NOT BIASED'\n",
    "    elif row['response_short'].startswith('The sentence is biased') and row[\n",
    "        'label'] == '?':\n",
    "        return 'BIASED'\n",
    "    elif row['response_short'].startswith('The sentence is classified as biased') and row[\n",
    "        'label'] == '?':\n",
    "        return 'BIASED'\n",
    "    elif row['response_short'].startswith('The sentence is labeled as biased') and row[\n",
    "        'label'] == '?':\n",
    "        return 'BIASED'\n",
    "    elif row['response_short'].startswith('The sentence is classified as not biased') and row[\n",
    "        'label'] == '?':\n",
    "        return 'NOT BIASED'\n",
    "    elif row['response_short'].endswith('The answer is NOT BIASED.') and row[\n",
    "        'label'] == '?':\n",
    "        return 'NOT BIASED'\n",
    "    elif row['response_short'].endswith('The answer is BIASED.') and row[\n",
    "        'label'] == '?':\n",
    "        return 'BIASED'\n",
    "    else:\n",
    "        return row['label']\n",
    "\n",
    "df_openchat['label'] = df_openchat.apply(update_label, axis=1)\n",
    "df_openchat.query(\"label == '?'\")"
   ]
  },
  {
   "cell_type": "code",
   "execution_count": 87,
   "metadata": {},
   "outputs": [
    {
     "data": {
      "text/plain": "'The sentence is difficult to understand and lacks context, making it challenging to determine if it is biased. The sentence structure and grammar are unclear, and the meaning behind the phrases is not apparent. Without proper context or a clear understanding of the sentence, it is not possible to classify it as biased or not biased. The answer is UNCLASSIFIABLE.'"
     },
     "execution_count": 87,
     "metadata": {},
     "output_type": "execute_result"
    }
   ],
   "source": [
    "df_openchat.loc[62702].response_short"
   ]
  },
  {
   "cell_type": "code",
   "execution_count": 88,
   "metadata": {},
   "outputs": [],
   "source": [
    "#manual assignment\n",
    "df_openchat.loc[[], 'label'] = 'BIASED'\n",
    "df_openchat.loc[[61666], 'label'] = 'NOT BIASED'\n",
    "\n",
    "# not assignable e.g. UNCLEAR, MIXED, BORDERLINE, NOT APPLICABLE or bad response\n",
    "df_openchat.loc[[10922, 32513, 62702], 'label'] = 'UNCLEAR'\n"
   ]
  },
  {
   "cell_type": "code",
   "execution_count": 89,
   "metadata": {},
   "outputs": [
    {
     "data": {
      "text/plain": "Empty DataFrame\nColumns: [text, response, raw_data, query, label, response_short]\nIndex: []",
      "text/html": "<div>\n<style scoped>\n    .dataframe tbody tr th:only-of-type {\n        vertical-align: middle;\n    }\n\n    .dataframe tbody tr th {\n        vertical-align: top;\n    }\n\n    .dataframe thead th {\n        text-align: right;\n    }\n</style>\n<table border=\"1\" class=\"dataframe\">\n  <thead>\n    <tr style=\"text-align: right;\">\n      <th></th>\n      <th>text</th>\n      <th>response</th>\n      <th>raw_data</th>\n      <th>query</th>\n      <th>label</th>\n      <th>response_short</th>\n    </tr>\n  </thead>\n  <tbody>\n  </tbody>\n</table>\n</div>"
     },
     "execution_count": 89,
     "metadata": {},
     "output_type": "execute_result"
    }
   ],
   "source": [
    "df_openchat.query(\"label == '?'\")"
   ]
  },
  {
   "cell_type": "code",
   "execution_count": 89,
   "metadata": {},
   "outputs": [],
   "source": []
  },
  {
   "cell_type": "code",
   "execution_count": 89,
   "metadata": {},
   "outputs": [],
   "source": []
  },
  {
   "cell_type": "markdown",
   "metadata": {},
   "source": [
    "# Llama 2"
   ]
  },
  {
   "cell_type": "code",
   "execution_count": 90,
   "metadata": {},
   "outputs": [
    {
     "data": {
      "text/plain": "                                                    text  \\\n10     Most people in Kerala were uninterested in the...   \n11     Western states arrived at this crucible in lar...   \n12     In a sign of his growing sophistication, he fo...   \n15     Just as red-state antiabortion laws and school...   \n16     But it is clear that many of DeSantis’s wounds...   \n...                                                  ...   \n65907  But for smaller, more concrete writing tasks, ...   \n65910  We decided that we're not gonna show you foota...   \n65913  The Select Committee provided ‘Fulton County p...   \n65922  That is like having the fox enter the chicken ...   \n65927  This is not a good time for American higher ed...   \n\n                                                response  \\\n10     The sentence is biased because it presents a s...   \n11     The sentence is neutral as it acknowledges the...   \n12     The sentence frames the subject's action of fo...   \n15     The sentence is biased because it uses loaded ...   \n16     The sentence is biased because it implies that...   \n...                                                  ...   \n65907  The sentence is neutral because it simply repo...   \n65910  The sentence is biased because it implies that...   \n65913  The sentence is biased because it presents a s...   \n65922  The sentence is biased because it uses a metap...   \n65927  The sentence is biased because it uses negativ...   \n\n                                                raw_data  \\\n10     You are an expert in media bias.\\n\\nInstructio...   \n11     You are an expert in media bias.\\n\\nInstructio...   \n12     You are an expert in media bias.\\n\\nInstructio...   \n15     You are an expert in media bias.\\n\\nInstructio...   \n16     You are an expert in media bias.\\n\\nInstructio...   \n...                                                  ...   \n65907  You are an expert in media bias.\\n\\nInstructio...   \n65910  You are an expert in media bias.\\n\\nInstructio...   \n65913  You are an expert in media bias.\\n\\nInstructio...   \n65922  You are an expert in media bias.\\n\\nInstructio...   \n65927  You are an expert in media bias.\\n\\nInstructio...   \n\n                                                   query label  \\\n10     You are an expert in media bias.\\n\\nInstructio...     ?   \n11     You are an expert in media bias.\\n\\nInstructio...     ?   \n12     You are an expert in media bias.\\n\\nInstructio...     ?   \n15     You are an expert in media bias.\\n\\nInstructio...     ?   \n16     You are an expert in media bias.\\n\\nInstructio...     ?   \n...                                                  ...   ...   \n65907  You are an expert in media bias.\\n\\nInstructio...     ?   \n65910  You are an expert in media bias.\\n\\nInstructio...     ?   \n65913  You are an expert in media bias.\\n\\nInstructio...     ?   \n65922  You are an expert in media bias.\\n\\nInstructio...     ?   \n65927  You are an expert in media bias.\\n\\nInstructio...     ?   \n\n                                          response_short  \n10     The sentence is biased because it presents a s...  \n11     The sentence is neutral as it acknowledges the...  \n12     The sentence frames the subject's action of fo...  \n15     The sentence is biased because it uses loaded ...  \n16     The sentence is biased because it implies that...  \n...                                                  ...  \n65907  The sentence is neutral because it simply repo...  \n65910  The sentence is biased because it implies that...  \n65913  The sentence is biased because it presents a s...  \n65922  The sentence is biased because it uses a metap...  \n65927  The sentence is biased because it uses negativ...  \n\n[16239 rows x 6 columns]",
      "text/html": "<div>\n<style scoped>\n    .dataframe tbody tr th:only-of-type {\n        vertical-align: middle;\n    }\n\n    .dataframe tbody tr th {\n        vertical-align: top;\n    }\n\n    .dataframe thead th {\n        text-align: right;\n    }\n</style>\n<table border=\"1\" class=\"dataframe\">\n  <thead>\n    <tr style=\"text-align: right;\">\n      <th></th>\n      <th>text</th>\n      <th>response</th>\n      <th>raw_data</th>\n      <th>query</th>\n      <th>label</th>\n      <th>response_short</th>\n    </tr>\n  </thead>\n  <tbody>\n    <tr>\n      <th>10</th>\n      <td>Most people in Kerala were uninterested in the...</td>\n      <td>The sentence is biased because it presents a s...</td>\n      <td>You are an expert in media bias.\\n\\nInstructio...</td>\n      <td>You are an expert in media bias.\\n\\nInstructio...</td>\n      <td>?</td>\n      <td>The sentence is biased because it presents a s...</td>\n    </tr>\n    <tr>\n      <th>11</th>\n      <td>Western states arrived at this crucible in lar...</td>\n      <td>The sentence is neutral as it acknowledges the...</td>\n      <td>You are an expert in media bias.\\n\\nInstructio...</td>\n      <td>You are an expert in media bias.\\n\\nInstructio...</td>\n      <td>?</td>\n      <td>The sentence is neutral as it acknowledges the...</td>\n    </tr>\n    <tr>\n      <th>12</th>\n      <td>In a sign of his growing sophistication, he fo...</td>\n      <td>The sentence frames the subject's action of fo...</td>\n      <td>You are an expert in media bias.\\n\\nInstructio...</td>\n      <td>You are an expert in media bias.\\n\\nInstructio...</td>\n      <td>?</td>\n      <td>The sentence frames the subject's action of fo...</td>\n    </tr>\n    <tr>\n      <th>15</th>\n      <td>Just as red-state antiabortion laws and school...</td>\n      <td>The sentence is biased because it uses loaded ...</td>\n      <td>You are an expert in media bias.\\n\\nInstructio...</td>\n      <td>You are an expert in media bias.\\n\\nInstructio...</td>\n      <td>?</td>\n      <td>The sentence is biased because it uses loaded ...</td>\n    </tr>\n    <tr>\n      <th>16</th>\n      <td>But it is clear that many of DeSantis’s wounds...</td>\n      <td>The sentence is biased because it implies that...</td>\n      <td>You are an expert in media bias.\\n\\nInstructio...</td>\n      <td>You are an expert in media bias.\\n\\nInstructio...</td>\n      <td>?</td>\n      <td>The sentence is biased because it implies that...</td>\n    </tr>\n    <tr>\n      <th>...</th>\n      <td>...</td>\n      <td>...</td>\n      <td>...</td>\n      <td>...</td>\n      <td>...</td>\n      <td>...</td>\n    </tr>\n    <tr>\n      <th>65907</th>\n      <td>But for smaller, more concrete writing tasks, ...</td>\n      <td>The sentence is neutral because it simply repo...</td>\n      <td>You are an expert in media bias.\\n\\nInstructio...</td>\n      <td>You are an expert in media bias.\\n\\nInstructio...</td>\n      <td>?</td>\n      <td>The sentence is neutral because it simply repo...</td>\n    </tr>\n    <tr>\n      <th>65910</th>\n      <td>We decided that we're not gonna show you foota...</td>\n      <td>The sentence is biased because it implies that...</td>\n      <td>You are an expert in media bias.\\n\\nInstructio...</td>\n      <td>You are an expert in media bias.\\n\\nInstructio...</td>\n      <td>?</td>\n      <td>The sentence is biased because it implies that...</td>\n    </tr>\n    <tr>\n      <th>65913</th>\n      <td>The Select Committee provided ‘Fulton County p...</td>\n      <td>The sentence is biased because it presents a s...</td>\n      <td>You are an expert in media bias.\\n\\nInstructio...</td>\n      <td>You are an expert in media bias.\\n\\nInstructio...</td>\n      <td>?</td>\n      <td>The sentence is biased because it presents a s...</td>\n    </tr>\n    <tr>\n      <th>65922</th>\n      <td>That is like having the fox enter the chicken ...</td>\n      <td>The sentence is biased because it uses a metap...</td>\n      <td>You are an expert in media bias.\\n\\nInstructio...</td>\n      <td>You are an expert in media bias.\\n\\nInstructio...</td>\n      <td>?</td>\n      <td>The sentence is biased because it uses a metap...</td>\n    </tr>\n    <tr>\n      <th>65927</th>\n      <td>This is not a good time for American higher ed...</td>\n      <td>The sentence is biased because it uses negativ...</td>\n      <td>You are an expert in media bias.\\n\\nInstructio...</td>\n      <td>You are an expert in media bias.\\n\\nInstructio...</td>\n      <td>?</td>\n      <td>The sentence is biased because it uses negativ...</td>\n    </tr>\n  </tbody>\n</table>\n<p>16239 rows × 6 columns</p>\n</div>"
     },
     "execution_count": 90,
     "metadata": {},
     "output_type": "execute_result"
    }
   ],
   "source": [
    "df_llama['response_short'] = df_llama.apply(split_and_store, axis=1)\n",
    "\n",
    "df_llama.query('label == \"?\"')"
   ]
  },
  {
   "cell_type": "code",
   "execution_count": 91,
   "metadata": {},
   "outputs": [
    {
     "data": {
      "text/plain": "                                                    text  \\\n1392   Think about how bots or third-party influencer...   \n1448   According to police, Miller threw the woman’s ...   \n2089   And some startups and services have simply let...   \n3951   As a result, some members of Gen Z are turning...   \n4513   The universe has a glory and dignity of its ow...   \n...                                                  ...   \n60921  The live chat feature is possibly the best way...   \n61757  At the same time, though, he quickly went on t...   \n64595  And 2023 has been a great year overall for bit...   \n64788  They get a bunch of creators and they have the...   \n65828  How can home-goers ensure their holidays aren’...   \n\n                                                response  \\\n1392   The sentence is neutral in its wording and doe...   \n1448   The sentence is neutral and factual, providing...   \n2089   The sentence is neutral as it reports on the a...   \n3951   The sentence is neutral and factual, presentin...   \n4513   The sentence presents a subjective viewpoint t...   \n...                                                  ...   \n60921  The sentence is neutral and factual, presentin...   \n61757  The sentence presents factual information in a...   \n64595  The sentence is neutral because it reports a f...   \n64788  The sentence \"They get a bunch of creators and...   \n65828  The sentence is neutral in tone and does not c...   \n\n                                                raw_data  \\\n1392   You are an expert in media bias.\\n\\nInstructio...   \n1448   You are an expert in media bias.\\n\\nInstructio...   \n2089   You are an expert in media bias.\\n\\nInstructio...   \n3951   You are an expert in media bias.\\n\\nInstructio...   \n4513   You are an expert in media bias.\\n\\nInstructio...   \n...                                                  ...   \n60921  You are an expert in media bias.\\n\\nInstructio...   \n61757  You are an expert in media bias.\\n\\nInstructio...   \n64595  You are an expert in media bias.\\n\\nInstructio...   \n64788  You are an expert in media bias.\\n\\nInstructio...   \n65828  You are an expert in media bias.\\n\\nInstructio...   \n\n                                                   query label  \\\n1392   You are an expert in media bias.\\n\\nInstructio...     ?   \n1448   You are an expert in media bias.\\n\\nInstructio...     ?   \n2089   You are an expert in media bias.\\n\\nInstructio...     ?   \n3951   You are an expert in media bias.\\n\\nInstructio...     ?   \n4513   You are an expert in media bias.\\n\\nInstructio...     ?   \n...                                                  ...   ...   \n60921  You are an expert in media bias.\\n\\nInstructio...     ?   \n61757  You are an expert in media bias.\\n\\nInstructio...     ?   \n64595  You are an expert in media bias.\\n\\nInstructio...     ?   \n64788  You are an expert in media bias.\\n\\nInstructio...     ?   \n65828  You are an expert in media bias.\\n\\nInstructio...     ?   \n\n                                          response_short  \n1392   The sentence is neutral in its wording and doe...  \n1448   The sentence is neutral and factual, providing...  \n2089   The sentence is neutral as it reports on the a...  \n3951   The sentence is neutral and factual, presentin...  \n4513   The sentence presents a subjective viewpoint t...  \n...                                                  ...  \n60921  The sentence is neutral and factual, presentin...  \n61757  The sentence presents factual information in a...  \n64595  The sentence is neutral because it reports a f...  \n64788  The sentence \"They get a bunch of creators and...  \n65828  The sentence is neutral in tone and does not c...  \n\n[101 rows x 6 columns]",
      "text/html": "<div>\n<style scoped>\n    .dataframe tbody tr th:only-of-type {\n        vertical-align: middle;\n    }\n\n    .dataframe tbody tr th {\n        vertical-align: top;\n    }\n\n    .dataframe thead th {\n        text-align: right;\n    }\n</style>\n<table border=\"1\" class=\"dataframe\">\n  <thead>\n    <tr style=\"text-align: right;\">\n      <th></th>\n      <th>text</th>\n      <th>response</th>\n      <th>raw_data</th>\n      <th>query</th>\n      <th>label</th>\n      <th>response_short</th>\n    </tr>\n  </thead>\n  <tbody>\n    <tr>\n      <th>1392</th>\n      <td>Think about how bots or third-party influencer...</td>\n      <td>The sentence is neutral in its wording and doe...</td>\n      <td>You are an expert in media bias.\\n\\nInstructio...</td>\n      <td>You are an expert in media bias.\\n\\nInstructio...</td>\n      <td>?</td>\n      <td>The sentence is neutral in its wording and doe...</td>\n    </tr>\n    <tr>\n      <th>1448</th>\n      <td>According to police, Miller threw the woman’s ...</td>\n      <td>The sentence is neutral and factual, providing...</td>\n      <td>You are an expert in media bias.\\n\\nInstructio...</td>\n      <td>You are an expert in media bias.\\n\\nInstructio...</td>\n      <td>?</td>\n      <td>The sentence is neutral and factual, providing...</td>\n    </tr>\n    <tr>\n      <th>2089</th>\n      <td>And some startups and services have simply let...</td>\n      <td>The sentence is neutral as it reports on the a...</td>\n      <td>You are an expert in media bias.\\n\\nInstructio...</td>\n      <td>You are an expert in media bias.\\n\\nInstructio...</td>\n      <td>?</td>\n      <td>The sentence is neutral as it reports on the a...</td>\n    </tr>\n    <tr>\n      <th>3951</th>\n      <td>As a result, some members of Gen Z are turning...</td>\n      <td>The sentence is neutral and factual, presentin...</td>\n      <td>You are an expert in media bias.\\n\\nInstructio...</td>\n      <td>You are an expert in media bias.\\n\\nInstructio...</td>\n      <td>?</td>\n      <td>The sentence is neutral and factual, presentin...</td>\n    </tr>\n    <tr>\n      <th>4513</th>\n      <td>The universe has a glory and dignity of its ow...</td>\n      <td>The sentence presents a subjective viewpoint t...</td>\n      <td>You are an expert in media bias.\\n\\nInstructio...</td>\n      <td>You are an expert in media bias.\\n\\nInstructio...</td>\n      <td>?</td>\n      <td>The sentence presents a subjective viewpoint t...</td>\n    </tr>\n    <tr>\n      <th>...</th>\n      <td>...</td>\n      <td>...</td>\n      <td>...</td>\n      <td>...</td>\n      <td>...</td>\n      <td>...</td>\n    </tr>\n    <tr>\n      <th>60921</th>\n      <td>The live chat feature is possibly the best way...</td>\n      <td>The sentence is neutral and factual, presentin...</td>\n      <td>You are an expert in media bias.\\n\\nInstructio...</td>\n      <td>You are an expert in media bias.\\n\\nInstructio...</td>\n      <td>?</td>\n      <td>The sentence is neutral and factual, presentin...</td>\n    </tr>\n    <tr>\n      <th>61757</th>\n      <td>At the same time, though, he quickly went on t...</td>\n      <td>The sentence presents factual information in a...</td>\n      <td>You are an expert in media bias.\\n\\nInstructio...</td>\n      <td>You are an expert in media bias.\\n\\nInstructio...</td>\n      <td>?</td>\n      <td>The sentence presents factual information in a...</td>\n    </tr>\n    <tr>\n      <th>64595</th>\n      <td>And 2023 has been a great year overall for bit...</td>\n      <td>The sentence is neutral because it reports a f...</td>\n      <td>You are an expert in media bias.\\n\\nInstructio...</td>\n      <td>You are an expert in media bias.\\n\\nInstructio...</td>\n      <td>?</td>\n      <td>The sentence is neutral because it reports a f...</td>\n    </tr>\n    <tr>\n      <th>64788</th>\n      <td>They get a bunch of creators and they have the...</td>\n      <td>The sentence \"They get a bunch of creators and...</td>\n      <td>You are an expert in media bias.\\n\\nInstructio...</td>\n      <td>You are an expert in media bias.\\n\\nInstructio...</td>\n      <td>?</td>\n      <td>The sentence \"They get a bunch of creators and...</td>\n    </tr>\n    <tr>\n      <th>65828</th>\n      <td>How can home-goers ensure their holidays aren’...</td>\n      <td>The sentence is neutral in tone and does not c...</td>\n      <td>You are an expert in media bias.\\n\\nInstructio...</td>\n      <td>You are an expert in media bias.\\n\\nInstructio...</td>\n      <td>?</td>\n      <td>The sentence is neutral in tone and does not c...</td>\n    </tr>\n  </tbody>\n</table>\n<p>101 rows × 6 columns</p>\n</div>"
     },
     "execution_count": 91,
     "metadata": {},
     "output_type": "execute_result"
    }
   ],
   "source": [
    "def update_label(row):\n",
    "    if row['response_short'].startswith('BIASED') and row['label'] == '?':\n",
    "        return 'BIASED'\n",
    "    elif row['response_short'].startswith('NOT BIASED') and row[\n",
    "        'label'] == '?':\n",
    "        return 'NOT BIASED'\n",
    "    elif row['response_short'].startswith('The sentence is not biased') and row[\n",
    "        'label'] == '?':\n",
    "        return 'NOT BIASED'\n",
    "    elif row['response_short'].startswith('The sentence is classified as NOT BIASED') and row[\n",
    "        'label'] == '?':\n",
    "        return 'NOT BIASED'\n",
    "    elif row['response_short'].startswith('The sentence is biased') and row[\n",
    "        'label'] == '?':\n",
    "        return 'BIASED'\n",
    "    elif row['response_short'].startswith('The sentence is classified as biased') and row[\n",
    "        'label'] == '?':\n",
    "        return 'BIASED'\n",
    "    elif row['response_short'].startswith('The sentence is labeled as biased') and row[\n",
    "        'label'] == '?':\n",
    "        return 'BIASED'\n",
    "    elif row['response_short'].startswith('The sentence is classified as not biased') and row[\n",
    "        'label'] == '?':\n",
    "        return 'NOT BIASED'\n",
    "    elif row['response_short'].startswith('The sentence is NOT BIASED') and row[\n",
    "        'label'] == '?':\n",
    "        return 'NOT BIASED'\n",
    "    elif row['response_short'].startswith('The sentence is neutral and NOT BIASED.') and row[\n",
    "        'label'] == '?':\n",
    "        return 'NOT BIASED'\n",
    "    elif row['response_short'].endswith('The answer is NOT BIASED.') and row[\n",
    "        'label'] == '?':\n",
    "        return 'NOT BIASED'\n",
    "    elif row['response_short'].endswith('The answer is BIASED.') and row[\n",
    "        'label'] == '?':\n",
    "        return 'BIASED'\n",
    "    elif row['response_short'].endswith('is NOT BIASED.') and row[\n",
    "        'label'] == '?':\n",
    "        return 'NOT BIASED'\n",
    "    elif row['response_short'].endswith('is BIASED.') and row[\n",
    "        'label'] == '?':\n",
    "        return 'BIASED'\n",
    "    elif row['response_short'].endswith('as NOT BIASED.') and row[\n",
    "        'label'] == '?':\n",
    "        return 'NOT BIASED'\n",
    "    elif row['response_short'].endswith('as BIASED.') and row[\n",
    "        'label'] == '?':\n",
    "        return 'BIASED'\n",
    "    elif row['response_short'].endswith('the sentence NOT BIASED.') and row[\n",
    "        'label'] == '?':\n",
    "        return 'NOT BIASED'\n",
    "    elif row['response_short'].endswith('the sentence BIASED.') and row[\n",
    "        'label'] == '?':\n",
    "        return 'BIASED'\n",
    "    elif row['response_short'].endswith('make this sentence NOT BIASED.') and row[\n",
    "        'label'] == '?':\n",
    "        return 'NOT BIASED'\n",
    "    elif row['response_short'].endswith('make this sentence BIASED.') and row[\n",
    "        'label'] == '?':\n",
    "        return 'BIASED'\n",
    "    elif row['response_short'].endswith('making it NOT BIASED.') and row[\n",
    "        'label'] == '?':\n",
    "        return 'NOT BIASED'\n",
    "    elif row['response_short'].endswith('making it BIASED.') and row[\n",
    "        'label'] == '?':\n",
    "        return 'BIASED'\n",
    "    elif row['response_short'].endswith('make it NOT BIASED.') and row[\n",
    "        'label'] == '?':\n",
    "        return 'NOT BIASED'\n",
    "    elif row['response_short'].endswith('make it BIASED.') and row[\n",
    "        'label'] == '?':\n",
    "        return 'BIASED'\n",
    "    elif row['response_short'].endswith('makes it NOT BIASED.') and row[\n",
    "        'label'] == '?':\n",
    "        return 'NOT BIASED'\n",
    "    elif row['response_short'].endswith('makes it BIASED.') and row[\n",
    "        'label'] == '?':\n",
    "        return 'BIASED'\n",
    "    elif row['response_short'].endswith('making it a NOT BIASED statement.') and row[\n",
    "        'label'] == '?':\n",
    "        return 'NOT BIASED'\n",
    "    elif row['response_short'].endswith('making it a NOT BIASED statement.') and row[\n",
    "        'label'] == '?':\n",
    "        return 'BIASED'\n",
    "\n",
    "    else:\n",
    "        return row['label']\n",
    "\n",
    "df_llama['label'] = df_llama.apply(update_label, axis=1)\n",
    "df_llama.query(\"label == '?'\")"
   ]
  },
  {
   "cell_type": "code",
   "execution_count": 92,
   "metadata": {},
   "outputs": [
    {
     "data": {
      "text/plain": "'The sentence is neutral and factual, providing information about the current state of earnings reports without expressing any opinion or evaluation. It does not contain any loaded language, emotive appeals, or subjective judgments that might suggest bias. The sentence simply states a factual observation about the earnings reports, which makes it NOT BIASED.'"
     },
     "execution_count": 92,
     "metadata": {},
     "output_type": "execute_result"
    }
   ],
   "source": [
    "df_llama.loc[63867].response_short"
   ]
  },
  {
   "cell_type": "code",
   "execution_count": 93,
   "metadata": {},
   "outputs": [],
   "source": [
    "#manual assignment\n",
    "df_llama.loc[[67, 4633, 4633, 7412, 54149], 'label'] = 'BIASED'\n",
    "df_llama.loc[[261, 1392, 1448, 2089, 2926, 3951, 60921,\n",
    "              4513, 4513, 5399, 5459, 5848, 59693, 60409,\n",
    "              61757, 64595, 65828, 8036, 8935, 9067, 10026,\n",
    "              55020, 57169, 57822, 58313, 59610, 10326, \n",
    "              11547, 12767, 13174, 13928, 50762, 51312,\n",
    "              52926, 53432, 15538, 16733, 16835, 17270,\n",
    "              17392, 50051, 50160, 50209, 50487, 50573,\n",
    "              49761, 49659, 48295, 46018, 45897, 45296,\n",
    "              44962, 44752, 44729, 43252, 42384, 42280,\n",
    "              41413, 41182, 40130, 37344, 37194, 37084,\n",
    "              37064, 36566, 36356, 35846, 34982, 34386,\n",
    "              33775, 33661, 33600, 33305, 33132, 32531,\n",
    "              30881, 29011, 28637, 28520, 28501, 25738,\n",
    "              24277, 24180, 23467, 22929, 22635, 22428,\n",
    "              22306, 22177, 22157, 21943, 21552, 21397,\n",
    "              21349, 19859, 19166, 18597, 17791, 17529,\n",
    "              17394, 63867, 61090, 61045, 59766, 56815,\n",
    "              56685, ], 'label'] = 'NOT BIASED'\n",
    "\n",
    "# not assignable e.g. UNCLEAR, MIXED, BORDERLINE, NOT APPLICABLE or bad response\n",
    "df_llama.loc[[64788], 'label'] = 'UNCLEAR'"
   ]
  },
  {
   "cell_type": "code",
   "execution_count": 94,
   "metadata": {},
   "outputs": [
    {
     "data": {
      "text/plain": "Empty DataFrame\nColumns: [text, response, raw_data, query, label, response_short]\nIndex: []",
      "text/html": "<div>\n<style scoped>\n    .dataframe tbody tr th:only-of-type {\n        vertical-align: middle;\n    }\n\n    .dataframe tbody tr th {\n        vertical-align: top;\n    }\n\n    .dataframe thead th {\n        text-align: right;\n    }\n</style>\n<table border=\"1\" class=\"dataframe\">\n  <thead>\n    <tr style=\"text-align: right;\">\n      <th></th>\n      <th>text</th>\n      <th>response</th>\n      <th>raw_data</th>\n      <th>query</th>\n      <th>label</th>\n      <th>response_short</th>\n    </tr>\n  </thead>\n  <tbody>\n  </tbody>\n</table>\n</div>"
     },
     "execution_count": 94,
     "metadata": {},
     "output_type": "execute_result"
    }
   ],
   "source": [
    "df_llama.query(\"label == '?'\")"
   ]
  },
  {
   "cell_type": "markdown",
   "source": [
    "# Combine all annotations"
   ],
   "metadata": {
    "collapsed": false
   }
  },
  {
   "cell_type": "code",
   "execution_count": 95,
   "outputs": [
    {
     "name": "stdout",
     "output_type": "stream",
     "text": [
      "(65934, 6)\n",
      "(65934, 6)\n",
      "(65934, 6)\n"
     ]
    },
    {
     "data": {
      "text/plain": "label\nNOT BIASED    42128\nBIASED        23785\nUNCLEAR          21\ndtype: int64"
     },
     "execution_count": 95,
     "metadata": {},
     "output_type": "execute_result"
    }
   ],
   "source": [
    "# Check if all annotations are labeled\n",
    "print(df_zephyr.shape)\n",
    "print(df_openchat.shape)\n",
    "print(df_llama.shape)\n",
    "\n",
    "df_zephyr.value_counts('label')"
   ],
   "metadata": {
    "collapsed": false
   }
  },
  {
   "cell_type": "code",
   "execution_count": 96,
   "outputs": [],
   "source": [
    "# rename columns response_short and label\n",
    "df_zephyr.rename(columns={'response_short': 'response_zephyr', 'label': 'label_zephyr'}, inplace=True)\n",
    "df_openchat.rename(columns={'response_short': 'response_openchat', 'label': 'label_openchat'}, inplace=True)\n",
    "df_llama.rename(columns={'response_short': 'response_llama', 'label': 'label_llama'}, inplace=True)\n",
    "\n",
    "df_zephyr\n",
    "\n",
    "# map BIASED -> 0 NOT BIASED -> 1\n",
    "df_zephyr['label_zephyr'] = df_zephyr['label_zephyr'].map({'BIASED': 1, 'NOT BIASED': 0, \"UNCLEAR\": -1})\n",
    "df_openchat['label_openchat'] = df_openchat['label_openchat'].map({'BIASED': 1, 'NOT BIASED': 0, \"UNCLEAR\": -1})\n",
    "df_llama['label_llama'] = df_llama['label_llama'].map({'BIASED': 1, 'NOT BIASED': 0, \"UNCLEAR\": -1})"
   ],
   "metadata": {
    "collapsed": false
   }
  },
  {
   "cell_type": "code",
   "execution_count": 97,
   "outputs": [],
   "source": [
    "# merge all annotations on the cleaned sentence pool\n",
    "df_merge_all_runs = pd.merge(df_merge_all_runs, df_zephyr[['text',  'label_zephyr', 'response_zephyr']], on='text').drop_duplicates('text', keep='first')\n",
    "df_merge_all_runs = pd.merge(df_merge_all_runs, df_openchat[['text', 'label_openchat', 'response_openchat']], on='text').drop_duplicates('text', keep='first')\n",
    "df_merge_all_runs = pd.merge(df_merge_all_runs, df_llama[['text', 'label_llama', 'response_llama']], on='text').drop_duplicates('text', keep='first')\n",
    "\n",
    "df_merge_all_runs = df_merge_all_runs.applymap(lambda x: pd.NA if x == -1 else x)\n",
    "df_merge_all_runs = df_merge_all_runs.dropna(axis=0, how='any')  # Drop all rows with NaN values"
   ],
   "metadata": {
    "collapsed": false
   }
  },
  {
   "cell_type": "code",
   "execution_count": 98,
   "outputs": [
    {
     "name": "stdout",
     "output_type": "stream",
     "text": [
      "(65909, 13)\n"
     ]
    },
    {
     "data": {
      "text/plain": "0    42124\n1    23785\nName: label_zephyr, dtype: int64"
     },
     "execution_count": 98,
     "metadata": {},
     "output_type": "execute_result"
    }
   ],
   "source": [
    "print(df_merge_all_runs.shape)\n",
    "df_merge_all_runs['label_zephyr'].value_counts()"
   ],
   "metadata": {
    "collapsed": false
   }
  },
  {
   "cell_type": "code",
   "execution_count": 99,
   "outputs": [],
   "source": [
    "label_columns = df_merge_all_runs[['label_zephyr', 'label_openchat', 'label_llama']]\n",
    "\n",
    "df_merge_all_runs['final_label'] = label_columns.mode(axis=1, dropna=False)[0].astype(int)"
   ],
   "metadata": {
    "collapsed": false
   }
  },
  {
   "cell_type": "code",
   "execution_count": 100,
   "outputs": [],
   "source": [
    "df_merge_all_runs.to_csv(\"./data/output/final_sentence_pool_annotated.csv\", index=False)"
   ],
   "metadata": {
    "collapsed": false
   }
  },
  {
   "cell_type": "code",
   "execution_count": 101,
   "outputs": [],
   "source": [
    "df_merge_all_runs.to_parquet(\"./data/output/final_sentence_pool_annotated.parquet\", index=False)"
   ],
   "metadata": {
    "collapsed": false
   }
  },
  {
   "cell_type": "code",
   "execution_count": 102,
   "outputs": [
    {
     "data": {
      "text/plain": "                                                    text source_party  \\\n0      Advertisement Initially, the conference attrac...        Right   \n1      The number of workers maintaining wind turbine...         Left   \n2      How did a virus like this get from a bat to a ...         Left   \n3      Sin was conceived in a garden, takes root in e...   Lean Right   \n4      The two countries have warred over this territ...   Lean Right   \n...                                                  ...          ...   \n65929  The Gig Economy is Coming. What Will It Mean F...         Left   \n65930  He arrived, freshly graduated, and told me he ...       Center   \n65931  This is not a good time for American higher ed...        Right   \n65932  Halls pleaded no contest in March to a misdeme...       Center   \n65933  Orcutt also took his electric guitar quartet o...    Lean Left   \n\n                     source_name  bias_estimate  model_uncertainity  \\\n0                       townhall              0                   0   \n1                       alternet              0                   0   \n2                       alternet              1                   0   \n3             the-christian-post              1                   0   \n4             the-christian-post              0                   0   \n...                          ...            ...                 ...   \n65929                   alternet              0                   0   \n65930  christian-science-monitor              0                   0   \n65931           american-thinker              1                   0   \n65932                       cnbc              0                   0   \n65933                        npr              1                   0   \n\n                                sentence_id  \\\n0      bd51e6ee-8e88-4901-875d-8c5151b42692   \n1      681738a3-6f56-4124-aae4-52bf803c4d22   \n2      1050d536-e626-4647-9cc5-12b731d99077   \n3      d3910f76-fca5-44cf-98ff-c89b744743e2   \n4      c9c2c432-d67c-450b-b6d3-1fbd3e4951df   \n...                                     ...   \n65929  57e37079-3ab5-4a80-95a7-867256f089e7   \n65930  4593350c-36d1-44ed-b6b0-4fb8655b55b7   \n65931  92adcba8-bd22-4c3e-8bd5-af58c45ce9fa   \n65932  81f1f6cf-b8e6-436d-ad2b-3d56c4e9c110   \n65933  cae57a11-b669-40d0-8305-f6ad7d23cb41   \n\n                                 article_id label_zephyr  \\\n0      f87a85cb-a8d7-4a63-b71d-50342f2022c3            0   \n1      62e545ca-11ee-44be-9422-54eff5b1680e            0   \n2      f54d2a6e-a1dd-42a5-af86-866e5fe8680e            0   \n3      12f3585f-d850-4d33-8b1c-d4e25cc4896b            1   \n4      715e6c9e-1b12-4341-9f26-3c00c246ee1b            0   \n...                                     ...          ...   \n65929  8c907329-affd-4446-9ea4-0bdae1ed04cd            0   \n65930  fb4c99c1-488b-4337-be4d-c2208a249602            0   \n65931  e517de10-85b8-4273-b392-3495a70f4af5            0   \n65932  8e89132c-acc2-4b5e-a6e4-b51a9f2d4d2e            0   \n65933  c5ba0671-15db-4cff-94e0-d5df7619ccba            0   \n\n                                         response_zephyr label_openchat  \\\n0      The sentence is not biased because it presents...              0   \n1      The sentence presents a factual statement abou...              0   \n2      The sentence is classified as not biased becau...              0   \n3      The sentence is biased because it presents a r...              1   \n4      The sentence is not biased because it presents...              0   \n...                                                  ...            ...   \n65929  The sentence is neutral because it presents a ...              0   \n65930  The sentence is not biased because it presents...              0   \n65931  The sentence is classified as not biased becau...              1   \n65932  The sentence presents a factual account of an ...              0   \n65933  The sentence is not biased because it presents...              1   \n\n                                       response_openchat label_llama  \\\n0      The sentence is not biased because it presents...           0   \n1      The sentence provides factual information from...           0   \n2      The sentence is classified as not biased becau...           0   \n3      The sentence is biased because it presents a r...           1   \n4      The sentence is not biased because it presents...           0   \n...                                                  ...         ...   \n65929  The sentence is a neutral statement that intro...           0   \n65930  The sentence is not biased because it presents...           0   \n65931  The sentence is biased because it uses loaded ...           1   \n65932  The sentence is factual and neutral, providing...           0   \n65933  The sentence is biased because it uses subject...           0   \n\n                                          response_llama  final_label  \n0      The sentence is not biased because it presents...            0  \n1      The sentence presents a factual statement abou...            0  \n2      The sentence is not biased because it is a fac...            0  \n3      The sentence is biased because it presents a r...            1  \n4      The sentence is not biased because it presents...            0  \n...                                                  ...          ...  \n65929  The sentence presents a question that invites ...            0  \n65930  The sentence is neutral and not biased because...            0  \n65931  The sentence is biased because it uses negativ...            1  \n65932  The sentence reports on a legal matter without...            0  \n65933  The sentence is neutral because it uses object...            0  \n\n[65909 rows x 14 columns]",
      "text/html": "<div>\n<style scoped>\n    .dataframe tbody tr th:only-of-type {\n        vertical-align: middle;\n    }\n\n    .dataframe tbody tr th {\n        vertical-align: top;\n    }\n\n    .dataframe thead th {\n        text-align: right;\n    }\n</style>\n<table border=\"1\" class=\"dataframe\">\n  <thead>\n    <tr style=\"text-align: right;\">\n      <th></th>\n      <th>text</th>\n      <th>source_party</th>\n      <th>source_name</th>\n      <th>bias_estimate</th>\n      <th>model_uncertainity</th>\n      <th>sentence_id</th>\n      <th>article_id</th>\n      <th>label_zephyr</th>\n      <th>response_zephyr</th>\n      <th>label_openchat</th>\n      <th>response_openchat</th>\n      <th>label_llama</th>\n      <th>response_llama</th>\n      <th>final_label</th>\n    </tr>\n  </thead>\n  <tbody>\n    <tr>\n      <th>0</th>\n      <td>Advertisement Initially, the conference attrac...</td>\n      <td>Right</td>\n      <td>townhall</td>\n      <td>0</td>\n      <td>0</td>\n      <td>bd51e6ee-8e88-4901-875d-8c5151b42692</td>\n      <td>f87a85cb-a8d7-4a63-b71d-50342f2022c3</td>\n      <td>0</td>\n      <td>The sentence is not biased because it presents...</td>\n      <td>0</td>\n      <td>The sentence is not biased because it presents...</td>\n      <td>0</td>\n      <td>The sentence is not biased because it presents...</td>\n      <td>0</td>\n    </tr>\n    <tr>\n      <th>1</th>\n      <td>The number of workers maintaining wind turbine...</td>\n      <td>Left</td>\n      <td>alternet</td>\n      <td>0</td>\n      <td>0</td>\n      <td>681738a3-6f56-4124-aae4-52bf803c4d22</td>\n      <td>62e545ca-11ee-44be-9422-54eff5b1680e</td>\n      <td>0</td>\n      <td>The sentence presents a factual statement abou...</td>\n      <td>0</td>\n      <td>The sentence provides factual information from...</td>\n      <td>0</td>\n      <td>The sentence presents a factual statement abou...</td>\n      <td>0</td>\n    </tr>\n    <tr>\n      <th>2</th>\n      <td>How did a virus like this get from a bat to a ...</td>\n      <td>Left</td>\n      <td>alternet</td>\n      <td>1</td>\n      <td>0</td>\n      <td>1050d536-e626-4647-9cc5-12b731d99077</td>\n      <td>f54d2a6e-a1dd-42a5-af86-866e5fe8680e</td>\n      <td>0</td>\n      <td>The sentence is classified as not biased becau...</td>\n      <td>0</td>\n      <td>The sentence is classified as not biased becau...</td>\n      <td>0</td>\n      <td>The sentence is not biased because it is a fac...</td>\n      <td>0</td>\n    </tr>\n    <tr>\n      <th>3</th>\n      <td>Sin was conceived in a garden, takes root in e...</td>\n      <td>Lean Right</td>\n      <td>the-christian-post</td>\n      <td>1</td>\n      <td>0</td>\n      <td>d3910f76-fca5-44cf-98ff-c89b744743e2</td>\n      <td>12f3585f-d850-4d33-8b1c-d4e25cc4896b</td>\n      <td>1</td>\n      <td>The sentence is biased because it presents a r...</td>\n      <td>1</td>\n      <td>The sentence is biased because it presents a r...</td>\n      <td>1</td>\n      <td>The sentence is biased because it presents a r...</td>\n      <td>1</td>\n    </tr>\n    <tr>\n      <th>4</th>\n      <td>The two countries have warred over this territ...</td>\n      <td>Lean Right</td>\n      <td>the-christian-post</td>\n      <td>0</td>\n      <td>0</td>\n      <td>c9c2c432-d67c-450b-b6d3-1fbd3e4951df</td>\n      <td>715e6c9e-1b12-4341-9f26-3c00c246ee1b</td>\n      <td>0</td>\n      <td>The sentence is not biased because it presents...</td>\n      <td>0</td>\n      <td>The sentence is not biased because it presents...</td>\n      <td>0</td>\n      <td>The sentence is not biased because it presents...</td>\n      <td>0</td>\n    </tr>\n    <tr>\n      <th>...</th>\n      <td>...</td>\n      <td>...</td>\n      <td>...</td>\n      <td>...</td>\n      <td>...</td>\n      <td>...</td>\n      <td>...</td>\n      <td>...</td>\n      <td>...</td>\n      <td>...</td>\n      <td>...</td>\n      <td>...</td>\n      <td>...</td>\n      <td>...</td>\n    </tr>\n    <tr>\n      <th>65929</th>\n      <td>The Gig Economy is Coming. What Will It Mean F...</td>\n      <td>Left</td>\n      <td>alternet</td>\n      <td>0</td>\n      <td>0</td>\n      <td>57e37079-3ab5-4a80-95a7-867256f089e7</td>\n      <td>8c907329-affd-4446-9ea4-0bdae1ed04cd</td>\n      <td>0</td>\n      <td>The sentence is neutral because it presents a ...</td>\n      <td>0</td>\n      <td>The sentence is a neutral statement that intro...</td>\n      <td>0</td>\n      <td>The sentence presents a question that invites ...</td>\n      <td>0</td>\n    </tr>\n    <tr>\n      <th>65930</th>\n      <td>He arrived, freshly graduated, and told me he ...</td>\n      <td>Center</td>\n      <td>christian-science-monitor</td>\n      <td>0</td>\n      <td>0</td>\n      <td>4593350c-36d1-44ed-b6b0-4fb8655b55b7</td>\n      <td>fb4c99c1-488b-4337-be4d-c2208a249602</td>\n      <td>0</td>\n      <td>The sentence is not biased because it presents...</td>\n      <td>0</td>\n      <td>The sentence is not biased because it presents...</td>\n      <td>0</td>\n      <td>The sentence is neutral and not biased because...</td>\n      <td>0</td>\n    </tr>\n    <tr>\n      <th>65931</th>\n      <td>This is not a good time for American higher ed...</td>\n      <td>Right</td>\n      <td>american-thinker</td>\n      <td>1</td>\n      <td>0</td>\n      <td>92adcba8-bd22-4c3e-8bd5-af58c45ce9fa</td>\n      <td>e517de10-85b8-4273-b392-3495a70f4af5</td>\n      <td>0</td>\n      <td>The sentence is classified as not biased becau...</td>\n      <td>1</td>\n      <td>The sentence is biased because it uses loaded ...</td>\n      <td>1</td>\n      <td>The sentence is biased because it uses negativ...</td>\n      <td>1</td>\n    </tr>\n    <tr>\n      <th>65932</th>\n      <td>Halls pleaded no contest in March to a misdeme...</td>\n      <td>Center</td>\n      <td>cnbc</td>\n      <td>0</td>\n      <td>0</td>\n      <td>81f1f6cf-b8e6-436d-ad2b-3d56c4e9c110</td>\n      <td>8e89132c-acc2-4b5e-a6e4-b51a9f2d4d2e</td>\n      <td>0</td>\n      <td>The sentence presents a factual account of an ...</td>\n      <td>0</td>\n      <td>The sentence is factual and neutral, providing...</td>\n      <td>0</td>\n      <td>The sentence reports on a legal matter without...</td>\n      <td>0</td>\n    </tr>\n    <tr>\n      <th>65933</th>\n      <td>Orcutt also took his electric guitar quartet o...</td>\n      <td>Lean Left</td>\n      <td>npr</td>\n      <td>1</td>\n      <td>0</td>\n      <td>cae57a11-b669-40d0-8305-f6ad7d23cb41</td>\n      <td>c5ba0671-15db-4cff-94e0-d5df7619ccba</td>\n      <td>0</td>\n      <td>The sentence is not biased because it presents...</td>\n      <td>1</td>\n      <td>The sentence is biased because it uses subject...</td>\n      <td>0</td>\n      <td>The sentence is neutral because it uses object...</td>\n      <td>0</td>\n    </tr>\n  </tbody>\n</table>\n<p>65909 rows × 14 columns</p>\n</div>"
     },
     "execution_count": 102,
     "metadata": {},
     "output_type": "execute_result"
    }
   ],
   "source": [
    "df_merge_all_runs"
   ],
   "metadata": {
    "collapsed": false
   }
  }
 ],
 "metadata": {
  "kernelspec": {
   "display_name": "Python 3.9.18 ('venv': venv)",
   "language": "python",
   "name": "python3"
  },
  "language_info": {
   "codemirror_mode": {
    "name": "ipython",
    "version": 3
   },
   "file_extension": ".py",
   "mimetype": "text/x-python",
   "name": "python",
   "nbconvert_exporter": "python",
   "pygments_lexer": "ipython3",
   "version": "3.9.18"
  },
  "vscode": {
   "interpreter": {
    "hash": "8a80f9e0de999ee68a5c4d727299d170641bcafce6104c26cbe6897ebd010016"
   }
  }
 },
 "nbformat": 4,
 "nbformat_minor": 0
}
